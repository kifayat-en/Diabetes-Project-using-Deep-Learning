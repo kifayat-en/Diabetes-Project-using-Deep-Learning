{
 "cells": [
  {
   "cell_type": "code",
   "execution_count": 131,
   "id": "5bfd9360",
   "metadata": {},
   "outputs": [],
   "source": [
    "import pandas as pd\n",
    "import numpy as np\n",
    "import warnings "
   ]
  },
  {
   "cell_type": "code",
   "execution_count": 2,
   "id": "837ca20e",
   "metadata": {},
   "outputs": [
    {
     "data": {
      "text/html": [
       "<div>\n",
       "<style scoped>\n",
       "    .dataframe tbody tr th:only-of-type {\n",
       "        vertical-align: middle;\n",
       "    }\n",
       "\n",
       "    .dataframe tbody tr th {\n",
       "        vertical-align: top;\n",
       "    }\n",
       "\n",
       "    .dataframe thead th {\n",
       "        text-align: right;\n",
       "    }\n",
       "</style>\n",
       "<table border=\"1\" class=\"dataframe\">\n",
       "  <thead>\n",
       "    <tr style=\"text-align: right;\">\n",
       "      <th></th>\n",
       "      <th>Pregnancies</th>\n",
       "      <th>Glucose</th>\n",
       "      <th>BloodPressure</th>\n",
       "      <th>SkinThickness</th>\n",
       "      <th>Insulin</th>\n",
       "      <th>BMI</th>\n",
       "      <th>DiabetesPedigreeFunction</th>\n",
       "      <th>Age</th>\n",
       "      <th>Outcome</th>\n",
       "    </tr>\n",
       "  </thead>\n",
       "  <tbody>\n",
       "    <tr>\n",
       "      <th>0</th>\n",
       "      <td>6</td>\n",
       "      <td>148</td>\n",
       "      <td>72</td>\n",
       "      <td>35</td>\n",
       "      <td>0</td>\n",
       "      <td>33.6</td>\n",
       "      <td>0.627</td>\n",
       "      <td>50</td>\n",
       "      <td>1</td>\n",
       "    </tr>\n",
       "    <tr>\n",
       "      <th>1</th>\n",
       "      <td>1</td>\n",
       "      <td>85</td>\n",
       "      <td>66</td>\n",
       "      <td>29</td>\n",
       "      <td>0</td>\n",
       "      <td>26.6</td>\n",
       "      <td>0.351</td>\n",
       "      <td>31</td>\n",
       "      <td>0</td>\n",
       "    </tr>\n",
       "    <tr>\n",
       "      <th>2</th>\n",
       "      <td>8</td>\n",
       "      <td>183</td>\n",
       "      <td>64</td>\n",
       "      <td>0</td>\n",
       "      <td>0</td>\n",
       "      <td>23.3</td>\n",
       "      <td>0.672</td>\n",
       "      <td>32</td>\n",
       "      <td>1</td>\n",
       "    </tr>\n",
       "    <tr>\n",
       "      <th>3</th>\n",
       "      <td>1</td>\n",
       "      <td>89</td>\n",
       "      <td>66</td>\n",
       "      <td>23</td>\n",
       "      <td>94</td>\n",
       "      <td>28.1</td>\n",
       "      <td>0.167</td>\n",
       "      <td>21</td>\n",
       "      <td>0</td>\n",
       "    </tr>\n",
       "    <tr>\n",
       "      <th>4</th>\n",
       "      <td>0</td>\n",
       "      <td>137</td>\n",
       "      <td>40</td>\n",
       "      <td>35</td>\n",
       "      <td>168</td>\n",
       "      <td>43.1</td>\n",
       "      <td>2.288</td>\n",
       "      <td>33</td>\n",
       "      <td>1</td>\n",
       "    </tr>\n",
       "  </tbody>\n",
       "</table>\n",
       "</div>"
      ],
      "text/plain": [
       "   Pregnancies  Glucose  BloodPressure  SkinThickness  Insulin   BMI  \\\n",
       "0            6      148             72             35        0  33.6   \n",
       "1            1       85             66             29        0  26.6   \n",
       "2            8      183             64              0        0  23.3   \n",
       "3            1       89             66             23       94  28.1   \n",
       "4            0      137             40             35      168  43.1   \n",
       "\n",
       "   DiabetesPedigreeFunction  Age  Outcome  \n",
       "0                     0.627   50        1  \n",
       "1                     0.351   31        0  \n",
       "2                     0.672   32        1  \n",
       "3                     0.167   21        0  \n",
       "4                     2.288   33        1  "
      ]
     },
     "execution_count": 2,
     "metadata": {},
     "output_type": "execute_result"
    }
   ],
   "source": [
    "df = pd.read_csv('diabetes.csv')\n",
    "df.head()"
   ]
  },
  {
   "cell_type": "code",
   "execution_count": 3,
   "id": "56262788",
   "metadata": {},
   "outputs": [
    {
     "data": {
      "text/plain": [
       "(768, 9)"
      ]
     },
     "execution_count": 3,
     "metadata": {},
     "output_type": "execute_result"
    }
   ],
   "source": [
    "df.shape"
   ]
  },
  {
   "cell_type": "code",
   "execution_count": 4,
   "id": "c2b69524",
   "metadata": {},
   "outputs": [
    {
     "name": "stdout",
     "output_type": "stream",
     "text": [
      "<class 'pandas.core.frame.DataFrame'>\n"
     ]
    }
   ],
   "source": [
    "print(type(df))"
   ]
  },
  {
   "cell_type": "code",
   "execution_count": 5,
   "id": "ff59774f",
   "metadata": {},
   "outputs": [
    {
     "data": {
      "text/plain": [
       "0.0"
      ]
     },
     "execution_count": 5,
     "metadata": {},
     "output_type": "execute_result"
    }
   ],
   "source": [
    "df.duplicated().mean()"
   ]
  },
  {
   "cell_type": "code",
   "execution_count": 6,
   "id": "3f57cb8b",
   "metadata": {},
   "outputs": [
    {
     "data": {
      "text/plain": [
       "Pregnancies                 0.0\n",
       "Glucose                     0.0\n",
       "BloodPressure               0.0\n",
       "SkinThickness               0.0\n",
       "Insulin                     0.0\n",
       "BMI                         0.0\n",
       "DiabetesPedigreeFunction    0.0\n",
       "Age                         0.0\n",
       "Outcome                     0.0\n",
       "dtype: float64"
      ]
     },
     "execution_count": 6,
     "metadata": {},
     "output_type": "execute_result"
    }
   ],
   "source": [
    "# Check the Null Values--\n",
    "df.isnull().mean()"
   ]
  },
  {
   "cell_type": "code",
   "execution_count": 7,
   "id": "70833b47",
   "metadata": {},
   "outputs": [
    {
     "name": "stdout",
     "output_type": "stream",
     "text": [
      "<class 'pandas.core.frame.DataFrame'>\n",
      "RangeIndex: 768 entries, 0 to 767\n",
      "Data columns (total 9 columns):\n",
      " #   Column                    Non-Null Count  Dtype  \n",
      "---  ------                    --------------  -----  \n",
      " 0   Pregnancies               768 non-null    int64  \n",
      " 1   Glucose                   768 non-null    int64  \n",
      " 2   BloodPressure             768 non-null    int64  \n",
      " 3   SkinThickness             768 non-null    int64  \n",
      " 4   Insulin                   768 non-null    int64  \n",
      " 5   BMI                       768 non-null    float64\n",
      " 6   DiabetesPedigreeFunction  768 non-null    float64\n",
      " 7   Age                       768 non-null    int64  \n",
      " 8   Outcome                   768 non-null    int64  \n",
      "dtypes: float64(2), int64(7)\n",
      "memory usage: 54.1 KB\n"
     ]
    }
   ],
   "source": [
    "df.info()"
   ]
  },
  {
   "cell_type": "code",
   "execution_count": 8,
   "id": "88987036",
   "metadata": {},
   "outputs": [
    {
     "data": {
      "text/html": [
       "<div>\n",
       "<style scoped>\n",
       "    .dataframe tbody tr th:only-of-type {\n",
       "        vertical-align: middle;\n",
       "    }\n",
       "\n",
       "    .dataframe tbody tr th {\n",
       "        vertical-align: top;\n",
       "    }\n",
       "\n",
       "    .dataframe thead th {\n",
       "        text-align: right;\n",
       "    }\n",
       "</style>\n",
       "<table border=\"1\" class=\"dataframe\">\n",
       "  <thead>\n",
       "    <tr style=\"text-align: right;\">\n",
       "      <th></th>\n",
       "      <th>Pregnancies</th>\n",
       "      <th>Glucose</th>\n",
       "      <th>BloodPressure</th>\n",
       "      <th>SkinThickness</th>\n",
       "      <th>Insulin</th>\n",
       "      <th>BMI</th>\n",
       "      <th>DiabetesPedigreeFunction</th>\n",
       "      <th>Age</th>\n",
       "      <th>Outcome</th>\n",
       "    </tr>\n",
       "  </thead>\n",
       "  <tbody>\n",
       "    <tr>\n",
       "      <th>count</th>\n",
       "      <td>768.000000</td>\n",
       "      <td>768.000000</td>\n",
       "      <td>768.000000</td>\n",
       "      <td>768.000000</td>\n",
       "      <td>768.000000</td>\n",
       "      <td>768.000000</td>\n",
       "      <td>768.000000</td>\n",
       "      <td>768.000000</td>\n",
       "      <td>768.000000</td>\n",
       "    </tr>\n",
       "    <tr>\n",
       "      <th>mean</th>\n",
       "      <td>3.845052</td>\n",
       "      <td>120.894531</td>\n",
       "      <td>69.105469</td>\n",
       "      <td>20.536458</td>\n",
       "      <td>79.799479</td>\n",
       "      <td>31.992578</td>\n",
       "      <td>0.471876</td>\n",
       "      <td>33.240885</td>\n",
       "      <td>0.348958</td>\n",
       "    </tr>\n",
       "    <tr>\n",
       "      <th>std</th>\n",
       "      <td>3.369578</td>\n",
       "      <td>31.972618</td>\n",
       "      <td>19.355807</td>\n",
       "      <td>15.952218</td>\n",
       "      <td>115.244002</td>\n",
       "      <td>7.884160</td>\n",
       "      <td>0.331329</td>\n",
       "      <td>11.760232</td>\n",
       "      <td>0.476951</td>\n",
       "    </tr>\n",
       "    <tr>\n",
       "      <th>min</th>\n",
       "      <td>0.000000</td>\n",
       "      <td>0.000000</td>\n",
       "      <td>0.000000</td>\n",
       "      <td>0.000000</td>\n",
       "      <td>0.000000</td>\n",
       "      <td>0.000000</td>\n",
       "      <td>0.078000</td>\n",
       "      <td>21.000000</td>\n",
       "      <td>0.000000</td>\n",
       "    </tr>\n",
       "    <tr>\n",
       "      <th>25%</th>\n",
       "      <td>1.000000</td>\n",
       "      <td>99.000000</td>\n",
       "      <td>62.000000</td>\n",
       "      <td>0.000000</td>\n",
       "      <td>0.000000</td>\n",
       "      <td>27.300000</td>\n",
       "      <td>0.243750</td>\n",
       "      <td>24.000000</td>\n",
       "      <td>0.000000</td>\n",
       "    </tr>\n",
       "    <tr>\n",
       "      <th>50%</th>\n",
       "      <td>3.000000</td>\n",
       "      <td>117.000000</td>\n",
       "      <td>72.000000</td>\n",
       "      <td>23.000000</td>\n",
       "      <td>30.500000</td>\n",
       "      <td>32.000000</td>\n",
       "      <td>0.372500</td>\n",
       "      <td>29.000000</td>\n",
       "      <td>0.000000</td>\n",
       "    </tr>\n",
       "    <tr>\n",
       "      <th>75%</th>\n",
       "      <td>6.000000</td>\n",
       "      <td>140.250000</td>\n",
       "      <td>80.000000</td>\n",
       "      <td>32.000000</td>\n",
       "      <td>127.250000</td>\n",
       "      <td>36.600000</td>\n",
       "      <td>0.626250</td>\n",
       "      <td>41.000000</td>\n",
       "      <td>1.000000</td>\n",
       "    </tr>\n",
       "    <tr>\n",
       "      <th>max</th>\n",
       "      <td>17.000000</td>\n",
       "      <td>199.000000</td>\n",
       "      <td>122.000000</td>\n",
       "      <td>99.000000</td>\n",
       "      <td>846.000000</td>\n",
       "      <td>67.100000</td>\n",
       "      <td>2.420000</td>\n",
       "      <td>81.000000</td>\n",
       "      <td>1.000000</td>\n",
       "    </tr>\n",
       "  </tbody>\n",
       "</table>\n",
       "</div>"
      ],
      "text/plain": [
       "       Pregnancies     Glucose  BloodPressure  SkinThickness     Insulin  \\\n",
       "count   768.000000  768.000000     768.000000     768.000000  768.000000   \n",
       "mean      3.845052  120.894531      69.105469      20.536458   79.799479   \n",
       "std       3.369578   31.972618      19.355807      15.952218  115.244002   \n",
       "min       0.000000    0.000000       0.000000       0.000000    0.000000   \n",
       "25%       1.000000   99.000000      62.000000       0.000000    0.000000   \n",
       "50%       3.000000  117.000000      72.000000      23.000000   30.500000   \n",
       "75%       6.000000  140.250000      80.000000      32.000000  127.250000   \n",
       "max      17.000000  199.000000     122.000000      99.000000  846.000000   \n",
       "\n",
       "              BMI  DiabetesPedigreeFunction         Age     Outcome  \n",
       "count  768.000000                768.000000  768.000000  768.000000  \n",
       "mean    31.992578                  0.471876   33.240885    0.348958  \n",
       "std      7.884160                  0.331329   11.760232    0.476951  \n",
       "min      0.000000                  0.078000   21.000000    0.000000  \n",
       "25%     27.300000                  0.243750   24.000000    0.000000  \n",
       "50%     32.000000                  0.372500   29.000000    0.000000  \n",
       "75%     36.600000                  0.626250   41.000000    1.000000  \n",
       "max     67.100000                  2.420000   81.000000    1.000000  "
      ]
     },
     "execution_count": 8,
     "metadata": {},
     "output_type": "execute_result"
    }
   ],
   "source": [
    "df.describe()"
   ]
  },
  {
   "cell_type": "code",
   "execution_count": 9,
   "id": "99306d88",
   "metadata": {},
   "outputs": [],
   "source": [
    "import matplotlib.pyplot as plt\n",
    "import seaborn as sns"
   ]
  },
  {
   "cell_type": "code",
   "execution_count": 10,
   "id": "4a3d41ec",
   "metadata": {},
   "outputs": [
    {
     "data": {
      "text/plain": [
       "0    500\n",
       "1    268\n",
       "Name: Outcome, dtype: int64"
      ]
     },
     "execution_count": 10,
     "metadata": {},
     "output_type": "execute_result"
    }
   ],
   "source": [
    "df.Outcome.value_counts()"
   ]
  },
  {
   "cell_type": "code",
   "execution_count": 35,
   "id": "7fda5c7b",
   "metadata": {},
   "outputs": [
    {
     "name": "stderr",
     "output_type": "stream",
     "text": [
      "C:\\Users\\Admin\\anaconda3\\lib\\site-packages\\seaborn\\_decorators.py:36: FutureWarning: Pass the following variable as a keyword arg: x. From version 0.12, the only valid positional argument will be `data`, and passing other arguments without an explicit keyword will result in an error or misinterpretation.\n",
      "  warnings.warn(\n"
     ]
    },
    {
     "data": {
      "text/plain": [
       "<AxesSubplot:xlabel='Outcome', ylabel='count'>"
      ]
     },
     "execution_count": 35,
     "metadata": {},
     "output_type": "execute_result"
    },
    {
     "data": {
      "image/png": "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\n",
      "text/plain": [
       "<Figure size 432x288 with 1 Axes>"
      ]
     },
     "metadata": {
      "needs_background": "light"
     },
     "output_type": "display_data"
    }
   ],
   "source": [
    "\n",
    "# plt.pie(df.Outcome.value_counts(), labels=[0,1], autopct='%1.0f%%', \n",
    "#         colors=['c', 'r'], shadow=True, explode=[0,0.1])\n",
    "# plt.show()\n",
    "sns.countplot(df['Outcome'], data=df)"
   ]
  },
  {
   "cell_type": "code",
   "execution_count": 12,
   "id": "f520f06a",
   "metadata": {},
   "outputs": [
    {
     "data": {
      "text/plain": [
       "<AxesSubplot:xlabel='Pregnancies', ylabel='count'>"
      ]
     },
     "execution_count": 12,
     "metadata": {},
     "output_type": "execute_result"
    },
    {
     "data": {
      "image/png": "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\n",
      "text/plain": [
       "<Figure size 432x288 with 1 Axes>"
      ]
     },
     "metadata": {
      "needs_background": "light"
     },
     "output_type": "display_data"
    }
   ],
   "source": [
    "df.Pregnancies.value_counts()\n",
    "sns.countplot(x='Pregnancies', data=df,\n",
    "             order=df['Pregnancies'].value_counts().iloc[:5].index)"
   ]
  },
  {
   "cell_type": "code",
   "execution_count": 13,
   "id": "a5c453b6",
   "metadata": {},
   "outputs": [
    {
     "data": {
      "text/html": [
       "<div>\n",
       "<style scoped>\n",
       "    .dataframe tbody tr th:only-of-type {\n",
       "        vertical-align: middle;\n",
       "    }\n",
       "\n",
       "    .dataframe tbody tr th {\n",
       "        vertical-align: top;\n",
       "    }\n",
       "\n",
       "    .dataframe thead th {\n",
       "        text-align: right;\n",
       "    }\n",
       "</style>\n",
       "<table border=\"1\" class=\"dataframe\">\n",
       "  <thead>\n",
       "    <tr style=\"text-align: right;\">\n",
       "      <th></th>\n",
       "      <th>Pregnancies</th>\n",
       "      <th>Glucose</th>\n",
       "      <th>BloodPressure</th>\n",
       "      <th>SkinThickness</th>\n",
       "      <th>Insulin</th>\n",
       "      <th>BMI</th>\n",
       "      <th>DiabetesPedigreeFunction</th>\n",
       "      <th>Age</th>\n",
       "      <th>Outcome</th>\n",
       "    </tr>\n",
       "  </thead>\n",
       "  <tbody>\n",
       "    <tr>\n",
       "      <th>0</th>\n",
       "      <td>6</td>\n",
       "      <td>148</td>\n",
       "      <td>72</td>\n",
       "      <td>35</td>\n",
       "      <td>0</td>\n",
       "      <td>33.6</td>\n",
       "      <td>0.627</td>\n",
       "      <td>50</td>\n",
       "      <td>1</td>\n",
       "    </tr>\n",
       "    <tr>\n",
       "      <th>1</th>\n",
       "      <td>1</td>\n",
       "      <td>85</td>\n",
       "      <td>66</td>\n",
       "      <td>29</td>\n",
       "      <td>0</td>\n",
       "      <td>26.6</td>\n",
       "      <td>0.351</td>\n",
       "      <td>31</td>\n",
       "      <td>0</td>\n",
       "    </tr>\n",
       "    <tr>\n",
       "      <th>2</th>\n",
       "      <td>8</td>\n",
       "      <td>183</td>\n",
       "      <td>64</td>\n",
       "      <td>0</td>\n",
       "      <td>0</td>\n",
       "      <td>23.3</td>\n",
       "      <td>0.672</td>\n",
       "      <td>32</td>\n",
       "      <td>1</td>\n",
       "    </tr>\n",
       "    <tr>\n",
       "      <th>3</th>\n",
       "      <td>1</td>\n",
       "      <td>89</td>\n",
       "      <td>66</td>\n",
       "      <td>23</td>\n",
       "      <td>94</td>\n",
       "      <td>28.1</td>\n",
       "      <td>0.167</td>\n",
       "      <td>21</td>\n",
       "      <td>0</td>\n",
       "    </tr>\n",
       "    <tr>\n",
       "      <th>4</th>\n",
       "      <td>0</td>\n",
       "      <td>137</td>\n",
       "      <td>40</td>\n",
       "      <td>35</td>\n",
       "      <td>168</td>\n",
       "      <td>43.1</td>\n",
       "      <td>2.288</td>\n",
       "      <td>33</td>\n",
       "      <td>1</td>\n",
       "    </tr>\n",
       "  </tbody>\n",
       "</table>\n",
       "</div>"
      ],
      "text/plain": [
       "   Pregnancies  Glucose  BloodPressure  SkinThickness  Insulin   BMI  \\\n",
       "0            6      148             72             35        0  33.6   \n",
       "1            1       85             66             29        0  26.6   \n",
       "2            8      183             64              0        0  23.3   \n",
       "3            1       89             66             23       94  28.1   \n",
       "4            0      137             40             35      168  43.1   \n",
       "\n",
       "   DiabetesPedigreeFunction  Age  Outcome  \n",
       "0                     0.627   50        1  \n",
       "1                     0.351   31        0  \n",
       "2                     0.672   32        1  \n",
       "3                     0.167   21        0  \n",
       "4                     2.288   33        1  "
      ]
     },
     "execution_count": 13,
     "metadata": {},
     "output_type": "execute_result"
    }
   ],
   "source": [
    "df.head()"
   ]
  },
  {
   "cell_type": "code",
   "execution_count": 122,
   "id": "a241f06b",
   "metadata": {},
   "outputs": [
    {
     "name": "stdout",
     "output_type": "stream",
     "text": [
      "13.5\n",
      "199.0\n",
      "107.0\n",
      "80.0\n",
      "318.125\n"
     ]
    }
   ],
   "source": [
    "print(df.Pregnancies.max())\n",
    "print(df.Glucose.max())\n",
    "print(df.BloodPressure.max())\n",
    "print(df.SkinThickness.max())\n",
    "print(df.Insulin.max())\n"
   ]
  },
  {
   "cell_type": "code",
   "execution_count": 77,
   "id": "565f4c65",
   "metadata": {},
   "outputs": [
    {
     "data": {
      "text/plain": [
       "(186,)"
      ]
     },
     "execution_count": 77,
     "metadata": {},
     "output_type": "execute_result"
    }
   ],
   "source": [
    "df.Insulin.value_counts().shape"
   ]
  },
  {
   "cell_type": "code",
   "execution_count": 95,
   "id": "ec13d05d",
   "metadata": {},
   "outputs": [
    {
     "data": {
      "image/png": "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\n",
      "text/plain": [
       "<Figure size 1656x720 with 1 Axes>"
      ]
     },
     "metadata": {
      "needs_background": "light"
     },
     "output_type": "display_data"
    }
   ],
   "source": [
    "df.Age.value_counts()\n",
    "plt.figure(figsize=(23,10))\n",
    "sns.barplot(x='Age', y='BloodPressure', data=df)\n",
    "\n",
    "plt.show()"
   ]
  },
  {
   "cell_type": "code",
   "execution_count": 22,
   "id": "3ff73a2e",
   "metadata": {},
   "outputs": [
    {
     "data": {
      "text/plain": [
       "Index(['Pregnancies', 'Glucose', 'BloodPressure', 'SkinThickness', 'Insulin',\n",
       "       'BMI', 'DiabetesPedigreeFunction', 'Age', 'Outcome'],\n",
       "      dtype='object')"
      ]
     },
     "execution_count": 22,
     "metadata": {},
     "output_type": "execute_result"
    }
   ],
   "source": [
    "df.columns"
   ]
  },
  {
   "cell_type": "code",
   "execution_count": 77,
   "id": "128a11dd",
   "metadata": {},
   "outputs": [
    {
     "data": {
      "image/png": "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\n",
      "text/plain": [
       "<Figure size 864x864 with 8 Axes>"
      ]
     },
     "metadata": {
      "needs_background": "light"
     },
     "output_type": "display_data"
    }
   ],
   "source": [
    "\n",
    "plt.figure(figsize=(12,12))\n",
    "\n",
    "for i, col in enumerate(['Pregnancies', 'Glucose', 'BloodPressure', 'SkinThickness', 'Insulin','BMI', 'DiabetesPedigreeFunction', 'Age']):\n",
    "    plt.subplot(3,3,i+1)\n",
    "    sns.histplot(x=col, data=df, kde=True, bins=50)\n",
    "plt.show()\n",
    "\n",
    "\n",
    "                         "
   ]
  },
  {
   "cell_type": "code",
   "execution_count": 74,
   "id": "ca76026d",
   "metadata": {},
   "outputs": [
    {
     "name": "stderr",
     "output_type": "stream",
     "text": [
      "C:\\Users\\Admin\\anaconda3\\lib\\site-packages\\seaborn\\distributions.py:2619: FutureWarning: `distplot` is a deprecated function and will be removed in a future version. Please adapt your code to use either `displot` (a figure-level function with similar flexibility) or `kdeplot` (an axes-level function for kernel density plots).\n",
      "  warnings.warn(msg, FutureWarning)\n"
     ]
    },
    {
     "data": {
      "image/png": "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\n",
      "text/plain": [
       "<Figure size 432x288 with 1 Axes>"
      ]
     },
     "metadata": {
      "needs_background": "light"
     },
     "output_type": "display_data"
    }
   ],
   "source": [
    "sns.distplot(df['Outcome'], hist=False)\n",
    "plt.show()"
   ]
  },
  {
   "cell_type": "code",
   "execution_count": 85,
   "id": "526975d3",
   "metadata": {},
   "outputs": [
    {
     "data": {
      "text/plain": [
       "<AxesSubplot:>"
      ]
     },
     "execution_count": 85,
     "metadata": {},
     "output_type": "execute_result"
    },
    {
     "data": {
      "image/png": "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\n",
      "text/plain": [
       "<Figure size 864x432 with 2 Axes>"
      ]
     },
     "metadata": {
      "needs_background": "light"
     },
     "output_type": "display_data"
    }
   ],
   "source": [
    "plt.figure(figsize=(12,6))\n",
    "sns.heatmap(df.corr(), annot=True)"
   ]
  },
  {
   "cell_type": "code",
   "execution_count": 132,
   "id": "5010eae8",
   "metadata": {},
   "outputs": [
    {
     "name": "stderr",
     "output_type": "stream",
     "text": [
      "C:\\Users\\Admin\\anaconda3\\lib\\site-packages\\seaborn\\distributions.py:2619: FutureWarning: `distplot` is a deprecated function and will be removed in a future version. Please adapt your code to use either `displot` (a figure-level function with similar flexibility) or `histplot` (an axes-level function for histograms).\n",
      "  warnings.warn(msg, FutureWarning)\n",
      "C:\\Users\\Admin\\anaconda3\\lib\\site-packages\\seaborn\\distributions.py:2619: FutureWarning: `distplot` is a deprecated function and will be removed in a future version. Please adapt your code to use either `displot` (a figure-level function with similar flexibility) or `histplot` (an axes-level function for histograms).\n",
      "  warnings.warn(msg, FutureWarning)\n",
      "C:\\Users\\Admin\\anaconda3\\lib\\site-packages\\seaborn\\distributions.py:2619: FutureWarning: `distplot` is a deprecated function and will be removed in a future version. Please adapt your code to use either `displot` (a figure-level function with similar flexibility) or `histplot` (an axes-level function for histograms).\n",
      "  warnings.warn(msg, FutureWarning)\n",
      "C:\\Users\\Admin\\anaconda3\\lib\\site-packages\\seaborn\\distributions.py:2619: FutureWarning: `distplot` is a deprecated function and will be removed in a future version. Please adapt your code to use either `displot` (a figure-level function with similar flexibility) or `histplot` (an axes-level function for histograms).\n",
      "  warnings.warn(msg, FutureWarning)\n",
      "C:\\Users\\Admin\\anaconda3\\lib\\site-packages\\seaborn\\distributions.py:2619: FutureWarning: `distplot` is a deprecated function and will be removed in a future version. Please adapt your code to use either `displot` (a figure-level function with similar flexibility) or `histplot` (an axes-level function for histograms).\n",
      "  warnings.warn(msg, FutureWarning)\n",
      "C:\\Users\\Admin\\anaconda3\\lib\\site-packages\\seaborn\\distributions.py:2619: FutureWarning: `distplot` is a deprecated function and will be removed in a future version. Please adapt your code to use either `displot` (a figure-level function with similar flexibility) or `histplot` (an axes-level function for histograms).\n",
      "  warnings.warn(msg, FutureWarning)\n",
      "C:\\Users\\Admin\\anaconda3\\lib\\site-packages\\seaborn\\distributions.py:2619: FutureWarning: `distplot` is a deprecated function and will be removed in a future version. Please adapt your code to use either `displot` (a figure-level function with similar flexibility) or `histplot` (an axes-level function for histograms).\n",
      "  warnings.warn(msg, FutureWarning)\n",
      "C:\\Users\\Admin\\anaconda3\\lib\\site-packages\\seaborn\\distributions.py:2619: FutureWarning: `distplot` is a deprecated function and will be removed in a future version. Please adapt your code to use either `displot` (a figure-level function with similar flexibility) or `histplot` (an axes-level function for histograms).\n",
      "  warnings.warn(msg, FutureWarning)\n",
      "C:\\Users\\Admin\\anaconda3\\lib\\site-packages\\seaborn\\distributions.py:2619: FutureWarning: `distplot` is a deprecated function and will be removed in a future version. Please adapt your code to use either `displot` (a figure-level function with similar flexibility) or `histplot` (an axes-level function for histograms).\n",
      "  warnings.warn(msg, FutureWarning)\n",
      "C:\\Users\\Admin\\anaconda3\\lib\\site-packages\\seaborn\\distributions.py:2619: FutureWarning: `distplot` is a deprecated function and will be removed in a future version. Please adapt your code to use either `displot` (a figure-level function with similar flexibility) or `histplot` (an axes-level function for histograms).\n",
      "  warnings.warn(msg, FutureWarning)\n",
      "C:\\Users\\Admin\\anaconda3\\lib\\site-packages\\seaborn\\distributions.py:2619: FutureWarning: `distplot` is a deprecated function and will be removed in a future version. Please adapt your code to use either `displot` (a figure-level function with similar flexibility) or `histplot` (an axes-level function for histograms).\n",
      "  warnings.warn(msg, FutureWarning)\n",
      "C:\\Users\\Admin\\anaconda3\\lib\\site-packages\\seaborn\\distributions.py:2619: FutureWarning: `distplot` is a deprecated function and will be removed in a future version. Please adapt your code to use either `displot` (a figure-level function with similar flexibility) or `histplot` (an axes-level function for histograms).\n",
      "  warnings.warn(msg, FutureWarning)\n",
      "C:\\Users\\Admin\\anaconda3\\lib\\site-packages\\seaborn\\distributions.py:2619: FutureWarning: `distplot` is a deprecated function and will be removed in a future version. Please adapt your code to use either `displot` (a figure-level function with similar flexibility) or `histplot` (an axes-level function for histograms).\n",
      "  warnings.warn(msg, FutureWarning)\n",
      "C:\\Users\\Admin\\anaconda3\\lib\\site-packages\\seaborn\\distributions.py:2619: FutureWarning: `distplot` is a deprecated function and will be removed in a future version. Please adapt your code to use either `displot` (a figure-level function with similar flexibility) or `histplot` (an axes-level function for histograms).\n",
      "  warnings.warn(msg, FutureWarning)\n",
      "C:\\Users\\Admin\\anaconda3\\lib\\site-packages\\seaborn\\distributions.py:2619: FutureWarning: `distplot` is a deprecated function and will be removed in a future version. Please adapt your code to use either `displot` (a figure-level function with similar flexibility) or `histplot` (an axes-level function for histograms).\n",
      "  warnings.warn(msg, FutureWarning)\n",
      "C:\\Users\\Admin\\anaconda3\\lib\\site-packages\\seaborn\\distributions.py:2619: FutureWarning: `distplot` is a deprecated function and will be removed in a future version. Please adapt your code to use either `displot` (a figure-level function with similar flexibility) or `histplot` (an axes-level function for histograms).\n",
      "  warnings.warn(msg, FutureWarning)\n"
     ]
    },
    {
     "data": {
      "image/png": "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\n",
      "text/plain": [
       "<Figure size 864x864 with 8 Axes>"
      ]
     },
     "metadata": {
      "needs_background": "light"
     },
     "output_type": "display_data"
    }
   ],
   "source": [
    "plt.figure(figsize=(12,12))\n",
    "plt.subplot(3,3, 1)\n",
    "sns.distplot(df['Pregnancies'][df['Outcome']==1], color='red')\n",
    "sns.distplot(df['Pregnancies'][df['Outcome']==0], color='green')\n",
    "\n",
    "plt.subplot(3,3, 2)\n",
    "sns.distplot(df['Glucose'][df['Outcome']==1], color='red')\n",
    "sns.distplot(df['Glucose'][df['Outcome']==0], color='green')\n",
    "\n",
    "plt.subplot(3,3, 3)\n",
    "sns.distplot(df['BloodPressure'][df['Outcome']==1], color='red')\n",
    "sns.distplot(df['BloodPressure'][df['Outcome']==0], color='green')\n",
    "\n",
    "plt.subplot(3,3, 4)\n",
    "sns.distplot(df['SkinThickness'][df['Outcome']==1], color='red')\n",
    "sns.distplot(df['SkinThickness'][df['Outcome']==0], color='green')\n",
    "\n",
    "plt.subplot(3,3, 5)\n",
    "sns.distplot(df['Insulin'][df['Outcome']==1], color='red')\n",
    "sns.distplot(df['Insulin'][df['Outcome']==0], color='green')\n",
    "\n",
    "plt.subplot(3,3, 6)\n",
    "sns.distplot(df['BMI'][df['Outcome']==1], color='red')\n",
    "sns.distplot(df['BMI'][df['Outcome']==0], color='green')\n",
    "\n",
    "plt.subplot(3,3, 7)\n",
    "sns.distplot(df['DiabetesPedigreeFunction'][df['Outcome']==1], color='red')\n",
    "sns.distplot(df['DiabetesPedigreeFunction'][df['Outcome']==0], color='green')\n",
    "\n",
    "plt.subplot(3,3, 8)\n",
    "sns.distplot(df['Age'][df['Outcome']==1], color='red')\n",
    "sns.distplot(df['Age'][df['Outcome']==0], color='green')\n",
    "plt.show()\n",
    "\n",
    "\n",
    "\n",
    "\n"
   ]
  },
  {
   "cell_type": "code",
   "execution_count": 69,
   "id": "d173b953",
   "metadata": {},
   "outputs": [
    {
     "data": {
      "image/png": "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\n",
      "text/plain": [
       "<Figure size 864x864 with 8 Axes>"
      ]
     },
     "metadata": {
      "needs_background": "light"
     },
     "output_type": "display_data"
    }
   ],
   "source": [
    "# Outliers\n",
    "# plt.boxplot(df)\n",
    "\n",
    "plt.figure(figsize=(12,12))\n",
    "for o, columns in enumerate(['Pregnancies', 'Glucose', 'BloodPressure', 'SkinThickness', 'Insulin',\n",
    "       'BMI', 'DiabetesPedigreeFunction', 'Age']):\n",
    "    plt.subplot(3,3, o+1)\n",
    "    sns.boxplot(x=columns, data=df)\n",
    "plt.show()\n",
    "\n",
    "    "
   ]
  },
  {
   "cell_type": "code",
   "execution_count": 115,
   "id": "c4fca4dc",
   "metadata": {},
   "outputs": [],
   "source": [
    "# Outliers Remove=--\n",
    "def outliers_remove():\n",
    "    col = ['Pregnancies', 'Glucose', 'BloodPressure', 'SkinThickness', 'Insulin',\n",
    "       'BMI', 'DiabetesPedigreeFunction', 'Age']\n",
    "    for i in col:\n",
    "        x = np.quantile(df[i],[0.25,0.75])\n",
    "        iqr = x[1]-x[0]\n",
    "        uw = x[1]+1.5*iqr\n",
    "        lw = x[0]-1.5*iqr\n",
    "        df[i]  = np.where(df[i]>uw,uw,(np.where(df[i]<lw,lw,df[i])))\n",
    "        \n",
    "outliers_remove()\n",
    "\n",
    "\n"
   ]
  },
  {
   "cell_type": "code",
   "execution_count": 116,
   "id": "ceb084cb",
   "metadata": {},
   "outputs": [
    {
     "data": {
      "text/plain": [
       "<AxesSubplot:>"
      ]
     },
     "execution_count": 116,
     "metadata": {},
     "output_type": "execute_result"
    },
    {
     "data": {
      "image/png": "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\n",
      "text/plain": [
       "<Figure size 864x432 with 1 Axes>"
      ]
     },
     "metadata": {
      "needs_background": "light"
     },
     "output_type": "display_data"
    }
   ],
   "source": [
    "df.boxplot(figsize=(12,6))"
   ]
  },
  {
   "cell_type": "code",
   "execution_count": 133,
   "id": "65096fd4",
   "metadata": {},
   "outputs": [],
   "source": [
    "X = df.iloc[:,:-1]\n",
    "y = df.iloc[:,-1]"
   ]
  },
  {
   "cell_type": "code",
   "execution_count": 136,
   "id": "9335001d",
   "metadata": {},
   "outputs": [],
   "source": [
    "from sklearn.preprocessing import StandardScaler\n",
    "scaler = StandardScaler()\n",
    "X  = scaler.fit_transform(X)"
   ]
  },
  {
   "cell_type": "code",
   "execution_count": 140,
   "id": "0aafedf8",
   "metadata": {},
   "outputs": [
    {
     "data": {
      "text/plain": [
       "array([[ 0.64714967,  0.86192556,  0.09269135, ...,  0.20935933,\n",
       "         0.58892732,  1.44569096],\n",
       "       [-0.84896998, -1.15943299, -0.33020145, ..., -0.78425421,\n",
       "        -0.37810147, -0.189304  ],\n",
       "       [ 1.24559754,  1.98490253, -0.47116571, ..., -1.25267202,\n",
       "         0.74659506, -0.10325164],\n",
       "       ...,\n",
       "       [ 0.34792574, -0.00437096,  0.09269135, ..., -0.84103213,\n",
       "        -0.74949659, -0.27535637],\n",
       "       [-0.84896998,  0.15605432, -0.75309424, ..., -0.28744744,\n",
       "        -0.38510892,  1.18753386],\n",
       "       [-0.84896998, -0.90275254, -0.04827292, ..., -0.24486401,\n",
       "        -0.50423566, -0.87772293]])"
      ]
     },
     "execution_count": 140,
     "metadata": {},
     "output_type": "execute_result"
    }
   ],
   "source": [
    "X"
   ]
  },
  {
   "cell_type": "code",
   "execution_count": 145,
   "id": "462894ae",
   "metadata": {},
   "outputs": [],
   "source": [
    "from sklearn.model_selection import train_test_split\n",
    "X_train ,X_test, y_train, y_test = train_test_split(X,y, test_size=0.2,random_state=1)"
   ]
  },
  {
   "cell_type": "code",
   "execution_count": 151,
   "id": "42708eb5",
   "metadata": {},
   "outputs": [
    {
     "data": {
      "text/plain": [
       "(614, 8)"
      ]
     },
     "execution_count": 151,
     "metadata": {},
     "output_type": "execute_result"
    }
   ],
   "source": [
    "X_train.shape"
   ]
  },
  {
   "cell_type": "code",
   "execution_count": 294,
   "id": "c3cf6378",
   "metadata": {},
   "outputs": [],
   "source": [
    "import tensorflow \n",
    "from keras.models import Sequential\n",
    "from keras.layers import Dense, Dropout, BatchNormalization \n"
   ]
  },
  {
   "cell_type": "code",
   "execution_count": 164,
   "id": "7b1c3519",
   "metadata": {},
   "outputs": [],
   "source": [
    "model = Sequential([\n",
    "    Dense(32,activation='relu', input_dim= (8)),\n",
    "    Dense(1, activation='sigmoid')\n",
    "])"
   ]
  },
  {
   "cell_type": "code",
   "execution_count": 165,
   "id": "f62dabc3",
   "metadata": {},
   "outputs": [
    {
     "data": {
      "text/html": [
       "<pre style=\"white-space:pre;overflow-x:auto;line-height:normal;font-family:Menlo,'DejaVu Sans Mono',consolas,'Courier New',monospace\"><span style=\"font-weight: bold\">Model: \"sequential_2\"</span>\n",
       "</pre>\n"
      ],
      "text/plain": [
       "\u001b[1mModel: \"sequential_2\"\u001b[0m\n"
      ]
     },
     "metadata": {},
     "output_type": "display_data"
    },
    {
     "data": {
      "text/html": [
       "<pre style=\"white-space:pre;overflow-x:auto;line-height:normal;font-family:Menlo,'DejaVu Sans Mono',consolas,'Courier New',monospace\">┏━━━━━━━━━━━━━━━━━━━━━━━━━━━━━━━━━━━━━━┳━━━━━━━━━━━━━━━━━━━━━━━━━━━━━┳━━━━━━━━━━━━━━━━━┓\n",
       "┃<span style=\"font-weight: bold\"> Layer (type)                         </span>┃<span style=\"font-weight: bold\"> Output Shape                </span>┃<span style=\"font-weight: bold\">         Param # </span>┃\n",
       "┡━━━━━━━━━━━━━━━━━━━━━━━━━━━━━━━━━━━━━━╇━━━━━━━━━━━━━━━━━━━━━━━━━━━━━╇━━━━━━━━━━━━━━━━━┩\n",
       "│ dense_5 (<span style=\"color: #0087ff; text-decoration-color: #0087ff\">Dense</span>)                      │ (<span style=\"color: #00d7ff; text-decoration-color: #00d7ff\">None</span>, <span style=\"color: #00af00; text-decoration-color: #00af00\">32</span>)                  │             <span style=\"color: #00af00; text-decoration-color: #00af00\">288</span> │\n",
       "├──────────────────────────────────────┼─────────────────────────────┼─────────────────┤\n",
       "│ dense_6 (<span style=\"color: #0087ff; text-decoration-color: #0087ff\">Dense</span>)                      │ (<span style=\"color: #00d7ff; text-decoration-color: #00d7ff\">None</span>, <span style=\"color: #00af00; text-decoration-color: #00af00\">1</span>)                   │              <span style=\"color: #00af00; text-decoration-color: #00af00\">33</span> │\n",
       "└──────────────────────────────────────┴─────────────────────────────┴─────────────────┘\n",
       "</pre>\n"
      ],
      "text/plain": [
       "┏━━━━━━━━━━━━━━━━━━━━━━━━━━━━━━━━━━━━━━┳━━━━━━━━━━━━━━━━━━━━━━━━━━━━━┳━━━━━━━━━━━━━━━━━┓\n",
       "┃\u001b[1m \u001b[0m\u001b[1mLayer (type)                        \u001b[0m\u001b[1m \u001b[0m┃\u001b[1m \u001b[0m\u001b[1mOutput Shape               \u001b[0m\u001b[1m \u001b[0m┃\u001b[1m \u001b[0m\u001b[1m        Param #\u001b[0m\u001b[1m \u001b[0m┃\n",
       "┡━━━━━━━━━━━━━━━━━━━━━━━━━━━━━━━━━━━━━━╇━━━━━━━━━━━━━━━━━━━━━━━━━━━━━╇━━━━━━━━━━━━━━━━━┩\n",
       "│ dense_5 (\u001b[38;5;33mDense\u001b[0m)                      │ (\u001b[38;5;45mNone\u001b[0m, \u001b[38;5;34m32\u001b[0m)                  │             \u001b[38;5;34m288\u001b[0m │\n",
       "├──────────────────────────────────────┼─────────────────────────────┼─────────────────┤\n",
       "│ dense_6 (\u001b[38;5;33mDense\u001b[0m)                      │ (\u001b[38;5;45mNone\u001b[0m, \u001b[38;5;34m1\u001b[0m)                   │              \u001b[38;5;34m33\u001b[0m │\n",
       "└──────────────────────────────────────┴─────────────────────────────┴─────────────────┘\n"
      ]
     },
     "metadata": {},
     "output_type": "display_data"
    },
    {
     "data": {
      "text/html": [
       "<pre style=\"white-space:pre;overflow-x:auto;line-height:normal;font-family:Menlo,'DejaVu Sans Mono',consolas,'Courier New',monospace\"><span style=\"font-weight: bold\"> Total params: </span><span style=\"color: #00af00; text-decoration-color: #00af00\">321</span> (1.25 KB)\n",
       "</pre>\n"
      ],
      "text/plain": [
       "\u001b[1m Total params: \u001b[0m\u001b[38;5;34m321\u001b[0m (1.25 KB)\n"
      ]
     },
     "metadata": {},
     "output_type": "display_data"
    },
    {
     "data": {
      "text/html": [
       "<pre style=\"white-space:pre;overflow-x:auto;line-height:normal;font-family:Menlo,'DejaVu Sans Mono',consolas,'Courier New',monospace\"><span style=\"font-weight: bold\"> Trainable params: </span><span style=\"color: #00af00; text-decoration-color: #00af00\">321</span> (1.25 KB)\n",
       "</pre>\n"
      ],
      "text/plain": [
       "\u001b[1m Trainable params: \u001b[0m\u001b[38;5;34m321\u001b[0m (1.25 KB)\n"
      ]
     },
     "metadata": {},
     "output_type": "display_data"
    },
    {
     "data": {
      "text/html": [
       "<pre style=\"white-space:pre;overflow-x:auto;line-height:normal;font-family:Menlo,'DejaVu Sans Mono',consolas,'Courier New',monospace\"><span style=\"font-weight: bold\"> Non-trainable params: </span><span style=\"color: #00af00; text-decoration-color: #00af00\">0</span> (0.00 B)\n",
       "</pre>\n"
      ],
      "text/plain": [
       "\u001b[1m Non-trainable params: \u001b[0m\u001b[38;5;34m0\u001b[0m (0.00 B)\n"
      ]
     },
     "metadata": {},
     "output_type": "display_data"
    }
   ],
   "source": [
    "model.summary()"
   ]
  },
  {
   "cell_type": "code",
   "execution_count": 166,
   "id": "f029696a",
   "metadata": {},
   "outputs": [
    {
     "name": "stdout",
     "output_type": "stream",
     "text": [
      "Epoch 1/200\n",
      "\u001b[1m20/20\u001b[0m \u001b[32m━━━━━━━━━━━━━━━━━━━━\u001b[0m\u001b[37m\u001b[0m \u001b[1m2s\u001b[0m 23ms/step - accuracy: 0.3576 - loss: 0.8302 - val_accuracy: 0.4221 - val_loss: 0.7386\n",
      "Epoch 2/200\n",
      "\u001b[1m20/20\u001b[0m \u001b[32m━━━━━━━━━━━━━━━━━━━━\u001b[0m\u001b[37m\u001b[0m \u001b[1m0s\u001b[0m 10ms/step - accuracy: 0.4633 - loss: 0.7386 - val_accuracy: 0.6429 - val_loss: 0.6780\n",
      "Epoch 3/200\n",
      "\u001b[1m20/20\u001b[0m \u001b[32m━━━━━━━━━━━━━━━━━━━━\u001b[0m\u001b[37m\u001b[0m \u001b[1m0s\u001b[0m 8ms/step - accuracy: 0.6127 - loss: 0.6655 - val_accuracy: 0.6883 - val_loss: 0.6329\n",
      "Epoch 4/200\n",
      "\u001b[1m20/20\u001b[0m \u001b[32m━━━━━━━━━━━━━━━━━━━━\u001b[0m\u001b[37m\u001b[0m \u001b[1m0s\u001b[0m 7ms/step - accuracy: 0.6870 - loss: 0.6282 - val_accuracy: 0.7403 - val_loss: 0.5975\n",
      "Epoch 5/200\n",
      "\u001b[1m20/20\u001b[0m \u001b[32m━━━━━━━━━━━━━━━━━━━━\u001b[0m\u001b[37m\u001b[0m \u001b[1m0s\u001b[0m 7ms/step - accuracy: 0.7329 - loss: 0.6044 - val_accuracy: 0.7468 - val_loss: 0.5700\n",
      "Epoch 6/200\n",
      "\u001b[1m20/20\u001b[0m \u001b[32m━━━━━━━━━━━━━━━━━━━━\u001b[0m\u001b[37m\u001b[0m \u001b[1m0s\u001b[0m 7ms/step - accuracy: 0.7680 - loss: 0.5699 - val_accuracy: 0.7727 - val_loss: 0.5465\n",
      "Epoch 7/200\n",
      "\u001b[1m20/20\u001b[0m \u001b[32m━━━━━━━━━━━━━━━━━━━━\u001b[0m\u001b[37m\u001b[0m \u001b[1m0s\u001b[0m 8ms/step - accuracy: 0.7855 - loss: 0.5399 - val_accuracy: 0.7792 - val_loss: 0.5262\n",
      "Epoch 8/200\n",
      "\u001b[1m20/20\u001b[0m \u001b[32m━━━━━━━━━━━━━━━━━━━━\u001b[0m\u001b[37m\u001b[0m \u001b[1m0s\u001b[0m 6ms/step - accuracy: 0.7726 - loss: 0.5343 - val_accuracy: 0.7792 - val_loss: 0.5103\n",
      "Epoch 9/200\n",
      "\u001b[1m20/20\u001b[0m \u001b[32m━━━━━━━━━━━━━━━━━━━━\u001b[0m\u001b[37m\u001b[0m \u001b[1m0s\u001b[0m 9ms/step - accuracy: 0.7839 - loss: 0.5086 - val_accuracy: 0.7922 - val_loss: 0.4963\n",
      "Epoch 10/200\n",
      "\u001b[1m20/20\u001b[0m \u001b[32m━━━━━━━━━━━━━━━━━━━━\u001b[0m\u001b[37m\u001b[0m \u001b[1m0s\u001b[0m 9ms/step - accuracy: 0.7894 - loss: 0.4946 - val_accuracy: 0.7922 - val_loss: 0.4877\n",
      "Epoch 11/200\n",
      "\u001b[1m20/20\u001b[0m \u001b[32m━━━━━━━━━━━━━━━━━━━━\u001b[0m\u001b[37m\u001b[0m \u001b[1m0s\u001b[0m 9ms/step - accuracy: 0.8036 - loss: 0.4782 - val_accuracy: 0.7857 - val_loss: 0.4794\n",
      "Epoch 12/200\n",
      "\u001b[1m20/20\u001b[0m \u001b[32m━━━━━━━━━━━━━━━━━━━━\u001b[0m\u001b[37m\u001b[0m \u001b[1m0s\u001b[0m 7ms/step - accuracy: 0.7919 - loss: 0.4715 - val_accuracy: 0.7857 - val_loss: 0.4726\n",
      "Epoch 13/200\n",
      "\u001b[1m20/20\u001b[0m \u001b[32m━━━━━━━━━━━━━━━━━━━━\u001b[0m\u001b[37m\u001b[0m \u001b[1m0s\u001b[0m 7ms/step - accuracy: 0.7710 - loss: 0.4778 - val_accuracy: 0.7857 - val_loss: 0.4681\n",
      "Epoch 14/200\n",
      "\u001b[1m20/20\u001b[0m \u001b[32m━━━━━━━━━━━━━━━━━━━━\u001b[0m\u001b[37m\u001b[0m \u001b[1m0s\u001b[0m 8ms/step - accuracy: 0.7809 - loss: 0.4683 - val_accuracy: 0.7857 - val_loss: 0.4656\n",
      "Epoch 15/200\n",
      "\u001b[1m20/20\u001b[0m \u001b[32m━━━━━━━━━━━━━━━━━━━━\u001b[0m\u001b[37m\u001b[0m \u001b[1m0s\u001b[0m 6ms/step - accuracy: 0.8118 - loss: 0.4437 - val_accuracy: 0.7922 - val_loss: 0.4616\n",
      "Epoch 16/200\n",
      "\u001b[1m20/20\u001b[0m \u001b[32m━━━━━━━━━━━━━━━━━━━━\u001b[0m\u001b[37m\u001b[0m \u001b[1m0s\u001b[0m 7ms/step - accuracy: 0.7764 - loss: 0.4803 - val_accuracy: 0.7922 - val_loss: 0.4599\n",
      "Epoch 17/200\n",
      "\u001b[1m20/20\u001b[0m \u001b[32m━━━━━━━━━━━━━━━━━━━━\u001b[0m\u001b[37m\u001b[0m \u001b[1m0s\u001b[0m 6ms/step - accuracy: 0.7748 - loss: 0.4604 - val_accuracy: 0.7922 - val_loss: 0.4581\n",
      "Epoch 18/200\n",
      "\u001b[1m20/20\u001b[0m \u001b[32m━━━━━━━━━━━━━━━━━━━━\u001b[0m\u001b[37m\u001b[0m \u001b[1m0s\u001b[0m 7ms/step - accuracy: 0.8216 - loss: 0.4188 - val_accuracy: 0.7987 - val_loss: 0.4569\n",
      "Epoch 19/200\n",
      "\u001b[1m20/20\u001b[0m \u001b[32m━━━━━━━━━━━━━━━━━━━━\u001b[0m\u001b[37m\u001b[0m \u001b[1m0s\u001b[0m 5ms/step - accuracy: 0.7701 - loss: 0.4707 - val_accuracy: 0.7987 - val_loss: 0.4565\n",
      "Epoch 20/200\n",
      "\u001b[1m20/20\u001b[0m \u001b[32m━━━━━━━━━━━━━━━━━━━━\u001b[0m\u001b[37m\u001b[0m \u001b[1m0s\u001b[0m 7ms/step - accuracy: 0.7882 - loss: 0.4488 - val_accuracy: 0.7987 - val_loss: 0.4543\n",
      "Epoch 21/200\n",
      "\u001b[1m20/20\u001b[0m \u001b[32m━━━━━━━━━━━━━━━━━━━━\u001b[0m\u001b[37m\u001b[0m \u001b[1m0s\u001b[0m 7ms/step - accuracy: 0.7774 - loss: 0.4540 - val_accuracy: 0.7987 - val_loss: 0.4549\n",
      "Epoch 22/200\n",
      "\u001b[1m20/20\u001b[0m \u001b[32m━━━━━━━━━━━━━━━━━━━━\u001b[0m\u001b[37m\u001b[0m \u001b[1m0s\u001b[0m 8ms/step - accuracy: 0.7868 - loss: 0.4591 - val_accuracy: 0.7987 - val_loss: 0.4527\n",
      "Epoch 23/200\n",
      "\u001b[1m20/20\u001b[0m \u001b[32m━━━━━━━━━━━━━━━━━━━━\u001b[0m\u001b[37m\u001b[0m \u001b[1m0s\u001b[0m 8ms/step - accuracy: 0.8066 - loss: 0.4299 - val_accuracy: 0.7987 - val_loss: 0.4522\n",
      "Epoch 24/200\n",
      "\u001b[1m20/20\u001b[0m \u001b[32m━━━━━━━━━━━━━━━━━━━━\u001b[0m\u001b[37m\u001b[0m \u001b[1m0s\u001b[0m 9ms/step - accuracy: 0.7927 - loss: 0.4143 - val_accuracy: 0.7987 - val_loss: 0.4535\n",
      "Epoch 25/200\n",
      "\u001b[1m20/20\u001b[0m \u001b[32m━━━━━━━━━━━━━━━━━━━━\u001b[0m\u001b[37m\u001b[0m \u001b[1m0s\u001b[0m 6ms/step - accuracy: 0.7970 - loss: 0.4351 - val_accuracy: 0.7987 - val_loss: 0.4546\n",
      "Epoch 26/200\n",
      "\u001b[1m20/20\u001b[0m \u001b[32m━━━━━━━━━━━━━━━━━━━━\u001b[0m\u001b[37m\u001b[0m \u001b[1m0s\u001b[0m 6ms/step - accuracy: 0.7859 - loss: 0.4522 - val_accuracy: 0.7922 - val_loss: 0.4556\n",
      "Epoch 27/200\n",
      "\u001b[1m20/20\u001b[0m \u001b[32m━━━━━━━━━━━━━━━━━━━━\u001b[0m\u001b[37m\u001b[0m \u001b[1m0s\u001b[0m 7ms/step - accuracy: 0.8041 - loss: 0.4287 - val_accuracy: 0.7922 - val_loss: 0.4545\n",
      "Epoch 28/200\n",
      "\u001b[1m20/20\u001b[0m \u001b[32m━━━━━━━━━━━━━━━━━━━━\u001b[0m\u001b[37m\u001b[0m \u001b[1m0s\u001b[0m 6ms/step - accuracy: 0.7776 - loss: 0.4491 - val_accuracy: 0.7922 - val_loss: 0.4541\n",
      "Epoch 29/200\n",
      "\u001b[1m20/20\u001b[0m \u001b[32m━━━━━━━━━━━━━━━━━━━━\u001b[0m\u001b[37m\u001b[0m \u001b[1m0s\u001b[0m 8ms/step - accuracy: 0.7730 - loss: 0.4587 - val_accuracy: 0.7857 - val_loss: 0.4539\n",
      "Epoch 30/200\n",
      "\u001b[1m20/20\u001b[0m \u001b[32m━━━━━━━━━━━━━━━━━━━━\u001b[0m\u001b[37m\u001b[0m \u001b[1m0s\u001b[0m 10ms/step - accuracy: 0.7772 - loss: 0.4613 - val_accuracy: 0.7922 - val_loss: 0.4538\n",
      "Epoch 31/200\n",
      "\u001b[1m20/20\u001b[0m \u001b[32m━━━━━━━━━━━━━━━━━━━━\u001b[0m\u001b[37m\u001b[0m \u001b[1m0s\u001b[0m 7ms/step - accuracy: 0.7776 - loss: 0.4432 - val_accuracy: 0.7922 - val_loss: 0.4528\n",
      "Epoch 32/200\n",
      "\u001b[1m20/20\u001b[0m \u001b[32m━━━━━━━━━━━━━━━━━━━━\u001b[0m\u001b[37m\u001b[0m \u001b[1m0s\u001b[0m 6ms/step - accuracy: 0.7691 - loss: 0.4590 - val_accuracy: 0.7922 - val_loss: 0.4525\n",
      "Epoch 33/200\n",
      "\u001b[1m20/20\u001b[0m \u001b[32m━━━━━━━━━━━━━━━━━━━━\u001b[0m\u001b[37m\u001b[0m \u001b[1m0s\u001b[0m 7ms/step - accuracy: 0.7847 - loss: 0.4523 - val_accuracy: 0.7922 - val_loss: 0.4519\n",
      "Epoch 34/200\n",
      "\u001b[1m20/20\u001b[0m \u001b[32m━━━━━━━━━━━━━━━━━━━━\u001b[0m\u001b[37m\u001b[0m \u001b[1m0s\u001b[0m 8ms/step - accuracy: 0.7623 - loss: 0.4586 - val_accuracy: 0.7922 - val_loss: 0.4511\n",
      "Epoch 35/200\n",
      "\u001b[1m20/20\u001b[0m \u001b[32m━━━━━━━━━━━━━━━━━━━━\u001b[0m\u001b[37m\u001b[0m \u001b[1m0s\u001b[0m 7ms/step - accuracy: 0.7645 - loss: 0.4533 - val_accuracy: 0.7922 - val_loss: 0.4505\n",
      "Epoch 36/200\n",
      "\u001b[1m20/20\u001b[0m \u001b[32m━━━━━━━━━━━━━━━━━━━━\u001b[0m\u001b[37m\u001b[0m \u001b[1m0s\u001b[0m 9ms/step - accuracy: 0.7816 - loss: 0.4487 - val_accuracy: 0.7922 - val_loss: 0.4513\n",
      "Epoch 37/200\n",
      "\u001b[1m20/20\u001b[0m \u001b[32m━━━━━━━━━━━━━━━━━━━━\u001b[0m\u001b[37m\u001b[0m \u001b[1m0s\u001b[0m 9ms/step - accuracy: 0.8114 - loss: 0.4097 - val_accuracy: 0.7857 - val_loss: 0.4499\n",
      "Epoch 38/200\n",
      "\u001b[1m20/20\u001b[0m \u001b[32m━━━━━━━━━━━━━━━━━━━━\u001b[0m\u001b[37m\u001b[0m \u001b[1m0s\u001b[0m 10ms/step - accuracy: 0.7977 - loss: 0.4236 - val_accuracy: 0.7857 - val_loss: 0.4497\n",
      "Epoch 39/200\n",
      "\u001b[1m20/20\u001b[0m \u001b[32m━━━━━━━━━━━━━━━━━━━━\u001b[0m\u001b[37m\u001b[0m \u001b[1m0s\u001b[0m 7ms/step - accuracy: 0.7896 - loss: 0.4325 - val_accuracy: 0.7857 - val_loss: 0.4483\n",
      "Epoch 40/200\n",
      "\u001b[1m20/20\u001b[0m \u001b[32m━━━━━━━━━━━━━━━━━━━━\u001b[0m\u001b[37m\u001b[0m \u001b[1m0s\u001b[0m 7ms/step - accuracy: 0.8005 - loss: 0.4362 - val_accuracy: 0.7857 - val_loss: 0.4485\n",
      "Epoch 41/200\n",
      "\u001b[1m20/20\u001b[0m \u001b[32m━━━━━━━━━━━━━━━━━━━━\u001b[0m\u001b[37m\u001b[0m \u001b[1m0s\u001b[0m 8ms/step - accuracy: 0.8089 - loss: 0.4282 - val_accuracy: 0.7857 - val_loss: 0.4477\n",
      "Epoch 42/200\n",
      "\u001b[1m20/20\u001b[0m \u001b[32m━━━━━━━━━━━━━━━━━━━━\u001b[0m\u001b[37m\u001b[0m \u001b[1m0s\u001b[0m 7ms/step - accuracy: 0.7907 - loss: 0.4449 - val_accuracy: 0.7857 - val_loss: 0.4479\n",
      "Epoch 43/200\n",
      "\u001b[1m20/20\u001b[0m \u001b[32m━━━━━━━━━━━━━━━━━━━━\u001b[0m\u001b[37m\u001b[0m \u001b[1m0s\u001b[0m 8ms/step - accuracy: 0.8045 - loss: 0.4336 - val_accuracy: 0.7857 - val_loss: 0.4469\n",
      "Epoch 44/200\n",
      "\u001b[1m20/20\u001b[0m \u001b[32m━━━━━━━━━━━━━━━━━━━━\u001b[0m\u001b[37m\u001b[0m \u001b[1m0s\u001b[0m 10ms/step - accuracy: 0.7944 - loss: 0.4263 - val_accuracy: 0.7857 - val_loss: 0.4469\n",
      "Epoch 45/200\n",
      "\u001b[1m20/20\u001b[0m \u001b[32m━━━━━━━━━━━━━━━━━━━━\u001b[0m\u001b[37m\u001b[0m \u001b[1m0s\u001b[0m 6ms/step - accuracy: 0.8130 - loss: 0.4154 - val_accuracy: 0.7857 - val_loss: 0.4476\n",
      "Epoch 46/200\n",
      "\u001b[1m20/20\u001b[0m \u001b[32m━━━━━━━━━━━━━━━━━━━━\u001b[0m\u001b[37m\u001b[0m \u001b[1m0s\u001b[0m 6ms/step - accuracy: 0.7888 - loss: 0.4357 - val_accuracy: 0.7857 - val_loss: 0.4483\n",
      "Epoch 47/200\n",
      "\u001b[1m20/20\u001b[0m \u001b[32m━━━━━━━━━━━━━━━━━━━━\u001b[0m\u001b[37m\u001b[0m \u001b[1m0s\u001b[0m 7ms/step - accuracy: 0.8210 - loss: 0.4119 - val_accuracy: 0.7922 - val_loss: 0.4493\n",
      "Epoch 48/200\n",
      "\u001b[1m20/20\u001b[0m \u001b[32m━━━━━━━━━━━━━━━━━━━━\u001b[0m\u001b[37m\u001b[0m \u001b[1m0s\u001b[0m 7ms/step - accuracy: 0.7854 - loss: 0.4409 - val_accuracy: 0.7857 - val_loss: 0.4489\n",
      "Epoch 49/200\n",
      "\u001b[1m20/20\u001b[0m \u001b[32m━━━━━━━━━━━━━━━━━━━━\u001b[0m\u001b[37m\u001b[0m \u001b[1m0s\u001b[0m 10ms/step - accuracy: 0.7967 - loss: 0.4319 - val_accuracy: 0.7857 - val_loss: 0.4490\n",
      "Epoch 50/200\n",
      "\u001b[1m20/20\u001b[0m \u001b[32m━━━━━━━━━━━━━━━━━━━━\u001b[0m\u001b[37m\u001b[0m \u001b[1m0s\u001b[0m 7ms/step - accuracy: 0.7868 - loss: 0.4238 - val_accuracy: 0.7857 - val_loss: 0.4488\n",
      "Epoch 51/200\n",
      "\u001b[1m20/20\u001b[0m \u001b[32m━━━━━━━━━━━━━━━━━━━━\u001b[0m\u001b[37m\u001b[0m \u001b[1m0s\u001b[0m 6ms/step - accuracy: 0.7883 - loss: 0.4278 - val_accuracy: 0.7857 - val_loss: 0.4485\n",
      "Epoch 52/200\n",
      "\u001b[1m20/20\u001b[0m \u001b[32m━━━━━━━━━━━━━━━━━━━━\u001b[0m\u001b[37m\u001b[0m \u001b[1m0s\u001b[0m 6ms/step - accuracy: 0.8160 - loss: 0.4157 - val_accuracy: 0.7857 - val_loss: 0.4482\n",
      "Epoch 53/200\n",
      "\u001b[1m20/20\u001b[0m \u001b[32m━━━━━━━━━━━━━━━━━━━━\u001b[0m\u001b[37m\u001b[0m \u001b[1m0s\u001b[0m 6ms/step - accuracy: 0.7903 - loss: 0.4227 - val_accuracy: 0.7857 - val_loss: 0.4479\n",
      "Epoch 54/200\n",
      "\u001b[1m20/20\u001b[0m \u001b[32m━━━━━━━━━━━━━━━━━━━━\u001b[0m\u001b[37m\u001b[0m \u001b[1m0s\u001b[0m 6ms/step - accuracy: 0.7898 - loss: 0.4661 - val_accuracy: 0.7857 - val_loss: 0.4480\n",
      "Epoch 55/200\n",
      "\u001b[1m20/20\u001b[0m \u001b[32m━━━━━━━━━━━━━━━━━━━━\u001b[0m\u001b[37m\u001b[0m \u001b[1m0s\u001b[0m 6ms/step - accuracy: 0.7843 - loss: 0.4388 - val_accuracy: 0.7857 - val_loss: 0.4481\n",
      "Epoch 56/200\n",
      "\u001b[1m20/20\u001b[0m \u001b[32m━━━━━━━━━━━━━━━━━━━━\u001b[0m\u001b[37m\u001b[0m \u001b[1m0s\u001b[0m 8ms/step - accuracy: 0.8115 - loss: 0.4128 - val_accuracy: 0.7857 - val_loss: 0.4480\n",
      "Epoch 57/200\n",
      "\u001b[1m20/20\u001b[0m \u001b[32m━━━━━━━━━━━━━━━━━━━━\u001b[0m\u001b[37m\u001b[0m \u001b[1m0s\u001b[0m 7ms/step - accuracy: 0.8118 - loss: 0.4224 - val_accuracy: 0.7857 - val_loss: 0.4478\n",
      "Epoch 58/200\n",
      "\u001b[1m20/20\u001b[0m \u001b[32m━━━━━━━━━━━━━━━━━━━━\u001b[0m\u001b[37m\u001b[0m \u001b[1m0s\u001b[0m 7ms/step - accuracy: 0.7944 - loss: 0.4442 - val_accuracy: 0.7857 - val_loss: 0.4470\n",
      "Epoch 59/200\n",
      "\u001b[1m20/20\u001b[0m \u001b[32m━━━━━━━━━━━━━━━━━━━━\u001b[0m\u001b[37m\u001b[0m \u001b[1m0s\u001b[0m 9ms/step - accuracy: 0.8134 - loss: 0.3993 - val_accuracy: 0.7857 - val_loss: 0.4477\n",
      "Epoch 60/200\n",
      "\u001b[1m20/20\u001b[0m \u001b[32m━━━━━━━━━━━━━━━━━━━━\u001b[0m\u001b[37m\u001b[0m \u001b[1m0s\u001b[0m 7ms/step - accuracy: 0.8061 - loss: 0.4337 - val_accuracy: 0.7857 - val_loss: 0.4473\n",
      "Epoch 61/200\n",
      "\u001b[1m20/20\u001b[0m \u001b[32m━━━━━━━━━━━━━━━━━━━━\u001b[0m\u001b[37m\u001b[0m \u001b[1m0s\u001b[0m 6ms/step - accuracy: 0.8073 - loss: 0.4176 - val_accuracy: 0.7857 - val_loss: 0.4472\n",
      "Epoch 62/200\n",
      "\u001b[1m20/20\u001b[0m \u001b[32m━━━━━━━━━━━━━━━━━━━━\u001b[0m\u001b[37m\u001b[0m \u001b[1m0s\u001b[0m 7ms/step - accuracy: 0.8025 - loss: 0.4184 - val_accuracy: 0.7857 - val_loss: 0.4471\n",
      "Epoch 63/200\n",
      "\u001b[1m20/20\u001b[0m \u001b[32m━━━━━━━━━━━━━━━━━━━━\u001b[0m\u001b[37m\u001b[0m \u001b[1m0s\u001b[0m 8ms/step - accuracy: 0.8049 - loss: 0.4100 - val_accuracy: 0.7857 - val_loss: 0.4476\n",
      "Epoch 64/200\n",
      "\u001b[1m20/20\u001b[0m \u001b[32m━━━━━━━━━━━━━━━━━━━━\u001b[0m\u001b[37m\u001b[0m \u001b[1m0s\u001b[0m 8ms/step - accuracy: 0.7979 - loss: 0.4370 - val_accuracy: 0.7857 - val_loss: 0.4472\n",
      "Epoch 65/200\n",
      "\u001b[1m20/20\u001b[0m \u001b[32m━━━━━━━━━━━━━━━━━━━━\u001b[0m\u001b[37m\u001b[0m \u001b[1m0s\u001b[0m 5ms/step - accuracy: 0.8166 - loss: 0.4052 - val_accuracy: 0.7857 - val_loss: 0.4475\n",
      "Epoch 66/200\n",
      "\u001b[1m20/20\u001b[0m \u001b[32m━━━━━━━━━━━━━━━━━━━━\u001b[0m\u001b[37m\u001b[0m \u001b[1m0s\u001b[0m 6ms/step - accuracy: 0.8182 - loss: 0.4219 - val_accuracy: 0.7857 - val_loss: 0.4471\n",
      "Epoch 67/200\n",
      "\u001b[1m20/20\u001b[0m \u001b[32m━━━━━━━━━━━━━━━━━━━━\u001b[0m\u001b[37m\u001b[0m \u001b[1m0s\u001b[0m 7ms/step - accuracy: 0.8088 - loss: 0.4329 - val_accuracy: 0.7792 - val_loss: 0.4473\n",
      "Epoch 68/200\n",
      "\u001b[1m20/20\u001b[0m \u001b[32m━━━━━━━━━━━━━━━━━━━━\u001b[0m\u001b[37m\u001b[0m \u001b[1m0s\u001b[0m 6ms/step - accuracy: 0.8025 - loss: 0.4302 - val_accuracy: 0.7857 - val_loss: 0.4458\n",
      "Epoch 69/200\n",
      "\u001b[1m20/20\u001b[0m \u001b[32m━━━━━━━━━━━━━━━━━━━━\u001b[0m\u001b[37m\u001b[0m \u001b[1m0s\u001b[0m 6ms/step - accuracy: 0.8027 - loss: 0.4210 - val_accuracy: 0.7857 - val_loss: 0.4475\n",
      "Epoch 70/200\n",
      "\u001b[1m20/20\u001b[0m \u001b[32m━━━━━━━━━━━━━━━━━━━━\u001b[0m\u001b[37m\u001b[0m \u001b[1m0s\u001b[0m 9ms/step - accuracy: 0.7969 - loss: 0.4293 - val_accuracy: 0.7857 - val_loss: 0.4472\n",
      "Epoch 71/200\n",
      "\u001b[1m20/20\u001b[0m \u001b[32m━━━━━━━━━━━━━━━━━━━━\u001b[0m\u001b[37m\u001b[0m \u001b[1m0s\u001b[0m 6ms/step - accuracy: 0.7897 - loss: 0.4361 - val_accuracy: 0.7857 - val_loss: 0.4469\n",
      "Epoch 72/200\n",
      "\u001b[1m20/20\u001b[0m \u001b[32m━━━━━━━━━━━━━━━━━━━━\u001b[0m\u001b[37m\u001b[0m \u001b[1m0s\u001b[0m 8ms/step - accuracy: 0.8159 - loss: 0.4098 - val_accuracy: 0.7857 - val_loss: 0.4453\n",
      "Epoch 73/200\n",
      "\u001b[1m20/20\u001b[0m \u001b[32m━━━━━━━━━━━━━━━━━━━━\u001b[0m\u001b[37m\u001b[0m \u001b[1m0s\u001b[0m 7ms/step - accuracy: 0.7960 - loss: 0.4225 - val_accuracy: 0.7857 - val_loss: 0.4471\n",
      "Epoch 74/200\n",
      "\u001b[1m20/20\u001b[0m \u001b[32m━━━━━━━━━━━━━━━━━━━━\u001b[0m\u001b[37m\u001b[0m \u001b[1m0s\u001b[0m 8ms/step - accuracy: 0.8041 - loss: 0.4238 - val_accuracy: 0.7792 - val_loss: 0.4467\n",
      "Epoch 75/200\n",
      "\u001b[1m20/20\u001b[0m \u001b[32m━━━━━━━━━━━━━━━━━━━━\u001b[0m\u001b[37m\u001b[0m \u001b[1m0s\u001b[0m 6ms/step - accuracy: 0.8057 - loss: 0.4299 - val_accuracy: 0.7857 - val_loss: 0.4465\n",
      "Epoch 76/200\n",
      "\u001b[1m20/20\u001b[0m \u001b[32m━━━━━━━━━━━━━━━━━━━━\u001b[0m\u001b[37m\u001b[0m \u001b[1m0s\u001b[0m 6ms/step - accuracy: 0.7595 - loss: 0.4831 - val_accuracy: 0.7792 - val_loss: 0.4457\n",
      "Epoch 77/200\n",
      "\u001b[1m20/20\u001b[0m \u001b[32m━━━━━━━━━━━━━━━━━━━━\u001b[0m\u001b[37m\u001b[0m \u001b[1m0s\u001b[0m 10ms/step - accuracy: 0.8068 - loss: 0.4056 - val_accuracy: 0.7792 - val_loss: 0.4467\n",
      "Epoch 78/200\n",
      "\u001b[1m20/20\u001b[0m \u001b[32m━━━━━━━━━━━━━━━━━━━━\u001b[0m\u001b[37m\u001b[0m \u001b[1m0s\u001b[0m 7ms/step - accuracy: 0.7917 - loss: 0.4494 - val_accuracy: 0.7792 - val_loss: 0.4470\n",
      "Epoch 79/200\n",
      "\u001b[1m20/20\u001b[0m \u001b[32m━━━━━━━━━━━━━━━━━━━━\u001b[0m\u001b[37m\u001b[0m \u001b[1m0s\u001b[0m 6ms/step - accuracy: 0.8065 - loss: 0.4154 - val_accuracy: 0.7792 - val_loss: 0.4463\n",
      "Epoch 80/200\n",
      "\u001b[1m20/20\u001b[0m \u001b[32m━━━━━━━━━━━━━━━━━━━━\u001b[0m\u001b[37m\u001b[0m \u001b[1m0s\u001b[0m 6ms/step - accuracy: 0.8151 - loss: 0.4191 - val_accuracy: 0.7792 - val_loss: 0.4459\n",
      "Epoch 81/200\n",
      "\u001b[1m20/20\u001b[0m \u001b[32m━━━━━━━━━━━━━━━━━━━━\u001b[0m\u001b[37m\u001b[0m \u001b[1m0s\u001b[0m 7ms/step - accuracy: 0.7857 - loss: 0.4445 - val_accuracy: 0.7792 - val_loss: 0.4459\n",
      "Epoch 82/200\n",
      "\u001b[1m20/20\u001b[0m \u001b[32m━━━━━━━━━━━━━━━━━━━━\u001b[0m\u001b[37m\u001b[0m \u001b[1m0s\u001b[0m 7ms/step - accuracy: 0.7928 - loss: 0.4348 - val_accuracy: 0.7857 - val_loss: 0.4459\n",
      "Epoch 83/200\n",
      "\u001b[1m20/20\u001b[0m \u001b[32m━━━━━━━━━━━━━━━━━━━━\u001b[0m\u001b[37m\u001b[0m \u001b[1m0s\u001b[0m 8ms/step - accuracy: 0.8194 - loss: 0.3878 - val_accuracy: 0.7857 - val_loss: 0.4459\n",
      "Epoch 84/200\n",
      "\u001b[1m20/20\u001b[0m \u001b[32m━━━━━━━━━━━━━━━━━━━━\u001b[0m\u001b[37m\u001b[0m \u001b[1m0s\u001b[0m 7ms/step - accuracy: 0.8006 - loss: 0.4401 - val_accuracy: 0.7857 - val_loss: 0.4457\n",
      "Epoch 85/200\n",
      "\u001b[1m20/20\u001b[0m \u001b[32m━━━━━━━━━━━━━━━━━━━━\u001b[0m\u001b[37m\u001b[0m \u001b[1m0s\u001b[0m 7ms/step - accuracy: 0.8171 - loss: 0.4116 - val_accuracy: 0.7857 - val_loss: 0.4465\n",
      "Epoch 86/200\n",
      "\u001b[1m20/20\u001b[0m \u001b[32m━━━━━━━━━━━━━━━━━━━━\u001b[0m\u001b[37m\u001b[0m \u001b[1m0s\u001b[0m 7ms/step - accuracy: 0.7978 - loss: 0.4175 - val_accuracy: 0.7857 - val_loss: 0.4488\n",
      "Epoch 87/200\n",
      "\u001b[1m20/20\u001b[0m \u001b[32m━━━━━━━━━━━━━━━━━━━━\u001b[0m\u001b[37m\u001b[0m \u001b[1m0s\u001b[0m 9ms/step - accuracy: 0.8072 - loss: 0.4328 - val_accuracy: 0.7857 - val_loss: 0.4467\n",
      "Epoch 88/200\n",
      "\u001b[1m20/20\u001b[0m \u001b[32m━━━━━━━━━━━━━━━━━━━━\u001b[0m\u001b[37m\u001b[0m \u001b[1m0s\u001b[0m 7ms/step - accuracy: 0.7918 - loss: 0.4299 - val_accuracy: 0.7922 - val_loss: 0.4463\n",
      "Epoch 89/200\n",
      "\u001b[1m20/20\u001b[0m \u001b[32m━━━━━━━━━━━━━━━━━━━━\u001b[0m\u001b[37m\u001b[0m \u001b[1m0s\u001b[0m 6ms/step - accuracy: 0.8103 - loss: 0.4309 - val_accuracy: 0.7922 - val_loss: 0.4447\n",
      "Epoch 90/200\n",
      "\u001b[1m20/20\u001b[0m \u001b[32m━━━━━━━━━━━━━━━━━━━━\u001b[0m\u001b[37m\u001b[0m \u001b[1m0s\u001b[0m 7ms/step - accuracy: 0.8174 - loss: 0.4273 - val_accuracy: 0.7857 - val_loss: 0.4452\n",
      "Epoch 91/200\n",
      "\u001b[1m20/20\u001b[0m \u001b[32m━━━━━━━━━━━━━━━━━━━━\u001b[0m\u001b[37m\u001b[0m \u001b[1m0s\u001b[0m 9ms/step - accuracy: 0.8249 - loss: 0.4149 - val_accuracy: 0.7857 - val_loss: 0.4441\n",
      "Epoch 92/200\n",
      "\u001b[1m20/20\u001b[0m \u001b[32m━━━━━━━━━━━━━━━━━━━━\u001b[0m\u001b[37m\u001b[0m \u001b[1m0s\u001b[0m 7ms/step - accuracy: 0.8394 - loss: 0.3877 - val_accuracy: 0.7792 - val_loss: 0.4462\n",
      "Epoch 93/200\n",
      "\u001b[1m20/20\u001b[0m \u001b[32m━━━━━━━━━━━━━━━━━━━━\u001b[0m\u001b[37m\u001b[0m \u001b[1m0s\u001b[0m 6ms/step - accuracy: 0.8138 - loss: 0.4068 - val_accuracy: 0.7792 - val_loss: 0.4468\n",
      "Epoch 94/200\n",
      "\u001b[1m20/20\u001b[0m \u001b[32m━━━━━━━━━━━━━━━━━━━━\u001b[0m\u001b[37m\u001b[0m \u001b[1m0s\u001b[0m 6ms/step - accuracy: 0.8223 - loss: 0.3873 - val_accuracy: 0.7792 - val_loss: 0.4479\n",
      "Epoch 95/200\n",
      "\u001b[1m20/20\u001b[0m \u001b[32m━━━━━━━━━━━━━━━━━━━━\u001b[0m\u001b[37m\u001b[0m \u001b[1m0s\u001b[0m 6ms/step - accuracy: 0.7876 - loss: 0.4398 - val_accuracy: 0.7792 - val_loss: 0.4476\n",
      "Epoch 96/200\n",
      "\u001b[1m20/20\u001b[0m \u001b[32m━━━━━━━━━━━━━━━━━━━━\u001b[0m\u001b[37m\u001b[0m \u001b[1m0s\u001b[0m 7ms/step - accuracy: 0.8264 - loss: 0.3986 - val_accuracy: 0.7857 - val_loss: 0.4456\n",
      "Epoch 97/200\n",
      "\u001b[1m20/20\u001b[0m \u001b[32m━━━━━━━━━━━━━━━━━━━━\u001b[0m\u001b[37m\u001b[0m \u001b[1m0s\u001b[0m 11ms/step - accuracy: 0.7936 - loss: 0.4390 - val_accuracy: 0.7922 - val_loss: 0.4439\n",
      "Epoch 98/200\n",
      "\u001b[1m20/20\u001b[0m \u001b[32m━━━━━━━━━━━━━━━━━━━━\u001b[0m\u001b[37m\u001b[0m \u001b[1m0s\u001b[0m 7ms/step - accuracy: 0.7977 - loss: 0.4154 - val_accuracy: 0.7922 - val_loss: 0.4436\n",
      "Epoch 99/200\n",
      "\u001b[1m20/20\u001b[0m \u001b[32m━━━━━━━━━━━━━━━━━━━━\u001b[0m\u001b[37m\u001b[0m \u001b[1m0s\u001b[0m 8ms/step - accuracy: 0.8122 - loss: 0.4001 - val_accuracy: 0.7857 - val_loss: 0.4435\n",
      "Epoch 100/200\n",
      "\u001b[1m20/20\u001b[0m \u001b[32m━━━━━━━━━━━━━━━━━━━━\u001b[0m\u001b[37m\u001b[0m \u001b[1m0s\u001b[0m 7ms/step - accuracy: 0.8209 - loss: 0.4033 - val_accuracy: 0.7922 - val_loss: 0.4448\n",
      "Epoch 101/200\n"
     ]
    },
    {
     "name": "stdout",
     "output_type": "stream",
     "text": [
      "\u001b[1m20/20\u001b[0m \u001b[32m━━━━━━━━━━━━━━━━━━━━\u001b[0m\u001b[37m\u001b[0m \u001b[1m0s\u001b[0m 6ms/step - accuracy: 0.8089 - loss: 0.4134 - val_accuracy: 0.7857 - val_loss: 0.4439\n",
      "Epoch 102/200\n",
      "\u001b[1m20/20\u001b[0m \u001b[32m━━━━━━━━━━━━━━━━━━━━\u001b[0m\u001b[37m\u001b[0m \u001b[1m0s\u001b[0m 7ms/step - accuracy: 0.7956 - loss: 0.4357 - val_accuracy: 0.7857 - val_loss: 0.4445\n",
      "Epoch 103/200\n",
      "\u001b[1m20/20\u001b[0m \u001b[32m━━━━━━━━━━━━━━━━━━━━\u001b[0m\u001b[37m\u001b[0m \u001b[1m0s\u001b[0m 6ms/step - accuracy: 0.7795 - loss: 0.4539 - val_accuracy: 0.7857 - val_loss: 0.4437\n",
      "Epoch 104/200\n",
      "\u001b[1m20/20\u001b[0m \u001b[32m━━━━━━━━━━━━━━━━━━━━\u001b[0m\u001b[37m\u001b[0m \u001b[1m0s\u001b[0m 6ms/step - accuracy: 0.7883 - loss: 0.4238 - val_accuracy: 0.7857 - val_loss: 0.4430\n",
      "Epoch 105/200\n",
      "\u001b[1m20/20\u001b[0m \u001b[32m━━━━━━━━━━━━━━━━━━━━\u001b[0m\u001b[37m\u001b[0m \u001b[1m0s\u001b[0m 6ms/step - accuracy: 0.7998 - loss: 0.4299 - val_accuracy: 0.7792 - val_loss: 0.4444\n",
      "Epoch 106/200\n",
      "\u001b[1m20/20\u001b[0m \u001b[32m━━━━━━━━━━━━━━━━━━━━\u001b[0m\u001b[37m\u001b[0m \u001b[1m0s\u001b[0m 7ms/step - accuracy: 0.7992 - loss: 0.4097 - val_accuracy: 0.7922 - val_loss: 0.4421\n",
      "Epoch 107/200\n",
      "\u001b[1m20/20\u001b[0m \u001b[32m━━━━━━━━━━━━━━━━━━━━\u001b[0m\u001b[37m\u001b[0m \u001b[1m0s\u001b[0m 6ms/step - accuracy: 0.8105 - loss: 0.4225 - val_accuracy: 0.7987 - val_loss: 0.4402\n",
      "Epoch 108/200\n",
      "\u001b[1m20/20\u001b[0m \u001b[32m━━━━━━━━━━━━━━━━━━━━\u001b[0m\u001b[37m\u001b[0m \u001b[1m0s\u001b[0m 7ms/step - accuracy: 0.7904 - loss: 0.4185 - val_accuracy: 0.7987 - val_loss: 0.4410\n",
      "Epoch 109/200\n",
      "\u001b[1m20/20\u001b[0m \u001b[32m━━━━━━━━━━━━━━━━━━━━\u001b[0m\u001b[37m\u001b[0m \u001b[1m0s\u001b[0m 7ms/step - accuracy: 0.7985 - loss: 0.4342 - val_accuracy: 0.7922 - val_loss: 0.4410\n",
      "Epoch 110/200\n",
      "\u001b[1m20/20\u001b[0m \u001b[32m━━━━━━━━━━━━━━━━━━━━\u001b[0m\u001b[37m\u001b[0m \u001b[1m0s\u001b[0m 6ms/step - accuracy: 0.8173 - loss: 0.4118 - val_accuracy: 0.7857 - val_loss: 0.4422\n",
      "Epoch 111/200\n",
      "\u001b[1m20/20\u001b[0m \u001b[32m━━━━━━━━━━━━━━━━━━━━\u001b[0m\u001b[37m\u001b[0m \u001b[1m0s\u001b[0m 6ms/step - accuracy: 0.8118 - loss: 0.4418 - val_accuracy: 0.7857 - val_loss: 0.4437\n",
      "Epoch 112/200\n",
      "\u001b[1m20/20\u001b[0m \u001b[32m━━━━━━━━━━━━━━━━━━━━\u001b[0m\u001b[37m\u001b[0m \u001b[1m0s\u001b[0m 6ms/step - accuracy: 0.7963 - loss: 0.4334 - val_accuracy: 0.7922 - val_loss: 0.4435\n",
      "Epoch 113/200\n",
      "\u001b[1m20/20\u001b[0m \u001b[32m━━━━━━━━━━━━━━━━━━━━\u001b[0m\u001b[37m\u001b[0m \u001b[1m0s\u001b[0m 7ms/step - accuracy: 0.7741 - loss: 0.4381 - val_accuracy: 0.7792 - val_loss: 0.4427\n",
      "Epoch 114/200\n",
      "\u001b[1m20/20\u001b[0m \u001b[32m━━━━━━━━━━━━━━━━━━━━\u001b[0m\u001b[37m\u001b[0m \u001b[1m0s\u001b[0m 7ms/step - accuracy: 0.8097 - loss: 0.3927 - val_accuracy: 0.7857 - val_loss: 0.4429\n",
      "Epoch 115/200\n",
      "\u001b[1m20/20\u001b[0m \u001b[32m━━━━━━━━━━━━━━━━━━━━\u001b[0m\u001b[37m\u001b[0m \u001b[1m0s\u001b[0m 6ms/step - accuracy: 0.8119 - loss: 0.4220 - val_accuracy: 0.7857 - val_loss: 0.4426\n",
      "Epoch 116/200\n",
      "\u001b[1m20/20\u001b[0m \u001b[32m━━━━━━━━━━━━━━━━━━━━\u001b[0m\u001b[37m\u001b[0m \u001b[1m0s\u001b[0m 7ms/step - accuracy: 0.8114 - loss: 0.4116 - val_accuracy: 0.7922 - val_loss: 0.4425\n",
      "Epoch 117/200\n",
      "\u001b[1m20/20\u001b[0m \u001b[32m━━━━━━━━━━━━━━━━━━━━\u001b[0m\u001b[37m\u001b[0m \u001b[1m0s\u001b[0m 7ms/step - accuracy: 0.8155 - loss: 0.4077 - val_accuracy: 0.7922 - val_loss: 0.4432\n",
      "Epoch 118/200\n",
      "\u001b[1m20/20\u001b[0m \u001b[32m━━━━━━━━━━━━━━━━━━━━\u001b[0m\u001b[37m\u001b[0m \u001b[1m0s\u001b[0m 8ms/step - accuracy: 0.7993 - loss: 0.4335 - val_accuracy: 0.7857 - val_loss: 0.4428\n",
      "Epoch 119/200\n",
      "\u001b[1m20/20\u001b[0m \u001b[32m━━━━━━━━━━━━━━━━━━━━\u001b[0m\u001b[37m\u001b[0m \u001b[1m0s\u001b[0m 8ms/step - accuracy: 0.7970 - loss: 0.4185 - val_accuracy: 0.7857 - val_loss: 0.4417\n",
      "Epoch 120/200\n",
      "\u001b[1m20/20\u001b[0m \u001b[32m━━━━━━━━━━━━━━━━━━━━\u001b[0m\u001b[37m\u001b[0m \u001b[1m0s\u001b[0m 6ms/step - accuracy: 0.8127 - loss: 0.4094 - val_accuracy: 0.7857 - val_loss: 0.4418\n",
      "Epoch 121/200\n",
      "\u001b[1m20/20\u001b[0m \u001b[32m━━━━━━━━━━━━━━━━━━━━\u001b[0m\u001b[37m\u001b[0m \u001b[1m0s\u001b[0m 6ms/step - accuracy: 0.7801 - loss: 0.4446 - val_accuracy: 0.7922 - val_loss: 0.4411\n",
      "Epoch 122/200\n",
      "\u001b[1m20/20\u001b[0m \u001b[32m━━━━━━━━━━━━━━━━━━━━\u001b[0m\u001b[37m\u001b[0m \u001b[1m0s\u001b[0m 6ms/step - accuracy: 0.8036 - loss: 0.4001 - val_accuracy: 0.7857 - val_loss: 0.4417\n",
      "Epoch 123/200\n",
      "\u001b[1m20/20\u001b[0m \u001b[32m━━━━━━━━━━━━━━━━━━━━\u001b[0m\u001b[37m\u001b[0m \u001b[1m0s\u001b[0m 6ms/step - accuracy: 0.8146 - loss: 0.4217 - val_accuracy: 0.7857 - val_loss: 0.4418\n",
      "Epoch 124/200\n",
      "\u001b[1m20/20\u001b[0m \u001b[32m━━━━━━━━━━━━━━━━━━━━\u001b[0m\u001b[37m\u001b[0m \u001b[1m0s\u001b[0m 7ms/step - accuracy: 0.8220 - loss: 0.3943 - val_accuracy: 0.7792 - val_loss: 0.4422\n",
      "Epoch 125/200\n",
      "\u001b[1m20/20\u001b[0m \u001b[32m━━━━━━━━━━━━━━━━━━━━\u001b[0m\u001b[37m\u001b[0m \u001b[1m0s\u001b[0m 10ms/step - accuracy: 0.8122 - loss: 0.4366 - val_accuracy: 0.7987 - val_loss: 0.4414\n",
      "Epoch 126/200\n",
      "\u001b[1m20/20\u001b[0m \u001b[32m━━━━━━━━━━━━━━━━━━━━\u001b[0m\u001b[37m\u001b[0m \u001b[1m0s\u001b[0m 6ms/step - accuracy: 0.8160 - loss: 0.3943 - val_accuracy: 0.7792 - val_loss: 0.4415\n",
      "Epoch 127/200\n",
      "\u001b[1m20/20\u001b[0m \u001b[32m━━━━━━━━━━━━━━━━━━━━\u001b[0m\u001b[37m\u001b[0m \u001b[1m0s\u001b[0m 7ms/step - accuracy: 0.8192 - loss: 0.4050 - val_accuracy: 0.7792 - val_loss: 0.4425\n",
      "Epoch 128/200\n",
      "\u001b[1m20/20\u001b[0m \u001b[32m━━━━━━━━━━━━━━━━━━━━\u001b[0m\u001b[37m\u001b[0m \u001b[1m0s\u001b[0m 7ms/step - accuracy: 0.8188 - loss: 0.4191 - val_accuracy: 0.7987 - val_loss: 0.4413\n",
      "Epoch 129/200\n",
      "\u001b[1m20/20\u001b[0m \u001b[32m━━━━━━━━━━━━━━━━━━━━\u001b[0m\u001b[37m\u001b[0m \u001b[1m0s\u001b[0m 6ms/step - accuracy: 0.7996 - loss: 0.4335 - val_accuracy: 0.7792 - val_loss: 0.4432\n",
      "Epoch 130/200\n",
      "\u001b[1m20/20\u001b[0m \u001b[32m━━━━━━━━━━━━━━━━━━━━\u001b[0m\u001b[37m\u001b[0m \u001b[1m0s\u001b[0m 6ms/step - accuracy: 0.7927 - loss: 0.4112 - val_accuracy: 0.7792 - val_loss: 0.4431\n",
      "Epoch 131/200\n",
      "\u001b[1m20/20\u001b[0m \u001b[32m━━━━━━━━━━━━━━━━━━━━\u001b[0m\u001b[37m\u001b[0m \u001b[1m0s\u001b[0m 9ms/step - accuracy: 0.8008 - loss: 0.4206 - val_accuracy: 0.7857 - val_loss: 0.4416\n",
      "Epoch 132/200\n",
      "\u001b[1m20/20\u001b[0m \u001b[32m━━━━━━━━━━━━━━━━━━━━\u001b[0m\u001b[37m\u001b[0m \u001b[1m0s\u001b[0m 6ms/step - accuracy: 0.7922 - loss: 0.4413 - val_accuracy: 0.7857 - val_loss: 0.4417\n",
      "Epoch 133/200\n",
      "\u001b[1m20/20\u001b[0m \u001b[32m━━━━━━━━━━━━━━━━━━━━\u001b[0m\u001b[37m\u001b[0m \u001b[1m0s\u001b[0m 6ms/step - accuracy: 0.8463 - loss: 0.3954 - val_accuracy: 0.7857 - val_loss: 0.4426\n",
      "Epoch 134/200\n",
      "\u001b[1m20/20\u001b[0m \u001b[32m━━━━━━━━━━━━━━━━━━━━\u001b[0m\u001b[37m\u001b[0m \u001b[1m0s\u001b[0m 6ms/step - accuracy: 0.8073 - loss: 0.4316 - val_accuracy: 0.7792 - val_loss: 0.4442\n",
      "Epoch 135/200\n",
      "\u001b[1m20/20\u001b[0m \u001b[32m━━━━━━━━━━━━━━━━━━━━\u001b[0m\u001b[37m\u001b[0m \u001b[1m0s\u001b[0m 6ms/step - accuracy: 0.8058 - loss: 0.4068 - val_accuracy: 0.7792 - val_loss: 0.4439\n",
      "Epoch 136/200\n",
      "\u001b[1m20/20\u001b[0m \u001b[32m━━━━━━━━━━━━━━━━━━━━\u001b[0m\u001b[37m\u001b[0m \u001b[1m0s\u001b[0m 7ms/step - accuracy: 0.7844 - loss: 0.4391 - val_accuracy: 0.7792 - val_loss: 0.4429\n",
      "Epoch 137/200\n",
      "\u001b[1m20/20\u001b[0m \u001b[32m━━━━━━━━━━━━━━━━━━━━\u001b[0m\u001b[37m\u001b[0m \u001b[1m0s\u001b[0m 6ms/step - accuracy: 0.8246 - loss: 0.4121 - val_accuracy: 0.7792 - val_loss: 0.4454\n",
      "Epoch 138/200\n",
      "\u001b[1m20/20\u001b[0m \u001b[32m━━━━━━━━━━━━━━━━━━━━\u001b[0m\u001b[37m\u001b[0m \u001b[1m0s\u001b[0m 6ms/step - accuracy: 0.8128 - loss: 0.3977 - val_accuracy: 0.7792 - val_loss: 0.4432\n",
      "Epoch 139/200\n",
      "\u001b[1m20/20\u001b[0m \u001b[32m━━━━━━━━━━━━━━━━━━━━\u001b[0m\u001b[37m\u001b[0m \u001b[1m0s\u001b[0m 6ms/step - accuracy: 0.8333 - loss: 0.3911 - val_accuracy: 0.7792 - val_loss: 0.4442\n",
      "Epoch 140/200\n",
      "\u001b[1m20/20\u001b[0m \u001b[32m━━━━━━━━━━━━━━━━━━━━\u001b[0m\u001b[37m\u001b[0m \u001b[1m0s\u001b[0m 6ms/step - accuracy: 0.8158 - loss: 0.4071 - val_accuracy: 0.7792 - val_loss: 0.4438\n",
      "Epoch 141/200\n",
      "\u001b[1m20/20\u001b[0m \u001b[32m━━━━━━━━━━━━━━━━━━━━\u001b[0m\u001b[37m\u001b[0m \u001b[1m0s\u001b[0m 8ms/step - accuracy: 0.7999 - loss: 0.4136 - val_accuracy: 0.7857 - val_loss: 0.4443\n",
      "Epoch 142/200\n",
      "\u001b[1m20/20\u001b[0m \u001b[32m━━━━━━━━━━━━━━━━━━━━\u001b[0m\u001b[37m\u001b[0m \u001b[1m0s\u001b[0m 6ms/step - accuracy: 0.8134 - loss: 0.4026 - val_accuracy: 0.7857 - val_loss: 0.4414\n",
      "Epoch 143/200\n",
      "\u001b[1m20/20\u001b[0m \u001b[32m━━━━━━━━━━━━━━━━━━━━\u001b[0m\u001b[37m\u001b[0m \u001b[1m0s\u001b[0m 6ms/step - accuracy: 0.8147 - loss: 0.4030 - val_accuracy: 0.7857 - val_loss: 0.4422\n",
      "Epoch 144/200\n",
      "\u001b[1m20/20\u001b[0m \u001b[32m━━━━━━━━━━━━━━━━━━━━\u001b[0m\u001b[37m\u001b[0m \u001b[1m0s\u001b[0m 6ms/step - accuracy: 0.8085 - loss: 0.4089 - val_accuracy: 0.7857 - val_loss: 0.4413\n",
      "Epoch 145/200\n",
      "\u001b[1m20/20\u001b[0m \u001b[32m━━━━━━━━━━━━━━━━━━━━\u001b[0m\u001b[37m\u001b[0m \u001b[1m0s\u001b[0m 7ms/step - accuracy: 0.8195 - loss: 0.3984 - val_accuracy: 0.7857 - val_loss: 0.4401\n",
      "Epoch 146/200\n",
      "\u001b[1m20/20\u001b[0m \u001b[32m━━━━━━━━━━━━━━━━━━━━\u001b[0m\u001b[37m\u001b[0m \u001b[1m0s\u001b[0m 6ms/step - accuracy: 0.8105 - loss: 0.3984 - val_accuracy: 0.7857 - val_loss: 0.4397\n",
      "Epoch 147/200\n",
      "\u001b[1m20/20\u001b[0m \u001b[32m━━━━━━━━━━━━━━━━━━━━\u001b[0m\u001b[37m\u001b[0m \u001b[1m0s\u001b[0m 6ms/step - accuracy: 0.8242 - loss: 0.3834 - val_accuracy: 0.7857 - val_loss: 0.4392\n",
      "Epoch 148/200\n",
      "\u001b[1m20/20\u001b[0m \u001b[32m━━━━━━━━━━━━━━━━━━━━\u001b[0m\u001b[37m\u001b[0m \u001b[1m0s\u001b[0m 7ms/step - accuracy: 0.8377 - loss: 0.3949 - val_accuracy: 0.7857 - val_loss: 0.4397\n",
      "Epoch 149/200\n",
      "\u001b[1m20/20\u001b[0m \u001b[32m━━━━━━━━━━━━━━━━━━━━\u001b[0m\u001b[37m\u001b[0m \u001b[1m0s\u001b[0m 6ms/step - accuracy: 0.8068 - loss: 0.4225 - val_accuracy: 0.7857 - val_loss: 0.4393\n",
      "Epoch 150/200\n",
      "\u001b[1m20/20\u001b[0m \u001b[32m━━━━━━━━━━━━━━━━━━━━\u001b[0m\u001b[37m\u001b[0m \u001b[1m0s\u001b[0m 6ms/step - accuracy: 0.8184 - loss: 0.4063 - val_accuracy: 0.7857 - val_loss: 0.4407\n",
      "Epoch 151/200\n",
      "\u001b[1m20/20\u001b[0m \u001b[32m━━━━━━━━━━━━━━━━━━━━\u001b[0m\u001b[37m\u001b[0m \u001b[1m0s\u001b[0m 8ms/step - accuracy: 0.8081 - loss: 0.4244 - val_accuracy: 0.7792 - val_loss: 0.4415\n",
      "Epoch 152/200\n",
      "\u001b[1m20/20\u001b[0m \u001b[32m━━━━━━━━━━━━━━━━━━━━\u001b[0m\u001b[37m\u001b[0m \u001b[1m0s\u001b[0m 8ms/step - accuracy: 0.8323 - loss: 0.3967 - val_accuracy: 0.7727 - val_loss: 0.4429\n",
      "Epoch 153/200\n",
      "\u001b[1m20/20\u001b[0m \u001b[32m━━━━━━━━━━━━━━━━━━━━\u001b[0m\u001b[37m\u001b[0m \u001b[1m0s\u001b[0m 7ms/step - accuracy: 0.8208 - loss: 0.4106 - val_accuracy: 0.7792 - val_loss: 0.4418\n",
      "Epoch 154/200\n",
      "\u001b[1m20/20\u001b[0m \u001b[32m━━━━━━━━━━━━━━━━━━━━\u001b[0m\u001b[37m\u001b[0m \u001b[1m0s\u001b[0m 7ms/step - accuracy: 0.8042 - loss: 0.4187 - val_accuracy: 0.7792 - val_loss: 0.4414\n",
      "Epoch 155/200\n",
      "\u001b[1m20/20\u001b[0m \u001b[32m━━━━━━━━━━━━━━━━━━━━\u001b[0m\u001b[37m\u001b[0m \u001b[1m0s\u001b[0m 6ms/step - accuracy: 0.8038 - loss: 0.4189 - val_accuracy: 0.7857 - val_loss: 0.4409\n",
      "Epoch 156/200\n",
      "\u001b[1m20/20\u001b[0m \u001b[32m━━━━━━━━━━━━━━━━━━━━\u001b[0m\u001b[37m\u001b[0m \u001b[1m0s\u001b[0m 10ms/step - accuracy: 0.8281 - loss: 0.3927 - val_accuracy: 0.7857 - val_loss: 0.4416\n",
      "Epoch 157/200\n",
      "\u001b[1m20/20\u001b[0m \u001b[32m━━━━━━━━━━━━━━━━━━━━\u001b[0m\u001b[37m\u001b[0m \u001b[1m0s\u001b[0m 8ms/step - accuracy: 0.8293 - loss: 0.3735 - val_accuracy: 0.7857 - val_loss: 0.4415\n",
      "Epoch 158/200\n",
      "\u001b[1m20/20\u001b[0m \u001b[32m━━━━━━━━━━━━━━━━━━━━\u001b[0m\u001b[37m\u001b[0m \u001b[1m0s\u001b[0m 8ms/step - accuracy: 0.7990 - loss: 0.4241 - val_accuracy: 0.7792 - val_loss: 0.4419\n",
      "Epoch 159/200\n",
      "\u001b[1m20/20\u001b[0m \u001b[32m━━━━━━━━━━━━━━━━━━━━\u001b[0m\u001b[37m\u001b[0m \u001b[1m0s\u001b[0m 8ms/step - accuracy: 0.8021 - loss: 0.4124 - val_accuracy: 0.7857 - val_loss: 0.4416\n",
      "Epoch 160/200\n",
      "\u001b[1m20/20\u001b[0m \u001b[32m━━━━━━━━━━━━━━━━━━━━\u001b[0m\u001b[37m\u001b[0m \u001b[1m0s\u001b[0m 8ms/step - accuracy: 0.8458 - loss: 0.3650 - val_accuracy: 0.7792 - val_loss: 0.4411\n",
      "Epoch 161/200\n",
      "\u001b[1m20/20\u001b[0m \u001b[32m━━━━━━━━━━━━━━━━━━━━\u001b[0m\u001b[37m\u001b[0m \u001b[1m0s\u001b[0m 6ms/step - accuracy: 0.8463 - loss: 0.3748 - val_accuracy: 0.7857 - val_loss: 0.4399\n",
      "Epoch 162/200\n",
      "\u001b[1m20/20\u001b[0m \u001b[32m━━━━━━━━━━━━━━━━━━━━\u001b[0m\u001b[37m\u001b[0m \u001b[1m0s\u001b[0m 8ms/step - accuracy: 0.8339 - loss: 0.3834 - val_accuracy: 0.7922 - val_loss: 0.4405\n",
      "Epoch 163/200\n",
      "\u001b[1m20/20\u001b[0m \u001b[32m━━━━━━━━━━━━━━━━━━━━\u001b[0m\u001b[37m\u001b[0m \u001b[1m0s\u001b[0m 6ms/step - accuracy: 0.8053 - loss: 0.4308 - val_accuracy: 0.7792 - val_loss: 0.4415\n",
      "Epoch 164/200\n",
      "\u001b[1m20/20\u001b[0m \u001b[32m━━━━━━━━━━━━━━━━━━━━\u001b[0m\u001b[37m\u001b[0m \u001b[1m0s\u001b[0m 6ms/step - accuracy: 0.8223 - loss: 0.3966 - val_accuracy: 0.7727 - val_loss: 0.4412\n",
      "Epoch 165/200\n",
      "\u001b[1m20/20\u001b[0m \u001b[32m━━━━━━━━━━━━━━━━━━━━\u001b[0m\u001b[37m\u001b[0m \u001b[1m0s\u001b[0m 6ms/step - accuracy: 0.8537 - loss: 0.3571 - val_accuracy: 0.7727 - val_loss: 0.4437\n",
      "Epoch 166/200\n",
      "\u001b[1m20/20\u001b[0m \u001b[32m━━━━━━━━━━━━━━━━━━━━\u001b[0m\u001b[37m\u001b[0m \u001b[1m0s\u001b[0m 7ms/step - accuracy: 0.8188 - loss: 0.4107 - val_accuracy: 0.7792 - val_loss: 0.4421\n",
      "Epoch 167/200\n",
      "\u001b[1m20/20\u001b[0m \u001b[32m━━━━━━━━━━━━━━━━━━━━\u001b[0m\u001b[37m\u001b[0m \u001b[1m0s\u001b[0m 11ms/step - accuracy: 0.8316 - loss: 0.3793 - val_accuracy: 0.7857 - val_loss: 0.4427\n",
      "Epoch 168/200\n",
      "\u001b[1m20/20\u001b[0m \u001b[32m━━━━━━━━━━━━━━━━━━━━\u001b[0m\u001b[37m\u001b[0m \u001b[1m0s\u001b[0m 8ms/step - accuracy: 0.8479 - loss: 0.3804 - val_accuracy: 0.7792 - val_loss: 0.4428\n",
      "Epoch 169/200\n",
      "\u001b[1m20/20\u001b[0m \u001b[32m━━━━━━━━━━━━━━━━━━━━\u001b[0m\u001b[37m\u001b[0m \u001b[1m0s\u001b[0m 8ms/step - accuracy: 0.8263 - loss: 0.3991 - val_accuracy: 0.7792 - val_loss: 0.4422\n",
      "Epoch 170/200\n",
      "\u001b[1m20/20\u001b[0m \u001b[32m━━━━━━━━━━━━━━━━━━━━\u001b[0m\u001b[37m\u001b[0m \u001b[1m0s\u001b[0m 8ms/step - accuracy: 0.8276 - loss: 0.4017 - val_accuracy: 0.7792 - val_loss: 0.4433\n",
      "Epoch 171/200\n",
      "\u001b[1m20/20\u001b[0m \u001b[32m━━━━━━━━━━━━━━━━━━━━\u001b[0m\u001b[37m\u001b[0m \u001b[1m0s\u001b[0m 7ms/step - accuracy: 0.8340 - loss: 0.4095 - val_accuracy: 0.7792 - val_loss: 0.4432\n",
      "Epoch 172/200\n",
      "\u001b[1m20/20\u001b[0m \u001b[32m━━━━━━━━━━━━━━━━━━━━\u001b[0m\u001b[37m\u001b[0m \u001b[1m0s\u001b[0m 6ms/step - accuracy: 0.8148 - loss: 0.4049 - val_accuracy: 0.7792 - val_loss: 0.4444\n",
      "Epoch 173/200\n",
      "\u001b[1m20/20\u001b[0m \u001b[32m━━━━━━━━━━━━━━━━━━━━\u001b[0m\u001b[37m\u001b[0m \u001b[1m0s\u001b[0m 6ms/step - accuracy: 0.8250 - loss: 0.3911 - val_accuracy: 0.7792 - val_loss: 0.4443\n",
      "Epoch 174/200\n",
      "\u001b[1m20/20\u001b[0m \u001b[32m━━━━━━━━━━━━━━━━━━━━\u001b[0m\u001b[37m\u001b[0m \u001b[1m0s\u001b[0m 7ms/step - accuracy: 0.8429 - loss: 0.3959 - val_accuracy: 0.7792 - val_loss: 0.4433\n",
      "Epoch 175/200\n",
      "\u001b[1m20/20\u001b[0m \u001b[32m━━━━━━━━━━━━━━━━━━━━\u001b[0m\u001b[37m\u001b[0m \u001b[1m0s\u001b[0m 11ms/step - accuracy: 0.8249 - loss: 0.3901 - val_accuracy: 0.7857 - val_loss: 0.4411\n",
      "Epoch 176/200\n",
      "\u001b[1m20/20\u001b[0m \u001b[32m━━━━━━━━━━━━━━━━━━━━\u001b[0m\u001b[37m\u001b[0m \u001b[1m0s\u001b[0m 7ms/step - accuracy: 0.8084 - loss: 0.4376 - val_accuracy: 0.7857 - val_loss: 0.4404\n",
      "Epoch 177/200\n",
      "\u001b[1m20/20\u001b[0m \u001b[32m━━━━━━━━━━━━━━━━━━━━\u001b[0m\u001b[37m\u001b[0m \u001b[1m0s\u001b[0m 8ms/step - accuracy: 0.8237 - loss: 0.4090 - val_accuracy: 0.7857 - val_loss: 0.4401\n",
      "Epoch 178/200\n",
      "\u001b[1m20/20\u001b[0m \u001b[32m━━━━━━━━━━━━━━━━━━━━\u001b[0m\u001b[37m\u001b[0m \u001b[1m0s\u001b[0m 7ms/step - accuracy: 0.8238 - loss: 0.3966 - val_accuracy: 0.7727 - val_loss: 0.4419\n",
      "Epoch 179/200\n",
      "\u001b[1m20/20\u001b[0m \u001b[32m━━━━━━━━━━━━━━━━━━━━\u001b[0m\u001b[37m\u001b[0m \u001b[1m0s\u001b[0m 7ms/step - accuracy: 0.8272 - loss: 0.4091 - val_accuracy: 0.7857 - val_loss: 0.4424\n",
      "Epoch 180/200\n",
      "\u001b[1m20/20\u001b[0m \u001b[32m━━━━━━━━━━━━━━━━━━━━\u001b[0m\u001b[37m\u001b[0m \u001b[1m0s\u001b[0m 7ms/step - accuracy: 0.8280 - loss: 0.3874 - val_accuracy: 0.7792 - val_loss: 0.4422\n",
      "Epoch 181/200\n",
      "\u001b[1m20/20\u001b[0m \u001b[32m━━━━━━━━━━━━━━━━━━━━\u001b[0m\u001b[37m\u001b[0m \u001b[1m0s\u001b[0m 7ms/step - accuracy: 0.8175 - loss: 0.4145 - val_accuracy: 0.7857 - val_loss: 0.4419\n",
      "Epoch 182/200\n",
      "\u001b[1m20/20\u001b[0m \u001b[32m━━━━━━━━━━━━━━━━━━━━\u001b[0m\u001b[37m\u001b[0m \u001b[1m0s\u001b[0m 7ms/step - accuracy: 0.8412 - loss: 0.3922 - val_accuracy: 0.7857 - val_loss: 0.4417\n",
      "Epoch 183/200\n",
      "\u001b[1m20/20\u001b[0m \u001b[32m━━━━━━━━━━━━━━━━━━━━\u001b[0m\u001b[37m\u001b[0m \u001b[1m0s\u001b[0m 7ms/step - accuracy: 0.8197 - loss: 0.3951 - val_accuracy: 0.7792 - val_loss: 0.4409\n",
      "Epoch 184/200\n",
      "\u001b[1m20/20\u001b[0m \u001b[32m━━━━━━━━━━━━━━━━━━━━\u001b[0m\u001b[37m\u001b[0m \u001b[1m0s\u001b[0m 7ms/step - accuracy: 0.8296 - loss: 0.3859 - val_accuracy: 0.7727 - val_loss: 0.4408\n",
      "Epoch 185/200\n",
      "\u001b[1m20/20\u001b[0m \u001b[32m━━━━━━━━━━━━━━━━━━━━\u001b[0m\u001b[37m\u001b[0m \u001b[1m0s\u001b[0m 7ms/step - accuracy: 0.8081 - loss: 0.4173 - val_accuracy: 0.7792 - val_loss: 0.4403\n",
      "Epoch 186/200\n",
      "\u001b[1m20/20\u001b[0m \u001b[32m━━━━━━━━━━━━━━━━━━━━\u001b[0m\u001b[37m\u001b[0m \u001b[1m0s\u001b[0m 6ms/step - accuracy: 0.8274 - loss: 0.3751 - val_accuracy: 0.7792 - val_loss: 0.4409\n",
      "Epoch 187/200\n",
      "\u001b[1m20/20\u001b[0m \u001b[32m━━━━━━━━━━━━━━━━━━━━\u001b[0m\u001b[37m\u001b[0m \u001b[1m0s\u001b[0m 9ms/step - accuracy: 0.7887 - loss: 0.4306 - val_accuracy: 0.7727 - val_loss: 0.4436\n",
      "Epoch 188/200\n",
      "\u001b[1m20/20\u001b[0m \u001b[32m━━━━━━━━━━━━━━━━━━━━\u001b[0m\u001b[37m\u001b[0m \u001b[1m0s\u001b[0m 6ms/step - accuracy: 0.8005 - loss: 0.4118 - val_accuracy: 0.7857 - val_loss: 0.4410\n",
      "Epoch 189/200\n",
      "\u001b[1m20/20\u001b[0m \u001b[32m━━━━━━━━━━━━━━━━━━━━\u001b[0m\u001b[37m\u001b[0m \u001b[1m0s\u001b[0m 8ms/step - accuracy: 0.8295 - loss: 0.3923 - val_accuracy: 0.7857 - val_loss: 0.4429\n",
      "Epoch 190/200\n",
      "\u001b[1m20/20\u001b[0m \u001b[32m━━━━━━━━━━━━━━━━━━━━\u001b[0m\u001b[37m\u001b[0m \u001b[1m0s\u001b[0m 7ms/step - accuracy: 0.8081 - loss: 0.4298 - val_accuracy: 0.7792 - val_loss: 0.4441\n",
      "Epoch 191/200\n",
      "\u001b[1m20/20\u001b[0m \u001b[32m━━━━━━━━━━━━━━━━━━━━\u001b[0m\u001b[37m\u001b[0m \u001b[1m0s\u001b[0m 7ms/step - accuracy: 0.7954 - loss: 0.4304 - val_accuracy: 0.7922 - val_loss: 0.4430\n",
      "Epoch 192/200\n",
      "\u001b[1m20/20\u001b[0m \u001b[32m━━━━━━━━━━━━━━━━━━━━\u001b[0m\u001b[37m\u001b[0m \u001b[1m0s\u001b[0m 10ms/step - accuracy: 0.8212 - loss: 0.4089 - val_accuracy: 0.7792 - val_loss: 0.4410\n",
      "Epoch 193/200\n",
      "\u001b[1m20/20\u001b[0m \u001b[32m━━━━━━━━━━━━━━━━━━━━\u001b[0m\u001b[37m\u001b[0m \u001b[1m0s\u001b[0m 10ms/step - accuracy: 0.8275 - loss: 0.3857 - val_accuracy: 0.7857 - val_loss: 0.4401\n",
      "Epoch 194/200\n",
      "\u001b[1m20/20\u001b[0m \u001b[32m━━━━━━━━━━━━━━━━━━━━\u001b[0m\u001b[37m\u001b[0m \u001b[1m0s\u001b[0m 11ms/step - accuracy: 0.8159 - loss: 0.4185 - val_accuracy: 0.7857 - val_loss: 0.4422\n",
      "Epoch 195/200\n",
      "\u001b[1m20/20\u001b[0m \u001b[32m━━━━━━━━━━━━━━━━━━━━\u001b[0m\u001b[37m\u001b[0m \u001b[1m0s\u001b[0m 12ms/step - accuracy: 0.8267 - loss: 0.3830 - val_accuracy: 0.7857 - val_loss: 0.4414\n",
      "Epoch 196/200\n",
      "\u001b[1m20/20\u001b[0m \u001b[32m━━━━━━━━━━━━━━━━━━━━\u001b[0m\u001b[37m\u001b[0m \u001b[1m0s\u001b[0m 9ms/step - accuracy: 0.8260 - loss: 0.3875 - val_accuracy: 0.7792 - val_loss: 0.4426\n",
      "Epoch 197/200\n",
      "\u001b[1m20/20\u001b[0m \u001b[32m━━━━━━━━━━━━━━━━━━━━\u001b[0m\u001b[37m\u001b[0m \u001b[1m0s\u001b[0m 6ms/step - accuracy: 0.7994 - loss: 0.4267 - val_accuracy: 0.7857 - val_loss: 0.4413\n",
      "Epoch 198/200\n",
      "\u001b[1m20/20\u001b[0m \u001b[32m━━━━━━━━━━━━━━━━━━━━\u001b[0m\u001b[37m\u001b[0m \u001b[1m0s\u001b[0m 8ms/step - accuracy: 0.7950 - loss: 0.4290 - val_accuracy: 0.7922 - val_loss: 0.4396\n",
      "Epoch 199/200\n",
      "\u001b[1m20/20\u001b[0m \u001b[32m━━━━━━━━━━━━━━━━━━━━\u001b[0m\u001b[37m\u001b[0m \u001b[1m0s\u001b[0m 7ms/step - accuracy: 0.8231 - loss: 0.3880 - val_accuracy: 0.7922 - val_loss: 0.4402\n",
      "Epoch 200/200\n",
      "\u001b[1m20/20\u001b[0m \u001b[32m━━━━━━━━━━━━━━━━━━━━\u001b[0m\u001b[37m\u001b[0m \u001b[1m0s\u001b[0m 9ms/step - accuracy: 0.8137 - loss: 0.3996 - val_accuracy: 0.7857 - val_loss: 0.4407\n"
     ]
    }
   ],
   "source": [
    "model.compile(loss='binary_crossentropy', optimizer='Adam', metrics=['accuracy'])\n",
    "history = model.fit(X_train, y_train, epochs=200, validation_data=(X_test,y_test))"
   ]
  },
  {
   "cell_type": "code",
   "execution_count": 187,
   "id": "66e5c5c6",
   "metadata": {},
   "outputs": [
    {
     "data": {
      "image/png": "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\n",
      "text/plain": [
       "<Figure size 864x360 with 1 Axes>"
      ]
     },
     "metadata": {
      "needs_background": "light"
     },
     "output_type": "display_data"
    }
   ],
   "source": [
    "# Loss--\n",
    "plt.figure(figsize=(12,5))\n",
    "plt.plot(history.history['loss'], label='Loss')\n",
    "plt.plot(history.history['val_loss'], label='Val_Loss')\n",
    "plt.title('Validation and Training Loss ')\n",
    "plt.xlabel('Epochs')\n",
    "plt.ylabel('Loss')\n",
    "plt.legend()\n",
    "plt.show()\n",
    "\n"
   ]
  },
  {
   "cell_type": "code",
   "execution_count": 189,
   "id": "157cf450",
   "metadata": {},
   "outputs": [
    {
     "data": {
      "image/png": "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\n",
      "text/plain": [
       "<Figure size 864x360 with 1 Axes>"
      ]
     },
     "metadata": {
      "needs_background": "light"
     },
     "output_type": "display_data"
    }
   ],
   "source": [
    "# Accuracy--\n",
    "plt.figure(figsize=(12,5))\n",
    "plt.plot(history.history['accuracy'], label='Loss')\n",
    "plt.plot(history.history['val_accuracy'], label='Val_Loss')\n",
    "plt.title('Validation and Training Accuracy ')\n",
    "plt.xlabel('Epochs')\n",
    "plt.ylabel('Loss')\n",
    "plt.legend()\n",
    "plt.show()"
   ]
  },
  {
   "cell_type": "code",
   "execution_count": 190,
   "id": "95313ace",
   "metadata": {},
   "outputs": [],
   "source": [
    "#1. how to select best optimizer\n",
    "#2. no of nodes in per layer\n",
    "#3. number of layers"
   ]
  },
  {
   "cell_type": "code",
   "execution_count": 261,
   "id": "a13f41a9",
   "metadata": {},
   "outputs": [],
   "source": [
    "import keras_tuner as kt\n"
   ]
  },
  {
   "cell_type": "code",
   "execution_count": 262,
   "id": "7ac629a6",
   "metadata": {},
   "outputs": [],
   "source": [
    "# Best Optimizer\n",
    "def build_model(hp):\n",
    "    model = Sequential()\n",
    "    model.add(Dense(32, activation='relu', input_dim=8))\n",
    "    model.add(Dense(1, activation='sigmoid'))\n",
    "    optimizer = hp.Choice('optimizer', values=['adam', 'rmsprop', 'adadelta','sgd'])\n",
    "    model.compile(loss='binary_crossentropy', optimizer=optimizer, metrics=['accuracy'])\n",
    "    return model\n",
    "    \n",
    "    "
   ]
  },
  {
   "cell_type": "code",
   "execution_count": 263,
   "id": "912db321",
   "metadata": {},
   "outputs": [
    {
     "name": "stdout",
     "output_type": "stream",
     "text": [
      "Reloading Tuner from mydir\\best optimizer\\tuner0.json\n"
     ]
    }
   ],
   "source": [
    "tuner = kt.RandomSearch(build_model,\n",
    "                      objective='val_accuracy',\n",
    "                       max_trials=4,\n",
    "                       directory = 'mydir', # Specipy a particular Folder\n",
    "                       project_name='best optimizer')\n",
    "                        \n",
    "                    "
   ]
  },
  {
   "cell_type": "code",
   "execution_count": 264,
   "id": "6973cfa0",
   "metadata": {},
   "outputs": [],
   "source": [
    "# Search the Best Hyperparametrs(Optimizer)\n",
    "tuner.search(X_train, y_train, epochs=5, validation_data=(X_test, y_test))"
   ]
  },
  {
   "cell_type": "code",
   "execution_count": 265,
   "id": "128b7c58",
   "metadata": {},
   "outputs": [
    {
     "data": {
      "text/plain": [
       "{'optimizer': 'rmsprop'}"
      ]
     },
     "execution_count": 265,
     "metadata": {},
     "output_type": "execute_result"
    }
   ],
   "source": [
    "tuner.get_best_hyperparameters()[0].values"
   ]
  },
  {
   "cell_type": "code",
   "execution_count": 266,
   "id": "5b7010b3",
   "metadata": {},
   "outputs": [
    {
     "name": "stderr",
     "output_type": "stream",
     "text": [
      "C:\\Users\\Admin\\anaconda3\\lib\\site-packages\\keras\\src\\saving\\saving_lib.py:719: UserWarning: Skipping variable loading for optimizer 'rmsprop', because it has 2 variables whereas the saved optimizer has 6 variables. \n",
      "  saveable.load_own_variables(weights_store.get(inner_path))\n"
     ]
    }
   ],
   "source": [
    "                     # beacouse four models we are select best model \n",
    "model = tuner.get_best_models(num_models=1)[0]"
   ]
  },
  {
   "cell_type": "code",
   "execution_count": 267,
   "id": "808f71c9",
   "metadata": {},
   "outputs": [
    {
     "data": {
      "text/html": [
       "<pre style=\"white-space:pre;overflow-x:auto;line-height:normal;font-family:Menlo,'DejaVu Sans Mono',consolas,'Courier New',monospace\"><span style=\"font-weight: bold\">Model: \"sequential\"</span>\n",
       "</pre>\n"
      ],
      "text/plain": [
       "\u001b[1mModel: \"sequential\"\u001b[0m\n"
      ]
     },
     "metadata": {},
     "output_type": "display_data"
    },
    {
     "data": {
      "text/html": [
       "<pre style=\"white-space:pre;overflow-x:auto;line-height:normal;font-family:Menlo,'DejaVu Sans Mono',consolas,'Courier New',monospace\">┏━━━━━━━━━━━━━━━━━━━━━━━━━━━━━━━━━━━━━━┳━━━━━━━━━━━━━━━━━━━━━━━━━━━━━┳━━━━━━━━━━━━━━━━━┓\n",
       "┃<span style=\"font-weight: bold\"> Layer (type)                         </span>┃<span style=\"font-weight: bold\"> Output Shape                </span>┃<span style=\"font-weight: bold\">         Param # </span>┃\n",
       "┡━━━━━━━━━━━━━━━━━━━━━━━━━━━━━━━━━━━━━━╇━━━━━━━━━━━━━━━━━━━━━━━━━━━━━╇━━━━━━━━━━━━━━━━━┩\n",
       "│ dense (<span style=\"color: #0087ff; text-decoration-color: #0087ff\">Dense</span>)                        │ (<span style=\"color: #00d7ff; text-decoration-color: #00d7ff\">None</span>, <span style=\"color: #00af00; text-decoration-color: #00af00\">32</span>)                  │             <span style=\"color: #00af00; text-decoration-color: #00af00\">288</span> │\n",
       "├──────────────────────────────────────┼─────────────────────────────┼─────────────────┤\n",
       "│ dense_1 (<span style=\"color: #0087ff; text-decoration-color: #0087ff\">Dense</span>)                      │ (<span style=\"color: #00d7ff; text-decoration-color: #00d7ff\">None</span>, <span style=\"color: #00af00; text-decoration-color: #00af00\">1</span>)                   │              <span style=\"color: #00af00; text-decoration-color: #00af00\">33</span> │\n",
       "└──────────────────────────────────────┴─────────────────────────────┴─────────────────┘\n",
       "</pre>\n"
      ],
      "text/plain": [
       "┏━━━━━━━━━━━━━━━━━━━━━━━━━━━━━━━━━━━━━━┳━━━━━━━━━━━━━━━━━━━━━━━━━━━━━┳━━━━━━━━━━━━━━━━━┓\n",
       "┃\u001b[1m \u001b[0m\u001b[1mLayer (type)                        \u001b[0m\u001b[1m \u001b[0m┃\u001b[1m \u001b[0m\u001b[1mOutput Shape               \u001b[0m\u001b[1m \u001b[0m┃\u001b[1m \u001b[0m\u001b[1m        Param #\u001b[0m\u001b[1m \u001b[0m┃\n",
       "┡━━━━━━━━━━━━━━━━━━━━━━━━━━━━━━━━━━━━━━╇━━━━━━━━━━━━━━━━━━━━━━━━━━━━━╇━━━━━━━━━━━━━━━━━┩\n",
       "│ dense (\u001b[38;5;33mDense\u001b[0m)                        │ (\u001b[38;5;45mNone\u001b[0m, \u001b[38;5;34m32\u001b[0m)                  │             \u001b[38;5;34m288\u001b[0m │\n",
       "├──────────────────────────────────────┼─────────────────────────────┼─────────────────┤\n",
       "│ dense_1 (\u001b[38;5;33mDense\u001b[0m)                      │ (\u001b[38;5;45mNone\u001b[0m, \u001b[38;5;34m1\u001b[0m)                   │              \u001b[38;5;34m33\u001b[0m │\n",
       "└──────────────────────────────────────┴─────────────────────────────┴─────────────────┘\n"
      ]
     },
     "metadata": {},
     "output_type": "display_data"
    },
    {
     "data": {
      "text/html": [
       "<pre style=\"white-space:pre;overflow-x:auto;line-height:normal;font-family:Menlo,'DejaVu Sans Mono',consolas,'Courier New',monospace\"><span style=\"font-weight: bold\"> Total params: </span><span style=\"color: #00af00; text-decoration-color: #00af00\">321</span> (1.25 KB)\n",
       "</pre>\n"
      ],
      "text/plain": [
       "\u001b[1m Total params: \u001b[0m\u001b[38;5;34m321\u001b[0m (1.25 KB)\n"
      ]
     },
     "metadata": {},
     "output_type": "display_data"
    },
    {
     "data": {
      "text/html": [
       "<pre style=\"white-space:pre;overflow-x:auto;line-height:normal;font-family:Menlo,'DejaVu Sans Mono',consolas,'Courier New',monospace\"><span style=\"font-weight: bold\"> Trainable params: </span><span style=\"color: #00af00; text-decoration-color: #00af00\">321</span> (1.25 KB)\n",
       "</pre>\n"
      ],
      "text/plain": [
       "\u001b[1m Trainable params: \u001b[0m\u001b[38;5;34m321\u001b[0m (1.25 KB)\n"
      ]
     },
     "metadata": {},
     "output_type": "display_data"
    },
    {
     "data": {
      "text/html": [
       "<pre style=\"white-space:pre;overflow-x:auto;line-height:normal;font-family:Menlo,'DejaVu Sans Mono',consolas,'Courier New',monospace\"><span style=\"font-weight: bold\"> Non-trainable params: </span><span style=\"color: #00af00; text-decoration-color: #00af00\">0</span> (0.00 B)\n",
       "</pre>\n"
      ],
      "text/plain": [
       "\u001b[1m Non-trainable params: \u001b[0m\u001b[38;5;34m0\u001b[0m (0.00 B)\n"
      ]
     },
     "metadata": {},
     "output_type": "display_data"
    }
   ],
   "source": [
    "model.summary()"
   ]
  },
  {
   "cell_type": "code",
   "execution_count": 268,
   "id": "6bdab324",
   "metadata": {},
   "outputs": [
    {
     "name": "stdout",
     "output_type": "stream",
     "text": [
      "Epoch 7/200\n",
      "\u001b[1m20/20\u001b[0m \u001b[32m━━━━━━━━━━━━━━━━━━━━\u001b[0m\u001b[37m\u001b[0m \u001b[1m2s\u001b[0m 25ms/step - accuracy: 0.7568 - loss: 0.5135 - val_accuracy: 0.7857 - val_loss: 0.4879\n",
      "Epoch 8/200\n",
      "\u001b[1m20/20\u001b[0m \u001b[32m━━━━━━━━━━━━━━━━━━━━\u001b[0m\u001b[37m\u001b[0m \u001b[1m0s\u001b[0m 8ms/step - accuracy: 0.7663 - loss: 0.4950 - val_accuracy: 0.7857 - val_loss: 0.4782\n",
      "Epoch 9/200\n",
      "\u001b[1m20/20\u001b[0m \u001b[32m━━━━━━━━━━━━━━━━━━━━\u001b[0m\u001b[37m\u001b[0m \u001b[1m0s\u001b[0m 7ms/step - accuracy: 0.7555 - loss: 0.4841 - val_accuracy: 0.7857 - val_loss: 0.4715\n",
      "Epoch 10/200\n",
      "\u001b[1m20/20\u001b[0m \u001b[32m━━━━━━━━━━━━━━━━━━━━\u001b[0m\u001b[37m\u001b[0m \u001b[1m0s\u001b[0m 8ms/step - accuracy: 0.7792 - loss: 0.4765 - val_accuracy: 0.7857 - val_loss: 0.4658\n",
      "Epoch 11/200\n",
      "\u001b[1m20/20\u001b[0m \u001b[32m━━━━━━━━━━━━━━━━━━━━\u001b[0m\u001b[37m\u001b[0m \u001b[1m0s\u001b[0m 8ms/step - accuracy: 0.7885 - loss: 0.4663 - val_accuracy: 0.7922 - val_loss: 0.4627\n",
      "Epoch 12/200\n",
      "\u001b[1m20/20\u001b[0m \u001b[32m━━━━━━━━━━━━━━━━━━━━\u001b[0m\u001b[37m\u001b[0m \u001b[1m0s\u001b[0m 13ms/step - accuracy: 0.7831 - loss: 0.4699 - val_accuracy: 0.7922 - val_loss: 0.4605\n",
      "Epoch 13/200\n",
      "\u001b[1m20/20\u001b[0m \u001b[32m━━━━━━━━━━━━━━━━━━━━\u001b[0m\u001b[37m\u001b[0m \u001b[1m0s\u001b[0m 11ms/step - accuracy: 0.7704 - loss: 0.4860 - val_accuracy: 0.7922 - val_loss: 0.4580\n",
      "Epoch 14/200\n",
      "\u001b[1m20/20\u001b[0m \u001b[32m━━━━━━━━━━━━━━━━━━━━\u001b[0m\u001b[37m\u001b[0m \u001b[1m0s\u001b[0m 9ms/step - accuracy: 0.7736 - loss: 0.4853 - val_accuracy: 0.7857 - val_loss: 0.4567\n",
      "Epoch 15/200\n",
      "\u001b[1m20/20\u001b[0m \u001b[32m━━━━━━━━━━━━━━━━━━━━\u001b[0m\u001b[37m\u001b[0m \u001b[1m0s\u001b[0m 12ms/step - accuracy: 0.7745 - loss: 0.4835 - val_accuracy: 0.7857 - val_loss: 0.4551\n",
      "Epoch 16/200\n",
      "\u001b[1m20/20\u001b[0m \u001b[32m━━━━━━━━━━━━━━━━━━━━\u001b[0m\u001b[37m\u001b[0m \u001b[1m1s\u001b[0m 10ms/step - accuracy: 0.7984 - loss: 0.4586 - val_accuracy: 0.7857 - val_loss: 0.4543\n",
      "Epoch 17/200\n",
      "\u001b[1m20/20\u001b[0m \u001b[32m━━━━━━━━━━━━━━━━━━━━\u001b[0m\u001b[37m\u001b[0m \u001b[1m0s\u001b[0m 11ms/step - accuracy: 0.7552 - loss: 0.4942 - val_accuracy: 0.7857 - val_loss: 0.4533\n",
      "Epoch 18/200\n",
      "\u001b[1m20/20\u001b[0m \u001b[32m━━━━━━━━━━━━━━━━━━━━\u001b[0m\u001b[37m\u001b[0m \u001b[1m0s\u001b[0m 13ms/step - accuracy: 0.7823 - loss: 0.4553 - val_accuracy: 0.7857 - val_loss: 0.4524\n",
      "Epoch 19/200\n",
      "\u001b[1m20/20\u001b[0m \u001b[32m━━━━━━━━━━━━━━━━━━━━\u001b[0m\u001b[37m\u001b[0m \u001b[1m0s\u001b[0m 11ms/step - accuracy: 0.7833 - loss: 0.4534 - val_accuracy: 0.7857 - val_loss: 0.4514\n",
      "Epoch 20/200\n",
      "\u001b[1m20/20\u001b[0m \u001b[32m━━━━━━━━━━━━━━━━━━━━\u001b[0m\u001b[37m\u001b[0m \u001b[1m0s\u001b[0m 10ms/step - accuracy: 0.7904 - loss: 0.4424 - val_accuracy: 0.7857 - val_loss: 0.4515\n",
      "Epoch 21/200\n",
      "\u001b[1m20/20\u001b[0m \u001b[32m━━━━━━━━━━━━━━━━━━━━\u001b[0m\u001b[37m\u001b[0m \u001b[1m0s\u001b[0m 12ms/step - accuracy: 0.7722 - loss: 0.4467 - val_accuracy: 0.7987 - val_loss: 0.4505\n",
      "Epoch 22/200\n",
      "\u001b[1m20/20\u001b[0m \u001b[32m━━━━━━━━━━━━━━━━━━━━\u001b[0m\u001b[37m\u001b[0m \u001b[1m0s\u001b[0m 10ms/step - accuracy: 0.7913 - loss: 0.4497 - val_accuracy: 0.7987 - val_loss: 0.4500\n",
      "Epoch 23/200\n",
      "\u001b[1m20/20\u001b[0m \u001b[32m━━━━━━━━━━━━━━━━━━━━\u001b[0m\u001b[37m\u001b[0m \u001b[1m0s\u001b[0m 11ms/step - accuracy: 0.7943 - loss: 0.4431 - val_accuracy: 0.7987 - val_loss: 0.4493\n",
      "Epoch 24/200\n",
      "\u001b[1m20/20\u001b[0m \u001b[32m━━━━━━━━━━━━━━━━━━━━\u001b[0m\u001b[37m\u001b[0m \u001b[1m0s\u001b[0m 8ms/step - accuracy: 0.7898 - loss: 0.4348 - val_accuracy: 0.8052 - val_loss: 0.4487\n",
      "Epoch 25/200\n",
      "\u001b[1m20/20\u001b[0m \u001b[32m━━━━━━━━━━━━━━━━━━━━\u001b[0m\u001b[37m\u001b[0m \u001b[1m0s\u001b[0m 9ms/step - accuracy: 0.7700 - loss: 0.4575 - val_accuracy: 0.7922 - val_loss: 0.4480\n",
      "Epoch 26/200\n",
      "\u001b[1m20/20\u001b[0m \u001b[32m━━━━━━━━━━━━━━━━━━━━\u001b[0m\u001b[37m\u001b[0m \u001b[1m0s\u001b[0m 10ms/step - accuracy: 0.7728 - loss: 0.4623 - val_accuracy: 0.8052 - val_loss: 0.4474\n",
      "Epoch 27/200\n",
      "\u001b[1m20/20\u001b[0m \u001b[32m━━━━━━━━━━━━━━━━━━━━\u001b[0m\u001b[37m\u001b[0m \u001b[1m0s\u001b[0m 10ms/step - accuracy: 0.7597 - loss: 0.4667 - val_accuracy: 0.8052 - val_loss: 0.4475\n",
      "Epoch 28/200\n",
      "\u001b[1m20/20\u001b[0m \u001b[32m━━━━━━━━━━━━━━━━━━━━\u001b[0m\u001b[37m\u001b[0m \u001b[1m0s\u001b[0m 14ms/step - accuracy: 0.7823 - loss: 0.4526 - val_accuracy: 0.8052 - val_loss: 0.4472\n",
      "Epoch 29/200\n",
      "\u001b[1m20/20\u001b[0m \u001b[32m━━━━━━━━━━━━━━━━━━━━\u001b[0m\u001b[37m\u001b[0m \u001b[1m0s\u001b[0m 9ms/step - accuracy: 0.7789 - loss: 0.4428 - val_accuracy: 0.8052 - val_loss: 0.4472\n",
      "Epoch 30/200\n",
      "\u001b[1m20/20\u001b[0m \u001b[32m━━━━━━━━━━━━━━━━━━━━\u001b[0m\u001b[37m\u001b[0m \u001b[1m0s\u001b[0m 9ms/step - accuracy: 0.7816 - loss: 0.4587 - val_accuracy: 0.7987 - val_loss: 0.4465\n",
      "Epoch 31/200\n",
      "\u001b[1m20/20\u001b[0m \u001b[32m━━━━━━━━━━━━━━━━━━━━\u001b[0m\u001b[37m\u001b[0m \u001b[1m0s\u001b[0m 8ms/step - accuracy: 0.7822 - loss: 0.4461 - val_accuracy: 0.8052 - val_loss: 0.4468\n",
      "Epoch 32/200\n",
      "\u001b[1m20/20\u001b[0m \u001b[32m━━━━━━━━━━━━━━━━━━━━\u001b[0m\u001b[37m\u001b[0m \u001b[1m0s\u001b[0m 10ms/step - accuracy: 0.7739 - loss: 0.4539 - val_accuracy: 0.8052 - val_loss: 0.4464\n",
      "Epoch 33/200\n",
      "\u001b[1m20/20\u001b[0m \u001b[32m━━━━━━━━━━━━━━━━━━━━\u001b[0m\u001b[37m\u001b[0m \u001b[1m0s\u001b[0m 9ms/step - accuracy: 0.7987 - loss: 0.4265 - val_accuracy: 0.8052 - val_loss: 0.4462\n",
      "Epoch 34/200\n",
      "\u001b[1m20/20\u001b[0m \u001b[32m━━━━━━━━━━━━━━━━━━━━\u001b[0m\u001b[37m\u001b[0m \u001b[1m0s\u001b[0m 8ms/step - accuracy: 0.7913 - loss: 0.4287 - val_accuracy: 0.8117 - val_loss: 0.4456\n",
      "Epoch 35/200\n",
      "\u001b[1m20/20\u001b[0m \u001b[32m━━━━━━━━━━━━━━━━━━━━\u001b[0m\u001b[37m\u001b[0m \u001b[1m0s\u001b[0m 12ms/step - accuracy: 0.7843 - loss: 0.4433 - val_accuracy: 0.8117 - val_loss: 0.4449\n",
      "Epoch 36/200\n",
      "\u001b[1m20/20\u001b[0m \u001b[32m━━━━━━━━━━━━━━━━━━━━\u001b[0m\u001b[37m\u001b[0m \u001b[1m0s\u001b[0m 8ms/step - accuracy: 0.7948 - loss: 0.4258 - val_accuracy: 0.8052 - val_loss: 0.4442\n",
      "Epoch 37/200\n",
      "\u001b[1m20/20\u001b[0m \u001b[32m━━━━━━━━━━━━━━━━━━━━\u001b[0m\u001b[37m\u001b[0m \u001b[1m0s\u001b[0m 7ms/step - accuracy: 0.7922 - loss: 0.4484 - val_accuracy: 0.8052 - val_loss: 0.4438\n",
      "Epoch 38/200\n",
      "\u001b[1m20/20\u001b[0m \u001b[32m━━━━━━━━━━━━━━━━━━━━\u001b[0m\u001b[37m\u001b[0m \u001b[1m0s\u001b[0m 8ms/step - accuracy: 0.7673 - loss: 0.4647 - val_accuracy: 0.7922 - val_loss: 0.4430\n",
      "Epoch 39/200\n",
      "\u001b[1m20/20\u001b[0m \u001b[32m━━━━━━━━━━━━━━━━━━━━\u001b[0m\u001b[37m\u001b[0m \u001b[1m0s\u001b[0m 13ms/step - accuracy: 0.7975 - loss: 0.4330 - val_accuracy: 0.7987 - val_loss: 0.4430\n",
      "Epoch 40/200\n",
      "\u001b[1m20/20\u001b[0m \u001b[32m━━━━━━━━━━━━━━━━━━━━\u001b[0m\u001b[37m\u001b[0m \u001b[1m0s\u001b[0m 8ms/step - accuracy: 0.7749 - loss: 0.4393 - val_accuracy: 0.7922 - val_loss: 0.4421\n",
      "Epoch 41/200\n",
      "\u001b[1m20/20\u001b[0m \u001b[32m━━━━━━━━━━━━━━━━━━━━\u001b[0m\u001b[37m\u001b[0m \u001b[1m0s\u001b[0m 8ms/step - accuracy: 0.7853 - loss: 0.4321 - val_accuracy: 0.7987 - val_loss: 0.4433\n",
      "Epoch 42/200\n",
      "\u001b[1m20/20\u001b[0m \u001b[32m━━━━━━━━━━━━━━━━━━━━\u001b[0m\u001b[37m\u001b[0m \u001b[1m0s\u001b[0m 13ms/step - accuracy: 0.8089 - loss: 0.4165 - val_accuracy: 0.7922 - val_loss: 0.4423\n",
      "Epoch 43/200\n",
      "\u001b[1m20/20\u001b[0m \u001b[32m━━━━━━━━━━━━━━━━━━━━\u001b[0m\u001b[37m\u001b[0m \u001b[1m0s\u001b[0m 10ms/step - accuracy: 0.7919 - loss: 0.4413 - val_accuracy: 0.7922 - val_loss: 0.4415\n",
      "Epoch 44/200\n",
      "\u001b[1m20/20\u001b[0m \u001b[32m━━━━━━━━━━━━━━━━━━━━\u001b[0m\u001b[37m\u001b[0m \u001b[1m0s\u001b[0m 9ms/step - accuracy: 0.7633 - loss: 0.4724 - val_accuracy: 0.7922 - val_loss: 0.4414\n",
      "Epoch 45/200\n",
      "\u001b[1m20/20\u001b[0m \u001b[32m━━━━━━━━━━━━━━━━━━━━\u001b[0m\u001b[37m\u001b[0m \u001b[1m0s\u001b[0m 9ms/step - accuracy: 0.7828 - loss: 0.4246 - val_accuracy: 0.7922 - val_loss: 0.4413\n",
      "Epoch 46/200\n",
      "\u001b[1m20/20\u001b[0m \u001b[32m━━━━━━━━━━━━━━━━━━━━\u001b[0m\u001b[37m\u001b[0m \u001b[1m0s\u001b[0m 10ms/step - accuracy: 0.7777 - loss: 0.4452 - val_accuracy: 0.7987 - val_loss: 0.4406\n",
      "Epoch 47/200\n",
      "\u001b[1m20/20\u001b[0m \u001b[32m━━━━━━━━━━━━━━━━━━━━\u001b[0m\u001b[37m\u001b[0m \u001b[1m0s\u001b[0m 8ms/step - accuracy: 0.7832 - loss: 0.4404 - val_accuracy: 0.8052 - val_loss: 0.4403\n",
      "Epoch 48/200\n",
      "\u001b[1m20/20\u001b[0m \u001b[32m━━━━━━━━━━━━━━━━━━━━\u001b[0m\u001b[37m\u001b[0m \u001b[1m0s\u001b[0m 11ms/step - accuracy: 0.7927 - loss: 0.4378 - val_accuracy: 0.8052 - val_loss: 0.4396\n",
      "Epoch 49/200\n",
      "\u001b[1m20/20\u001b[0m \u001b[32m━━━━━━━━━━━━━━━━━━━━\u001b[0m\u001b[37m\u001b[0m \u001b[1m0s\u001b[0m 9ms/step - accuracy: 0.8016 - loss: 0.4202 - val_accuracy: 0.8052 - val_loss: 0.4386\n",
      "Epoch 50/200\n",
      "\u001b[1m20/20\u001b[0m \u001b[32m━━━━━━━━━━━━━━━━━━━━\u001b[0m\u001b[37m\u001b[0m \u001b[1m0s\u001b[0m 8ms/step - accuracy: 0.7861 - loss: 0.4444 - val_accuracy: 0.8052 - val_loss: 0.4388\n",
      "Epoch 51/200\n",
      "\u001b[1m20/20\u001b[0m \u001b[32m━━━━━━━━━━━━━━━━━━━━\u001b[0m\u001b[37m\u001b[0m \u001b[1m0s\u001b[0m 8ms/step - accuracy: 0.7668 - loss: 0.4628 - val_accuracy: 0.8117 - val_loss: 0.4382\n",
      "Epoch 52/200\n",
      "\u001b[1m20/20\u001b[0m \u001b[32m━━━━━━━━━━━━━━━━━━━━\u001b[0m\u001b[37m\u001b[0m \u001b[1m0s\u001b[0m 9ms/step - accuracy: 0.7666 - loss: 0.4670 - val_accuracy: 0.8117 - val_loss: 0.4392\n",
      "Epoch 53/200\n",
      "\u001b[1m20/20\u001b[0m \u001b[32m━━━━━━━━━━━━━━━━━━━━\u001b[0m\u001b[37m\u001b[0m \u001b[1m0s\u001b[0m 7ms/step - accuracy: 0.7543 - loss: 0.4453 - val_accuracy: 0.8052 - val_loss: 0.4384\n",
      "Epoch 54/200\n",
      "\u001b[1m20/20\u001b[0m \u001b[32m━━━━━━━━━━━━━━━━━━━━\u001b[0m\u001b[37m\u001b[0m \u001b[1m0s\u001b[0m 10ms/step - accuracy: 0.7661 - loss: 0.4649 - val_accuracy: 0.8117 - val_loss: 0.4383\n",
      "Epoch 55/200\n",
      "\u001b[1m20/20\u001b[0m \u001b[32m━━━━━━━━━━━━━━━━━━━━\u001b[0m\u001b[37m\u001b[0m \u001b[1m0s\u001b[0m 9ms/step - accuracy: 0.7821 - loss: 0.4521 - val_accuracy: 0.8052 - val_loss: 0.4381\n",
      "Epoch 56/200\n",
      "\u001b[1m20/20\u001b[0m \u001b[32m━━━━━━━━━━━━━━━━━━━━\u001b[0m\u001b[37m\u001b[0m \u001b[1m0s\u001b[0m 10ms/step - accuracy: 0.7951 - loss: 0.4417 - val_accuracy: 0.8052 - val_loss: 0.4377\n",
      "Epoch 57/200\n",
      "\u001b[1m20/20\u001b[0m \u001b[32m━━━━━━━━━━━━━━━━━━━━\u001b[0m\u001b[37m\u001b[0m \u001b[1m0s\u001b[0m 9ms/step - accuracy: 0.7781 - loss: 0.4563 - val_accuracy: 0.8117 - val_loss: 0.4383\n",
      "Epoch 58/200\n",
      "\u001b[1m20/20\u001b[0m \u001b[32m━━━━━━━━━━━━━━━━━━━━\u001b[0m\u001b[37m\u001b[0m \u001b[1m0s\u001b[0m 8ms/step - accuracy: 0.7886 - loss: 0.4411 - val_accuracy: 0.8052 - val_loss: 0.4394\n",
      "Epoch 59/200\n",
      "\u001b[1m20/20\u001b[0m \u001b[32m━━━━━━━━━━━━━━━━━━━━\u001b[0m\u001b[37m\u001b[0m \u001b[1m0s\u001b[0m 7ms/step - accuracy: 0.7986 - loss: 0.4224 - val_accuracy: 0.8117 - val_loss: 0.4387\n",
      "Epoch 60/200\n",
      "\u001b[1m20/20\u001b[0m \u001b[32m━━━━━━━━━━━━━━━━━━━━\u001b[0m\u001b[37m\u001b[0m \u001b[1m0s\u001b[0m 8ms/step - accuracy: 0.8208 - loss: 0.4038 - val_accuracy: 0.8117 - val_loss: 0.4383\n",
      "Epoch 61/200\n",
      "\u001b[1m20/20\u001b[0m \u001b[32m━━━━━━━━━━━━━━━━━━━━\u001b[0m\u001b[37m\u001b[0m \u001b[1m0s\u001b[0m 8ms/step - accuracy: 0.7815 - loss: 0.4256 - val_accuracy: 0.8117 - val_loss: 0.4381\n",
      "Epoch 62/200\n",
      "\u001b[1m20/20\u001b[0m \u001b[32m━━━━━━━━━━━━━━━━━━━━\u001b[0m\u001b[37m\u001b[0m \u001b[1m0s\u001b[0m 8ms/step - accuracy: 0.8034 - loss: 0.4188 - val_accuracy: 0.8117 - val_loss: 0.4382\n",
      "Epoch 63/200\n",
      "\u001b[1m20/20\u001b[0m \u001b[32m━━━━━━━━━━━━━━━━━━━━\u001b[0m\u001b[37m\u001b[0m \u001b[1m0s\u001b[0m 8ms/step - accuracy: 0.7617 - loss: 0.4683 - val_accuracy: 0.8117 - val_loss: 0.4384\n",
      "Epoch 64/200\n",
      "\u001b[1m20/20\u001b[0m \u001b[32m━━━━━━━━━━━━━━━━━━━━\u001b[0m\u001b[37m\u001b[0m \u001b[1m0s\u001b[0m 8ms/step - accuracy: 0.8045 - loss: 0.4182 - val_accuracy: 0.8052 - val_loss: 0.4374\n",
      "Epoch 65/200\n",
      "\u001b[1m20/20\u001b[0m \u001b[32m━━━━━━━━━━━━━━━━━━━━\u001b[0m\u001b[37m\u001b[0m \u001b[1m0s\u001b[0m 9ms/step - accuracy: 0.8080 - loss: 0.3994 - val_accuracy: 0.8052 - val_loss: 0.4371\n",
      "Epoch 66/200\n",
      "\u001b[1m20/20\u001b[0m \u001b[32m━━━━━━━━━━━━━━━━━━━━\u001b[0m\u001b[37m\u001b[0m \u001b[1m0s\u001b[0m 9ms/step - accuracy: 0.7743 - loss: 0.4447 - val_accuracy: 0.8052 - val_loss: 0.4371\n",
      "Epoch 67/200\n",
      "\u001b[1m20/20\u001b[0m \u001b[32m━━━━━━━━━━━━━━━━━━━━\u001b[0m\u001b[37m\u001b[0m \u001b[1m0s\u001b[0m 13ms/step - accuracy: 0.7842 - loss: 0.4356 - val_accuracy: 0.8117 - val_loss: 0.4373\n",
      "Epoch 68/200\n",
      "\u001b[1m20/20\u001b[0m \u001b[32m━━━━━━━━━━━━━━━━━━━━\u001b[0m\u001b[37m\u001b[0m \u001b[1m0s\u001b[0m 8ms/step - accuracy: 0.8012 - loss: 0.4229 - val_accuracy: 0.8117 - val_loss: 0.4373\n",
      "Epoch 69/200\n",
      "\u001b[1m20/20\u001b[0m \u001b[32m━━━━━━━━━━━━━━━━━━━━\u001b[0m\u001b[37m\u001b[0m \u001b[1m0s\u001b[0m 9ms/step - accuracy: 0.7914 - loss: 0.4320 - val_accuracy: 0.8052 - val_loss: 0.4371\n",
      "Epoch 70/200\n",
      "\u001b[1m20/20\u001b[0m \u001b[32m━━━━━━━━━━━━━━━━━━━━\u001b[0m\u001b[37m\u001b[0m \u001b[1m0s\u001b[0m 9ms/step - accuracy: 0.8251 - loss: 0.3899 - val_accuracy: 0.8052 - val_loss: 0.4366\n",
      "Epoch 71/200\n",
      "\u001b[1m20/20\u001b[0m \u001b[32m━━━━━━━━━━━━━━━━━━━━\u001b[0m\u001b[37m\u001b[0m \u001b[1m0s\u001b[0m 8ms/step - accuracy: 0.8070 - loss: 0.4137 - val_accuracy: 0.8117 - val_loss: 0.4374\n",
      "Epoch 72/200\n",
      "\u001b[1m20/20\u001b[0m \u001b[32m━━━━━━━━━━━━━━━━━━━━\u001b[0m\u001b[37m\u001b[0m \u001b[1m0s\u001b[0m 7ms/step - accuracy: 0.7933 - loss: 0.4430 - val_accuracy: 0.8052 - val_loss: 0.4367\n",
      "Epoch 73/200\n",
      "\u001b[1m20/20\u001b[0m \u001b[32m━━━━━━━━━━━━━━━━━━━━\u001b[0m\u001b[37m\u001b[0m \u001b[1m0s\u001b[0m 8ms/step - accuracy: 0.7954 - loss: 0.4136 - val_accuracy: 0.8052 - val_loss: 0.4367\n",
      "Epoch 74/200\n",
      "\u001b[1m20/20\u001b[0m \u001b[32m━━━━━━━━━━━━━━━━━━━━\u001b[0m\u001b[37m\u001b[0m \u001b[1m0s\u001b[0m 8ms/step - accuracy: 0.8001 - loss: 0.4092 - val_accuracy: 0.8052 - val_loss: 0.4366\n",
      "Epoch 75/200\n",
      "\u001b[1m20/20\u001b[0m \u001b[32m━━━━━━━━━━━━━━━━━━━━\u001b[0m\u001b[37m\u001b[0m \u001b[1m0s\u001b[0m 9ms/step - accuracy: 0.7909 - loss: 0.4287 - val_accuracy: 0.7987 - val_loss: 0.4363\n",
      "Epoch 76/200\n",
      "\u001b[1m20/20\u001b[0m \u001b[32m━━━━━━━━━━━━━━━━━━━━\u001b[0m\u001b[37m\u001b[0m \u001b[1m0s\u001b[0m 7ms/step - accuracy: 0.8077 - loss: 0.4007 - val_accuracy: 0.7987 - val_loss: 0.4362\n",
      "Epoch 77/200\n",
      "\u001b[1m20/20\u001b[0m \u001b[32m━━━━━━━━━━━━━━━━━━━━\u001b[0m\u001b[37m\u001b[0m \u001b[1m0s\u001b[0m 8ms/step - accuracy: 0.8113 - loss: 0.4005 - val_accuracy: 0.7987 - val_loss: 0.4361\n",
      "Epoch 78/200\n",
      "\u001b[1m20/20\u001b[0m \u001b[32m━━━━━━━━━━━━━━━━━━━━\u001b[0m\u001b[37m\u001b[0m \u001b[1m0s\u001b[0m 10ms/step - accuracy: 0.8208 - loss: 0.4146 - val_accuracy: 0.7987 - val_loss: 0.4370\n",
      "Epoch 79/200\n",
      "\u001b[1m20/20\u001b[0m \u001b[32m━━━━━━━━━━━━━━━━━━━━\u001b[0m\u001b[37m\u001b[0m \u001b[1m0s\u001b[0m 13ms/step - accuracy: 0.7947 - loss: 0.4348 - val_accuracy: 0.7987 - val_loss: 0.4362\n",
      "Epoch 80/200\n",
      "\u001b[1m20/20\u001b[0m \u001b[32m━━━━━━━━━━━━━━━━━━━━\u001b[0m\u001b[37m\u001b[0m \u001b[1m0s\u001b[0m 9ms/step - accuracy: 0.7991 - loss: 0.4087 - val_accuracy: 0.7987 - val_loss: 0.4368\n",
      "Epoch 81/200\n",
      "\u001b[1m20/20\u001b[0m \u001b[32m━━━━━━━━━━━━━━━━━━━━\u001b[0m\u001b[37m\u001b[0m \u001b[1m0s\u001b[0m 9ms/step - accuracy: 0.8028 - loss: 0.4233 - val_accuracy: 0.7987 - val_loss: 0.4375\n",
      "Epoch 82/200\n",
      "\u001b[1m20/20\u001b[0m \u001b[32m━━━━━━━━━━━━━━━━━━━━\u001b[0m\u001b[37m\u001b[0m \u001b[1m0s\u001b[0m 9ms/step - accuracy: 0.7909 - loss: 0.4268 - val_accuracy: 0.8052 - val_loss: 0.4373\n",
      "Epoch 83/200\n",
      "\u001b[1m20/20\u001b[0m \u001b[32m━━━━━━━━━━━━━━━━━━━━\u001b[0m\u001b[37m\u001b[0m \u001b[1m0s\u001b[0m 8ms/step - accuracy: 0.8225 - loss: 0.3898 - val_accuracy: 0.7987 - val_loss: 0.4373\n",
      "Epoch 84/200\n",
      "\u001b[1m20/20\u001b[0m \u001b[32m━━━━━━━━━━━━━━━━━━━━\u001b[0m\u001b[37m\u001b[0m \u001b[1m0s\u001b[0m 12ms/step - accuracy: 0.7981 - loss: 0.4085 - val_accuracy: 0.7987 - val_loss: 0.4370\n",
      "Epoch 85/200\n",
      "\u001b[1m20/20\u001b[0m \u001b[32m━━━━━━━━━━━━━━━━━━━━\u001b[0m\u001b[37m\u001b[0m \u001b[1m0s\u001b[0m 8ms/step - accuracy: 0.7939 - loss: 0.4233 - val_accuracy: 0.7987 - val_loss: 0.4373\n",
      "Epoch 86/200\n",
      "\u001b[1m20/20\u001b[0m \u001b[32m━━━━━━━━━━━━━━━━━━━━\u001b[0m\u001b[37m\u001b[0m \u001b[1m0s\u001b[0m 6ms/step - accuracy: 0.8252 - loss: 0.4031 - val_accuracy: 0.8052 - val_loss: 0.4376\n",
      "Epoch 87/200\n",
      "\u001b[1m20/20\u001b[0m \u001b[32m━━━━━━━━━━━━━━━━━━━━\u001b[0m\u001b[37m\u001b[0m \u001b[1m0s\u001b[0m 6ms/step - accuracy: 0.8077 - loss: 0.4199 - val_accuracy: 0.7987 - val_loss: 0.4368\n",
      "Epoch 88/200\n",
      "\u001b[1m20/20\u001b[0m \u001b[32m━━━━━━━━━━━━━━━━━━━━\u001b[0m\u001b[37m\u001b[0m \u001b[1m0s\u001b[0m 6ms/step - accuracy: 0.8134 - loss: 0.4127 - val_accuracy: 0.8052 - val_loss: 0.4364\n",
      "Epoch 89/200\n",
      "\u001b[1m20/20\u001b[0m \u001b[32m━━━━━━━━━━━━━━━━━━━━\u001b[0m\u001b[37m\u001b[0m \u001b[1m0s\u001b[0m 9ms/step - accuracy: 0.8282 - loss: 0.4046 - val_accuracy: 0.8052 - val_loss: 0.4369\n",
      "Epoch 90/200\n",
      "\u001b[1m20/20\u001b[0m \u001b[32m━━━━━━━━━━━━━━━━━━━━\u001b[0m\u001b[37m\u001b[0m \u001b[1m0s\u001b[0m 6ms/step - accuracy: 0.8083 - loss: 0.3983 - val_accuracy: 0.8052 - val_loss: 0.4370\n",
      "Epoch 91/200\n",
      "\u001b[1m20/20\u001b[0m \u001b[32m━━━━━━━━━━━━━━━━━━━━\u001b[0m\u001b[37m\u001b[0m \u001b[1m0s\u001b[0m 7ms/step - accuracy: 0.7947 - loss: 0.4262 - val_accuracy: 0.7987 - val_loss: 0.4371\n",
      "Epoch 92/200\n",
      "\u001b[1m20/20\u001b[0m \u001b[32m━━━━━━━━━━━━━━━━━━━━\u001b[0m\u001b[37m\u001b[0m \u001b[1m0s\u001b[0m 7ms/step - accuracy: 0.8174 - loss: 0.4181 - val_accuracy: 0.7987 - val_loss: 0.4369\n",
      "Epoch 93/200\n",
      "\u001b[1m20/20\u001b[0m \u001b[32m━━━━━━━━━━━━━━━━━━━━\u001b[0m\u001b[37m\u001b[0m \u001b[1m0s\u001b[0m 8ms/step - accuracy: 0.8200 - loss: 0.3956 - val_accuracy: 0.7987 - val_loss: 0.4375\n",
      "Epoch 94/200\n",
      "\u001b[1m20/20\u001b[0m \u001b[32m━━━━━━━━━━━━━━━━━━━━\u001b[0m\u001b[37m\u001b[0m \u001b[1m0s\u001b[0m 6ms/step - accuracy: 0.8129 - loss: 0.4237 - val_accuracy: 0.7987 - val_loss: 0.4357\n",
      "Epoch 95/200\n",
      "\u001b[1m20/20\u001b[0m \u001b[32m━━━━━━━━━━━━━━━━━━━━\u001b[0m\u001b[37m\u001b[0m \u001b[1m0s\u001b[0m 6ms/step - accuracy: 0.8200 - loss: 0.4062 - val_accuracy: 0.7987 - val_loss: 0.4364\n",
      "Epoch 96/200\n",
      "\u001b[1m20/20\u001b[0m \u001b[32m━━━━━━━━━━━━━━━━━━━━\u001b[0m\u001b[37m\u001b[0m \u001b[1m0s\u001b[0m 9ms/step - accuracy: 0.8218 - loss: 0.4032 - val_accuracy: 0.7987 - val_loss: 0.4364\n",
      "Epoch 97/200\n",
      "\u001b[1m20/20\u001b[0m \u001b[32m━━━━━━━━━━━━━━━━━━━━\u001b[0m\u001b[37m\u001b[0m \u001b[1m0s\u001b[0m 7ms/step - accuracy: 0.8181 - loss: 0.4033 - val_accuracy: 0.7987 - val_loss: 0.4365\n",
      "Epoch 98/200\n",
      "\u001b[1m20/20\u001b[0m \u001b[32m━━━━━━━━━━━━━━━━━━━━\u001b[0m\u001b[37m\u001b[0m \u001b[1m0s\u001b[0m 7ms/step - accuracy: 0.8138 - loss: 0.4023 - val_accuracy: 0.8052 - val_loss: 0.4374\n",
      "Epoch 99/200\n",
      "\u001b[1m20/20\u001b[0m \u001b[32m━━━━━━━━━━━━━━━━━━━━\u001b[0m\u001b[37m\u001b[0m \u001b[1m0s\u001b[0m 6ms/step - accuracy: 0.8048 - loss: 0.4228 - val_accuracy: 0.7987 - val_loss: 0.4383\n",
      "Epoch 100/200\n",
      "\u001b[1m20/20\u001b[0m \u001b[32m━━━━━━━━━━━━━━━━━━━━\u001b[0m\u001b[37m\u001b[0m \u001b[1m0s\u001b[0m 6ms/step - accuracy: 0.7932 - loss: 0.4158 - val_accuracy: 0.7987 - val_loss: 0.4374\n",
      "Epoch 101/200\n",
      "\u001b[1m20/20\u001b[0m \u001b[32m━━━━━━━━━━━━━━━━━━━━\u001b[0m\u001b[37m\u001b[0m \u001b[1m0s\u001b[0m 6ms/step - accuracy: 0.8007 - loss: 0.4185 - val_accuracy: 0.7987 - val_loss: 0.4378\n",
      "Epoch 102/200\n",
      "\u001b[1m20/20\u001b[0m \u001b[32m━━━━━━━━━━━━━━━━━━━━\u001b[0m\u001b[37m\u001b[0m \u001b[1m0s\u001b[0m 7ms/step - accuracy: 0.8361 - loss: 0.3798 - val_accuracy: 0.7987 - val_loss: 0.4366\n",
      "Epoch 103/200\n",
      "\u001b[1m20/20\u001b[0m \u001b[32m━━━━━━━━━━━━━━━━━━━━\u001b[0m\u001b[37m\u001b[0m \u001b[1m0s\u001b[0m 10ms/step - accuracy: 0.8084 - loss: 0.4350 - val_accuracy: 0.7987 - val_loss: 0.4361\n",
      "Epoch 104/200\n",
      "\u001b[1m20/20\u001b[0m \u001b[32m━━━━━━━━━━━━━━━━━━━━\u001b[0m\u001b[37m\u001b[0m \u001b[1m0s\u001b[0m 7ms/step - accuracy: 0.8057 - loss: 0.4497 - val_accuracy: 0.8052 - val_loss: 0.4360\n",
      "Epoch 105/200\n",
      "\u001b[1m20/20\u001b[0m \u001b[32m━━━━━━━━━━━━━━━━━━━━\u001b[0m\u001b[37m\u001b[0m \u001b[1m0s\u001b[0m 6ms/step - accuracy: 0.8033 - loss: 0.4256 - val_accuracy: 0.8052 - val_loss: 0.4362\n",
      "Epoch 106/200\n",
      "\u001b[1m20/20\u001b[0m \u001b[32m━━━━━━━━━━━━━━━━━━━━\u001b[0m\u001b[37m\u001b[0m \u001b[1m0s\u001b[0m 7ms/step - accuracy: 0.7968 - loss: 0.4274 - val_accuracy: 0.7987 - val_loss: 0.4361\n",
      "Epoch 107/200\n"
     ]
    },
    {
     "name": "stdout",
     "output_type": "stream",
     "text": [
      "\u001b[1m20/20\u001b[0m \u001b[32m━━━━━━━━━━━━━━━━━━━━\u001b[0m\u001b[37m\u001b[0m \u001b[1m0s\u001b[0m 7ms/step - accuracy: 0.7996 - loss: 0.4070 - val_accuracy: 0.8052 - val_loss: 0.4365\n",
      "Epoch 108/200\n",
      "\u001b[1m20/20\u001b[0m \u001b[32m━━━━━━━━━━━━━━━━━━━━\u001b[0m\u001b[37m\u001b[0m \u001b[1m0s\u001b[0m 7ms/step - accuracy: 0.7997 - loss: 0.4057 - val_accuracy: 0.7987 - val_loss: 0.4355\n",
      "Epoch 109/200\n",
      "\u001b[1m20/20\u001b[0m \u001b[32m━━━━━━━━━━━━━━━━━━━━\u001b[0m\u001b[37m\u001b[0m \u001b[1m0s\u001b[0m 6ms/step - accuracy: 0.8309 - loss: 0.3987 - val_accuracy: 0.7987 - val_loss: 0.4364\n",
      "Epoch 110/200\n",
      "\u001b[1m20/20\u001b[0m \u001b[32m━━━━━━━━━━━━━━━━━━━━\u001b[0m\u001b[37m\u001b[0m \u001b[1m0s\u001b[0m 10ms/step - accuracy: 0.8155 - loss: 0.4207 - val_accuracy: 0.8052 - val_loss: 0.4364\n",
      "Epoch 111/200\n",
      "\u001b[1m20/20\u001b[0m \u001b[32m━━━━━━━━━━━━━━━━━━━━\u001b[0m\u001b[37m\u001b[0m \u001b[1m0s\u001b[0m 7ms/step - accuracy: 0.7887 - loss: 0.4395 - val_accuracy: 0.7987 - val_loss: 0.4367\n",
      "Epoch 112/200\n",
      "\u001b[1m20/20\u001b[0m \u001b[32m━━━━━━━━━━━━━━━━━━━━\u001b[0m\u001b[37m\u001b[0m \u001b[1m0s\u001b[0m 8ms/step - accuracy: 0.8260 - loss: 0.4179 - val_accuracy: 0.8117 - val_loss: 0.4369\n",
      "Epoch 113/200\n",
      "\u001b[1m20/20\u001b[0m \u001b[32m━━━━━━━━━━━━━━━━━━━━\u001b[0m\u001b[37m\u001b[0m \u001b[1m0s\u001b[0m 8ms/step - accuracy: 0.8028 - loss: 0.4066 - val_accuracy: 0.8117 - val_loss: 0.4365\n",
      "Epoch 114/200\n",
      "\u001b[1m20/20\u001b[0m \u001b[32m━━━━━━━━━━━━━━━━━━━━\u001b[0m\u001b[37m\u001b[0m \u001b[1m0s\u001b[0m 8ms/step - accuracy: 0.8102 - loss: 0.4198 - val_accuracy: 0.7987 - val_loss: 0.4366\n",
      "Epoch 115/200\n",
      "\u001b[1m20/20\u001b[0m \u001b[32m━━━━━━━━━━━━━━━━━━━━\u001b[0m\u001b[37m\u001b[0m \u001b[1m0s\u001b[0m 9ms/step - accuracy: 0.7992 - loss: 0.4315 - val_accuracy: 0.7922 - val_loss: 0.4365\n",
      "Epoch 116/200\n",
      "\u001b[1m20/20\u001b[0m \u001b[32m━━━━━━━━━━━━━━━━━━━━\u001b[0m\u001b[37m\u001b[0m \u001b[1m0s\u001b[0m 11ms/step - accuracy: 0.7930 - loss: 0.4085 - val_accuracy: 0.7987 - val_loss: 0.4366\n",
      "Epoch 117/200\n",
      "\u001b[1m20/20\u001b[0m \u001b[32m━━━━━━━━━━━━━━━━━━━━\u001b[0m\u001b[37m\u001b[0m \u001b[1m0s\u001b[0m 9ms/step - accuracy: 0.8054 - loss: 0.4033 - val_accuracy: 0.7922 - val_loss: 0.4362\n",
      "Epoch 118/200\n",
      "\u001b[1m20/20\u001b[0m \u001b[32m━━━━━━━━━━━━━━━━━━━━\u001b[0m\u001b[37m\u001b[0m \u001b[1m0s\u001b[0m 10ms/step - accuracy: 0.8137 - loss: 0.3990 - val_accuracy: 0.8052 - val_loss: 0.4363\n",
      "Epoch 119/200\n",
      "\u001b[1m20/20\u001b[0m \u001b[32m━━━━━━━━━━━━━━━━━━━━\u001b[0m\u001b[37m\u001b[0m \u001b[1m0s\u001b[0m 9ms/step - accuracy: 0.8030 - loss: 0.4288 - val_accuracy: 0.8052 - val_loss: 0.4369\n",
      "Epoch 120/200\n",
      "\u001b[1m20/20\u001b[0m \u001b[32m━━━━━━━━━━━━━━━━━━━━\u001b[0m\u001b[37m\u001b[0m \u001b[1m0s\u001b[0m 7ms/step - accuracy: 0.8110 - loss: 0.4266 - val_accuracy: 0.8052 - val_loss: 0.4367\n",
      "Epoch 121/200\n",
      "\u001b[1m20/20\u001b[0m \u001b[32m━━━━━━━━━━━━━━━━━━━━\u001b[0m\u001b[37m\u001b[0m \u001b[1m0s\u001b[0m 6ms/step - accuracy: 0.8399 - loss: 0.3664 - val_accuracy: 0.8117 - val_loss: 0.4365\n",
      "Epoch 122/200\n",
      "\u001b[1m20/20\u001b[0m \u001b[32m━━━━━━━━━━━━━━━━━━━━\u001b[0m\u001b[37m\u001b[0m \u001b[1m0s\u001b[0m 11ms/step - accuracy: 0.8135 - loss: 0.3973 - val_accuracy: 0.8117 - val_loss: 0.4364\n",
      "Epoch 123/200\n",
      "\u001b[1m20/20\u001b[0m \u001b[32m━━━━━━━━━━━━━━━━━━━━\u001b[0m\u001b[37m\u001b[0m \u001b[1m0s\u001b[0m 6ms/step - accuracy: 0.8224 - loss: 0.3945 - val_accuracy: 0.8117 - val_loss: 0.4359\n",
      "Epoch 124/200\n",
      "\u001b[1m20/20\u001b[0m \u001b[32m━━━━━━━━━━━━━━━━━━━━\u001b[0m\u001b[37m\u001b[0m \u001b[1m0s\u001b[0m 6ms/step - accuracy: 0.8161 - loss: 0.3955 - val_accuracy: 0.7987 - val_loss: 0.4351\n",
      "Epoch 125/200\n",
      "\u001b[1m20/20\u001b[0m \u001b[32m━━━━━━━━━━━━━━━━━━━━\u001b[0m\u001b[37m\u001b[0m \u001b[1m0s\u001b[0m 7ms/step - accuracy: 0.8107 - loss: 0.3955 - val_accuracy: 0.8052 - val_loss: 0.4353\n",
      "Epoch 126/200\n",
      "\u001b[1m20/20\u001b[0m \u001b[32m━━━━━━━━━━━━━━━━━━━━\u001b[0m\u001b[37m\u001b[0m \u001b[1m0s\u001b[0m 9ms/step - accuracy: 0.8142 - loss: 0.4252 - val_accuracy: 0.8117 - val_loss: 0.4360\n",
      "Epoch 127/200\n",
      "\u001b[1m20/20\u001b[0m \u001b[32m━━━━━━━━━━━━━━━━━━━━\u001b[0m\u001b[37m\u001b[0m \u001b[1m0s\u001b[0m 10ms/step - accuracy: 0.8309 - loss: 0.3986 - val_accuracy: 0.8117 - val_loss: 0.4356\n",
      "Epoch 128/200\n",
      "\u001b[1m20/20\u001b[0m \u001b[32m━━━━━━━━━━━━━━━━━━━━\u001b[0m\u001b[37m\u001b[0m \u001b[1m0s\u001b[0m 10ms/step - accuracy: 0.8191 - loss: 0.4082 - val_accuracy: 0.8117 - val_loss: 0.4365\n",
      "Epoch 129/200\n",
      "\u001b[1m20/20\u001b[0m \u001b[32m━━━━━━━━━━━━━━━━━━━━\u001b[0m\u001b[37m\u001b[0m \u001b[1m0s\u001b[0m 6ms/step - accuracy: 0.8408 - loss: 0.3759 - val_accuracy: 0.8052 - val_loss: 0.4367\n",
      "Epoch 130/200\n",
      "\u001b[1m20/20\u001b[0m \u001b[32m━━━━━━━━━━━━━━━━━━━━\u001b[0m\u001b[37m\u001b[0m \u001b[1m0s\u001b[0m 6ms/step - accuracy: 0.8101 - loss: 0.3866 - val_accuracy: 0.8052 - val_loss: 0.4362\n",
      "Epoch 131/200\n",
      "\u001b[1m20/20\u001b[0m \u001b[32m━━━━━━━━━━━━━━━━━━━━\u001b[0m\u001b[37m\u001b[0m \u001b[1m0s\u001b[0m 8ms/step - accuracy: 0.8246 - loss: 0.4091 - val_accuracy: 0.8182 - val_loss: 0.4354\n",
      "Epoch 132/200\n",
      "\u001b[1m20/20\u001b[0m \u001b[32m━━━━━━━━━━━━━━━━━━━━\u001b[0m\u001b[37m\u001b[0m \u001b[1m0s\u001b[0m 9ms/step - accuracy: 0.8029 - loss: 0.4161 - val_accuracy: 0.8052 - val_loss: 0.4346\n",
      "Epoch 133/200\n",
      "\u001b[1m20/20\u001b[0m \u001b[32m━━━━━━━━━━━━━━━━━━━━\u001b[0m\u001b[37m\u001b[0m \u001b[1m0s\u001b[0m 9ms/step - accuracy: 0.8089 - loss: 0.4128 - val_accuracy: 0.7987 - val_loss: 0.4345\n",
      "Epoch 134/200\n",
      "\u001b[1m20/20\u001b[0m \u001b[32m━━━━━━━━━━━━━━━━━━━━\u001b[0m\u001b[37m\u001b[0m \u001b[1m0s\u001b[0m 7ms/step - accuracy: 0.7990 - loss: 0.4321 - val_accuracy: 0.8052 - val_loss: 0.4347\n",
      "Epoch 135/200\n",
      "\u001b[1m20/20\u001b[0m \u001b[32m━━━━━━━━━━━━━━━━━━━━\u001b[0m\u001b[37m\u001b[0m \u001b[1m0s\u001b[0m 6ms/step - accuracy: 0.8112 - loss: 0.4215 - val_accuracy: 0.8052 - val_loss: 0.4355\n",
      "Epoch 136/200\n",
      "\u001b[1m20/20\u001b[0m \u001b[32m━━━━━━━━━━━━━━━━━━━━\u001b[0m\u001b[37m\u001b[0m \u001b[1m0s\u001b[0m 7ms/step - accuracy: 0.8146 - loss: 0.4045 - val_accuracy: 0.7987 - val_loss: 0.4359\n",
      "Epoch 137/200\n",
      "\u001b[1m20/20\u001b[0m \u001b[32m━━━━━━━━━━━━━━━━━━━━\u001b[0m\u001b[37m\u001b[0m \u001b[1m0s\u001b[0m 7ms/step - accuracy: 0.7993 - loss: 0.4448 - val_accuracy: 0.8052 - val_loss: 0.4356\n",
      "Epoch 138/200\n",
      "\u001b[1m20/20\u001b[0m \u001b[32m━━━━━━━━━━━━━━━━━━━━\u001b[0m\u001b[37m\u001b[0m \u001b[1m0s\u001b[0m 11ms/step - accuracy: 0.8135 - loss: 0.4007 - val_accuracy: 0.8052 - val_loss: 0.4376\n",
      "Epoch 139/200\n",
      "\u001b[1m20/20\u001b[0m \u001b[32m━━━━━━━━━━━━━━━━━━━━\u001b[0m\u001b[37m\u001b[0m \u001b[1m0s\u001b[0m 8ms/step - accuracy: 0.8045 - loss: 0.4297 - val_accuracy: 0.8117 - val_loss: 0.4387\n",
      "Epoch 140/200\n",
      "\u001b[1m20/20\u001b[0m \u001b[32m━━━━━━━━━━━━━━━━━━━━\u001b[0m\u001b[37m\u001b[0m \u001b[1m0s\u001b[0m 8ms/step - accuracy: 0.8333 - loss: 0.3777 - val_accuracy: 0.8117 - val_loss: 0.4386\n",
      "Epoch 141/200\n",
      "\u001b[1m20/20\u001b[0m \u001b[32m━━━━━━━━━━━━━━━━━━━━\u001b[0m\u001b[37m\u001b[0m \u001b[1m0s\u001b[0m 7ms/step - accuracy: 0.8095 - loss: 0.3971 - val_accuracy: 0.8117 - val_loss: 0.4381\n",
      "Epoch 142/200\n",
      "\u001b[1m20/20\u001b[0m \u001b[32m━━━━━━━━━━━━━━━━━━━━\u001b[0m\u001b[37m\u001b[0m \u001b[1m0s\u001b[0m 7ms/step - accuracy: 0.8369 - loss: 0.3929 - val_accuracy: 0.8052 - val_loss: 0.4387\n",
      "Epoch 143/200\n",
      "\u001b[1m20/20\u001b[0m \u001b[32m━━━━━━━━━━━━━━━━━━━━\u001b[0m\u001b[37m\u001b[0m \u001b[1m0s\u001b[0m 8ms/step - accuracy: 0.8055 - loss: 0.4184 - val_accuracy: 0.8117 - val_loss: 0.4396\n",
      "Epoch 144/200\n",
      "\u001b[1m20/20\u001b[0m \u001b[32m━━━━━━━━━━━━━━━━━━━━\u001b[0m\u001b[37m\u001b[0m \u001b[1m0s\u001b[0m 11ms/step - accuracy: 0.8195 - loss: 0.4036 - val_accuracy: 0.8117 - val_loss: 0.4385\n",
      "Epoch 145/200\n",
      "\u001b[1m20/20\u001b[0m \u001b[32m━━━━━━━━━━━━━━━━━━━━\u001b[0m\u001b[37m\u001b[0m \u001b[1m0s\u001b[0m 8ms/step - accuracy: 0.7987 - loss: 0.4322 - val_accuracy: 0.8117 - val_loss: 0.4394\n",
      "Epoch 146/200\n",
      "\u001b[1m20/20\u001b[0m \u001b[32m━━━━━━━━━━━━━━━━━━━━\u001b[0m\u001b[37m\u001b[0m \u001b[1m0s\u001b[0m 6ms/step - accuracy: 0.8071 - loss: 0.4082 - val_accuracy: 0.8117 - val_loss: 0.4389\n",
      "Epoch 147/200\n",
      "\u001b[1m20/20\u001b[0m \u001b[32m━━━━━━━━━━━━━━━━━━━━\u001b[0m\u001b[37m\u001b[0m \u001b[1m0s\u001b[0m 8ms/step - accuracy: 0.8264 - loss: 0.3923 - val_accuracy: 0.8117 - val_loss: 0.4390\n",
      "Epoch 148/200\n",
      "\u001b[1m20/20\u001b[0m \u001b[32m━━━━━━━━━━━━━━━━━━━━\u001b[0m\u001b[37m\u001b[0m \u001b[1m0s\u001b[0m 7ms/step - accuracy: 0.8128 - loss: 0.4006 - val_accuracy: 0.8117 - val_loss: 0.4380\n",
      "Epoch 149/200\n",
      "\u001b[1m20/20\u001b[0m \u001b[32m━━━━━━━━━━━━━━━━━━━━\u001b[0m\u001b[37m\u001b[0m \u001b[1m0s\u001b[0m 7ms/step - accuracy: 0.8215 - loss: 0.4002 - val_accuracy: 0.8117 - val_loss: 0.4378\n",
      "Epoch 150/200\n",
      "\u001b[1m20/20\u001b[0m \u001b[32m━━━━━━━━━━━━━━━━━━━━\u001b[0m\u001b[37m\u001b[0m \u001b[1m0s\u001b[0m 8ms/step - accuracy: 0.8166 - loss: 0.4088 - val_accuracy: 0.8052 - val_loss: 0.4385\n",
      "Epoch 151/200\n",
      "\u001b[1m20/20\u001b[0m \u001b[32m━━━━━━━━━━━━━━━━━━━━\u001b[0m\u001b[37m\u001b[0m \u001b[1m0s\u001b[0m 7ms/step - accuracy: 0.8193 - loss: 0.4058 - val_accuracy: 0.8052 - val_loss: 0.4391\n",
      "Epoch 152/200\n",
      "\u001b[1m20/20\u001b[0m \u001b[32m━━━━━━━━━━━━━━━━━━━━\u001b[0m\u001b[37m\u001b[0m \u001b[1m0s\u001b[0m 7ms/step - accuracy: 0.8402 - loss: 0.3841 - val_accuracy: 0.7987 - val_loss: 0.4391\n",
      "Epoch 153/200\n",
      "\u001b[1m20/20\u001b[0m \u001b[32m━━━━━━━━━━━━━━━━━━━━\u001b[0m\u001b[37m\u001b[0m \u001b[1m0s\u001b[0m 8ms/step - accuracy: 0.8325 - loss: 0.4148 - val_accuracy: 0.8052 - val_loss: 0.4382\n",
      "Epoch 154/200\n",
      "\u001b[1m20/20\u001b[0m \u001b[32m━━━━━━━━━━━━━━━━━━━━\u001b[0m\u001b[37m\u001b[0m \u001b[1m0s\u001b[0m 10ms/step - accuracy: 0.8090 - loss: 0.3950 - val_accuracy: 0.7987 - val_loss: 0.4393\n",
      "Epoch 155/200\n",
      "\u001b[1m20/20\u001b[0m \u001b[32m━━━━━━━━━━━━━━━━━━━━\u001b[0m\u001b[37m\u001b[0m \u001b[1m0s\u001b[0m 8ms/step - accuracy: 0.8261 - loss: 0.4001 - val_accuracy: 0.8052 - val_loss: 0.4390\n",
      "Epoch 156/200\n",
      "\u001b[1m20/20\u001b[0m \u001b[32m━━━━━━━━━━━━━━━━━━━━\u001b[0m\u001b[37m\u001b[0m \u001b[1m0s\u001b[0m 8ms/step - accuracy: 0.8326 - loss: 0.3965 - val_accuracy: 0.7987 - val_loss: 0.4387\n",
      "Epoch 157/200\n",
      "\u001b[1m20/20\u001b[0m \u001b[32m━━━━━━━━━━━━━━━━━━━━\u001b[0m\u001b[37m\u001b[0m \u001b[1m0s\u001b[0m 7ms/step - accuracy: 0.8342 - loss: 0.3843 - val_accuracy: 0.7987 - val_loss: 0.4397\n",
      "Epoch 158/200\n",
      "\u001b[1m20/20\u001b[0m \u001b[32m━━━━━━━━━━━━━━━━━━━━\u001b[0m\u001b[37m\u001b[0m \u001b[1m0s\u001b[0m 7ms/step - accuracy: 0.8250 - loss: 0.3955 - val_accuracy: 0.7987 - val_loss: 0.4408\n",
      "Epoch 159/200\n",
      "\u001b[1m20/20\u001b[0m \u001b[32m━━━━━━━━━━━━━━━━━━━━\u001b[0m\u001b[37m\u001b[0m \u001b[1m0s\u001b[0m 8ms/step - accuracy: 0.8283 - loss: 0.4077 - val_accuracy: 0.7987 - val_loss: 0.4400\n",
      "Epoch 160/200\n",
      "\u001b[1m20/20\u001b[0m \u001b[32m━━━━━━━━━━━━━━━━━━━━\u001b[0m\u001b[37m\u001b[0m \u001b[1m0s\u001b[0m 7ms/step - accuracy: 0.8515 - loss: 0.3784 - val_accuracy: 0.7987 - val_loss: 0.4385\n",
      "Epoch 161/200\n",
      "\u001b[1m20/20\u001b[0m \u001b[32m━━━━━━━━━━━━━━━━━━━━\u001b[0m\u001b[37m\u001b[0m \u001b[1m0s\u001b[0m 7ms/step - accuracy: 0.8066 - loss: 0.4300 - val_accuracy: 0.7987 - val_loss: 0.4383\n",
      "Epoch 162/200\n",
      "\u001b[1m20/20\u001b[0m \u001b[32m━━━━━━━━━━━━━━━━━━━━\u001b[0m\u001b[37m\u001b[0m \u001b[1m0s\u001b[0m 7ms/step - accuracy: 0.8136 - loss: 0.3993 - val_accuracy: 0.7987 - val_loss: 0.4381\n",
      "Epoch 163/200\n",
      "\u001b[1m20/20\u001b[0m \u001b[32m━━━━━━━━━━━━━━━━━━━━\u001b[0m\u001b[37m\u001b[0m \u001b[1m0s\u001b[0m 7ms/step - accuracy: 0.8383 - loss: 0.3776 - val_accuracy: 0.7987 - val_loss: 0.4388\n",
      "Epoch 164/200\n",
      "\u001b[1m20/20\u001b[0m \u001b[32m━━━━━━━━━━━━━━━━━━━━\u001b[0m\u001b[37m\u001b[0m \u001b[1m0s\u001b[0m 7ms/step - accuracy: 0.8188 - loss: 0.4073 - val_accuracy: 0.7987 - val_loss: 0.4385\n",
      "Epoch 165/200\n",
      "\u001b[1m20/20\u001b[0m \u001b[32m━━━━━━━━━━━━━━━━━━━━\u001b[0m\u001b[37m\u001b[0m \u001b[1m0s\u001b[0m 7ms/step - accuracy: 0.8504 - loss: 0.3692 - val_accuracy: 0.7987 - val_loss: 0.4391\n",
      "Epoch 166/200\n",
      "\u001b[1m20/20\u001b[0m \u001b[32m━━━━━━━━━━━━━━━━━━━━\u001b[0m\u001b[37m\u001b[0m \u001b[1m0s\u001b[0m 8ms/step - accuracy: 0.8318 - loss: 0.3882 - val_accuracy: 0.8052 - val_loss: 0.4381\n",
      "Epoch 167/200\n",
      "\u001b[1m20/20\u001b[0m \u001b[32m━━━━━━━━━━━━━━━━━━━━\u001b[0m\u001b[37m\u001b[0m \u001b[1m0s\u001b[0m 7ms/step - accuracy: 0.8399 - loss: 0.3859 - val_accuracy: 0.8052 - val_loss: 0.4379\n",
      "Epoch 168/200\n",
      "\u001b[1m20/20\u001b[0m \u001b[32m━━━━━━━━━━━━━━━━━━━━\u001b[0m\u001b[37m\u001b[0m \u001b[1m0s\u001b[0m 8ms/step - accuracy: 0.8434 - loss: 0.3716 - val_accuracy: 0.7922 - val_loss: 0.4381\n",
      "Epoch 169/200\n",
      "\u001b[1m20/20\u001b[0m \u001b[32m━━━━━━━━━━━━━━━━━━━━\u001b[0m\u001b[37m\u001b[0m \u001b[1m0s\u001b[0m 6ms/step - accuracy: 0.8295 - loss: 0.3929 - val_accuracy: 0.8052 - val_loss: 0.4380\n",
      "Epoch 170/200\n",
      "\u001b[1m20/20\u001b[0m \u001b[32m━━━━━━━━━━━━━━━━━━━━\u001b[0m\u001b[37m\u001b[0m \u001b[1m0s\u001b[0m 7ms/step - accuracy: 0.8407 - loss: 0.4034 - val_accuracy: 0.7987 - val_loss: 0.4376\n",
      "Epoch 171/200\n",
      "\u001b[1m20/20\u001b[0m \u001b[32m━━━━━━━━━━━━━━━━━━━━\u001b[0m\u001b[37m\u001b[0m \u001b[1m0s\u001b[0m 7ms/step - accuracy: 0.8328 - loss: 0.3920 - val_accuracy: 0.8052 - val_loss: 0.4386\n",
      "Epoch 172/200\n",
      "\u001b[1m20/20\u001b[0m \u001b[32m━━━━━━━━━━━━━━━━━━━━\u001b[0m\u001b[37m\u001b[0m \u001b[1m0s\u001b[0m 10ms/step - accuracy: 0.8368 - loss: 0.3766 - val_accuracy: 0.7922 - val_loss: 0.4388\n",
      "Epoch 173/200\n",
      "\u001b[1m20/20\u001b[0m \u001b[32m━━━━━━━━━━━━━━━━━━━━\u001b[0m\u001b[37m\u001b[0m \u001b[1m0s\u001b[0m 7ms/step - accuracy: 0.8246 - loss: 0.3915 - val_accuracy: 0.8052 - val_loss: 0.4401\n",
      "Epoch 174/200\n",
      "\u001b[1m20/20\u001b[0m \u001b[32m━━━━━━━━━━━━━━━━━━━━\u001b[0m\u001b[37m\u001b[0m \u001b[1m0s\u001b[0m 7ms/step - accuracy: 0.8461 - loss: 0.3769 - val_accuracy: 0.8052 - val_loss: 0.4397\n",
      "Epoch 175/200\n",
      "\u001b[1m20/20\u001b[0m \u001b[32m━━━━━━━━━━━━━━━━━━━━\u001b[0m\u001b[37m\u001b[0m \u001b[1m0s\u001b[0m 8ms/step - accuracy: 0.8547 - loss: 0.3604 - val_accuracy: 0.7987 - val_loss: 0.4400\n",
      "Epoch 176/200\n",
      "\u001b[1m20/20\u001b[0m \u001b[32m━━━━━━━━━━━━━━━━━━━━\u001b[0m\u001b[37m\u001b[0m \u001b[1m0s\u001b[0m 8ms/step - accuracy: 0.8392 - loss: 0.4035 - val_accuracy: 0.7987 - val_loss: 0.4390\n",
      "Epoch 177/200\n",
      "\u001b[1m20/20\u001b[0m \u001b[32m━━━━━━━━━━━━━━━━━━━━\u001b[0m\u001b[37m\u001b[0m \u001b[1m0s\u001b[0m 7ms/step - accuracy: 0.8385 - loss: 0.4028 - val_accuracy: 0.7987 - val_loss: 0.4398\n",
      "Epoch 178/200\n",
      "\u001b[1m20/20\u001b[0m \u001b[32m━━━━━━━━━━━━━━━━━━━━\u001b[0m\u001b[37m\u001b[0m \u001b[1m0s\u001b[0m 6ms/step - accuracy: 0.8307 - loss: 0.3951 - val_accuracy: 0.7987 - val_loss: 0.4403\n",
      "Epoch 179/200\n",
      "\u001b[1m20/20\u001b[0m \u001b[32m━━━━━━━━━━━━━━━━━━━━\u001b[0m\u001b[37m\u001b[0m \u001b[1m0s\u001b[0m 8ms/step - accuracy: 0.8257 - loss: 0.3986 - val_accuracy: 0.7987 - val_loss: 0.4399\n",
      "Epoch 180/200\n",
      "\u001b[1m20/20\u001b[0m \u001b[32m━━━━━━━━━━━━━━━━━━━━\u001b[0m\u001b[37m\u001b[0m \u001b[1m0s\u001b[0m 7ms/step - accuracy: 0.8297 - loss: 0.3942 - val_accuracy: 0.8117 - val_loss: 0.4396\n",
      "Epoch 181/200\n",
      "\u001b[1m20/20\u001b[0m \u001b[32m━━━━━━━━━━━━━━━━━━━━\u001b[0m\u001b[37m\u001b[0m \u001b[1m0s\u001b[0m 8ms/step - accuracy: 0.8227 - loss: 0.4002 - val_accuracy: 0.7987 - val_loss: 0.4399\n",
      "Epoch 182/200\n",
      "\u001b[1m20/20\u001b[0m \u001b[32m━━━━━━━━━━━━━━━━━━━━\u001b[0m\u001b[37m\u001b[0m \u001b[1m0s\u001b[0m 9ms/step - accuracy: 0.8265 - loss: 0.4079 - val_accuracy: 0.7987 - val_loss: 0.4402\n",
      "Epoch 183/200\n",
      "\u001b[1m20/20\u001b[0m \u001b[32m━━━━━━━━━━━━━━━━━━━━\u001b[0m\u001b[37m\u001b[0m \u001b[1m0s\u001b[0m 8ms/step - accuracy: 0.8424 - loss: 0.3853 - val_accuracy: 0.8052 - val_loss: 0.4409\n",
      "Epoch 184/200\n",
      "\u001b[1m20/20\u001b[0m \u001b[32m━━━━━━━━━━━━━━━━━━━━\u001b[0m\u001b[37m\u001b[0m \u001b[1m0s\u001b[0m 6ms/step - accuracy: 0.8255 - loss: 0.3877 - val_accuracy: 0.8052 - val_loss: 0.4400\n",
      "Epoch 185/200\n",
      "\u001b[1m20/20\u001b[0m \u001b[32m━━━━━━━━━━━━━━━━━━━━\u001b[0m\u001b[37m\u001b[0m \u001b[1m0s\u001b[0m 8ms/step - accuracy: 0.8277 - loss: 0.4037 - val_accuracy: 0.7987 - val_loss: 0.4409\n",
      "Epoch 186/200\n",
      "\u001b[1m20/20\u001b[0m \u001b[32m━━━━━━━━━━━━━━━━━━━━\u001b[0m\u001b[37m\u001b[0m \u001b[1m0s\u001b[0m 7ms/step - accuracy: 0.8240 - loss: 0.3979 - val_accuracy: 0.7922 - val_loss: 0.4410\n",
      "Epoch 187/200\n",
      "\u001b[1m20/20\u001b[0m \u001b[32m━━━━━━━━━━━━━━━━━━━━\u001b[0m\u001b[37m\u001b[0m \u001b[1m0s\u001b[0m 8ms/step - accuracy: 0.8348 - loss: 0.3925 - val_accuracy: 0.7792 - val_loss: 0.4407\n",
      "Epoch 188/200\n",
      "\u001b[1m20/20\u001b[0m \u001b[32m━━━━━━━━━━━━━━━━━━━━\u001b[0m\u001b[37m\u001b[0m \u001b[1m0s\u001b[0m 9ms/step - accuracy: 0.8406 - loss: 0.3880 - val_accuracy: 0.7922 - val_loss: 0.4417\n",
      "Epoch 189/200\n",
      "\u001b[1m20/20\u001b[0m \u001b[32m━━━━━━━━━━━━━━━━━━━━\u001b[0m\u001b[37m\u001b[0m \u001b[1m0s\u001b[0m 8ms/step - accuracy: 0.8405 - loss: 0.3754 - val_accuracy: 0.7857 - val_loss: 0.4406\n",
      "Epoch 190/200\n",
      "\u001b[1m20/20\u001b[0m \u001b[32m━━━━━━━━━━━━━━━━━━━━\u001b[0m\u001b[37m\u001b[0m \u001b[1m0s\u001b[0m 6ms/step - accuracy: 0.8330 - loss: 0.3858 - val_accuracy: 0.7922 - val_loss: 0.4407\n",
      "Epoch 191/200\n",
      "\u001b[1m20/20\u001b[0m \u001b[32m━━━━━━━━━━━━━━━━━━━━\u001b[0m\u001b[37m\u001b[0m \u001b[1m0s\u001b[0m 6ms/step - accuracy: 0.8186 - loss: 0.4044 - val_accuracy: 0.7987 - val_loss: 0.4419\n",
      "Epoch 192/200\n",
      "\u001b[1m20/20\u001b[0m \u001b[32m━━━━━━━━━━━━━━━━━━━━\u001b[0m\u001b[37m\u001b[0m \u001b[1m0s\u001b[0m 9ms/step - accuracy: 0.8287 - loss: 0.4042 - val_accuracy: 0.7987 - val_loss: 0.4436\n",
      "Epoch 193/200\n",
      "\u001b[1m20/20\u001b[0m \u001b[32m━━━━━━━━━━━━━━━━━━━━\u001b[0m\u001b[37m\u001b[0m \u001b[1m0s\u001b[0m 6ms/step - accuracy: 0.8315 - loss: 0.3914 - val_accuracy: 0.7922 - val_loss: 0.4430\n",
      "Epoch 194/200\n",
      "\u001b[1m20/20\u001b[0m \u001b[32m━━━━━━━━━━━━━━━━━━━━\u001b[0m\u001b[37m\u001b[0m \u001b[1m0s\u001b[0m 7ms/step - accuracy: 0.8276 - loss: 0.3916 - val_accuracy: 0.7987 - val_loss: 0.4410\n",
      "Epoch 195/200\n",
      "\u001b[1m20/20\u001b[0m \u001b[32m━━━━━━━━━━━━━━━━━━━━\u001b[0m\u001b[37m\u001b[0m \u001b[1m0s\u001b[0m 6ms/step - accuracy: 0.8421 - loss: 0.3797 - val_accuracy: 0.7922 - val_loss: 0.4410\n",
      "Epoch 196/200\n",
      "\u001b[1m20/20\u001b[0m \u001b[32m━━━━━━━━━━━━━━━━━━━━\u001b[0m\u001b[37m\u001b[0m \u001b[1m0s\u001b[0m 6ms/step - accuracy: 0.8267 - loss: 0.3920 - val_accuracy: 0.7987 - val_loss: 0.4414\n",
      "Epoch 197/200\n",
      "\u001b[1m20/20\u001b[0m \u001b[32m━━━━━━━━━━━━━━━━━━━━\u001b[0m\u001b[37m\u001b[0m \u001b[1m0s\u001b[0m 6ms/step - accuracy: 0.8337 - loss: 0.3840 - val_accuracy: 0.8052 - val_loss: 0.4427\n",
      "Epoch 198/200\n",
      "\u001b[1m20/20\u001b[0m \u001b[32m━━━━━━━━━━━━━━━━━━━━\u001b[0m\u001b[37m\u001b[0m \u001b[1m0s\u001b[0m 7ms/step - accuracy: 0.8308 - loss: 0.4005 - val_accuracy: 0.8052 - val_loss: 0.4430\n",
      "Epoch 199/200\n",
      "\u001b[1m20/20\u001b[0m \u001b[32m━━━━━━━━━━━━━━━━━━━━\u001b[0m\u001b[37m\u001b[0m \u001b[1m0s\u001b[0m 6ms/step - accuracy: 0.8375 - loss: 0.3879 - val_accuracy: 0.7922 - val_loss: 0.4439\n",
      "Epoch 200/200\n",
      "\u001b[1m20/20\u001b[0m \u001b[32m━━━━━━━━━━━━━━━━━━━━\u001b[0m\u001b[37m\u001b[0m \u001b[1m0s\u001b[0m 6ms/step - accuracy: 0.8490 - loss: 0.3617 - val_accuracy: 0.7987 - val_loss: 0.4439\n"
     ]
    },
    {
     "data": {
      "text/plain": [
       "<keras.src.callbacks.history.History at 0x197a852be20>"
      ]
     },
     "execution_count": 268,
     "metadata": {},
     "output_type": "execute_result"
    }
   ],
   "source": [
    "model.fit(X_train,y_train, epochs=200,initial_epoch=6, validation_data=(X_test,y_test))"
   ]
  },
  {
   "cell_type": "code",
   "execution_count": 269,
   "id": "2fa5ef56",
   "metadata": {},
   "outputs": [],
   "source": [
    "# No Of Nodes\n",
    "def build_model(hp):\n",
    "    model = Sequential()\n",
    "    units = hp.Int('Units',8,128)\n",
    "    model.add(Dense(units=units, activation='relu', input_dim=8))\n",
    "    model.add(Dense(1,activation='sigmoid'))\n",
    "    \n",
    "    model.compile(loss='binary_crossentropy', optimizer='rmsprop', metrics=['accuracy'])\n",
    "    return model"
   ]
  },
  {
   "cell_type": "code",
   "execution_count": 270,
   "id": "0f3efa8d",
   "metadata": {},
   "outputs": [
    {
     "name": "stdout",
     "output_type": "stream",
     "text": [
      "Reloading Tuner from mydir\\Num_nodes\\tuner0.json\n"
     ]
    }
   ],
   "source": [
    "tuner = kt.RandomSearch(build_model,\n",
    "                       objective='val_accuracy',\n",
    "                       max_trials=5,\n",
    "                       directory='mydir',\n",
    "                       project_name='Num_nodes')"
   ]
  },
  {
   "cell_type": "code",
   "execution_count": 271,
   "id": "94ab0af9",
   "metadata": {},
   "outputs": [],
   "source": [
    "tuner.search(X_train, y_train, epochs=5, validation_data=(X_test, y_test))"
   ]
  },
  {
   "cell_type": "code",
   "execution_count": 272,
   "id": "cfd1320d",
   "metadata": {},
   "outputs": [
    {
     "data": {
      "text/plain": [
       "{'Units': 93}"
      ]
     },
     "execution_count": 272,
     "metadata": {},
     "output_type": "execute_result"
    }
   ],
   "source": [
    "tuner.get_best_hyperparameters()[0].values"
   ]
  },
  {
   "cell_type": "code",
   "execution_count": 273,
   "id": "538792b9",
   "metadata": {},
   "outputs": [],
   "source": [
    "model = tuner.get_best_models(num_models=1)[0]"
   ]
  },
  {
   "cell_type": "code",
   "execution_count": 274,
   "id": "c46686aa",
   "metadata": {},
   "outputs": [
    {
     "data": {
      "text/html": [
       "<pre style=\"white-space:pre;overflow-x:auto;line-height:normal;font-family:Menlo,'DejaVu Sans Mono',consolas,'Courier New',monospace\"><span style=\"font-weight: bold\">Model: \"sequential\"</span>\n",
       "</pre>\n"
      ],
      "text/plain": [
       "\u001b[1mModel: \"sequential\"\u001b[0m\n"
      ]
     },
     "metadata": {},
     "output_type": "display_data"
    },
    {
     "data": {
      "text/html": [
       "<pre style=\"white-space:pre;overflow-x:auto;line-height:normal;font-family:Menlo,'DejaVu Sans Mono',consolas,'Courier New',monospace\">┏━━━━━━━━━━━━━━━━━━━━━━━━━━━━━━━━━━━━━━┳━━━━━━━━━━━━━━━━━━━━━━━━━━━━━┳━━━━━━━━━━━━━━━━━┓\n",
       "┃<span style=\"font-weight: bold\"> Layer (type)                         </span>┃<span style=\"font-weight: bold\"> Output Shape                </span>┃<span style=\"font-weight: bold\">         Param # </span>┃\n",
       "┡━━━━━━━━━━━━━━━━━━━━━━━━━━━━━━━━━━━━━━╇━━━━━━━━━━━━━━━━━━━━━━━━━━━━━╇━━━━━━━━━━━━━━━━━┩\n",
       "│ dense (<span style=\"color: #0087ff; text-decoration-color: #0087ff\">Dense</span>)                        │ (<span style=\"color: #00d7ff; text-decoration-color: #00d7ff\">None</span>, <span style=\"color: #00af00; text-decoration-color: #00af00\">93</span>)                  │             <span style=\"color: #00af00; text-decoration-color: #00af00\">837</span> │\n",
       "├──────────────────────────────────────┼─────────────────────────────┼─────────────────┤\n",
       "│ dense_1 (<span style=\"color: #0087ff; text-decoration-color: #0087ff\">Dense</span>)                      │ (<span style=\"color: #00d7ff; text-decoration-color: #00d7ff\">None</span>, <span style=\"color: #00af00; text-decoration-color: #00af00\">1</span>)                   │              <span style=\"color: #00af00; text-decoration-color: #00af00\">94</span> │\n",
       "└──────────────────────────────────────┴─────────────────────────────┴─────────────────┘\n",
       "</pre>\n"
      ],
      "text/plain": [
       "┏━━━━━━━━━━━━━━━━━━━━━━━━━━━━━━━━━━━━━━┳━━━━━━━━━━━━━━━━━━━━━━━━━━━━━┳━━━━━━━━━━━━━━━━━┓\n",
       "┃\u001b[1m \u001b[0m\u001b[1mLayer (type)                        \u001b[0m\u001b[1m \u001b[0m┃\u001b[1m \u001b[0m\u001b[1mOutput Shape               \u001b[0m\u001b[1m \u001b[0m┃\u001b[1m \u001b[0m\u001b[1m        Param #\u001b[0m\u001b[1m \u001b[0m┃\n",
       "┡━━━━━━━━━━━━━━━━━━━━━━━━━━━━━━━━━━━━━━╇━━━━━━━━━━━━━━━━━━━━━━━━━━━━━╇━━━━━━━━━━━━━━━━━┩\n",
       "│ dense (\u001b[38;5;33mDense\u001b[0m)                        │ (\u001b[38;5;45mNone\u001b[0m, \u001b[38;5;34m93\u001b[0m)                  │             \u001b[38;5;34m837\u001b[0m │\n",
       "├──────────────────────────────────────┼─────────────────────────────┼─────────────────┤\n",
       "│ dense_1 (\u001b[38;5;33mDense\u001b[0m)                      │ (\u001b[38;5;45mNone\u001b[0m, \u001b[38;5;34m1\u001b[0m)                   │              \u001b[38;5;34m94\u001b[0m │\n",
       "└──────────────────────────────────────┴─────────────────────────────┴─────────────────┘\n"
      ]
     },
     "metadata": {},
     "output_type": "display_data"
    },
    {
     "data": {
      "text/html": [
       "<pre style=\"white-space:pre;overflow-x:auto;line-height:normal;font-family:Menlo,'DejaVu Sans Mono',consolas,'Courier New',monospace\"><span style=\"font-weight: bold\"> Total params: </span><span style=\"color: #00af00; text-decoration-color: #00af00\">931</span> (3.64 KB)\n",
       "</pre>\n"
      ],
      "text/plain": [
       "\u001b[1m Total params: \u001b[0m\u001b[38;5;34m931\u001b[0m (3.64 KB)\n"
      ]
     },
     "metadata": {},
     "output_type": "display_data"
    },
    {
     "data": {
      "text/html": [
       "<pre style=\"white-space:pre;overflow-x:auto;line-height:normal;font-family:Menlo,'DejaVu Sans Mono',consolas,'Courier New',monospace\"><span style=\"font-weight: bold\"> Trainable params: </span><span style=\"color: #00af00; text-decoration-color: #00af00\">931</span> (3.64 KB)\n",
       "</pre>\n"
      ],
      "text/plain": [
       "\u001b[1m Trainable params: \u001b[0m\u001b[38;5;34m931\u001b[0m (3.64 KB)\n"
      ]
     },
     "metadata": {},
     "output_type": "display_data"
    },
    {
     "data": {
      "text/html": [
       "<pre style=\"white-space:pre;overflow-x:auto;line-height:normal;font-family:Menlo,'DejaVu Sans Mono',consolas,'Courier New',monospace\"><span style=\"font-weight: bold\"> Non-trainable params: </span><span style=\"color: #00af00; text-decoration-color: #00af00\">0</span> (0.00 B)\n",
       "</pre>\n"
      ],
      "text/plain": [
       "\u001b[1m Non-trainable params: \u001b[0m\u001b[38;5;34m0\u001b[0m (0.00 B)\n"
      ]
     },
     "metadata": {},
     "output_type": "display_data"
    }
   ],
   "source": [
    "model.summary()"
   ]
  },
  {
   "cell_type": "code",
   "execution_count": 275,
   "id": "0b61bc60",
   "metadata": {},
   "outputs": [
    {
     "name": "stdout",
     "output_type": "stream",
     "text": [
      "Epoch 6/200\n",
      "\u001b[1m20/20\u001b[0m \u001b[32m━━━━━━━━━━━━━━━━━━━━\u001b[0m\u001b[37m\u001b[0m \u001b[1m2s\u001b[0m 25ms/step - accuracy: 0.7645 - loss: 0.5387 - val_accuracy: 0.8117 - val_loss: 0.4882\n",
      "Epoch 7/200\n",
      "\u001b[1m20/20\u001b[0m \u001b[32m━━━━━━━━━━━━━━━━━━━━\u001b[0m\u001b[37m\u001b[0m \u001b[1m0s\u001b[0m 8ms/step - accuracy: 0.7806 - loss: 0.4962 - val_accuracy: 0.8052 - val_loss: 0.4665\n",
      "Epoch 8/200\n",
      "\u001b[1m20/20\u001b[0m \u001b[32m━━━━━━━━━━━━━━━━━━━━\u001b[0m\u001b[37m\u001b[0m \u001b[1m0s\u001b[0m 8ms/step - accuracy: 0.7872 - loss: 0.4807 - val_accuracy: 0.7987 - val_loss: 0.4547\n",
      "Epoch 9/200\n",
      "\u001b[1m20/20\u001b[0m \u001b[32m━━━━━━━━━━━━━━━━━━━━\u001b[0m\u001b[37m\u001b[0m \u001b[1m0s\u001b[0m 8ms/step - accuracy: 0.7739 - loss: 0.4734 - val_accuracy: 0.7922 - val_loss: 0.4443\n",
      "Epoch 10/200\n",
      "\u001b[1m20/20\u001b[0m \u001b[32m━━━━━━━━━━━━━━━━━━━━\u001b[0m\u001b[37m\u001b[0m \u001b[1m0s\u001b[0m 7ms/step - accuracy: 0.7747 - loss: 0.4680 - val_accuracy: 0.7987 - val_loss: 0.4399\n",
      "Epoch 11/200\n",
      "\u001b[1m20/20\u001b[0m \u001b[32m━━━━━━━━━━━━━━━━━━━━\u001b[0m\u001b[37m\u001b[0m \u001b[1m0s\u001b[0m 8ms/step - accuracy: 0.7721 - loss: 0.4725 - val_accuracy: 0.8117 - val_loss: 0.4386\n",
      "Epoch 12/200\n",
      "\u001b[1m20/20\u001b[0m \u001b[32m━━━━━━━━━━━━━━━━━━━━\u001b[0m\u001b[37m\u001b[0m \u001b[1m0s\u001b[0m 8ms/step - accuracy: 0.7996 - loss: 0.4512 - val_accuracy: 0.8182 - val_loss: 0.4375\n",
      "Epoch 13/200\n",
      "\u001b[1m20/20\u001b[0m \u001b[32m━━━━━━━━━━━━━━━━━━━━\u001b[0m\u001b[37m\u001b[0m \u001b[1m0s\u001b[0m 7ms/step - accuracy: 0.7752 - loss: 0.4555 - val_accuracy: 0.7987 - val_loss: 0.4369\n",
      "Epoch 14/200\n",
      "\u001b[1m20/20\u001b[0m \u001b[32m━━━━━━━━━━━━━━━━━━━━\u001b[0m\u001b[37m\u001b[0m \u001b[1m0s\u001b[0m 7ms/step - accuracy: 0.7822 - loss: 0.4401 - val_accuracy: 0.8117 - val_loss: 0.4353\n",
      "Epoch 15/200\n",
      "\u001b[1m20/20\u001b[0m \u001b[32m━━━━━━━━━━━━━━━━━━━━\u001b[0m\u001b[37m\u001b[0m \u001b[1m0s\u001b[0m 8ms/step - accuracy: 0.7860 - loss: 0.4348 - val_accuracy: 0.8117 - val_loss: 0.4368\n",
      "Epoch 16/200\n",
      "\u001b[1m20/20\u001b[0m \u001b[32m━━━━━━━━━━━━━━━━━━━━\u001b[0m\u001b[37m\u001b[0m \u001b[1m0s\u001b[0m 6ms/step - accuracy: 0.7778 - loss: 0.4719 - val_accuracy: 0.8052 - val_loss: 0.4343\n",
      "Epoch 17/200\n",
      "\u001b[1m20/20\u001b[0m \u001b[32m━━━━━━━━━━━━━━━━━━━━\u001b[0m\u001b[37m\u001b[0m \u001b[1m0s\u001b[0m 7ms/step - accuracy: 0.7756 - loss: 0.4430 - val_accuracy: 0.8052 - val_loss: 0.4342\n",
      "Epoch 18/200\n",
      "\u001b[1m20/20\u001b[0m \u001b[32m━━━━━━━━━━━━━━━━━━━━\u001b[0m\u001b[37m\u001b[0m \u001b[1m0s\u001b[0m 7ms/step - accuracy: 0.7960 - loss: 0.4322 - val_accuracy: 0.8182 - val_loss: 0.4334\n",
      "Epoch 19/200\n",
      "\u001b[1m20/20\u001b[0m \u001b[32m━━━━━━━━━━━━━━━━━━━━\u001b[0m\u001b[37m\u001b[0m \u001b[1m0s\u001b[0m 7ms/step - accuracy: 0.7964 - loss: 0.4428 - val_accuracy: 0.8182 - val_loss: 0.4347\n",
      "Epoch 20/200\n",
      "\u001b[1m20/20\u001b[0m \u001b[32m━━━━━━━━━━━━━━━━━━━━\u001b[0m\u001b[37m\u001b[0m \u001b[1m0s\u001b[0m 8ms/step - accuracy: 0.8046 - loss: 0.4300 - val_accuracy: 0.8052 - val_loss: 0.4337\n",
      "Epoch 21/200\n",
      "\u001b[1m20/20\u001b[0m \u001b[32m━━━━━━━━━━━━━━━━━━━━\u001b[0m\u001b[37m\u001b[0m \u001b[1m0s\u001b[0m 7ms/step - accuracy: 0.8009 - loss: 0.4395 - val_accuracy: 0.7987 - val_loss: 0.4349\n",
      "Epoch 22/200\n",
      "\u001b[1m20/20\u001b[0m \u001b[32m━━━━━━━━━━━━━━━━━━━━\u001b[0m\u001b[37m\u001b[0m \u001b[1m0s\u001b[0m 7ms/step - accuracy: 0.7740 - loss: 0.4315 - val_accuracy: 0.8052 - val_loss: 0.4359\n",
      "Epoch 23/200\n",
      "\u001b[1m20/20\u001b[0m \u001b[32m━━━━━━━━━━━━━━━━━━━━\u001b[0m\u001b[37m\u001b[0m \u001b[1m0s\u001b[0m 10ms/step - accuracy: 0.8087 - loss: 0.4141 - val_accuracy: 0.8117 - val_loss: 0.4386\n",
      "Epoch 24/200\n",
      "\u001b[1m20/20\u001b[0m \u001b[32m━━━━━━━━━━━━━━━━━━━━\u001b[0m\u001b[37m\u001b[0m \u001b[1m0s\u001b[0m 6ms/step - accuracy: 0.7862 - loss: 0.4324 - val_accuracy: 0.8117 - val_loss: 0.4381\n",
      "Epoch 25/200\n",
      "\u001b[1m20/20\u001b[0m \u001b[32m━━━━━━━━━━━━━━━━━━━━\u001b[0m\u001b[37m\u001b[0m \u001b[1m0s\u001b[0m 7ms/step - accuracy: 0.7955 - loss: 0.4351 - val_accuracy: 0.7922 - val_loss: 0.4386\n",
      "Epoch 26/200\n",
      "\u001b[1m20/20\u001b[0m \u001b[32m━━━━━━━━━━━━━━━━━━━━\u001b[0m\u001b[37m\u001b[0m \u001b[1m0s\u001b[0m 7ms/step - accuracy: 0.7975 - loss: 0.4254 - val_accuracy: 0.7922 - val_loss: 0.4391\n",
      "Epoch 27/200\n",
      "\u001b[1m20/20\u001b[0m \u001b[32m━━━━━━━━━━━━━━━━━━━━\u001b[0m\u001b[37m\u001b[0m \u001b[1m0s\u001b[0m 9ms/step - accuracy: 0.7938 - loss: 0.4366 - val_accuracy: 0.7922 - val_loss: 0.4370\n",
      "Epoch 28/200\n",
      "\u001b[1m20/20\u001b[0m \u001b[32m━━━━━━━━━━━━━━━━━━━━\u001b[0m\u001b[37m\u001b[0m \u001b[1m0s\u001b[0m 7ms/step - accuracy: 0.8303 - loss: 0.3966 - val_accuracy: 0.7922 - val_loss: 0.4361\n",
      "Epoch 29/200\n",
      "\u001b[1m20/20\u001b[0m \u001b[32m━━━━━━━━━━━━━━━━━━━━\u001b[0m\u001b[37m\u001b[0m \u001b[1m0s\u001b[0m 6ms/step - accuracy: 0.7875 - loss: 0.4377 - val_accuracy: 0.7987 - val_loss: 0.4362\n",
      "Epoch 30/200\n",
      "\u001b[1m20/20\u001b[0m \u001b[32m━━━━━━━━━━━━━━━━━━━━\u001b[0m\u001b[37m\u001b[0m \u001b[1m0s\u001b[0m 6ms/step - accuracy: 0.7929 - loss: 0.4348 - val_accuracy: 0.7922 - val_loss: 0.4385\n",
      "Epoch 31/200\n",
      "\u001b[1m20/20\u001b[0m \u001b[32m━━━━━━━━━━━━━━━━━━━━\u001b[0m\u001b[37m\u001b[0m \u001b[1m0s\u001b[0m 7ms/step - accuracy: 0.7805 - loss: 0.4517 - val_accuracy: 0.7987 - val_loss: 0.4390\n",
      "Epoch 32/200\n",
      "\u001b[1m20/20\u001b[0m \u001b[32m━━━━━━━━━━━━━━━━━━━━\u001b[0m\u001b[37m\u001b[0m \u001b[1m0s\u001b[0m 7ms/step - accuracy: 0.7912 - loss: 0.4597 - val_accuracy: 0.8117 - val_loss: 0.4381\n",
      "Epoch 33/200\n",
      "\u001b[1m20/20\u001b[0m \u001b[32m━━━━━━━━━━━━━━━━━━━━\u001b[0m\u001b[37m\u001b[0m \u001b[1m0s\u001b[0m 9ms/step - accuracy: 0.8105 - loss: 0.4110 - val_accuracy: 0.7987 - val_loss: 0.4373\n",
      "Epoch 34/200\n",
      "\u001b[1m20/20\u001b[0m \u001b[32m━━━━━━━━━━━━━━━━━━━━\u001b[0m\u001b[37m\u001b[0m \u001b[1m0s\u001b[0m 6ms/step - accuracy: 0.7961 - loss: 0.4422 - val_accuracy: 0.8052 - val_loss: 0.4389\n",
      "Epoch 35/200\n",
      "\u001b[1m20/20\u001b[0m \u001b[32m━━━━━━━━━━━━━━━━━━━━\u001b[0m\u001b[37m\u001b[0m \u001b[1m0s\u001b[0m 7ms/step - accuracy: 0.8018 - loss: 0.4131 - val_accuracy: 0.7987 - val_loss: 0.4380\n",
      "Epoch 36/200\n",
      "\u001b[1m20/20\u001b[0m \u001b[32m━━━━━━━━━━━━━━━━━━━━\u001b[0m\u001b[37m\u001b[0m \u001b[1m0s\u001b[0m 7ms/step - accuracy: 0.7959 - loss: 0.4167 - val_accuracy: 0.8117 - val_loss: 0.4387\n",
      "Epoch 37/200\n",
      "\u001b[1m20/20\u001b[0m \u001b[32m━━━━━━━━━━━━━━━━━━━━\u001b[0m\u001b[37m\u001b[0m \u001b[1m0s\u001b[0m 7ms/step - accuracy: 0.7879 - loss: 0.4394 - val_accuracy: 0.7987 - val_loss: 0.4389\n",
      "Epoch 38/200\n",
      "\u001b[1m20/20\u001b[0m \u001b[32m━━━━━━━━━━━━━━━━━━━━\u001b[0m\u001b[37m\u001b[0m \u001b[1m0s\u001b[0m 7ms/step - accuracy: 0.7934 - loss: 0.4049 - val_accuracy: 0.8052 - val_loss: 0.4380\n",
      "Epoch 39/200\n",
      "\u001b[1m20/20\u001b[0m \u001b[32m━━━━━━━━━━━━━━━━━━━━\u001b[0m\u001b[37m\u001b[0m \u001b[1m0s\u001b[0m 7ms/step - accuracy: 0.7877 - loss: 0.4375 - val_accuracy: 0.8117 - val_loss: 0.4382\n",
      "Epoch 40/200\n",
      "\u001b[1m20/20\u001b[0m \u001b[32m━━━━━━━━━━━━━━━━━━━━\u001b[0m\u001b[37m\u001b[0m \u001b[1m0s\u001b[0m 7ms/step - accuracy: 0.7758 - loss: 0.4632 - val_accuracy: 0.8117 - val_loss: 0.4399\n",
      "Epoch 41/200\n",
      "\u001b[1m20/20\u001b[0m \u001b[32m━━━━━━━━━━━━━━━━━━━━\u001b[0m\u001b[37m\u001b[0m \u001b[1m0s\u001b[0m 11ms/step - accuracy: 0.7760 - loss: 0.4484 - val_accuracy: 0.8117 - val_loss: 0.4386\n",
      "Epoch 42/200\n",
      "\u001b[1m20/20\u001b[0m \u001b[32m━━━━━━━━━━━━━━━━━━━━\u001b[0m\u001b[37m\u001b[0m \u001b[1m0s\u001b[0m 8ms/step - accuracy: 0.8078 - loss: 0.4275 - val_accuracy: 0.8117 - val_loss: 0.4382\n",
      "Epoch 43/200\n",
      "\u001b[1m20/20\u001b[0m \u001b[32m━━━━━━━━━━━━━━━━━━━━\u001b[0m\u001b[37m\u001b[0m \u001b[1m0s\u001b[0m 9ms/step - accuracy: 0.7971 - loss: 0.4290 - val_accuracy: 0.8117 - val_loss: 0.4382\n",
      "Epoch 44/200\n",
      "\u001b[1m20/20\u001b[0m \u001b[32m━━━━━━━━━━━━━━━━━━━━\u001b[0m\u001b[37m\u001b[0m \u001b[1m0s\u001b[0m 7ms/step - accuracy: 0.7923 - loss: 0.4145 - val_accuracy: 0.8117 - val_loss: 0.4387\n",
      "Epoch 45/200\n",
      "\u001b[1m20/20\u001b[0m \u001b[32m━━━━━━━━━━━━━━━━━━━━\u001b[0m\u001b[37m\u001b[0m \u001b[1m0s\u001b[0m 7ms/step - accuracy: 0.7913 - loss: 0.4485 - val_accuracy: 0.8117 - val_loss: 0.4369\n",
      "Epoch 46/200\n",
      "\u001b[1m20/20\u001b[0m \u001b[32m━━━━━━━━━━━━━━━━━━━━\u001b[0m\u001b[37m\u001b[0m \u001b[1m0s\u001b[0m 10ms/step - accuracy: 0.7956 - loss: 0.4234 - val_accuracy: 0.8117 - val_loss: 0.4378\n",
      "Epoch 47/200\n",
      "\u001b[1m20/20\u001b[0m \u001b[32m━━━━━━━━━━━━━━━━━━━━\u001b[0m\u001b[37m\u001b[0m \u001b[1m0s\u001b[0m 8ms/step - accuracy: 0.7877 - loss: 0.4300 - val_accuracy: 0.8117 - val_loss: 0.4369\n",
      "Epoch 48/200\n",
      "\u001b[1m20/20\u001b[0m \u001b[32m━━━━━━━━━━━━━━━━━━━━\u001b[0m\u001b[37m\u001b[0m \u001b[1m0s\u001b[0m 9ms/step - accuracy: 0.7965 - loss: 0.4183 - val_accuracy: 0.8117 - val_loss: 0.4379\n",
      "Epoch 49/200\n",
      "\u001b[1m20/20\u001b[0m \u001b[32m━━━━━━━━━━━━━━━━━━━━\u001b[0m\u001b[37m\u001b[0m \u001b[1m0s\u001b[0m 7ms/step - accuracy: 0.7937 - loss: 0.4237 - val_accuracy: 0.8117 - val_loss: 0.4387\n",
      "Epoch 50/200\n",
      "\u001b[1m20/20\u001b[0m \u001b[32m━━━━━━━━━━━━━━━━━━━━\u001b[0m\u001b[37m\u001b[0m \u001b[1m0s\u001b[0m 7ms/step - accuracy: 0.7830 - loss: 0.4375 - val_accuracy: 0.8117 - val_loss: 0.4396\n",
      "Epoch 51/200\n",
      "\u001b[1m20/20\u001b[0m \u001b[32m━━━━━━━━━━━━━━━━━━━━\u001b[0m\u001b[37m\u001b[0m \u001b[1m0s\u001b[0m 7ms/step - accuracy: 0.7895 - loss: 0.4324 - val_accuracy: 0.8117 - val_loss: 0.4399\n",
      "Epoch 52/200\n",
      "\u001b[1m20/20\u001b[0m \u001b[32m━━━━━━━━━━━━━━━━━━━━\u001b[0m\u001b[37m\u001b[0m \u001b[1m0s\u001b[0m 10ms/step - accuracy: 0.8107 - loss: 0.4064 - val_accuracy: 0.8052 - val_loss: 0.4415\n",
      "Epoch 53/200\n",
      "\u001b[1m20/20\u001b[0m \u001b[32m━━━━━━━━━━━━━━━━━━━━\u001b[0m\u001b[37m\u001b[0m \u001b[1m0s\u001b[0m 6ms/step - accuracy: 0.8286 - loss: 0.3964 - val_accuracy: 0.8117 - val_loss: 0.4421\n",
      "Epoch 54/200\n",
      "\u001b[1m20/20\u001b[0m \u001b[32m━━━━━━━━━━━━━━━━━━━━\u001b[0m\u001b[37m\u001b[0m \u001b[1m0s\u001b[0m 8ms/step - accuracy: 0.8054 - loss: 0.4220 - val_accuracy: 0.8052 - val_loss: 0.4400\n",
      "Epoch 55/200\n",
      "\u001b[1m20/20\u001b[0m \u001b[32m━━━━━━━━━━━━━━━━━━━━\u001b[0m\u001b[37m\u001b[0m \u001b[1m0s\u001b[0m 7ms/step - accuracy: 0.8052 - loss: 0.4088 - val_accuracy: 0.8182 - val_loss: 0.4414\n",
      "Epoch 56/200\n",
      "\u001b[1m20/20\u001b[0m \u001b[32m━━━━━━━━━━━━━━━━━━━━\u001b[0m\u001b[37m\u001b[0m \u001b[1m0s\u001b[0m 6ms/step - accuracy: 0.8025 - loss: 0.4204 - val_accuracy: 0.8182 - val_loss: 0.4424\n",
      "Epoch 57/200\n",
      "\u001b[1m20/20\u001b[0m \u001b[32m━━━━━━━━━━━━━━━━━━━━\u001b[0m\u001b[37m\u001b[0m \u001b[1m0s\u001b[0m 7ms/step - accuracy: 0.8048 - loss: 0.4241 - val_accuracy: 0.8182 - val_loss: 0.4416\n",
      "Epoch 58/200\n",
      "\u001b[1m20/20\u001b[0m \u001b[32m━━━━━━━━━━━━━━━━━━━━\u001b[0m\u001b[37m\u001b[0m \u001b[1m0s\u001b[0m 6ms/step - accuracy: 0.8310 - loss: 0.4024 - val_accuracy: 0.8182 - val_loss: 0.4440\n",
      "Epoch 59/200\n",
      "\u001b[1m20/20\u001b[0m \u001b[32m━━━━━━━━━━━━━━━━━━━━\u001b[0m\u001b[37m\u001b[0m \u001b[1m0s\u001b[0m 7ms/step - accuracy: 0.8076 - loss: 0.4244 - val_accuracy: 0.8247 - val_loss: 0.4431\n",
      "Epoch 60/200\n",
      "\u001b[1m20/20\u001b[0m \u001b[32m━━━━━━━━━━━━━━━━━━━━\u001b[0m\u001b[37m\u001b[0m \u001b[1m0s\u001b[0m 6ms/step - accuracy: 0.7979 - loss: 0.4052 - val_accuracy: 0.8182 - val_loss: 0.4432\n",
      "Epoch 61/200\n",
      "\u001b[1m20/20\u001b[0m \u001b[32m━━━━━━━━━━━━━━━━━━━━\u001b[0m\u001b[37m\u001b[0m \u001b[1m0s\u001b[0m 7ms/step - accuracy: 0.7958 - loss: 0.4298 - val_accuracy: 0.8247 - val_loss: 0.4418\n",
      "Epoch 62/200\n",
      "\u001b[1m20/20\u001b[0m \u001b[32m━━━━━━━━━━━━━━━━━━━━\u001b[0m\u001b[37m\u001b[0m \u001b[1m0s\u001b[0m 7ms/step - accuracy: 0.7939 - loss: 0.4352 - val_accuracy: 0.8182 - val_loss: 0.4424\n",
      "Epoch 63/200\n",
      "\u001b[1m20/20\u001b[0m \u001b[32m━━━━━━━━━━━━━━━━━━━━\u001b[0m\u001b[37m\u001b[0m \u001b[1m0s\u001b[0m 6ms/step - accuracy: 0.8290 - loss: 0.3936 - val_accuracy: 0.8247 - val_loss: 0.4405\n",
      "Epoch 64/200\n",
      "\u001b[1m20/20\u001b[0m \u001b[32m━━━━━━━━━━━━━━━━━━━━\u001b[0m\u001b[37m\u001b[0m \u001b[1m0s\u001b[0m 10ms/step - accuracy: 0.7954 - loss: 0.4252 - val_accuracy: 0.8247 - val_loss: 0.4428\n",
      "Epoch 65/200\n",
      "\u001b[1m20/20\u001b[0m \u001b[32m━━━━━━━━━━━━━━━━━━━━\u001b[0m\u001b[37m\u001b[0m \u001b[1m0s\u001b[0m 7ms/step - accuracy: 0.8095 - loss: 0.4074 - val_accuracy: 0.8247 - val_loss: 0.4414\n",
      "Epoch 66/200\n",
      "\u001b[1m20/20\u001b[0m \u001b[32m━━━━━━━━━━━━━━━━━━━━\u001b[0m\u001b[37m\u001b[0m \u001b[1m0s\u001b[0m 7ms/step - accuracy: 0.8203 - loss: 0.4175 - val_accuracy: 0.8247 - val_loss: 0.4405\n",
      "Epoch 67/200\n",
      "\u001b[1m20/20\u001b[0m \u001b[32m━━━━━━━━━━━━━━━━━━━━\u001b[0m\u001b[37m\u001b[0m \u001b[1m0s\u001b[0m 7ms/step - accuracy: 0.8179 - loss: 0.4062 - val_accuracy: 0.8247 - val_loss: 0.4419\n",
      "Epoch 68/200\n",
      "\u001b[1m20/20\u001b[0m \u001b[32m━━━━━━━━━━━━━━━━━━━━\u001b[0m\u001b[37m\u001b[0m \u001b[1m0s\u001b[0m 8ms/step - accuracy: 0.8379 - loss: 0.3852 - val_accuracy: 0.8182 - val_loss: 0.4423\n",
      "Epoch 69/200\n",
      "\u001b[1m20/20\u001b[0m \u001b[32m━━━━━━━━━━━━━━━━━━━━\u001b[0m\u001b[37m\u001b[0m \u001b[1m0s\u001b[0m 6ms/step - accuracy: 0.7888 - loss: 0.4217 - val_accuracy: 0.8117 - val_loss: 0.4417\n",
      "Epoch 70/200\n",
      "\u001b[1m20/20\u001b[0m \u001b[32m━━━━━━━━━━━━━━━━━━━━\u001b[0m\u001b[37m\u001b[0m \u001b[1m0s\u001b[0m 7ms/step - accuracy: 0.8510 - loss: 0.3628 - val_accuracy: 0.8182 - val_loss: 0.4441\n",
      "Epoch 71/200\n",
      "\u001b[1m20/20\u001b[0m \u001b[32m━━━━━━━━━━━━━━━━━━━━\u001b[0m\u001b[37m\u001b[0m \u001b[1m0s\u001b[0m 6ms/step - accuracy: 0.8414 - loss: 0.3918 - val_accuracy: 0.8117 - val_loss: 0.4469\n",
      "Epoch 72/200\n",
      "\u001b[1m20/20\u001b[0m \u001b[32m━━━━━━━━━━━━━━━━━━━━\u001b[0m\u001b[37m\u001b[0m \u001b[1m0s\u001b[0m 7ms/step - accuracy: 0.8276 - loss: 0.4013 - val_accuracy: 0.8182 - val_loss: 0.4453\n",
      "Epoch 73/200\n",
      "\u001b[1m20/20\u001b[0m \u001b[32m━━━━━━━━━━━━━━━━━━━━\u001b[0m\u001b[37m\u001b[0m \u001b[1m0s\u001b[0m 6ms/step - accuracy: 0.8350 - loss: 0.3885 - val_accuracy: 0.8182 - val_loss: 0.4420\n",
      "Epoch 74/200\n",
      "\u001b[1m20/20\u001b[0m \u001b[32m━━━━━━━━━━━━━━━━━━━━\u001b[0m\u001b[37m\u001b[0m \u001b[1m0s\u001b[0m 8ms/step - accuracy: 0.7982 - loss: 0.4144 - val_accuracy: 0.8182 - val_loss: 0.4432\n",
      "Epoch 75/200\n",
      "\u001b[1m20/20\u001b[0m \u001b[32m━━━━━━━━━━━━━━━━━━━━\u001b[0m\u001b[37m\u001b[0m \u001b[1m0s\u001b[0m 6ms/step - accuracy: 0.7973 - loss: 0.4204 - val_accuracy: 0.8182 - val_loss: 0.4444\n",
      "Epoch 76/200\n",
      "\u001b[1m20/20\u001b[0m \u001b[32m━━━━━━━━━━━━━━━━━━━━\u001b[0m\u001b[37m\u001b[0m \u001b[1m0s\u001b[0m 7ms/step - accuracy: 0.8393 - loss: 0.3815 - val_accuracy: 0.8182 - val_loss: 0.4450\n",
      "Epoch 77/200\n",
      "\u001b[1m20/20\u001b[0m \u001b[32m━━━━━━━━━━━━━━━━━━━━\u001b[0m\u001b[37m\u001b[0m \u001b[1m0s\u001b[0m 8ms/step - accuracy: 0.7980 - loss: 0.4211 - val_accuracy: 0.8247 - val_loss: 0.4442\n",
      "Epoch 78/200\n",
      "\u001b[1m20/20\u001b[0m \u001b[32m━━━━━━━━━━━━━━━━━━━━\u001b[0m\u001b[37m\u001b[0m \u001b[1m0s\u001b[0m 7ms/step - accuracy: 0.8195 - loss: 0.4120 - val_accuracy: 0.8182 - val_loss: 0.4475\n",
      "Epoch 79/200\n",
      "\u001b[1m20/20\u001b[0m \u001b[32m━━━━━━━━━━━━━━━━━━━━\u001b[0m\u001b[37m\u001b[0m \u001b[1m0s\u001b[0m 14ms/step - accuracy: 0.8161 - loss: 0.4312 - val_accuracy: 0.8182 - val_loss: 0.4452\n",
      "Epoch 80/200\n",
      "\u001b[1m20/20\u001b[0m \u001b[32m━━━━━━━━━━━━━━━━━━━━\u001b[0m\u001b[37m\u001b[0m \u001b[1m0s\u001b[0m 10ms/step - accuracy: 0.8050 - loss: 0.4152 - val_accuracy: 0.8182 - val_loss: 0.4437\n",
      "Epoch 81/200\n",
      "\u001b[1m20/20\u001b[0m \u001b[32m━━━━━━━━━━━━━━━━━━━━\u001b[0m\u001b[37m\u001b[0m \u001b[1m0s\u001b[0m 9ms/step - accuracy: 0.8037 - loss: 0.4126 - val_accuracy: 0.8247 - val_loss: 0.4449\n",
      "Epoch 82/200\n",
      "\u001b[1m20/20\u001b[0m \u001b[32m━━━━━━━━━━━━━━━━━━━━\u001b[0m\u001b[37m\u001b[0m \u001b[1m0s\u001b[0m 9ms/step - accuracy: 0.8126 - loss: 0.3999 - val_accuracy: 0.8182 - val_loss: 0.4450\n",
      "Epoch 83/200\n",
      "\u001b[1m20/20\u001b[0m \u001b[32m━━━━━━━━━━━━━━━━━━━━\u001b[0m\u001b[37m\u001b[0m \u001b[1m0s\u001b[0m 9ms/step - accuracy: 0.8016 - loss: 0.4199 - val_accuracy: 0.8117 - val_loss: 0.4459\n",
      "Epoch 84/200\n",
      "\u001b[1m20/20\u001b[0m \u001b[32m━━━━━━━━━━━━━━━━━━━━\u001b[0m\u001b[37m\u001b[0m \u001b[1m0s\u001b[0m 7ms/step - accuracy: 0.8398 - loss: 0.3867 - val_accuracy: 0.8182 - val_loss: 0.4447\n",
      "Epoch 85/200\n",
      "\u001b[1m20/20\u001b[0m \u001b[32m━━━━━━━━━━━━━━━━━━━━\u001b[0m\u001b[37m\u001b[0m \u001b[1m0s\u001b[0m 9ms/step - accuracy: 0.8337 - loss: 0.3997 - val_accuracy: 0.8182 - val_loss: 0.4470\n",
      "Epoch 86/200\n",
      "\u001b[1m20/20\u001b[0m \u001b[32m━━━━━━━━━━━━━━━━━━━━\u001b[0m\u001b[37m\u001b[0m \u001b[1m0s\u001b[0m 7ms/step - accuracy: 0.8181 - loss: 0.3912 - val_accuracy: 0.8182 - val_loss: 0.4453\n",
      "Epoch 87/200\n",
      "\u001b[1m20/20\u001b[0m \u001b[32m━━━━━━━━━━━━━━━━━━━━\u001b[0m\u001b[37m\u001b[0m \u001b[1m0s\u001b[0m 12ms/step - accuracy: 0.8079 - loss: 0.4156 - val_accuracy: 0.8052 - val_loss: 0.4466\n",
      "Epoch 88/200\n",
      "\u001b[1m20/20\u001b[0m \u001b[32m━━━━━━━━━━━━━━━━━━━━\u001b[0m\u001b[37m\u001b[0m \u001b[1m0s\u001b[0m 6ms/step - accuracy: 0.8075 - loss: 0.4196 - val_accuracy: 0.8052 - val_loss: 0.4463\n",
      "Epoch 89/200\n",
      "\u001b[1m20/20\u001b[0m \u001b[32m━━━━━━━━━━━━━━━━━━━━\u001b[0m\u001b[37m\u001b[0m \u001b[1m0s\u001b[0m 8ms/step - accuracy: 0.8168 - loss: 0.4051 - val_accuracy: 0.8182 - val_loss: 0.4442\n",
      "Epoch 90/200\n",
      "\u001b[1m20/20\u001b[0m \u001b[32m━━━━━━━━━━━━━━━━━━━━\u001b[0m\u001b[37m\u001b[0m \u001b[1m0s\u001b[0m 7ms/step - accuracy: 0.8266 - loss: 0.3714 - val_accuracy: 0.8117 - val_loss: 0.4485\n",
      "Epoch 91/200\n",
      "\u001b[1m20/20\u001b[0m \u001b[32m━━━━━━━━━━━━━━━━━━━━\u001b[0m\u001b[37m\u001b[0m \u001b[1m0s\u001b[0m 9ms/step - accuracy: 0.8147 - loss: 0.4121 - val_accuracy: 0.8117 - val_loss: 0.4490\n",
      "Epoch 92/200\n",
      "\u001b[1m20/20\u001b[0m \u001b[32m━━━━━━━━━━━━━━━━━━━━\u001b[0m\u001b[37m\u001b[0m \u001b[1m1s\u001b[0m 25ms/step - accuracy: 0.8295 - loss: 0.3936 - val_accuracy: 0.8117 - val_loss: 0.4488\n",
      "Epoch 93/200\n",
      "\u001b[1m20/20\u001b[0m \u001b[32m━━━━━━━━━━━━━━━━━━━━\u001b[0m\u001b[37m\u001b[0m \u001b[1m0s\u001b[0m 8ms/step - accuracy: 0.8227 - loss: 0.3909 - val_accuracy: 0.8117 - val_loss: 0.4483\n",
      "Epoch 94/200\n",
      "\u001b[1m20/20\u001b[0m \u001b[32m━━━━━━━━━━━━━━━━━━━━\u001b[0m\u001b[37m\u001b[0m \u001b[1m0s\u001b[0m 12ms/step - accuracy: 0.8331 - loss: 0.4008 - val_accuracy: 0.8117 - val_loss: 0.4481\n",
      "Epoch 95/200\n",
      "\u001b[1m20/20\u001b[0m \u001b[32m━━━━━━━━━━━━━━━━━━━━\u001b[0m\u001b[37m\u001b[0m \u001b[1m0s\u001b[0m 7ms/step - accuracy: 0.8091 - loss: 0.4024 - val_accuracy: 0.8117 - val_loss: 0.4474\n",
      "Epoch 96/200\n",
      "\u001b[1m20/20\u001b[0m \u001b[32m━━━━━━━━━━━━━━━━━━━━\u001b[0m\u001b[37m\u001b[0m \u001b[1m0s\u001b[0m 8ms/step - accuracy: 0.8083 - loss: 0.4058 - val_accuracy: 0.8117 - val_loss: 0.4491\n",
      "Epoch 97/200\n",
      "\u001b[1m20/20\u001b[0m \u001b[32m━━━━━━━━━━━━━━━━━━━━\u001b[0m\u001b[37m\u001b[0m \u001b[1m0s\u001b[0m 7ms/step - accuracy: 0.8092 - loss: 0.4177 - val_accuracy: 0.8182 - val_loss: 0.4475\n",
      "Epoch 98/200\n",
      "\u001b[1m20/20\u001b[0m \u001b[32m━━━━━━━━━━━━━━━━━━━━\u001b[0m\u001b[37m\u001b[0m \u001b[1m0s\u001b[0m 7ms/step - accuracy: 0.8428 - loss: 0.3726 - val_accuracy: 0.8182 - val_loss: 0.4476\n",
      "Epoch 99/200\n",
      "\u001b[1m20/20\u001b[0m \u001b[32m━━━━━━━━━━━━━━━━━━━━\u001b[0m\u001b[37m\u001b[0m \u001b[1m0s\u001b[0m 7ms/step - accuracy: 0.8201 - loss: 0.3935 - val_accuracy: 0.8182 - val_loss: 0.4489\n",
      "Epoch 100/200\n",
      "\u001b[1m20/20\u001b[0m \u001b[32m━━━━━━━━━━━━━━━━━━━━\u001b[0m\u001b[37m\u001b[0m \u001b[1m0s\u001b[0m 8ms/step - accuracy: 0.8232 - loss: 0.4012 - val_accuracy: 0.8117 - val_loss: 0.4496\n",
      "Epoch 101/200\n",
      "\u001b[1m20/20\u001b[0m \u001b[32m━━━━━━━━━━━━━━━━━━━━\u001b[0m\u001b[37m\u001b[0m \u001b[1m0s\u001b[0m 7ms/step - accuracy: 0.8174 - loss: 0.3828 - val_accuracy: 0.8052 - val_loss: 0.4506\n",
      "Epoch 102/200\n",
      "\u001b[1m20/20\u001b[0m \u001b[32m━━━━━━━━━━━━━━━━━━━━\u001b[0m\u001b[37m\u001b[0m \u001b[1m0s\u001b[0m 8ms/step - accuracy: 0.8342 - loss: 0.3799 - val_accuracy: 0.8117 - val_loss: 0.4495\n",
      "Epoch 103/200\n",
      "\u001b[1m20/20\u001b[0m \u001b[32m━━━━━━━━━━━━━━━━━━━━\u001b[0m\u001b[37m\u001b[0m \u001b[1m0s\u001b[0m 6ms/step - accuracy: 0.8016 - loss: 0.4105 - val_accuracy: 0.8052 - val_loss: 0.4513\n",
      "Epoch 104/200\n",
      "\u001b[1m20/20\u001b[0m \u001b[32m━━━━━━━━━━━━━━━━━━━━\u001b[0m\u001b[37m\u001b[0m \u001b[1m0s\u001b[0m 8ms/step - accuracy: 0.8043 - loss: 0.3849 - val_accuracy: 0.8052 - val_loss: 0.4517\n",
      "Epoch 105/200\n",
      "\u001b[1m20/20\u001b[0m \u001b[32m━━━━━━━━━━━━━━━━━━━━\u001b[0m\u001b[37m\u001b[0m \u001b[1m0s\u001b[0m 7ms/step - accuracy: 0.8084 - loss: 0.4123 - val_accuracy: 0.7922 - val_loss: 0.4543\n",
      "Epoch 106/200\n"
     ]
    },
    {
     "name": "stdout",
     "output_type": "stream",
     "text": [
      "\u001b[1m20/20\u001b[0m \u001b[32m━━━━━━━━━━━━━━━━━━━━\u001b[0m\u001b[37m\u001b[0m \u001b[1m0s\u001b[0m 8ms/step - accuracy: 0.8056 - loss: 0.4146 - val_accuracy: 0.7987 - val_loss: 0.4523\n",
      "Epoch 107/200\n",
      "\u001b[1m20/20\u001b[0m \u001b[32m━━━━━━━━━━━━━━━━━━━━\u001b[0m\u001b[37m\u001b[0m \u001b[1m0s\u001b[0m 10ms/step - accuracy: 0.8317 - loss: 0.3901 - val_accuracy: 0.8052 - val_loss: 0.4511\n",
      "Epoch 108/200\n",
      "\u001b[1m20/20\u001b[0m \u001b[32m━━━━━━━━━━━━━━━━━━━━\u001b[0m\u001b[37m\u001b[0m \u001b[1m0s\u001b[0m 6ms/step - accuracy: 0.8185 - loss: 0.4049 - val_accuracy: 0.8052 - val_loss: 0.4497\n",
      "Epoch 109/200\n",
      "\u001b[1m20/20\u001b[0m \u001b[32m━━━━━━━━━━━━━━━━━━━━\u001b[0m\u001b[37m\u001b[0m \u001b[1m0s\u001b[0m 10ms/step - accuracy: 0.8226 - loss: 0.3854 - val_accuracy: 0.8052 - val_loss: 0.4491\n",
      "Epoch 110/200\n",
      "\u001b[1m20/20\u001b[0m \u001b[32m━━━━━━━━━━━━━━━━━━━━\u001b[0m\u001b[37m\u001b[0m \u001b[1m0s\u001b[0m 9ms/step - accuracy: 0.8274 - loss: 0.3894 - val_accuracy: 0.8117 - val_loss: 0.4478\n",
      "Epoch 111/200\n",
      "\u001b[1m20/20\u001b[0m \u001b[32m━━━━━━━━━━━━━━━━━━━━\u001b[0m\u001b[37m\u001b[0m \u001b[1m0s\u001b[0m 9ms/step - accuracy: 0.8130 - loss: 0.3941 - val_accuracy: 0.8117 - val_loss: 0.4475\n",
      "Epoch 112/200\n",
      "\u001b[1m20/20\u001b[0m \u001b[32m━━━━━━━━━━━━━━━━━━━━\u001b[0m\u001b[37m\u001b[0m \u001b[1m0s\u001b[0m 8ms/step - accuracy: 0.8223 - loss: 0.3813 - val_accuracy: 0.8052 - val_loss: 0.4510\n",
      "Epoch 113/200\n",
      "\u001b[1m20/20\u001b[0m \u001b[32m━━━━━━━━━━━━━━━━━━━━\u001b[0m\u001b[37m\u001b[0m \u001b[1m0s\u001b[0m 8ms/step - accuracy: 0.8152 - loss: 0.3931 - val_accuracy: 0.8117 - val_loss: 0.4490\n",
      "Epoch 114/200\n",
      "\u001b[1m20/20\u001b[0m \u001b[32m━━━━━━━━━━━━━━━━━━━━\u001b[0m\u001b[37m\u001b[0m \u001b[1m0s\u001b[0m 7ms/step - accuracy: 0.8206 - loss: 0.3799 - val_accuracy: 0.8052 - val_loss: 0.4510\n",
      "Epoch 115/200\n",
      "\u001b[1m20/20\u001b[0m \u001b[32m━━━━━━━━━━━━━━━━━━━━\u001b[0m\u001b[37m\u001b[0m \u001b[1m0s\u001b[0m 8ms/step - accuracy: 0.8313 - loss: 0.3682 - val_accuracy: 0.7987 - val_loss: 0.4512\n",
      "Epoch 116/200\n",
      "\u001b[1m20/20\u001b[0m \u001b[32m━━━━━━━━━━━━━━━━━━━━\u001b[0m\u001b[37m\u001b[0m \u001b[1m0s\u001b[0m 7ms/step - accuracy: 0.8190 - loss: 0.3948 - val_accuracy: 0.7987 - val_loss: 0.4543\n",
      "Epoch 117/200\n",
      "\u001b[1m20/20\u001b[0m \u001b[32m━━━━━━━━━━━━━━━━━━━━\u001b[0m\u001b[37m\u001b[0m \u001b[1m0s\u001b[0m 6ms/step - accuracy: 0.8271 - loss: 0.3776 - val_accuracy: 0.8117 - val_loss: 0.4522\n",
      "Epoch 118/200\n",
      "\u001b[1m20/20\u001b[0m \u001b[32m━━━━━━━━━━━━━━━━━━━━\u001b[0m\u001b[37m\u001b[0m \u001b[1m0s\u001b[0m 8ms/step - accuracy: 0.8295 - loss: 0.3964 - val_accuracy: 0.8117 - val_loss: 0.4518\n",
      "Epoch 119/200\n",
      "\u001b[1m20/20\u001b[0m \u001b[32m━━━━━━━━━━━━━━━━━━━━\u001b[0m\u001b[37m\u001b[0m \u001b[1m0s\u001b[0m 8ms/step - accuracy: 0.8258 - loss: 0.3908 - val_accuracy: 0.8052 - val_loss: 0.4492\n",
      "Epoch 120/200\n",
      "\u001b[1m20/20\u001b[0m \u001b[32m━━━━━━━━━━━━━━━━━━━━\u001b[0m\u001b[37m\u001b[0m \u001b[1m0s\u001b[0m 8ms/step - accuracy: 0.8221 - loss: 0.3926 - val_accuracy: 0.8117 - val_loss: 0.4486\n",
      "Epoch 121/200\n",
      "\u001b[1m20/20\u001b[0m \u001b[32m━━━━━━━━━━━━━━━━━━━━\u001b[0m\u001b[37m\u001b[0m \u001b[1m0s\u001b[0m 7ms/step - accuracy: 0.7985 - loss: 0.4019 - val_accuracy: 0.8117 - val_loss: 0.4535\n",
      "Epoch 122/200\n",
      "\u001b[1m20/20\u001b[0m \u001b[32m━━━━━━━━━━━━━━━━━━━━\u001b[0m\u001b[37m\u001b[0m \u001b[1m0s\u001b[0m 8ms/step - accuracy: 0.8209 - loss: 0.3694 - val_accuracy: 0.7987 - val_loss: 0.4548\n",
      "Epoch 123/200\n",
      "\u001b[1m20/20\u001b[0m \u001b[32m━━━━━━━━━━━━━━━━━━━━\u001b[0m\u001b[37m\u001b[0m \u001b[1m0s\u001b[0m 9ms/step - accuracy: 0.8310 - loss: 0.3735 - val_accuracy: 0.8052 - val_loss: 0.4522\n",
      "Epoch 124/200\n",
      "\u001b[1m20/20\u001b[0m \u001b[32m━━━━━━━━━━━━━━━━━━━━\u001b[0m\u001b[37m\u001b[0m \u001b[1m0s\u001b[0m 11ms/step - accuracy: 0.8197 - loss: 0.3908 - val_accuracy: 0.7987 - val_loss: 0.4562\n",
      "Epoch 125/200\n",
      "\u001b[1m20/20\u001b[0m \u001b[32m━━━━━━━━━━━━━━━━━━━━\u001b[0m\u001b[37m\u001b[0m \u001b[1m0s\u001b[0m 8ms/step - accuracy: 0.8430 - loss: 0.3666 - val_accuracy: 0.8052 - val_loss: 0.4538\n",
      "Epoch 126/200\n",
      "\u001b[1m20/20\u001b[0m \u001b[32m━━━━━━━━━━━━━━━━━━━━\u001b[0m\u001b[37m\u001b[0m \u001b[1m0s\u001b[0m 8ms/step - accuracy: 0.8434 - loss: 0.3864 - val_accuracy: 0.7987 - val_loss: 0.4565\n",
      "Epoch 127/200\n",
      "\u001b[1m20/20\u001b[0m \u001b[32m━━━━━━━━━━━━━━━━━━━━\u001b[0m\u001b[37m\u001b[0m \u001b[1m0s\u001b[0m 6ms/step - accuracy: 0.8219 - loss: 0.3948 - val_accuracy: 0.8052 - val_loss: 0.4554\n",
      "Epoch 128/200\n",
      "\u001b[1m20/20\u001b[0m \u001b[32m━━━━━━━━━━━━━━━━━━━━\u001b[0m\u001b[37m\u001b[0m \u001b[1m0s\u001b[0m 13ms/step - accuracy: 0.8241 - loss: 0.3909 - val_accuracy: 0.7987 - val_loss: 0.4566\n",
      "Epoch 129/200\n",
      "\u001b[1m20/20\u001b[0m \u001b[32m━━━━━━━━━━━━━━━━━━━━\u001b[0m\u001b[37m\u001b[0m \u001b[1m0s\u001b[0m 9ms/step - accuracy: 0.7990 - loss: 0.4125 - val_accuracy: 0.8052 - val_loss: 0.4563\n",
      "Epoch 130/200\n",
      "\u001b[1m20/20\u001b[0m \u001b[32m━━━━━━━━━━━━━━━━━━━━\u001b[0m\u001b[37m\u001b[0m \u001b[1m0s\u001b[0m 7ms/step - accuracy: 0.8366 - loss: 0.3990 - val_accuracy: 0.8052 - val_loss: 0.4538\n",
      "Epoch 131/200\n",
      "\u001b[1m20/20\u001b[0m \u001b[32m━━━━━━━━━━━━━━━━━━━━\u001b[0m\u001b[37m\u001b[0m \u001b[1m0s\u001b[0m 7ms/step - accuracy: 0.8394 - loss: 0.3769 - val_accuracy: 0.8052 - val_loss: 0.4568\n",
      "Epoch 132/200\n",
      "\u001b[1m20/20\u001b[0m \u001b[32m━━━━━━━━━━━━━━━━━━━━\u001b[0m\u001b[37m\u001b[0m \u001b[1m0s\u001b[0m 6ms/step - accuracy: 0.8161 - loss: 0.3945 - val_accuracy: 0.7922 - val_loss: 0.4550\n",
      "Epoch 133/200\n",
      "\u001b[1m20/20\u001b[0m \u001b[32m━━━━━━━━━━━━━━━━━━━━\u001b[0m\u001b[37m\u001b[0m \u001b[1m0s\u001b[0m 8ms/step - accuracy: 0.8144 - loss: 0.4182 - val_accuracy: 0.7987 - val_loss: 0.4582\n",
      "Epoch 134/200\n",
      "\u001b[1m20/20\u001b[0m \u001b[32m━━━━━━━━━━━━━━━━━━━━\u001b[0m\u001b[37m\u001b[0m \u001b[1m0s\u001b[0m 7ms/step - accuracy: 0.8234 - loss: 0.3972 - val_accuracy: 0.7857 - val_loss: 0.4617\n",
      "Epoch 135/200\n",
      "\u001b[1m20/20\u001b[0m \u001b[32m━━━━━━━━━━━━━━━━━━━━\u001b[0m\u001b[37m\u001b[0m \u001b[1m0s\u001b[0m 7ms/step - accuracy: 0.8279 - loss: 0.3953 - val_accuracy: 0.7987 - val_loss: 0.4617\n",
      "Epoch 136/200\n",
      "\u001b[1m20/20\u001b[0m \u001b[32m━━━━━━━━━━━━━━━━━━━━\u001b[0m\u001b[37m\u001b[0m \u001b[1m0s\u001b[0m 6ms/step - accuracy: 0.8045 - loss: 0.3894 - val_accuracy: 0.7987 - val_loss: 0.4569\n",
      "Epoch 137/200\n",
      "\u001b[1m20/20\u001b[0m \u001b[32m━━━━━━━━━━━━━━━━━━━━\u001b[0m\u001b[37m\u001b[0m \u001b[1m0s\u001b[0m 7ms/step - accuracy: 0.8025 - loss: 0.4225 - val_accuracy: 0.7987 - val_loss: 0.4556\n",
      "Epoch 138/200\n",
      "\u001b[1m20/20\u001b[0m \u001b[32m━━━━━━━━━━━━━━━━━━━━\u001b[0m\u001b[37m\u001b[0m \u001b[1m0s\u001b[0m 8ms/step - accuracy: 0.8308 - loss: 0.3850 - val_accuracy: 0.7922 - val_loss: 0.4592\n",
      "Epoch 139/200\n",
      "\u001b[1m20/20\u001b[0m \u001b[32m━━━━━━━━━━━━━━━━━━━━\u001b[0m\u001b[37m\u001b[0m \u001b[1m0s\u001b[0m 9ms/step - accuracy: 0.8295 - loss: 0.3814 - val_accuracy: 0.7922 - val_loss: 0.4554\n",
      "Epoch 140/200\n",
      "\u001b[1m20/20\u001b[0m \u001b[32m━━━━━━━━━━━━━━━━━━━━\u001b[0m\u001b[37m\u001b[0m \u001b[1m0s\u001b[0m 10ms/step - accuracy: 0.8284 - loss: 0.3675 - val_accuracy: 0.7987 - val_loss: 0.4544\n",
      "Epoch 141/200\n",
      "\u001b[1m20/20\u001b[0m \u001b[32m━━━━━━━━━━━━━━━━━━━━\u001b[0m\u001b[37m\u001b[0m \u001b[1m0s\u001b[0m 8ms/step - accuracy: 0.8374 - loss: 0.3746 - val_accuracy: 0.8052 - val_loss: 0.4513\n",
      "Epoch 142/200\n",
      "\u001b[1m20/20\u001b[0m \u001b[32m━━━━━━━━━━━━━━━━━━━━\u001b[0m\u001b[37m\u001b[0m \u001b[1m0s\u001b[0m 7ms/step - accuracy: 0.8247 - loss: 0.4011 - val_accuracy: 0.8052 - val_loss: 0.4510\n",
      "Epoch 143/200\n",
      "\u001b[1m20/20\u001b[0m \u001b[32m━━━━━━━━━━━━━━━━━━━━\u001b[0m\u001b[37m\u001b[0m \u001b[1m0s\u001b[0m 8ms/step - accuracy: 0.8199 - loss: 0.3988 - val_accuracy: 0.7987 - val_loss: 0.4532\n",
      "Epoch 144/200\n",
      "\u001b[1m20/20\u001b[0m \u001b[32m━━━━━━━━━━━━━━━━━━━━\u001b[0m\u001b[37m\u001b[0m \u001b[1m0s\u001b[0m 7ms/step - accuracy: 0.8402 - loss: 0.3567 - val_accuracy: 0.7987 - val_loss: 0.4575\n",
      "Epoch 145/200\n",
      "\u001b[1m20/20\u001b[0m \u001b[32m━━━━━━━━━━━━━━━━━━━━\u001b[0m\u001b[37m\u001b[0m \u001b[1m0s\u001b[0m 6ms/step - accuracy: 0.8156 - loss: 0.3843 - val_accuracy: 0.7987 - val_loss: 0.4614\n",
      "Epoch 146/200\n",
      "\u001b[1m20/20\u001b[0m \u001b[32m━━━━━━━━━━━━━━━━━━━━\u001b[0m\u001b[37m\u001b[0m \u001b[1m0s\u001b[0m 8ms/step - accuracy: 0.8386 - loss: 0.3767 - val_accuracy: 0.7987 - val_loss: 0.4553\n",
      "Epoch 147/200\n",
      "\u001b[1m20/20\u001b[0m \u001b[32m━━━━━━━━━━━━━━━━━━━━\u001b[0m\u001b[37m\u001b[0m \u001b[1m0s\u001b[0m 8ms/step - accuracy: 0.8070 - loss: 0.4060 - val_accuracy: 0.8052 - val_loss: 0.4570\n",
      "Epoch 148/200\n",
      "\u001b[1m20/20\u001b[0m \u001b[32m━━━━━━━━━━━━━━━━━━━━\u001b[0m\u001b[37m\u001b[0m \u001b[1m0s\u001b[0m 8ms/step - accuracy: 0.8259 - loss: 0.3933 - val_accuracy: 0.8052 - val_loss: 0.4575\n",
      "Epoch 149/200\n",
      "\u001b[1m20/20\u001b[0m \u001b[32m━━━━━━━━━━━━━━━━━━━━\u001b[0m\u001b[37m\u001b[0m \u001b[1m0s\u001b[0m 8ms/step - accuracy: 0.8372 - loss: 0.3873 - val_accuracy: 0.8052 - val_loss: 0.4569\n",
      "Epoch 150/200\n",
      "\u001b[1m20/20\u001b[0m \u001b[32m━━━━━━━━━━━━━━━━━━━━\u001b[0m\u001b[37m\u001b[0m \u001b[1m0s\u001b[0m 6ms/step - accuracy: 0.8324 - loss: 0.3868 - val_accuracy: 0.8052 - val_loss: 0.4552\n",
      "Epoch 151/200\n",
      "\u001b[1m20/20\u001b[0m \u001b[32m━━━━━━━━━━━━━━━━━━━━\u001b[0m\u001b[37m\u001b[0m \u001b[1m0s\u001b[0m 9ms/step - accuracy: 0.8210 - loss: 0.3902 - val_accuracy: 0.8052 - val_loss: 0.4606\n",
      "Epoch 152/200\n",
      "\u001b[1m20/20\u001b[0m \u001b[32m━━━━━━━━━━━━━━━━━━━━\u001b[0m\u001b[37m\u001b[0m \u001b[1m0s\u001b[0m 7ms/step - accuracy: 0.8506 - loss: 0.3678 - val_accuracy: 0.7987 - val_loss: 0.4542\n",
      "Epoch 153/200\n",
      "\u001b[1m20/20\u001b[0m \u001b[32m━━━━━━━━━━━━━━━━━━━━\u001b[0m\u001b[37m\u001b[0m \u001b[1m0s\u001b[0m 10ms/step - accuracy: 0.8104 - loss: 0.4110 - val_accuracy: 0.8052 - val_loss: 0.4578\n",
      "Epoch 154/200\n",
      "\u001b[1m20/20\u001b[0m \u001b[32m━━━━━━━━━━━━━━━━━━━━\u001b[0m\u001b[37m\u001b[0m \u001b[1m0s\u001b[0m 6ms/step - accuracy: 0.8319 - loss: 0.3621 - val_accuracy: 0.8052 - val_loss: 0.4548\n",
      "Epoch 155/200\n",
      "\u001b[1m20/20\u001b[0m \u001b[32m━━━━━━━━━━━━━━━━━━━━\u001b[0m\u001b[37m\u001b[0m \u001b[1m0s\u001b[0m 8ms/step - accuracy: 0.8430 - loss: 0.3786 - val_accuracy: 0.7922 - val_loss: 0.4556\n",
      "Epoch 156/200\n",
      "\u001b[1m20/20\u001b[0m \u001b[32m━━━━━━━━━━━━━━━━━━━━\u001b[0m\u001b[37m\u001b[0m \u001b[1m0s\u001b[0m 6ms/step - accuracy: 0.8246 - loss: 0.3681 - val_accuracy: 0.7857 - val_loss: 0.4560\n",
      "Epoch 157/200\n",
      "\u001b[1m20/20\u001b[0m \u001b[32m━━━━━━━━━━━━━━━━━━━━\u001b[0m\u001b[37m\u001b[0m \u001b[1m0s\u001b[0m 6ms/step - accuracy: 0.8356 - loss: 0.3579 - val_accuracy: 0.7857 - val_loss: 0.4561\n",
      "Epoch 158/200\n",
      "\u001b[1m20/20\u001b[0m \u001b[32m━━━━━━━━━━━━━━━━━━━━\u001b[0m\u001b[37m\u001b[0m \u001b[1m0s\u001b[0m 6ms/step - accuracy: 0.8516 - loss: 0.3589 - val_accuracy: 0.7987 - val_loss: 0.4564\n",
      "Epoch 159/200\n",
      "\u001b[1m20/20\u001b[0m \u001b[32m━━━━━━━━━━━━━━━━━━━━\u001b[0m\u001b[37m\u001b[0m \u001b[1m0s\u001b[0m 6ms/step - accuracy: 0.8387 - loss: 0.3859 - val_accuracy: 0.7922 - val_loss: 0.4586\n",
      "Epoch 160/200\n",
      "\u001b[1m20/20\u001b[0m \u001b[32m━━━━━━━━━━━━━━━━━━━━\u001b[0m\u001b[37m\u001b[0m \u001b[1m0s\u001b[0m 6ms/step - accuracy: 0.8385 - loss: 0.3731 - val_accuracy: 0.7922 - val_loss: 0.4597\n",
      "Epoch 161/200\n",
      "\u001b[1m20/20\u001b[0m \u001b[32m━━━━━━━━━━━━━━━━━━━━\u001b[0m\u001b[37m\u001b[0m \u001b[1m0s\u001b[0m 7ms/step - accuracy: 0.8377 - loss: 0.3516 - val_accuracy: 0.7857 - val_loss: 0.4633\n",
      "Epoch 162/200\n",
      "\u001b[1m20/20\u001b[0m \u001b[32m━━━━━━━━━━━━━━━━━━━━\u001b[0m\u001b[37m\u001b[0m \u001b[1m0s\u001b[0m 6ms/step - accuracy: 0.8338 - loss: 0.3836 - val_accuracy: 0.7922 - val_loss: 0.4575\n",
      "Epoch 163/200\n",
      "\u001b[1m20/20\u001b[0m \u001b[32m━━━━━━━━━━━━━━━━━━━━\u001b[0m\u001b[37m\u001b[0m \u001b[1m0s\u001b[0m 7ms/step - accuracy: 0.8477 - loss: 0.3429 - val_accuracy: 0.7922 - val_loss: 0.4593\n",
      "Epoch 164/200\n",
      "\u001b[1m20/20\u001b[0m \u001b[32m━━━━━━━━━━━━━━━━━━━━\u001b[0m\u001b[37m\u001b[0m \u001b[1m0s\u001b[0m 7ms/step - accuracy: 0.8440 - loss: 0.3537 - val_accuracy: 0.7987 - val_loss: 0.4579\n",
      "Epoch 165/200\n",
      "\u001b[1m20/20\u001b[0m \u001b[32m━━━━━━━━━━━━━━━━━━━━\u001b[0m\u001b[37m\u001b[0m \u001b[1m0s\u001b[0m 8ms/step - accuracy: 0.8297 - loss: 0.3795 - val_accuracy: 0.7987 - val_loss: 0.4599\n",
      "Epoch 166/200\n",
      "\u001b[1m20/20\u001b[0m \u001b[32m━━━━━━━━━━━━━━━━━━━━\u001b[0m\u001b[37m\u001b[0m \u001b[1m0s\u001b[0m 7ms/step - accuracy: 0.8422 - loss: 0.3622 - val_accuracy: 0.7987 - val_loss: 0.4623\n",
      "Epoch 167/200\n",
      "\u001b[1m20/20\u001b[0m \u001b[32m━━━━━━━━━━━━━━━━━━━━\u001b[0m\u001b[37m\u001b[0m \u001b[1m0s\u001b[0m 6ms/step - accuracy: 0.8425 - loss: 0.3648 - val_accuracy: 0.7922 - val_loss: 0.4623\n",
      "Epoch 168/200\n",
      "\u001b[1m20/20\u001b[0m \u001b[32m━━━━━━━━━━━━━━━━━━━━\u001b[0m\u001b[37m\u001b[0m \u001b[1m0s\u001b[0m 6ms/step - accuracy: 0.8314 - loss: 0.3724 - val_accuracy: 0.7922 - val_loss: 0.4607\n",
      "Epoch 169/200\n",
      "\u001b[1m20/20\u001b[0m \u001b[32m━━━━━━━━━━━━━━━━━━━━\u001b[0m\u001b[37m\u001b[0m \u001b[1m0s\u001b[0m 6ms/step - accuracy: 0.8371 - loss: 0.3721 - val_accuracy: 0.8052 - val_loss: 0.4576\n",
      "Epoch 170/200\n",
      "\u001b[1m20/20\u001b[0m \u001b[32m━━━━━━━━━━━━━━━━━━━━\u001b[0m\u001b[37m\u001b[0m \u001b[1m0s\u001b[0m 6ms/step - accuracy: 0.8434 - loss: 0.3666 - val_accuracy: 0.7987 - val_loss: 0.4559\n",
      "Epoch 171/200\n",
      "\u001b[1m20/20\u001b[0m \u001b[32m━━━━━━━━━━━━━━━━━━━━\u001b[0m\u001b[37m\u001b[0m \u001b[1m0s\u001b[0m 7ms/step - accuracy: 0.8421 - loss: 0.3735 - val_accuracy: 0.7922 - val_loss: 0.4567\n",
      "Epoch 172/200\n",
      "\u001b[1m20/20\u001b[0m \u001b[32m━━━━━━━━━━━━━━━━━━━━\u001b[0m\u001b[37m\u001b[0m \u001b[1m0s\u001b[0m 9ms/step - accuracy: 0.8337 - loss: 0.3723 - val_accuracy: 0.8052 - val_loss: 0.4594\n",
      "Epoch 173/200\n",
      "\u001b[1m20/20\u001b[0m \u001b[32m━━━━━━━━━━━━━━━━━━━━\u001b[0m\u001b[37m\u001b[0m \u001b[1m0s\u001b[0m 9ms/step - accuracy: 0.8149 - loss: 0.3816 - val_accuracy: 0.7922 - val_loss: 0.4635\n",
      "Epoch 174/200\n",
      "\u001b[1m20/20\u001b[0m \u001b[32m━━━━━━━━━━━━━━━━━━━━\u001b[0m\u001b[37m\u001b[0m \u001b[1m0s\u001b[0m 6ms/step - accuracy: 0.8415 - loss: 0.3803 - val_accuracy: 0.7922 - val_loss: 0.4610\n",
      "Epoch 175/200\n",
      "\u001b[1m20/20\u001b[0m \u001b[32m━━━━━━━━━━━━━━━━━━━━\u001b[0m\u001b[37m\u001b[0m \u001b[1m0s\u001b[0m 8ms/step - accuracy: 0.8477 - loss: 0.3545 - val_accuracy: 0.7922 - val_loss: 0.4610\n",
      "Epoch 176/200\n",
      "\u001b[1m20/20\u001b[0m \u001b[32m━━━━━━━━━━━━━━━━━━━━\u001b[0m\u001b[37m\u001b[0m \u001b[1m0s\u001b[0m 8ms/step - accuracy: 0.8360 - loss: 0.3829 - val_accuracy: 0.7922 - val_loss: 0.4634\n",
      "Epoch 177/200\n",
      "\u001b[1m20/20\u001b[0m \u001b[32m━━━━━━━━━━━━━━━━━━━━\u001b[0m\u001b[37m\u001b[0m \u001b[1m0s\u001b[0m 6ms/step - accuracy: 0.8386 - loss: 0.3555 - val_accuracy: 0.8052 - val_loss: 0.4617\n",
      "Epoch 178/200\n",
      "\u001b[1m20/20\u001b[0m \u001b[32m━━━━━━━━━━━━━━━━━━━━\u001b[0m\u001b[37m\u001b[0m \u001b[1m0s\u001b[0m 8ms/step - accuracy: 0.8596 - loss: 0.3382 - val_accuracy: 0.8052 - val_loss: 0.4628\n",
      "Epoch 179/200\n",
      "\u001b[1m20/20\u001b[0m \u001b[32m━━━━━━━━━━━━━━━━━━━━\u001b[0m\u001b[37m\u001b[0m \u001b[1m0s\u001b[0m 7ms/step - accuracy: 0.8719 - loss: 0.3487 - val_accuracy: 0.8052 - val_loss: 0.4612\n",
      "Epoch 180/200\n",
      "\u001b[1m20/20\u001b[0m \u001b[32m━━━━━━━━━━━━━━━━━━━━\u001b[0m\u001b[37m\u001b[0m \u001b[1m0s\u001b[0m 7ms/step - accuracy: 0.8577 - loss: 0.3429 - val_accuracy: 0.7987 - val_loss: 0.4626\n",
      "Epoch 181/200\n",
      "\u001b[1m20/20\u001b[0m \u001b[32m━━━━━━━━━━━━━━━━━━━━\u001b[0m\u001b[37m\u001b[0m \u001b[1m0s\u001b[0m 7ms/step - accuracy: 0.8508 - loss: 0.3453 - val_accuracy: 0.7922 - val_loss: 0.4634\n",
      "Epoch 182/200\n",
      "\u001b[1m20/20\u001b[0m \u001b[32m━━━━━━━━━━━━━━━━━━━━\u001b[0m\u001b[37m\u001b[0m \u001b[1m0s\u001b[0m 10ms/step - accuracy: 0.8266 - loss: 0.3862 - val_accuracy: 0.7987 - val_loss: 0.4646\n",
      "Epoch 183/200\n",
      "\u001b[1m20/20\u001b[0m \u001b[32m━━━━━━━━━━━━━━━━━━━━\u001b[0m\u001b[37m\u001b[0m \u001b[1m0s\u001b[0m 7ms/step - accuracy: 0.8706 - loss: 0.3512 - val_accuracy: 0.7922 - val_loss: 0.4624\n",
      "Epoch 184/200\n",
      "\u001b[1m20/20\u001b[0m \u001b[32m━━━━━━━━━━━━━━━━━━━━\u001b[0m\u001b[37m\u001b[0m \u001b[1m0s\u001b[0m 7ms/step - accuracy: 0.8446 - loss: 0.3647 - val_accuracy: 0.7987 - val_loss: 0.4634\n",
      "Epoch 185/200\n",
      "\u001b[1m20/20\u001b[0m \u001b[32m━━━━━━━━━━━━━━━━━━━━\u001b[0m\u001b[37m\u001b[0m \u001b[1m0s\u001b[0m 6ms/step - accuracy: 0.8346 - loss: 0.3717 - val_accuracy: 0.7987 - val_loss: 0.4640\n",
      "Epoch 186/200\n",
      "\u001b[1m20/20\u001b[0m \u001b[32m━━━━━━━━━━━━━━━━━━━━\u001b[0m\u001b[37m\u001b[0m \u001b[1m0s\u001b[0m 6ms/step - accuracy: 0.8384 - loss: 0.3496 - val_accuracy: 0.7857 - val_loss: 0.4636\n",
      "Epoch 187/200\n",
      "\u001b[1m20/20\u001b[0m \u001b[32m━━━━━━━━━━━━━━━━━━━━\u001b[0m\u001b[37m\u001b[0m \u001b[1m0s\u001b[0m 7ms/step - accuracy: 0.8654 - loss: 0.3567 - val_accuracy: 0.7922 - val_loss: 0.4624\n",
      "Epoch 188/200\n",
      "\u001b[1m20/20\u001b[0m \u001b[32m━━━━━━━━━━━━━━━━━━━━\u001b[0m\u001b[37m\u001b[0m \u001b[1m0s\u001b[0m 9ms/step - accuracy: 0.8279 - loss: 0.3645 - val_accuracy: 0.7857 - val_loss: 0.4631\n",
      "Epoch 189/200\n",
      "\u001b[1m20/20\u001b[0m \u001b[32m━━━━━━━━━━━━━━━━━━━━\u001b[0m\u001b[37m\u001b[0m \u001b[1m0s\u001b[0m 7ms/step - accuracy: 0.8435 - loss: 0.3542 - val_accuracy: 0.7922 - val_loss: 0.4622\n",
      "Epoch 190/200\n",
      "\u001b[1m20/20\u001b[0m \u001b[32m━━━━━━━━━━━━━━━━━━━━\u001b[0m\u001b[37m\u001b[0m \u001b[1m0s\u001b[0m 8ms/step - accuracy: 0.8770 - loss: 0.3167 - val_accuracy: 0.7922 - val_loss: 0.4608\n",
      "Epoch 191/200\n",
      "\u001b[1m20/20\u001b[0m \u001b[32m━━━━━━━━━━━━━━━━━━━━\u001b[0m\u001b[37m\u001b[0m \u001b[1m0s\u001b[0m 11ms/step - accuracy: 0.8390 - loss: 0.3627 - val_accuracy: 0.7857 - val_loss: 0.4639\n",
      "Epoch 192/200\n",
      "\u001b[1m20/20\u001b[0m \u001b[32m━━━━━━━━━━━━━━━━━━━━\u001b[0m\u001b[37m\u001b[0m \u001b[1m0s\u001b[0m 7ms/step - accuracy: 0.8167 - loss: 0.3782 - val_accuracy: 0.7922 - val_loss: 0.4625\n",
      "Epoch 193/200\n",
      "\u001b[1m20/20\u001b[0m \u001b[32m━━━━━━━━━━━━━━━━━━━━\u001b[0m\u001b[37m\u001b[0m \u001b[1m0s\u001b[0m 7ms/step - accuracy: 0.8362 - loss: 0.3774 - val_accuracy: 0.7922 - val_loss: 0.4618\n",
      "Epoch 194/200\n",
      "\u001b[1m20/20\u001b[0m \u001b[32m━━━━━━━━━━━━━━━━━━━━\u001b[0m\u001b[37m\u001b[0m \u001b[1m0s\u001b[0m 8ms/step - accuracy: 0.8428 - loss: 0.3599 - val_accuracy: 0.7922 - val_loss: 0.4639\n",
      "Epoch 195/200\n",
      "\u001b[1m20/20\u001b[0m \u001b[32m━━━━━━━━━━━━━━━━━━━━\u001b[0m\u001b[37m\u001b[0m \u001b[1m0s\u001b[0m 8ms/step - accuracy: 0.8578 - loss: 0.3372 - val_accuracy: 0.7987 - val_loss: 0.4628\n",
      "Epoch 196/200\n",
      "\u001b[1m20/20\u001b[0m \u001b[32m━━━━━━━━━━━━━━━━━━━━\u001b[0m\u001b[37m\u001b[0m \u001b[1m0s\u001b[0m 8ms/step - accuracy: 0.8350 - loss: 0.3674 - val_accuracy: 0.8052 - val_loss: 0.4607\n",
      "Epoch 197/200\n",
      "\u001b[1m20/20\u001b[0m \u001b[32m━━━━━━━━━━━━━━━━━━━━\u001b[0m\u001b[37m\u001b[0m \u001b[1m0s\u001b[0m 7ms/step - accuracy: 0.8463 - loss: 0.3613 - val_accuracy: 0.7857 - val_loss: 0.4644\n",
      "Epoch 198/200\n",
      "\u001b[1m20/20\u001b[0m \u001b[32m━━━━━━━━━━━━━━━━━━━━\u001b[0m\u001b[37m\u001b[0m \u001b[1m0s\u001b[0m 9ms/step - accuracy: 0.8302 - loss: 0.3670 - val_accuracy: 0.7987 - val_loss: 0.4603\n",
      "Epoch 199/200\n",
      "\u001b[1m20/20\u001b[0m \u001b[32m━━━━━━━━━━━━━━━━━━━━\u001b[0m\u001b[37m\u001b[0m \u001b[1m0s\u001b[0m 7ms/step - accuracy: 0.8380 - loss: 0.3636 - val_accuracy: 0.7987 - val_loss: 0.4668\n",
      "Epoch 200/200\n",
      "\u001b[1m20/20\u001b[0m \u001b[32m━━━━━━━━━━━━━━━━━━━━\u001b[0m\u001b[37m\u001b[0m \u001b[1m0s\u001b[0m 6ms/step - accuracy: 0.8428 - loss: 0.3591 - val_accuracy: 0.8052 - val_loss: 0.4651\n"
     ]
    },
    {
     "data": {
      "text/plain": [
       "<keras.src.callbacks.history.History at 0x197a6fce640>"
      ]
     },
     "execution_count": 275,
     "metadata": {},
     "output_type": "execute_result"
    }
   ],
   "source": [
    "model.fit(X_train,y_train, epochs=200,initial_epoch=5,validation_data=(X_test, y_test))"
   ]
  },
  {
   "cell_type": "code",
   "execution_count": 276,
   "id": "5afb1b02",
   "metadata": {},
   "outputs": [],
   "source": [
    "def build_model(hp):\n",
    "    model = Sequential()\n",
    "    model.add(Dense(93, activation='relu', input_dim=8))\n",
    "    for i in range (hp.Int('num_layers', 1, 10)):\n",
    "        model.add(Dense(93, activation='relu'))\n",
    "    model.add(Dense(1, activation='sigmoid'))\n",
    "    model.compile(loss='binary_crossentropy', optimizer='rmsprop', metrics=['accuracy'])\n",
    "    return model\n"
   ]
  },
  {
   "cell_type": "code",
   "execution_count": 277,
   "id": "11f0a9b6",
   "metadata": {},
   "outputs": [
    {
     "name": "stdout",
     "output_type": "stream",
     "text": [
      "Reloading Tuner from mydir\\num_layers\\tuner0.json\n"
     ]
    }
   ],
   "source": [
    "tuner = kt.RandomSearch(build_model,\n",
    "                       objective='val_accuracy',\n",
    "                       max_trials=5,\n",
    "                       directory='mydir',\n",
    "                       project_name='num_layers')"
   ]
  },
  {
   "cell_type": "code",
   "execution_count": 278,
   "id": "5b233c8b",
   "metadata": {},
   "outputs": [],
   "source": [
    "tuner.search(X_train, y_train, epochs=5, validation_data=(X_test,y_test))"
   ]
  },
  {
   "cell_type": "code",
   "execution_count": 279,
   "id": "ee79e6df",
   "metadata": {},
   "outputs": [
    {
     "data": {
      "text/plain": [
       "{'num_layers': 4}"
      ]
     },
     "execution_count": 279,
     "metadata": {},
     "output_type": "execute_result"
    }
   ],
   "source": [
    "tuner.get_best_hyperparameters()[0].values"
   ]
  },
  {
   "cell_type": "code",
   "execution_count": 280,
   "id": "40fb34ae",
   "metadata": {},
   "outputs": [
    {
     "name": "stderr",
     "output_type": "stream",
     "text": [
      "C:\\Users\\Admin\\anaconda3\\lib\\site-packages\\keras\\src\\saving\\saving_lib.py:719: UserWarning: Skipping variable loading for optimizer 'rmsprop', because it has 2 variables whereas the saved optimizer has 14 variables. \n",
      "  saveable.load_own_variables(weights_store.get(inner_path))\n"
     ]
    }
   ],
   "source": [
    "model = tuner.get_best_models(num_models=1)[0]"
   ]
  },
  {
   "cell_type": "code",
   "execution_count": 281,
   "id": "98b30e1b",
   "metadata": {},
   "outputs": [
    {
     "data": {
      "text/html": [
       "<pre style=\"white-space:pre;overflow-x:auto;line-height:normal;font-family:Menlo,'DejaVu Sans Mono',consolas,'Courier New',monospace\"><span style=\"font-weight: bold\">Model: \"sequential\"</span>\n",
       "</pre>\n"
      ],
      "text/plain": [
       "\u001b[1mModel: \"sequential\"\u001b[0m\n"
      ]
     },
     "metadata": {},
     "output_type": "display_data"
    },
    {
     "data": {
      "text/html": [
       "<pre style=\"white-space:pre;overflow-x:auto;line-height:normal;font-family:Menlo,'DejaVu Sans Mono',consolas,'Courier New',monospace\">┏━━━━━━━━━━━━━━━━━━━━━━━━━━━━━━━━━━━━━━┳━━━━━━━━━━━━━━━━━━━━━━━━━━━━━┳━━━━━━━━━━━━━━━━━┓\n",
       "┃<span style=\"font-weight: bold\"> Layer (type)                         </span>┃<span style=\"font-weight: bold\"> Output Shape                </span>┃<span style=\"font-weight: bold\">         Param # </span>┃\n",
       "┡━━━━━━━━━━━━━━━━━━━━━━━━━━━━━━━━━━━━━━╇━━━━━━━━━━━━━━━━━━━━━━━━━━━━━╇━━━━━━━━━━━━━━━━━┩\n",
       "│ dense (<span style=\"color: #0087ff; text-decoration-color: #0087ff\">Dense</span>)                        │ (<span style=\"color: #00d7ff; text-decoration-color: #00d7ff\">None</span>, <span style=\"color: #00af00; text-decoration-color: #00af00\">93</span>)                  │             <span style=\"color: #00af00; text-decoration-color: #00af00\">837</span> │\n",
       "├──────────────────────────────────────┼─────────────────────────────┼─────────────────┤\n",
       "│ dense_1 (<span style=\"color: #0087ff; text-decoration-color: #0087ff\">Dense</span>)                      │ (<span style=\"color: #00d7ff; text-decoration-color: #00d7ff\">None</span>, <span style=\"color: #00af00; text-decoration-color: #00af00\">93</span>)                  │           <span style=\"color: #00af00; text-decoration-color: #00af00\">8,742</span> │\n",
       "├──────────────────────────────────────┼─────────────────────────────┼─────────────────┤\n",
       "│ dense_2 (<span style=\"color: #0087ff; text-decoration-color: #0087ff\">Dense</span>)                      │ (<span style=\"color: #00d7ff; text-decoration-color: #00d7ff\">None</span>, <span style=\"color: #00af00; text-decoration-color: #00af00\">93</span>)                  │           <span style=\"color: #00af00; text-decoration-color: #00af00\">8,742</span> │\n",
       "├──────────────────────────────────────┼─────────────────────────────┼─────────────────┤\n",
       "│ dense_3 (<span style=\"color: #0087ff; text-decoration-color: #0087ff\">Dense</span>)                      │ (<span style=\"color: #00d7ff; text-decoration-color: #00d7ff\">None</span>, <span style=\"color: #00af00; text-decoration-color: #00af00\">93</span>)                  │           <span style=\"color: #00af00; text-decoration-color: #00af00\">8,742</span> │\n",
       "├──────────────────────────────────────┼─────────────────────────────┼─────────────────┤\n",
       "│ dense_4 (<span style=\"color: #0087ff; text-decoration-color: #0087ff\">Dense</span>)                      │ (<span style=\"color: #00d7ff; text-decoration-color: #00d7ff\">None</span>, <span style=\"color: #00af00; text-decoration-color: #00af00\">93</span>)                  │           <span style=\"color: #00af00; text-decoration-color: #00af00\">8,742</span> │\n",
       "├──────────────────────────────────────┼─────────────────────────────┼─────────────────┤\n",
       "│ dense_5 (<span style=\"color: #0087ff; text-decoration-color: #0087ff\">Dense</span>)                      │ (<span style=\"color: #00d7ff; text-decoration-color: #00d7ff\">None</span>, <span style=\"color: #00af00; text-decoration-color: #00af00\">1</span>)                   │              <span style=\"color: #00af00; text-decoration-color: #00af00\">94</span> │\n",
       "└──────────────────────────────────────┴─────────────────────────────┴─────────────────┘\n",
       "</pre>\n"
      ],
      "text/plain": [
       "┏━━━━━━━━━━━━━━━━━━━━━━━━━━━━━━━━━━━━━━┳━━━━━━━━━━━━━━━━━━━━━━━━━━━━━┳━━━━━━━━━━━━━━━━━┓\n",
       "┃\u001b[1m \u001b[0m\u001b[1mLayer (type)                        \u001b[0m\u001b[1m \u001b[0m┃\u001b[1m \u001b[0m\u001b[1mOutput Shape               \u001b[0m\u001b[1m \u001b[0m┃\u001b[1m \u001b[0m\u001b[1m        Param #\u001b[0m\u001b[1m \u001b[0m┃\n",
       "┡━━━━━━━━━━━━━━━━━━━━━━━━━━━━━━━━━━━━━━╇━━━━━━━━━━━━━━━━━━━━━━━━━━━━━╇━━━━━━━━━━━━━━━━━┩\n",
       "│ dense (\u001b[38;5;33mDense\u001b[0m)                        │ (\u001b[38;5;45mNone\u001b[0m, \u001b[38;5;34m93\u001b[0m)                  │             \u001b[38;5;34m837\u001b[0m │\n",
       "├──────────────────────────────────────┼─────────────────────────────┼─────────────────┤\n",
       "│ dense_1 (\u001b[38;5;33mDense\u001b[0m)                      │ (\u001b[38;5;45mNone\u001b[0m, \u001b[38;5;34m93\u001b[0m)                  │           \u001b[38;5;34m8,742\u001b[0m │\n",
       "├──────────────────────────────────────┼─────────────────────────────┼─────────────────┤\n",
       "│ dense_2 (\u001b[38;5;33mDense\u001b[0m)                      │ (\u001b[38;5;45mNone\u001b[0m, \u001b[38;5;34m93\u001b[0m)                  │           \u001b[38;5;34m8,742\u001b[0m │\n",
       "├──────────────────────────────────────┼─────────────────────────────┼─────────────────┤\n",
       "│ dense_3 (\u001b[38;5;33mDense\u001b[0m)                      │ (\u001b[38;5;45mNone\u001b[0m, \u001b[38;5;34m93\u001b[0m)                  │           \u001b[38;5;34m8,742\u001b[0m │\n",
       "├──────────────────────────────────────┼─────────────────────────────┼─────────────────┤\n",
       "│ dense_4 (\u001b[38;5;33mDense\u001b[0m)                      │ (\u001b[38;5;45mNone\u001b[0m, \u001b[38;5;34m93\u001b[0m)                  │           \u001b[38;5;34m8,742\u001b[0m │\n",
       "├──────────────────────────────────────┼─────────────────────────────┼─────────────────┤\n",
       "│ dense_5 (\u001b[38;5;33mDense\u001b[0m)                      │ (\u001b[38;5;45mNone\u001b[0m, \u001b[38;5;34m1\u001b[0m)                   │              \u001b[38;5;34m94\u001b[0m │\n",
       "└──────────────────────────────────────┴─────────────────────────────┴─────────────────┘\n"
      ]
     },
     "metadata": {},
     "output_type": "display_data"
    },
    {
     "data": {
      "text/html": [
       "<pre style=\"white-space:pre;overflow-x:auto;line-height:normal;font-family:Menlo,'DejaVu Sans Mono',consolas,'Courier New',monospace\"><span style=\"font-weight: bold\"> Total params: </span><span style=\"color: #00af00; text-decoration-color: #00af00\">35,899</span> (140.23 KB)\n",
       "</pre>\n"
      ],
      "text/plain": [
       "\u001b[1m Total params: \u001b[0m\u001b[38;5;34m35,899\u001b[0m (140.23 KB)\n"
      ]
     },
     "metadata": {},
     "output_type": "display_data"
    },
    {
     "data": {
      "text/html": [
       "<pre style=\"white-space:pre;overflow-x:auto;line-height:normal;font-family:Menlo,'DejaVu Sans Mono',consolas,'Courier New',monospace\"><span style=\"font-weight: bold\"> Trainable params: </span><span style=\"color: #00af00; text-decoration-color: #00af00\">35,899</span> (140.23 KB)\n",
       "</pre>\n"
      ],
      "text/plain": [
       "\u001b[1m Trainable params: \u001b[0m\u001b[38;5;34m35,899\u001b[0m (140.23 KB)\n"
      ]
     },
     "metadata": {},
     "output_type": "display_data"
    },
    {
     "data": {
      "text/html": [
       "<pre style=\"white-space:pre;overflow-x:auto;line-height:normal;font-family:Menlo,'DejaVu Sans Mono',consolas,'Courier New',monospace\"><span style=\"font-weight: bold\"> Non-trainable params: </span><span style=\"color: #00af00; text-decoration-color: #00af00\">0</span> (0.00 B)\n",
       "</pre>\n"
      ],
      "text/plain": [
       "\u001b[1m Non-trainable params: \u001b[0m\u001b[38;5;34m0\u001b[0m (0.00 B)\n"
      ]
     },
     "metadata": {},
     "output_type": "display_data"
    }
   ],
   "source": [
    "model.summary()"
   ]
  },
  {
   "cell_type": "code",
   "execution_count": 282,
   "id": "8771b90b",
   "metadata": {},
   "outputs": [
    {
     "name": "stdout",
     "output_type": "stream",
     "text": [
      "Epoch 6/200\n",
      "\u001b[1m20/20\u001b[0m \u001b[32m━━━━━━━━━━━━━━━━━━━━\u001b[0m\u001b[37m\u001b[0m \u001b[1m3s\u001b[0m 28ms/step - accuracy: 0.7556 - loss: 0.4713 - val_accuracy: 0.7987 - val_loss: 0.4666\n",
      "Epoch 7/200\n",
      "\u001b[1m20/20\u001b[0m \u001b[32m━━━━━━━━━━━━━━━━━━━━\u001b[0m\u001b[37m\u001b[0m \u001b[1m0s\u001b[0m 9ms/step - accuracy: 0.8067 - loss: 0.4014 - val_accuracy: 0.8247 - val_loss: 0.4475\n",
      "Epoch 8/200\n",
      "\u001b[1m20/20\u001b[0m \u001b[32m━━━━━━━━━━━━━━━━━━━━\u001b[0m\u001b[37m\u001b[0m \u001b[1m0s\u001b[0m 9ms/step - accuracy: 0.8021 - loss: 0.4291 - val_accuracy: 0.7922 - val_loss: 0.4679\n",
      "Epoch 9/200\n",
      "\u001b[1m20/20\u001b[0m \u001b[32m━━━━━━━━━━━━━━━━━━━━\u001b[0m\u001b[37m\u001b[0m \u001b[1m0s\u001b[0m 8ms/step - accuracy: 0.7932 - loss: 0.4145 - val_accuracy: 0.7857 - val_loss: 0.4637\n",
      "Epoch 10/200\n",
      "\u001b[1m20/20\u001b[0m \u001b[32m━━━━━━━━━━━━━━━━━━━━\u001b[0m\u001b[37m\u001b[0m \u001b[1m0s\u001b[0m 8ms/step - accuracy: 0.8133 - loss: 0.3925 - val_accuracy: 0.8182 - val_loss: 0.4489\n",
      "Epoch 11/200\n",
      "\u001b[1m20/20\u001b[0m \u001b[32m━━━━━━━━━━━━━━━━━━━━\u001b[0m\u001b[37m\u001b[0m \u001b[1m0s\u001b[0m 7ms/step - accuracy: 0.8275 - loss: 0.3842 - val_accuracy: 0.7338 - val_loss: 0.5548\n",
      "Epoch 12/200\n",
      "\u001b[1m20/20\u001b[0m \u001b[32m━━━━━━━━━━━━━━━━━━━━\u001b[0m\u001b[37m\u001b[0m \u001b[1m0s\u001b[0m 8ms/step - accuracy: 0.8466 - loss: 0.3745 - val_accuracy: 0.7662 - val_loss: 0.4848\n",
      "Epoch 13/200\n",
      "\u001b[1m20/20\u001b[0m \u001b[32m━━━━━━━━━━━━━━━━━━━━\u001b[0m\u001b[37m\u001b[0m \u001b[1m0s\u001b[0m 11ms/step - accuracy: 0.8336 - loss: 0.3726 - val_accuracy: 0.8182 - val_loss: 0.4569\n",
      "Epoch 14/200\n",
      "\u001b[1m20/20\u001b[0m \u001b[32m━━━━━━━━━━━━━━━━━━━━\u001b[0m\u001b[37m\u001b[0m \u001b[1m0s\u001b[0m 8ms/step - accuracy: 0.8699 - loss: 0.3334 - val_accuracy: 0.8052 - val_loss: 0.4809\n",
      "Epoch 15/200\n",
      "\u001b[1m20/20\u001b[0m \u001b[32m━━━━━━━━━━━━━━━━━━━━\u001b[0m\u001b[37m\u001b[0m \u001b[1m0s\u001b[0m 8ms/step - accuracy: 0.8538 - loss: 0.3201 - val_accuracy: 0.7987 - val_loss: 0.4501\n",
      "Epoch 16/200\n",
      "\u001b[1m20/20\u001b[0m \u001b[32m━━━━━━━━━━━━━━━━━━━━\u001b[0m\u001b[37m\u001b[0m \u001b[1m0s\u001b[0m 8ms/step - accuracy: 0.8866 - loss: 0.3096 - val_accuracy: 0.7922 - val_loss: 0.5100\n",
      "Epoch 17/200\n",
      "\u001b[1m20/20\u001b[0m \u001b[32m━━━━━━━━━━━━━━━━━━━━\u001b[0m\u001b[37m\u001b[0m \u001b[1m0s\u001b[0m 8ms/step - accuracy: 0.8559 - loss: 0.3202 - val_accuracy: 0.7597 - val_loss: 0.4899\n",
      "Epoch 18/200\n",
      "\u001b[1m20/20\u001b[0m \u001b[32m━━━━━━━━━━━━━━━━━━━━\u001b[0m\u001b[37m\u001b[0m \u001b[1m0s\u001b[0m 9ms/step - accuracy: 0.8791 - loss: 0.2899 - val_accuracy: 0.7662 - val_loss: 0.5080\n",
      "Epoch 19/200\n",
      "\u001b[1m20/20\u001b[0m \u001b[32m━━━━━━━━━━━━━━━━━━━━\u001b[0m\u001b[37m\u001b[0m \u001b[1m0s\u001b[0m 8ms/step - accuracy: 0.8805 - loss: 0.2813 - val_accuracy: 0.7922 - val_loss: 0.5212\n",
      "Epoch 20/200\n",
      "\u001b[1m20/20\u001b[0m \u001b[32m━━━━━━━━━━━━━━━━━━━━\u001b[0m\u001b[37m\u001b[0m \u001b[1m0s\u001b[0m 9ms/step - accuracy: 0.8995 - loss: 0.2591 - val_accuracy: 0.7468 - val_loss: 0.5833\n",
      "Epoch 21/200\n",
      "\u001b[1m20/20\u001b[0m \u001b[32m━━━━━━━━━━━━━━━━━━━━\u001b[0m\u001b[37m\u001b[0m \u001b[1m0s\u001b[0m 8ms/step - accuracy: 0.9007 - loss: 0.2359 - val_accuracy: 0.7987 - val_loss: 0.5522\n",
      "Epoch 22/200\n",
      "\u001b[1m20/20\u001b[0m \u001b[32m━━━━━━━━━━━━━━━━━━━━\u001b[0m\u001b[37m\u001b[0m \u001b[1m0s\u001b[0m 8ms/step - accuracy: 0.8891 - loss: 0.2363 - val_accuracy: 0.7662 - val_loss: 0.5688\n",
      "Epoch 23/200\n",
      "\u001b[1m20/20\u001b[0m \u001b[32m━━━━━━━━━━━━━━━━━━━━\u001b[0m\u001b[37m\u001b[0m \u001b[1m0s\u001b[0m 8ms/step - accuracy: 0.9287 - loss: 0.1992 - val_accuracy: 0.7727 - val_loss: 0.5724\n",
      "Epoch 24/200\n",
      "\u001b[1m20/20\u001b[0m \u001b[32m━━━━━━━━━━━━━━━━━━━━\u001b[0m\u001b[37m\u001b[0m \u001b[1m0s\u001b[0m 9ms/step - accuracy: 0.9191 - loss: 0.2103 - val_accuracy: 0.7792 - val_loss: 0.5756\n",
      "Epoch 25/200\n",
      "\u001b[1m20/20\u001b[0m \u001b[32m━━━━━━━━━━━━━━━━━━━━\u001b[0m\u001b[37m\u001b[0m \u001b[1m0s\u001b[0m 12ms/step - accuracy: 0.9205 - loss: 0.1994 - val_accuracy: 0.7468 - val_loss: 0.5674\n",
      "Epoch 26/200\n",
      "\u001b[1m20/20\u001b[0m \u001b[32m━━━━━━━━━━━━━━━━━━━━\u001b[0m\u001b[37m\u001b[0m \u001b[1m0s\u001b[0m 7ms/step - accuracy: 0.9446 - loss: 0.1749 - val_accuracy: 0.7857 - val_loss: 0.5985\n",
      "Epoch 27/200\n",
      "\u001b[1m20/20\u001b[0m \u001b[32m━━━━━━━━━━━━━━━━━━━━\u001b[0m\u001b[37m\u001b[0m \u001b[1m0s\u001b[0m 7ms/step - accuracy: 0.9182 - loss: 0.1560 - val_accuracy: 0.7532 - val_loss: 0.6826\n",
      "Epoch 28/200\n",
      "\u001b[1m20/20\u001b[0m \u001b[32m━━━━━━━━━━━━━━━━━━━━\u001b[0m\u001b[37m\u001b[0m \u001b[1m0s\u001b[0m 8ms/step - accuracy: 0.9218 - loss: 0.1688 - val_accuracy: 0.7792 - val_loss: 0.6845\n",
      "Epoch 29/200\n",
      "\u001b[1m20/20\u001b[0m \u001b[32m━━━━━━━━━━━━━━━━━━━━\u001b[0m\u001b[37m\u001b[0m \u001b[1m0s\u001b[0m 8ms/step - accuracy: 0.9223 - loss: 0.1926 - val_accuracy: 0.7857 - val_loss: 0.6678\n",
      "Epoch 30/200\n",
      "\u001b[1m20/20\u001b[0m \u001b[32m━━━━━━━━━━━━━━━━━━━━\u001b[0m\u001b[37m\u001b[0m \u001b[1m0s\u001b[0m 9ms/step - accuracy: 0.9632 - loss: 0.1133 - val_accuracy: 0.7078 - val_loss: 0.8271\n",
      "Epoch 31/200\n",
      "\u001b[1m20/20\u001b[0m \u001b[32m━━━━━━━━━━━━━━━━━━━━\u001b[0m\u001b[37m\u001b[0m \u001b[1m0s\u001b[0m 8ms/step - accuracy: 0.9284 - loss: 0.1645 - val_accuracy: 0.7922 - val_loss: 0.8047\n",
      "Epoch 32/200\n",
      "\u001b[1m20/20\u001b[0m \u001b[32m━━━━━━━━━━━━━━━━━━━━\u001b[0m\u001b[37m\u001b[0m \u001b[1m0s\u001b[0m 8ms/step - accuracy: 0.9554 - loss: 0.1245 - val_accuracy: 0.6429 - val_loss: 1.2269\n",
      "Epoch 33/200\n",
      "\u001b[1m20/20\u001b[0m \u001b[32m━━━━━━━━━━━━━━━━━━━━\u001b[0m\u001b[37m\u001b[0m \u001b[1m0s\u001b[0m 11ms/step - accuracy: 0.9502 - loss: 0.1401 - val_accuracy: 0.6558 - val_loss: 1.0517\n",
      "Epoch 34/200\n",
      "\u001b[1m20/20\u001b[0m \u001b[32m━━━━━━━━━━━━━━━━━━━━\u001b[0m\u001b[37m\u001b[0m \u001b[1m0s\u001b[0m 8ms/step - accuracy: 0.9444 - loss: 0.1358 - val_accuracy: 0.7143 - val_loss: 0.9429\n",
      "Epoch 35/200\n",
      "\u001b[1m20/20\u001b[0m \u001b[32m━━━━━━━━━━━━━━━━━━━━\u001b[0m\u001b[37m\u001b[0m \u001b[1m0s\u001b[0m 8ms/step - accuracy: 0.9616 - loss: 0.1126 - val_accuracy: 0.7143 - val_loss: 1.0337\n",
      "Epoch 36/200\n",
      "\u001b[1m20/20\u001b[0m \u001b[32m━━━━━━━━━━━━━━━━━━━━\u001b[0m\u001b[37m\u001b[0m \u001b[1m0s\u001b[0m 8ms/step - accuracy: 0.9512 - loss: 0.1334 - val_accuracy: 0.7468 - val_loss: 0.8390\n",
      "Epoch 37/200\n",
      "\u001b[1m20/20\u001b[0m \u001b[32m━━━━━━━━━━━━━━━━━━━━\u001b[0m\u001b[37m\u001b[0m \u001b[1m0s\u001b[0m 8ms/step - accuracy: 0.9665 - loss: 0.0907 - val_accuracy: 0.7532 - val_loss: 0.8061\n",
      "Epoch 38/200\n",
      "\u001b[1m20/20\u001b[0m \u001b[32m━━━━━━━━━━━━━━━━━━━━\u001b[0m\u001b[37m\u001b[0m \u001b[1m0s\u001b[0m 8ms/step - accuracy: 0.9712 - loss: 0.0713 - val_accuracy: 0.7727 - val_loss: 0.9047\n",
      "Epoch 39/200\n",
      "\u001b[1m20/20\u001b[0m \u001b[32m━━━━━━━━━━━━━━━━━━━━\u001b[0m\u001b[37m\u001b[0m \u001b[1m0s\u001b[0m 8ms/step - accuracy: 0.9496 - loss: 0.1250 - val_accuracy: 0.7468 - val_loss: 0.9288\n",
      "Epoch 40/200\n",
      "\u001b[1m20/20\u001b[0m \u001b[32m━━━━━━━━━━━━━━━━━━━━\u001b[0m\u001b[37m\u001b[0m \u001b[1m0s\u001b[0m 9ms/step - accuracy: 0.9742 - loss: 0.0636 - val_accuracy: 0.7662 - val_loss: 0.9901\n",
      "Epoch 41/200\n",
      "\u001b[1m20/20\u001b[0m \u001b[32m━━━━━━━━━━━━━━━━━━━━\u001b[0m\u001b[37m\u001b[0m \u001b[1m0s\u001b[0m 9ms/step - accuracy: 0.9865 - loss: 0.0484 - val_accuracy: 0.7532 - val_loss: 1.1704\n",
      "Epoch 42/200\n",
      "\u001b[1m20/20\u001b[0m \u001b[32m━━━━━━━━━━━━━━━━━━━━\u001b[0m\u001b[37m\u001b[0m \u001b[1m0s\u001b[0m 8ms/step - accuracy: 0.9681 - loss: 0.0937 - val_accuracy: 0.7338 - val_loss: 1.1017\n",
      "Epoch 43/200\n",
      "\u001b[1m20/20\u001b[0m \u001b[32m━━━━━━━━━━━━━━━━━━━━\u001b[0m\u001b[37m\u001b[0m \u001b[1m0s\u001b[0m 8ms/step - accuracy: 0.9743 - loss: 0.0715 - val_accuracy: 0.7338 - val_loss: 1.0936\n",
      "Epoch 44/200\n",
      "\u001b[1m20/20\u001b[0m \u001b[32m━━━━━━━━━━━━━━━━━━━━\u001b[0m\u001b[37m\u001b[0m \u001b[1m0s\u001b[0m 11ms/step - accuracy: 0.9784 - loss: 0.0501 - val_accuracy: 0.7468 - val_loss: 1.1379\n",
      "Epoch 45/200\n",
      "\u001b[1m20/20\u001b[0m \u001b[32m━━━━━━━━━━━━━━━━━━━━\u001b[0m\u001b[37m\u001b[0m \u001b[1m0s\u001b[0m 8ms/step - accuracy: 0.9824 - loss: 0.0474 - val_accuracy: 0.7597 - val_loss: 1.0682\n",
      "Epoch 46/200\n",
      "\u001b[1m20/20\u001b[0m \u001b[32m━━━━━━━━━━━━━━━━━━━━\u001b[0m\u001b[37m\u001b[0m \u001b[1m0s\u001b[0m 8ms/step - accuracy: 0.9816 - loss: 0.0581 - val_accuracy: 0.7143 - val_loss: 1.0474\n",
      "Epoch 47/200\n",
      "\u001b[1m20/20\u001b[0m \u001b[32m━━━━━━━━━━━━━━━━━━━━\u001b[0m\u001b[37m\u001b[0m \u001b[1m0s\u001b[0m 7ms/step - accuracy: 0.9827 - loss: 0.0495 - val_accuracy: 0.7792 - val_loss: 1.1857\n",
      "Epoch 48/200\n",
      "\u001b[1m20/20\u001b[0m \u001b[32m━━━━━━━━━━━━━━━━━━━━\u001b[0m\u001b[37m\u001b[0m \u001b[1m0s\u001b[0m 9ms/step - accuracy: 0.9805 - loss: 0.0635 - val_accuracy: 0.7987 - val_loss: 1.1149\n",
      "Epoch 49/200\n",
      "\u001b[1m20/20\u001b[0m \u001b[32m━━━━━━━━━━━━━━━━━━━━\u001b[0m\u001b[37m\u001b[0m \u001b[1m0s\u001b[0m 12ms/step - accuracy: 0.9939 - loss: 0.0305 - val_accuracy: 0.7078 - val_loss: 1.2860\n",
      "Epoch 50/200\n",
      "\u001b[1m20/20\u001b[0m \u001b[32m━━━━━━━━━━━━━━━━━━━━\u001b[0m\u001b[37m\u001b[0m \u001b[1m0s\u001b[0m 7ms/step - accuracy: 0.9827 - loss: 0.0457 - val_accuracy: 0.7403 - val_loss: 1.2440\n",
      "Epoch 51/200\n",
      "\u001b[1m20/20\u001b[0m \u001b[32m━━━━━━━━━━━━━━━━━━━━\u001b[0m\u001b[37m\u001b[0m \u001b[1m0s\u001b[0m 8ms/step - accuracy: 0.9631 - loss: 0.0643 - val_accuracy: 0.7403 - val_loss: 1.2349\n",
      "Epoch 52/200\n",
      "\u001b[1m20/20\u001b[0m \u001b[32m━━━━━━━━━━━━━━━━━━━━\u001b[0m\u001b[37m\u001b[0m \u001b[1m0s\u001b[0m 9ms/step - accuracy: 0.9953 - loss: 0.0190 - val_accuracy: 0.7403 - val_loss: 1.6014\n",
      "Epoch 53/200\n",
      "\u001b[1m20/20\u001b[0m \u001b[32m━━━━━━━━━━━━━━━━━━━━\u001b[0m\u001b[37m\u001b[0m \u001b[1m0s\u001b[0m 9ms/step - accuracy: 0.9706 - loss: 0.0497 - val_accuracy: 0.6818 - val_loss: 1.5764\n",
      "Epoch 54/200\n",
      "\u001b[1m20/20\u001b[0m \u001b[32m━━━━━━━━━━━━━━━━━━━━\u001b[0m\u001b[37m\u001b[0m \u001b[1m0s\u001b[0m 11ms/step - accuracy: 0.9612 - loss: 0.1136 - val_accuracy: 0.7532 - val_loss: 1.3171\n",
      "Epoch 55/200\n",
      "\u001b[1m20/20\u001b[0m \u001b[32m━━━━━━━━━━━━━━━━━━━━\u001b[0m\u001b[37m\u001b[0m \u001b[1m0s\u001b[0m 8ms/step - accuracy: 0.9957 - loss: 0.0172 - val_accuracy: 0.7208 - val_loss: 1.5249\n",
      "Epoch 56/200\n",
      "\u001b[1m20/20\u001b[0m \u001b[32m━━━━━━━━━━━━━━━━━━━━\u001b[0m\u001b[37m\u001b[0m \u001b[1m0s\u001b[0m 8ms/step - accuracy: 0.9902 - loss: 0.0333 - val_accuracy: 0.7208 - val_loss: 1.4935\n",
      "Epoch 57/200\n",
      "\u001b[1m20/20\u001b[0m \u001b[32m━━━━━━━━━━━━━━━━━━━━\u001b[0m\u001b[37m\u001b[0m \u001b[1m0s\u001b[0m 8ms/step - accuracy: 0.9762 - loss: 0.0528 - val_accuracy: 0.7532 - val_loss: 1.4336\n",
      "Epoch 58/200\n",
      "\u001b[1m20/20\u001b[0m \u001b[32m━━━━━━━━━━━━━━━━━━━━\u001b[0m\u001b[37m\u001b[0m \u001b[1m0s\u001b[0m 8ms/step - accuracy: 0.9870 - loss: 0.0409 - val_accuracy: 0.7338 - val_loss: 1.4418\n",
      "Epoch 59/200\n",
      "\u001b[1m20/20\u001b[0m \u001b[32m━━━━━━━━━━━━━━━━━━━━\u001b[0m\u001b[37m\u001b[0m \u001b[1m0s\u001b[0m 8ms/step - accuracy: 0.9933 - loss: 0.0268 - val_accuracy: 0.7208 - val_loss: 1.5905\n",
      "Epoch 60/200\n",
      "\u001b[1m20/20\u001b[0m \u001b[32m━━━━━━━━━━━━━━━━━━━━\u001b[0m\u001b[37m\u001b[0m \u001b[1m0s\u001b[0m 8ms/step - accuracy: 0.9809 - loss: 0.0459 - val_accuracy: 0.7338 - val_loss: 1.6101\n",
      "Epoch 61/200\n",
      "\u001b[1m20/20\u001b[0m \u001b[32m━━━━━━━━━━━━━━━━━━━━\u001b[0m\u001b[37m\u001b[0m \u001b[1m0s\u001b[0m 8ms/step - accuracy: 0.9937 - loss: 0.0231 - val_accuracy: 0.7273 - val_loss: 1.5510\n",
      "Epoch 62/200\n",
      "\u001b[1m20/20\u001b[0m \u001b[32m━━━━━━━━━━━━━━━━━━━━\u001b[0m\u001b[37m\u001b[0m \u001b[1m0s\u001b[0m 8ms/step - accuracy: 0.9958 - loss: 0.0104 - val_accuracy: 0.7208 - val_loss: 1.6860\n",
      "Epoch 63/200\n",
      "\u001b[1m20/20\u001b[0m \u001b[32m━━━━━━━━━━━━━━━━━━━━\u001b[0m\u001b[37m\u001b[0m \u001b[1m0s\u001b[0m 8ms/step - accuracy: 0.9917 - loss: 0.0212 - val_accuracy: 0.7078 - val_loss: 1.6398\n",
      "Epoch 64/200\n",
      "\u001b[1m20/20\u001b[0m \u001b[32m━━━━━━━━━━━━━━━━━━━━\u001b[0m\u001b[37m\u001b[0m \u001b[1m0s\u001b[0m 7ms/step - accuracy: 0.9964 - loss: 0.0170 - val_accuracy: 0.7078 - val_loss: 1.7389\n",
      "Epoch 65/200\n",
      "\u001b[1m20/20\u001b[0m \u001b[32m━━━━━━━━━━━━━━━━━━━━\u001b[0m\u001b[37m\u001b[0m \u001b[1m0s\u001b[0m 7ms/step - accuracy: 0.9887 - loss: 0.0316 - val_accuracy: 0.7208 - val_loss: 1.6879\n",
      "Epoch 66/200\n",
      "\u001b[1m20/20\u001b[0m \u001b[32m━━━━━━━━━━━━━━━━━━━━\u001b[0m\u001b[37m\u001b[0m \u001b[1m0s\u001b[0m 8ms/step - accuracy: 0.9894 - loss: 0.0198 - val_accuracy: 0.7143 - val_loss: 1.7122\n",
      "Epoch 67/200\n",
      "\u001b[1m20/20\u001b[0m \u001b[32m━━━━━━━━━━━━━━━━━━━━\u001b[0m\u001b[37m\u001b[0m \u001b[1m0s\u001b[0m 7ms/step - accuracy: 0.9974 - loss: 0.0130 - val_accuracy: 0.7403 - val_loss: 1.6122\n",
      "Epoch 68/200\n",
      "\u001b[1m20/20\u001b[0m \u001b[32m━━━━━━━━━━━━━━━━━━━━\u001b[0m\u001b[37m\u001b[0m \u001b[1m0s\u001b[0m 8ms/step - accuracy: 0.9844 - loss: 0.0407 - val_accuracy: 0.7208 - val_loss: 1.8372\n",
      "Epoch 69/200\n",
      "\u001b[1m20/20\u001b[0m \u001b[32m━━━━━━━━━━━━━━━━━━━━\u001b[0m\u001b[37m\u001b[0m \u001b[1m0s\u001b[0m 13ms/step - accuracy: 0.9981 - loss: 0.0139 - val_accuracy: 0.7273 - val_loss: 1.7495\n",
      "Epoch 70/200\n",
      "\u001b[1m20/20\u001b[0m \u001b[32m━━━━━━━━━━━━━━━━━━━━\u001b[0m\u001b[37m\u001b[0m \u001b[1m0s\u001b[0m 7ms/step - accuracy: 0.9941 - loss: 0.0157 - val_accuracy: 0.7403 - val_loss: 2.0270\n",
      "Epoch 71/200\n",
      "\u001b[1m20/20\u001b[0m \u001b[32m━━━━━━━━━━━━━━━━━━━━\u001b[0m\u001b[37m\u001b[0m \u001b[1m0s\u001b[0m 7ms/step - accuracy: 0.9799 - loss: 0.0751 - val_accuracy: 0.7143 - val_loss: 1.7841\n",
      "Epoch 72/200\n",
      "\u001b[1m20/20\u001b[0m \u001b[32m━━━━━━━━━━━━━━━━━━━━\u001b[0m\u001b[37m\u001b[0m \u001b[1m0s\u001b[0m 8ms/step - accuracy: 0.9966 - loss: 0.0085 - val_accuracy: 0.7078 - val_loss: 1.8147\n",
      "Epoch 73/200\n",
      "\u001b[1m20/20\u001b[0m \u001b[32m━━━━━━━━━━━━━━━━━━━━\u001b[0m\u001b[37m\u001b[0m \u001b[1m0s\u001b[0m 8ms/step - accuracy: 0.9955 - loss: 0.0111 - val_accuracy: 0.7013 - val_loss: 2.3203\n",
      "Epoch 74/200\n",
      "\u001b[1m20/20\u001b[0m \u001b[32m━━━━━━━━━━━━━━━━━━━━\u001b[0m\u001b[37m\u001b[0m \u001b[1m0s\u001b[0m 7ms/step - accuracy: 0.9890 - loss: 0.0465 - val_accuracy: 0.7468 - val_loss: 1.7395\n",
      "Epoch 75/200\n",
      "\u001b[1m20/20\u001b[0m \u001b[32m━━━━━━━━━━━━━━━━━━━━\u001b[0m\u001b[37m\u001b[0m \u001b[1m0s\u001b[0m 8ms/step - accuracy: 0.9990 - loss: 0.0058 - val_accuracy: 0.7013 - val_loss: 1.8974\n",
      "Epoch 76/200\n",
      "\u001b[1m20/20\u001b[0m \u001b[32m━━━━━━━━━━━━━━━━━━━━\u001b[0m\u001b[37m\u001b[0m \u001b[1m0s\u001b[0m 8ms/step - accuracy: 0.9851 - loss: 0.0232 - val_accuracy: 0.7273 - val_loss: 1.8167\n",
      "Epoch 77/200\n",
      "\u001b[1m20/20\u001b[0m \u001b[32m━━━━━━━━━━━━━━━━━━━━\u001b[0m\u001b[37m\u001b[0m \u001b[1m0s\u001b[0m 7ms/step - accuracy: 0.9923 - loss: 0.0196 - val_accuracy: 0.7597 - val_loss: 1.9384\n",
      "Epoch 78/200\n",
      "\u001b[1m20/20\u001b[0m \u001b[32m━━━━━━━━━━━━━━━━━━━━\u001b[0m\u001b[37m\u001b[0m \u001b[1m0s\u001b[0m 7ms/step - accuracy: 0.9733 - loss: 0.0523 - val_accuracy: 0.7143 - val_loss: 1.8927\n",
      "Epoch 79/200\n",
      "\u001b[1m20/20\u001b[0m \u001b[32m━━━━━━━━━━━━━━━━━━━━\u001b[0m\u001b[37m\u001b[0m \u001b[1m0s\u001b[0m 8ms/step - accuracy: 0.9986 - loss: 0.0046 - val_accuracy: 0.7338 - val_loss: 1.9407\n",
      "Epoch 80/200\n",
      "\u001b[1m20/20\u001b[0m \u001b[32m━━━━━━━━━━━━━━━━━━━━\u001b[0m\u001b[37m\u001b[0m \u001b[1m0s\u001b[0m 8ms/step - accuracy: 0.9972 - loss: 0.0093 - val_accuracy: 0.7208 - val_loss: 1.9735\n",
      "Epoch 81/200\n",
      "\u001b[1m20/20\u001b[0m \u001b[32m━━━━━━━━━━━━━━━━━━━━\u001b[0m\u001b[37m\u001b[0m \u001b[1m0s\u001b[0m 8ms/step - accuracy: 0.9880 - loss: 0.0289 - val_accuracy: 0.7273 - val_loss: 1.9396\n",
      "Epoch 82/200\n",
      "\u001b[1m20/20\u001b[0m \u001b[32m━━━━━━━━━━━━━━━━━━━━\u001b[0m\u001b[37m\u001b[0m \u001b[1m0s\u001b[0m 8ms/step - accuracy: 0.9968 - loss: 0.0100 - val_accuracy: 0.6753 - val_loss: 1.9388\n",
      "Epoch 83/200\n",
      "\u001b[1m20/20\u001b[0m \u001b[32m━━━━━━━━━━━━━━━━━━━━\u001b[0m\u001b[37m\u001b[0m \u001b[1m0s\u001b[0m 7ms/step - accuracy: 0.9820 - loss: 0.0336 - val_accuracy: 0.7208 - val_loss: 1.9826\n",
      "Epoch 84/200\n",
      "\u001b[1m20/20\u001b[0m \u001b[32m━━━━━━━━━━━━━━━━━━━━\u001b[0m\u001b[37m\u001b[0m \u001b[1m0s\u001b[0m 7ms/step - accuracy: 1.0000 - loss: 0.0033 - val_accuracy: 0.7078 - val_loss: 2.2513\n",
      "Epoch 85/200\n",
      "\u001b[1m20/20\u001b[0m \u001b[32m━━━━━━━━━━━━━━━━━━━━\u001b[0m\u001b[37m\u001b[0m \u001b[1m0s\u001b[0m 7ms/step - accuracy: 0.9715 - loss: 0.1170 - val_accuracy: 0.7143 - val_loss: 1.9587\n",
      "Epoch 86/200\n",
      "\u001b[1m20/20\u001b[0m \u001b[32m━━━━━━━━━━━━━━━━━━━━\u001b[0m\u001b[37m\u001b[0m \u001b[1m0s\u001b[0m 7ms/step - accuracy: 1.0000 - loss: 0.0020 - val_accuracy: 0.7273 - val_loss: 1.9863\n",
      "Epoch 87/200\n",
      "\u001b[1m20/20\u001b[0m \u001b[32m━━━━━━━━━━━━━━━━━━━━\u001b[0m\u001b[37m\u001b[0m \u001b[1m0s\u001b[0m 7ms/step - accuracy: 0.9948 - loss: 0.0083 - val_accuracy: 0.7143 - val_loss: 2.0314\n",
      "Epoch 88/200\n",
      "\u001b[1m20/20\u001b[0m \u001b[32m━━━━━━━━━━━━━━━━━━━━\u001b[0m\u001b[37m\u001b[0m \u001b[1m0s\u001b[0m 11ms/step - accuracy: 0.9992 - loss: 0.0020 - val_accuracy: 0.7143 - val_loss: 2.1477\n",
      "Epoch 89/200\n",
      "\u001b[1m20/20\u001b[0m \u001b[32m━━━━━━━━━━━━━━━━━━━━\u001b[0m\u001b[37m\u001b[0m \u001b[1m0s\u001b[0m 8ms/step - accuracy: 0.9965 - loss: 0.0166 - val_accuracy: 0.7078 - val_loss: 2.1983\n",
      "Epoch 90/200\n",
      "\u001b[1m20/20\u001b[0m \u001b[32m━━━━━━━━━━━━━━━━━━━━\u001b[0m\u001b[37m\u001b[0m \u001b[1m0s\u001b[0m 7ms/step - accuracy: 0.9992 - loss: 0.0051 - val_accuracy: 0.7078 - val_loss: 2.0838\n",
      "Epoch 91/200\n",
      "\u001b[1m20/20\u001b[0m \u001b[32m━━━━━━━━━━━━━━━━━━━━\u001b[0m\u001b[37m\u001b[0m \u001b[1m0s\u001b[0m 7ms/step - accuracy: 0.9932 - loss: 0.0136 - val_accuracy: 0.7338 - val_loss: 2.2900\n",
      "Epoch 92/200\n",
      "\u001b[1m20/20\u001b[0m \u001b[32m━━━━━━━━━━━━━━━━━━━━\u001b[0m\u001b[37m\u001b[0m \u001b[1m0s\u001b[0m 7ms/step - accuracy: 1.0000 - loss: 0.0025 - val_accuracy: 0.7013 - val_loss: 2.2357\n",
      "Epoch 93/200\n",
      "\u001b[1m20/20\u001b[0m \u001b[32m━━━━━━━━━━━━━━━━━━━━\u001b[0m\u001b[37m\u001b[0m \u001b[1m0s\u001b[0m 8ms/step - accuracy: 0.9826 - loss: 0.0481 - val_accuracy: 0.7532 - val_loss: 2.0083\n",
      "Epoch 94/200\n",
      "\u001b[1m20/20\u001b[0m \u001b[32m━━━━━━━━━━━━━━━━━━━━\u001b[0m\u001b[37m\u001b[0m \u001b[1m0s\u001b[0m 8ms/step - accuracy: 0.9959 - loss: 0.0161 - val_accuracy: 0.7013 - val_loss: 2.1403\n",
      "Epoch 95/200\n",
      "\u001b[1m20/20\u001b[0m \u001b[32m━━━━━━━━━━━━━━━━━━━━\u001b[0m\u001b[37m\u001b[0m \u001b[1m0s\u001b[0m 10ms/step - accuracy: 0.9906 - loss: 0.0313 - val_accuracy: 0.7078 - val_loss: 2.0203\n",
      "Epoch 96/200\n",
      "\u001b[1m20/20\u001b[0m \u001b[32m━━━━━━━━━━━━━━━━━━━━\u001b[0m\u001b[37m\u001b[0m \u001b[1m0s\u001b[0m 8ms/step - accuracy: 1.0000 - loss: 9.0848e-04 - val_accuracy: 0.7468 - val_loss: 2.2536\n",
      "Epoch 97/200\n",
      "\u001b[1m20/20\u001b[0m \u001b[32m━━━━━━━━━━━━━━━━━━━━\u001b[0m\u001b[37m\u001b[0m \u001b[1m0s\u001b[0m 8ms/step - accuracy: 0.9906 - loss: 0.0299 - val_accuracy: 0.7338 - val_loss: 2.0674\n",
      "Epoch 98/200\n",
      "\u001b[1m20/20\u001b[0m \u001b[32m━━━━━━━━━━━━━━━━━━━━\u001b[0m\u001b[37m\u001b[0m \u001b[1m0s\u001b[0m 8ms/step - accuracy: 0.9961 - loss: 0.0087 - val_accuracy: 0.7468 - val_loss: 1.9936\n",
      "Epoch 99/200\n",
      "\u001b[1m20/20\u001b[0m \u001b[32m━━━━━━━━━━━━━━━━━━━━\u001b[0m\u001b[37m\u001b[0m \u001b[1m0s\u001b[0m 7ms/step - accuracy: 0.9946 - loss: 0.0217 - val_accuracy: 0.7143 - val_loss: 2.4526\n",
      "Epoch 100/200\n",
      "\u001b[1m20/20\u001b[0m \u001b[32m━━━━━━━━━━━━━━━━━━━━\u001b[0m\u001b[37m\u001b[0m \u001b[1m0s\u001b[0m 7ms/step - accuracy: 0.9936 - loss: 0.0179 - val_accuracy: 0.7468 - val_loss: 2.2946\n",
      "Epoch 101/200\n",
      "\u001b[1m20/20\u001b[0m \u001b[32m━━━━━━━━━━━━━━━━━━━━\u001b[0m\u001b[37m\u001b[0m \u001b[1m0s\u001b[0m 8ms/step - accuracy: 1.0000 - loss: 0.0017 - val_accuracy: 0.7143 - val_loss: 2.3273\n",
      "Epoch 102/200\n",
      "\u001b[1m20/20\u001b[0m \u001b[32m━━━━━━━━━━━━━━━━━━━━\u001b[0m\u001b[37m\u001b[0m \u001b[1m0s\u001b[0m 8ms/step - accuracy: 1.0000 - loss: 5.8002e-04 - val_accuracy: 0.7273 - val_loss: 2.2710\n",
      "Epoch 103/200\n",
      "\u001b[1m20/20\u001b[0m \u001b[32m━━━━━━━━━━━━━━━━━━━━\u001b[0m\u001b[37m\u001b[0m \u001b[1m0s\u001b[0m 9ms/step - accuracy: 1.0000 - loss: 3.3178e-04 - val_accuracy: 0.7143 - val_loss: 2.4431\n",
      "Epoch 104/200\n",
      "\u001b[1m20/20\u001b[0m \u001b[32m━━━━━━━━━━━━━━━━━━━━\u001b[0m\u001b[37m\u001b[0m \u001b[1m0s\u001b[0m 8ms/step - accuracy: 0.9899 - loss: 0.0318 - val_accuracy: 0.7208 - val_loss: 2.1090\n",
      "Epoch 105/200\n",
      "\u001b[1m20/20\u001b[0m \u001b[32m━━━━━━━━━━━━━━━━━━━━\u001b[0m\u001b[37m\u001b[0m \u001b[1m0s\u001b[0m 8ms/step - accuracy: 1.0000 - loss: 0.0026 - val_accuracy: 0.7273 - val_loss: 2.2206\n",
      "Epoch 106/200\n"
     ]
    },
    {
     "name": "stdout",
     "output_type": "stream",
     "text": [
      "\u001b[1m20/20\u001b[0m \u001b[32m━━━━━━━━━━━━━━━━━━━━\u001b[0m\u001b[37m\u001b[0m \u001b[1m0s\u001b[0m 9ms/step - accuracy: 0.9914 - loss: 0.0285 - val_accuracy: 0.7338 - val_loss: 2.2863\n",
      "Epoch 107/200\n",
      "\u001b[1m20/20\u001b[0m \u001b[32m━━━━━━━━━━━━━━━━━━━━\u001b[0m\u001b[37m\u001b[0m \u001b[1m0s\u001b[0m 7ms/step - accuracy: 0.9989 - loss: 0.0053 - val_accuracy: 0.7208 - val_loss: 2.3084\n",
      "Epoch 108/200\n",
      "\u001b[1m20/20\u001b[0m \u001b[32m━━━━━━━━━━━━━━━━━━━━\u001b[0m\u001b[37m\u001b[0m \u001b[1m0s\u001b[0m 8ms/step - accuracy: 0.9997 - loss: 0.0029 - val_accuracy: 0.7468 - val_loss: 2.2401\n",
      "Epoch 109/200\n",
      "\u001b[1m20/20\u001b[0m \u001b[32m━━━━━━━━━━━━━━━━━━━━\u001b[0m\u001b[37m\u001b[0m \u001b[1m0s\u001b[0m 7ms/step - accuracy: 0.9930 - loss: 0.0187 - val_accuracy: 0.7338 - val_loss: 2.1890\n",
      "Epoch 110/200\n",
      "\u001b[1m20/20\u001b[0m \u001b[32m━━━━━━━━━━━━━━━━━━━━\u001b[0m\u001b[37m\u001b[0m \u001b[1m0s\u001b[0m 8ms/step - accuracy: 0.9903 - loss: 0.0300 - val_accuracy: 0.7403 - val_loss: 2.2002\n",
      "Epoch 111/200\n",
      "\u001b[1m20/20\u001b[0m \u001b[32m━━━━━━━━━━━━━━━━━━━━\u001b[0m\u001b[37m\u001b[0m \u001b[1m0s\u001b[0m 8ms/step - accuracy: 1.0000 - loss: 0.0012 - val_accuracy: 0.7338 - val_loss: 2.2532\n",
      "Epoch 112/200\n",
      "\u001b[1m20/20\u001b[0m \u001b[32m━━━━━━━━━━━━━━━━━━━━\u001b[0m\u001b[37m\u001b[0m \u001b[1m0s\u001b[0m 11ms/step - accuracy: 0.9973 - loss: 0.0095 - val_accuracy: 0.7273 - val_loss: 2.4255\n",
      "Epoch 113/200\n",
      "\u001b[1m20/20\u001b[0m \u001b[32m━━━━━━━━━━━━━━━━━━━━\u001b[0m\u001b[37m\u001b[0m \u001b[1m0s\u001b[0m 7ms/step - accuracy: 0.9969 - loss: 0.0093 - val_accuracy: 0.6948 - val_loss: 2.2739\n",
      "Epoch 114/200\n",
      "\u001b[1m20/20\u001b[0m \u001b[32m━━━━━━━━━━━━━━━━━━━━\u001b[0m\u001b[37m\u001b[0m \u001b[1m0s\u001b[0m 7ms/step - accuracy: 1.0000 - loss: 0.0027 - val_accuracy: 0.7143 - val_loss: 2.3764\n",
      "Epoch 115/200\n",
      "\u001b[1m20/20\u001b[0m \u001b[32m━━━━━━━━━━━━━━━━━━━━\u001b[0m\u001b[37m\u001b[0m \u001b[1m0s\u001b[0m 8ms/step - accuracy: 1.0000 - loss: 6.7658e-04 - val_accuracy: 0.7273 - val_loss: 2.3603\n",
      "Epoch 116/200\n",
      "\u001b[1m20/20\u001b[0m \u001b[32m━━━━━━━━━━━━━━━━━━━━\u001b[0m\u001b[37m\u001b[0m \u001b[1m0s\u001b[0m 8ms/step - accuracy: 1.0000 - loss: 1.8417e-04 - val_accuracy: 0.7208 - val_loss: 2.4603\n",
      "Epoch 117/200\n",
      "\u001b[1m20/20\u001b[0m \u001b[32m━━━━━━━━━━━━━━━━━━━━\u001b[0m\u001b[37m\u001b[0m \u001b[1m0s\u001b[0m 8ms/step - accuracy: 0.9998 - loss: 0.0014 - val_accuracy: 0.7143 - val_loss: 2.8450\n",
      "Epoch 118/200\n",
      "\u001b[1m20/20\u001b[0m \u001b[32m━━━━━━━━━━━━━━━━━━━━\u001b[0m\u001b[37m\u001b[0m \u001b[1m0s\u001b[0m 8ms/step - accuracy: 0.9900 - loss: 0.0377 - val_accuracy: 0.6948 - val_loss: 2.4213\n",
      "Epoch 119/200\n",
      "\u001b[1m20/20\u001b[0m \u001b[32m━━━━━━━━━━━━━━━━━━━━\u001b[0m\u001b[37m\u001b[0m \u001b[1m0s\u001b[0m 8ms/step - accuracy: 1.0000 - loss: 0.0024 - val_accuracy: 0.7338 - val_loss: 2.3258\n",
      "Epoch 120/200\n",
      "\u001b[1m20/20\u001b[0m \u001b[32m━━━━━━━━━━━━━━━━━━━━\u001b[0m\u001b[37m\u001b[0m \u001b[1m0s\u001b[0m 7ms/step - accuracy: 1.0000 - loss: 2.0507e-04 - val_accuracy: 0.7273 - val_loss: 2.3532\n",
      "Epoch 121/200\n",
      "\u001b[1m20/20\u001b[0m \u001b[32m━━━━━━━━━━━━━━━━━━━━\u001b[0m\u001b[37m\u001b[0m \u001b[1m0s\u001b[0m 8ms/step - accuracy: 1.0000 - loss: 2.1452e-04 - val_accuracy: 0.7338 - val_loss: 2.3824\n",
      "Epoch 122/200\n",
      "\u001b[1m20/20\u001b[0m \u001b[32m━━━━━━━━━━━━━━━━━━━━\u001b[0m\u001b[37m\u001b[0m \u001b[1m0s\u001b[0m 10ms/step - accuracy: 1.0000 - loss: 1.5832e-04 - val_accuracy: 0.7273 - val_loss: 2.4772\n",
      "Epoch 123/200\n",
      "\u001b[1m20/20\u001b[0m \u001b[32m━━━━━━━━━━━━━━━━━━━━\u001b[0m\u001b[37m\u001b[0m \u001b[1m0s\u001b[0m 10ms/step - accuracy: 1.0000 - loss: 2.0150e-04 - val_accuracy: 0.7403 - val_loss: 2.5523\n",
      "Epoch 124/200\n",
      "\u001b[1m20/20\u001b[0m \u001b[32m━━━━━━━━━━━━━━━━━━━━\u001b[0m\u001b[37m\u001b[0m \u001b[1m0s\u001b[0m 9ms/step - accuracy: 0.9860 - loss: 0.0441 - val_accuracy: 0.7143 - val_loss: 2.5354\n",
      "Epoch 125/200\n",
      "\u001b[1m20/20\u001b[0m \u001b[32m━━━━━━━━━━━━━━━━━━━━\u001b[0m\u001b[37m\u001b[0m \u001b[1m0s\u001b[0m 8ms/step - accuracy: 0.9910 - loss: 0.0428 - val_accuracy: 0.7468 - val_loss: 2.2927\n",
      "Epoch 126/200\n",
      "\u001b[1m20/20\u001b[0m \u001b[32m━━━━━━━━━━━━━━━━━━━━\u001b[0m\u001b[37m\u001b[0m \u001b[1m0s\u001b[0m 8ms/step - accuracy: 1.0000 - loss: 2.4132e-04 - val_accuracy: 0.7338 - val_loss: 2.3072\n",
      "Epoch 127/200\n",
      "\u001b[1m20/20\u001b[0m \u001b[32m━━━━━━━━━━━━━━━━━━━━\u001b[0m\u001b[37m\u001b[0m \u001b[1m0s\u001b[0m 8ms/step - accuracy: 1.0000 - loss: 1.8098e-04 - val_accuracy: 0.7338 - val_loss: 2.3447\n",
      "Epoch 128/200\n",
      "\u001b[1m20/20\u001b[0m \u001b[32m━━━━━━━━━━━━━━━━━━━━\u001b[0m\u001b[37m\u001b[0m \u001b[1m0s\u001b[0m 8ms/step - accuracy: 1.0000 - loss: 1.1693e-04 - val_accuracy: 0.7403 - val_loss: 2.4087\n",
      "Epoch 129/200\n",
      "\u001b[1m20/20\u001b[0m \u001b[32m━━━━━━━━━━━━━━━━━━━━\u001b[0m\u001b[37m\u001b[0m \u001b[1m0s\u001b[0m 8ms/step - accuracy: 1.0000 - loss: 9.5033e-05 - val_accuracy: 0.7338 - val_loss: 2.4655\n",
      "Epoch 130/200\n",
      "\u001b[1m20/20\u001b[0m \u001b[32m━━━━━━━━━━━━━━━━━━━━\u001b[0m\u001b[37m\u001b[0m \u001b[1m0s\u001b[0m 7ms/step - accuracy: 1.0000 - loss: 5.5639e-05 - val_accuracy: 0.7338 - val_loss: 2.5232\n",
      "Epoch 131/200\n",
      "\u001b[1m20/20\u001b[0m \u001b[32m━━━━━━━━━━━━━━━━━━━━\u001b[0m\u001b[37m\u001b[0m \u001b[1m0s\u001b[0m 8ms/step - accuracy: 1.0000 - loss: 5.7524e-05 - val_accuracy: 0.7143 - val_loss: 2.5773\n",
      "Epoch 132/200\n",
      "\u001b[1m20/20\u001b[0m \u001b[32m━━━━━━━━━━━━━━━━━━━━\u001b[0m\u001b[37m\u001b[0m \u001b[1m0s\u001b[0m 7ms/step - accuracy: 0.9985 - loss: 0.0101 - val_accuracy: 0.7338 - val_loss: 2.5781\n",
      "Epoch 133/200\n",
      "\u001b[1m20/20\u001b[0m \u001b[32m━━━━━━━━━━━━━━━━━━━━\u001b[0m\u001b[37m\u001b[0m \u001b[1m0s\u001b[0m 8ms/step - accuracy: 0.9967 - loss: 0.0145 - val_accuracy: 0.7338 - val_loss: 2.7544\n",
      "Epoch 134/200\n",
      "\u001b[1m20/20\u001b[0m \u001b[32m━━━━━━━━━━━━━━━━━━━━\u001b[0m\u001b[37m\u001b[0m \u001b[1m0s\u001b[0m 9ms/step - accuracy: 0.9945 - loss: 0.0104 - val_accuracy: 0.7013 - val_loss: 2.5203\n",
      "Epoch 135/200\n",
      "\u001b[1m20/20\u001b[0m \u001b[32m━━━━━━━━━━━━━━━━━━━━\u001b[0m\u001b[37m\u001b[0m \u001b[1m0s\u001b[0m 11ms/step - accuracy: 1.0000 - loss: 9.7179e-05 - val_accuracy: 0.7013 - val_loss: 2.5395\n",
      "Epoch 136/200\n",
      "\u001b[1m20/20\u001b[0m \u001b[32m━━━━━━━━━━━━━━━━━━━━\u001b[0m\u001b[37m\u001b[0m \u001b[1m0s\u001b[0m 8ms/step - accuracy: 1.0000 - loss: 6.8941e-05 - val_accuracy: 0.7013 - val_loss: 2.5623\n",
      "Epoch 137/200\n",
      "\u001b[1m20/20\u001b[0m \u001b[32m━━━━━━━━━━━━━━━━━━━━\u001b[0m\u001b[37m\u001b[0m \u001b[1m0s\u001b[0m 8ms/step - accuracy: 1.0000 - loss: 5.6831e-05 - val_accuracy: 0.7143 - val_loss: 2.6012\n",
      "Epoch 138/200\n",
      "\u001b[1m20/20\u001b[0m \u001b[32m━━━━━━━━━━━━━━━━━━━━\u001b[0m\u001b[37m\u001b[0m \u001b[1m0s\u001b[0m 9ms/step - accuracy: 1.0000 - loss: 3.9952e-05 - val_accuracy: 0.7143 - val_loss: 2.6448\n",
      "Epoch 139/200\n",
      "\u001b[1m20/20\u001b[0m \u001b[32m━━━━━━━━━━━━━━━━━━━━\u001b[0m\u001b[37m\u001b[0m \u001b[1m0s\u001b[0m 8ms/step - accuracy: 1.0000 - loss: 3.9649e-05 - val_accuracy: 0.7208 - val_loss: 2.6711\n",
      "Epoch 140/200\n",
      "\u001b[1m20/20\u001b[0m \u001b[32m━━━━━━━━━━━━━━━━━━━━\u001b[0m\u001b[37m\u001b[0m \u001b[1m0s\u001b[0m 9ms/step - accuracy: 0.9973 - loss: 0.0131 - val_accuracy: 0.6883 - val_loss: 3.0793\n",
      "Epoch 141/200\n",
      "\u001b[1m20/20\u001b[0m \u001b[32m━━━━━━━━━━━━━━━━━━━━\u001b[0m\u001b[37m\u001b[0m \u001b[1m0s\u001b[0m 7ms/step - accuracy: 0.9922 - loss: 0.0279 - val_accuracy: 0.7143 - val_loss: 2.6450\n",
      "Epoch 142/200\n",
      "\u001b[1m20/20\u001b[0m \u001b[32m━━━━━━━━━━━━━━━━━━━━\u001b[0m\u001b[37m\u001b[0m \u001b[1m0s\u001b[0m 12ms/step - accuracy: 1.0000 - loss: 7.3893e-04 - val_accuracy: 0.7078 - val_loss: 2.6572\n",
      "Epoch 143/200\n",
      "\u001b[1m20/20\u001b[0m \u001b[32m━━━━━━━━━━━━━━━━━━━━\u001b[0m\u001b[37m\u001b[0m \u001b[1m0s\u001b[0m 9ms/step - accuracy: 1.0000 - loss: 2.3857e-04 - val_accuracy: 0.7143 - val_loss: 2.6758\n",
      "Epoch 144/200\n",
      "\u001b[1m20/20\u001b[0m \u001b[32m━━━━━━━━━━━━━━━━━━━━\u001b[0m\u001b[37m\u001b[0m \u001b[1m0s\u001b[0m 8ms/step - accuracy: 1.0000 - loss: 4.3792e-05 - val_accuracy: 0.7208 - val_loss: 2.6821\n",
      "Epoch 145/200\n",
      "\u001b[1m20/20\u001b[0m \u001b[32m━━━━━━━━━━━━━━━━━━━━\u001b[0m\u001b[37m\u001b[0m \u001b[1m0s\u001b[0m 8ms/step - accuracy: 1.0000 - loss: 3.3874e-05 - val_accuracy: 0.7143 - val_loss: 2.6985\n",
      "Epoch 146/200\n",
      "\u001b[1m20/20\u001b[0m \u001b[32m━━━━━━━━━━━━━━━━━━━━\u001b[0m\u001b[37m\u001b[0m \u001b[1m0s\u001b[0m 8ms/step - accuracy: 1.0000 - loss: 2.8445e-05 - val_accuracy: 0.7143 - val_loss: 2.7176\n",
      "Epoch 147/200\n",
      "\u001b[1m20/20\u001b[0m \u001b[32m━━━━━━━━━━━━━━━━━━━━\u001b[0m\u001b[37m\u001b[0m \u001b[1m0s\u001b[0m 7ms/step - accuracy: 1.0000 - loss: 2.3123e-05 - val_accuracy: 0.7208 - val_loss: 2.7378\n",
      "Epoch 148/200\n",
      "\u001b[1m20/20\u001b[0m \u001b[32m━━━━━━━━━━━━━━━━━━━━\u001b[0m\u001b[37m\u001b[0m \u001b[1m0s\u001b[0m 7ms/step - accuracy: 1.0000 - loss: 2.5652e-05 - val_accuracy: 0.7208 - val_loss: 2.7443\n",
      "Epoch 149/200\n",
      "\u001b[1m20/20\u001b[0m \u001b[32m━━━━━━━━━━━━━━━━━━━━\u001b[0m\u001b[37m\u001b[0m \u001b[1m0s\u001b[0m 7ms/step - accuracy: 1.0000 - loss: 1.4468e-05 - val_accuracy: 0.7208 - val_loss: 2.7649\n",
      "Epoch 150/200\n",
      "\u001b[1m20/20\u001b[0m \u001b[32m━━━━━━━━━━━━━━━━━━━━\u001b[0m\u001b[37m\u001b[0m \u001b[1m0s\u001b[0m 7ms/step - accuracy: 1.0000 - loss: 1.5075e-05 - val_accuracy: 0.7208 - val_loss: 2.7756\n",
      "Epoch 151/200\n",
      "\u001b[1m20/20\u001b[0m \u001b[32m━━━━━━━━━━━━━━━━━━━━\u001b[0m\u001b[37m\u001b[0m \u001b[1m0s\u001b[0m 8ms/step - accuracy: 1.0000 - loss: 1.1607e-05 - val_accuracy: 0.7208 - val_loss: 2.7840\n",
      "Epoch 152/200\n",
      "\u001b[1m20/20\u001b[0m \u001b[32m━━━━━━━━━━━━━━━━━━━━\u001b[0m\u001b[37m\u001b[0m \u001b[1m0s\u001b[0m 8ms/step - accuracy: 1.0000 - loss: 1.1058e-05 - val_accuracy: 0.7208 - val_loss: 2.7889\n",
      "Epoch 153/200\n",
      "\u001b[1m20/20\u001b[0m \u001b[32m━━━━━━━━━━━━━━━━━━━━\u001b[0m\u001b[37m\u001b[0m \u001b[1m0s\u001b[0m 8ms/step - accuracy: 1.0000 - loss: 1.0668e-05 - val_accuracy: 0.7208 - val_loss: 2.8002\n",
      "Epoch 154/200\n",
      "\u001b[1m20/20\u001b[0m \u001b[32m━━━━━━━━━━━━━━━━━━━━\u001b[0m\u001b[37m\u001b[0m \u001b[1m0s\u001b[0m 7ms/step - accuracy: 1.0000 - loss: 7.9244e-06 - val_accuracy: 0.7273 - val_loss: 2.8147\n",
      "Epoch 155/200\n",
      "\u001b[1m20/20\u001b[0m \u001b[32m━━━━━━━━━━━━━━━━━━━━\u001b[0m\u001b[37m\u001b[0m \u001b[1m0s\u001b[0m 7ms/step - accuracy: 1.0000 - loss: 7.9188e-06 - val_accuracy: 0.7208 - val_loss: 2.8226\n",
      "Epoch 156/200\n",
      "\u001b[1m20/20\u001b[0m \u001b[32m━━━━━━━━━━━━━━━━━━━━\u001b[0m\u001b[37m\u001b[0m \u001b[1m0s\u001b[0m 7ms/step - accuracy: 1.0000 - loss: 8.6502e-06 - val_accuracy: 0.7208 - val_loss: 2.8293\n",
      "Epoch 157/200\n",
      "\u001b[1m20/20\u001b[0m \u001b[32m━━━━━━━━━━━━━━━━━━━━\u001b[0m\u001b[37m\u001b[0m \u001b[1m0s\u001b[0m 7ms/step - accuracy: 1.0000 - loss: 8.0279e-06 - val_accuracy: 0.7208 - val_loss: 2.8399\n",
      "Epoch 158/200\n",
      "\u001b[1m20/20\u001b[0m \u001b[32m━━━━━━━━━━━━━━━━━━━━\u001b[0m\u001b[37m\u001b[0m \u001b[1m0s\u001b[0m 7ms/step - accuracy: 1.0000 - loss: 7.2137e-06 - val_accuracy: 0.7208 - val_loss: 2.8457\n",
      "Epoch 159/200\n",
      "\u001b[1m20/20\u001b[0m \u001b[32m━━━━━━━━━━━━━━━━━━━━\u001b[0m\u001b[37m\u001b[0m \u001b[1m0s\u001b[0m 7ms/step - accuracy: 1.0000 - loss: 7.1470e-06 - val_accuracy: 0.7208 - val_loss: 2.8479\n",
      "Epoch 160/200\n",
      "\u001b[1m20/20\u001b[0m \u001b[32m━━━━━━━━━━━━━━━━━━━━\u001b[0m\u001b[37m\u001b[0m \u001b[1m0s\u001b[0m 8ms/step - accuracy: 1.0000 - loss: 7.4168e-06 - val_accuracy: 0.7338 - val_loss: 2.8592\n",
      "Epoch 161/200\n",
      "\u001b[1m20/20\u001b[0m \u001b[32m━━━━━━━━━━━━━━━━━━━━\u001b[0m\u001b[37m\u001b[0m \u001b[1m0s\u001b[0m 8ms/step - accuracy: 1.0000 - loss: 7.0861e-06 - val_accuracy: 0.7208 - val_loss: 2.8671\n",
      "Epoch 162/200\n",
      "\u001b[1m20/20\u001b[0m \u001b[32m━━━━━━━━━━━━━━━━━━━━\u001b[0m\u001b[37m\u001b[0m \u001b[1m0s\u001b[0m 8ms/step - accuracy: 1.0000 - loss: 5.8554e-06 - val_accuracy: 0.7208 - val_loss: 2.8719\n",
      "Epoch 163/200\n",
      "\u001b[1m20/20\u001b[0m \u001b[32m━━━━━━━━━━━━━━━━━━━━\u001b[0m\u001b[37m\u001b[0m \u001b[1m0s\u001b[0m 8ms/step - accuracy: 1.0000 - loss: 5.3510e-06 - val_accuracy: 0.7208 - val_loss: 2.8782\n",
      "Epoch 164/200\n",
      "\u001b[1m20/20\u001b[0m \u001b[32m━━━━━━━━━━━━━━━━━━━━\u001b[0m\u001b[37m\u001b[0m \u001b[1m0s\u001b[0m 7ms/step - accuracy: 1.0000 - loss: 6.5586e-06 - val_accuracy: 0.7273 - val_loss: 2.8860\n",
      "Epoch 165/200\n",
      "\u001b[1m20/20\u001b[0m \u001b[32m━━━━━━━━━━━━━━━━━━━━\u001b[0m\u001b[37m\u001b[0m \u001b[1m0s\u001b[0m 7ms/step - accuracy: 1.0000 - loss: 4.8689e-06 - val_accuracy: 0.7273 - val_loss: 2.8902\n",
      "Epoch 166/200\n",
      "\u001b[1m20/20\u001b[0m \u001b[32m━━━━━━━━━━━━━━━━━━━━\u001b[0m\u001b[37m\u001b[0m \u001b[1m0s\u001b[0m 7ms/step - accuracy: 1.0000 - loss: 6.6355e-06 - val_accuracy: 0.7273 - val_loss: 2.9012\n",
      "Epoch 167/200\n",
      "\u001b[1m20/20\u001b[0m \u001b[32m━━━━━━━━━━━━━━━━━━━━\u001b[0m\u001b[37m\u001b[0m \u001b[1m0s\u001b[0m 6ms/step - accuracy: 1.0000 - loss: 5.5186e-06 - val_accuracy: 0.7273 - val_loss: 2.9102\n",
      "Epoch 168/200\n",
      "\u001b[1m20/20\u001b[0m \u001b[32m━━━━━━━━━━━━━━━━━━━━\u001b[0m\u001b[37m\u001b[0m \u001b[1m0s\u001b[0m 8ms/step - accuracy: 1.0000 - loss: 5.3602e-06 - val_accuracy: 0.7273 - val_loss: 2.9136\n",
      "Epoch 169/200\n",
      "\u001b[1m20/20\u001b[0m \u001b[32m━━━━━━━━━━━━━━━━━━━━\u001b[0m\u001b[37m\u001b[0m \u001b[1m0s\u001b[0m 7ms/step - accuracy: 1.0000 - loss: 4.9654e-06 - val_accuracy: 0.7208 - val_loss: 2.9048\n",
      "Epoch 170/200\n",
      "\u001b[1m20/20\u001b[0m \u001b[32m━━━━━━━━━━━━━━━━━━━━\u001b[0m\u001b[37m\u001b[0m \u001b[1m0s\u001b[0m 7ms/step - accuracy: 1.0000 - loss: 4.3254e-06 - val_accuracy: 0.7273 - val_loss: 2.9253\n",
      "Epoch 171/200\n",
      "\u001b[1m20/20\u001b[0m \u001b[32m━━━━━━━━━━━━━━━━━━━━\u001b[0m\u001b[37m\u001b[0m \u001b[1m0s\u001b[0m 8ms/step - accuracy: 1.0000 - loss: 5.0358e-06 - val_accuracy: 0.7273 - val_loss: 2.9281\n",
      "Epoch 172/200\n",
      "\u001b[1m20/20\u001b[0m \u001b[32m━━━━━━━━━━━━━━━━━━━━\u001b[0m\u001b[37m\u001b[0m \u001b[1m0s\u001b[0m 7ms/step - accuracy: 1.0000 - loss: 4.8508e-06 - val_accuracy: 0.7273 - val_loss: 2.9347\n",
      "Epoch 173/200\n",
      "\u001b[1m20/20\u001b[0m \u001b[32m━━━━━━━━━━━━━━━━━━━━\u001b[0m\u001b[37m\u001b[0m \u001b[1m0s\u001b[0m 7ms/step - accuracy: 1.0000 - loss: 4.7861e-06 - val_accuracy: 0.7273 - val_loss: 2.9409\n",
      "Epoch 174/200\n",
      "\u001b[1m20/20\u001b[0m \u001b[32m━━━━━━━━━━━━━━━━━━━━\u001b[0m\u001b[37m\u001b[0m \u001b[1m0s\u001b[0m 7ms/step - accuracy: 1.0000 - loss: 4.7530e-06 - val_accuracy: 0.7273 - val_loss: 2.9446\n",
      "Epoch 175/200\n",
      "\u001b[1m20/20\u001b[0m \u001b[32m━━━━━━━━━━━━━━━━━━━━\u001b[0m\u001b[37m\u001b[0m \u001b[1m0s\u001b[0m 9ms/step - accuracy: 1.0000 - loss: 4.6818e-06 - val_accuracy: 0.7208 - val_loss: 2.9303\n",
      "Epoch 176/200\n",
      "\u001b[1m20/20\u001b[0m \u001b[32m━━━━━━━━━━━━━━━━━━━━\u001b[0m\u001b[37m\u001b[0m \u001b[1m0s\u001b[0m 8ms/step - accuracy: 1.0000 - loss: 3.5619e-06 - val_accuracy: 0.7338 - val_loss: 2.9548\n",
      "Epoch 177/200\n",
      "\u001b[1m20/20\u001b[0m \u001b[32m━━━━━━━━━━━━━━━━━━━━\u001b[0m\u001b[37m\u001b[0m \u001b[1m0s\u001b[0m 7ms/step - accuracy: 1.0000 - loss: 4.2978e-06 - val_accuracy: 0.7273 - val_loss: 2.9587\n",
      "Epoch 178/200\n",
      "\u001b[1m20/20\u001b[0m \u001b[32m━━━━━━━━━━━━━━━━━━━━\u001b[0m\u001b[37m\u001b[0m \u001b[1m0s\u001b[0m 7ms/step - accuracy: 1.0000 - loss: 3.7740e-06 - val_accuracy: 0.7273 - val_loss: 2.9627\n",
      "Epoch 179/200\n",
      "\u001b[1m20/20\u001b[0m \u001b[32m━━━━━━━━━━━━━━━━━━━━\u001b[0m\u001b[37m\u001b[0m \u001b[1m0s\u001b[0m 7ms/step - accuracy: 1.0000 - loss: 4.0123e-06 - val_accuracy: 0.7273 - val_loss: 2.9647\n",
      "Epoch 180/200\n",
      "\u001b[1m20/20\u001b[0m \u001b[32m━━━━━━━━━━━━━━━━━━━━\u001b[0m\u001b[37m\u001b[0m \u001b[1m0s\u001b[0m 8ms/step - accuracy: 1.0000 - loss: 3.5228e-06 - val_accuracy: 0.7273 - val_loss: 2.9660\n",
      "Epoch 181/200\n",
      "\u001b[1m20/20\u001b[0m \u001b[32m━━━━━━━━━━━━━━━━━━━━\u001b[0m\u001b[37m\u001b[0m \u001b[1m0s\u001b[0m 7ms/step - accuracy: 1.0000 - loss: 3.9362e-06 - val_accuracy: 0.7273 - val_loss: 2.9716\n",
      "Epoch 182/200\n",
      "\u001b[1m20/20\u001b[0m \u001b[32m━━━━━━━━━━━━━━━━━━━━\u001b[0m\u001b[37m\u001b[0m \u001b[1m0s\u001b[0m 9ms/step - accuracy: 1.0000 - loss: 3.4434e-06 - val_accuracy: 0.7273 - val_loss: 2.9748\n",
      "Epoch 183/200\n",
      "\u001b[1m20/20\u001b[0m \u001b[32m━━━━━━━━━━━━━━━━━━━━\u001b[0m\u001b[37m\u001b[0m \u001b[1m0s\u001b[0m 8ms/step - accuracy: 1.0000 - loss: 2.5787e-06 - val_accuracy: 0.7273 - val_loss: 2.9776\n",
      "Epoch 184/200\n",
      "\u001b[1m20/20\u001b[0m \u001b[32m━━━━━━━━━━━━━━━━━━━━\u001b[0m\u001b[37m\u001b[0m \u001b[1m0s\u001b[0m 11ms/step - accuracy: 1.0000 - loss: 3.5965e-06 - val_accuracy: 0.7273 - val_loss: 2.9819\n",
      "Epoch 185/200\n",
      "\u001b[1m20/20\u001b[0m \u001b[32m━━━━━━━━━━━━━━━━━━━━\u001b[0m\u001b[37m\u001b[0m \u001b[1m0s\u001b[0m 7ms/step - accuracy: 1.0000 - loss: 3.8021e-06 - val_accuracy: 0.7273 - val_loss: 2.9850\n",
      "Epoch 186/200\n",
      "\u001b[1m20/20\u001b[0m \u001b[32m━━━━━━━━━━━━━━━━━━━━\u001b[0m\u001b[37m\u001b[0m \u001b[1m0s\u001b[0m 7ms/step - accuracy: 1.0000 - loss: 3.0964e-06 - val_accuracy: 0.7273 - val_loss: 2.9872\n",
      "Epoch 187/200\n",
      "\u001b[1m20/20\u001b[0m \u001b[32m━━━━━━━━━━━━━━━━━━━━\u001b[0m\u001b[37m\u001b[0m \u001b[1m0s\u001b[0m 10ms/step - accuracy: 1.0000 - loss: 2.9249e-06 - val_accuracy: 0.7273 - val_loss: 2.9935\n",
      "Epoch 188/200\n",
      "\u001b[1m20/20\u001b[0m \u001b[32m━━━━━━━━━━━━━━━━━━━━\u001b[0m\u001b[37m\u001b[0m \u001b[1m0s\u001b[0m 8ms/step - accuracy: 1.0000 - loss: 2.6797e-06 - val_accuracy: 0.7273 - val_loss: 2.9949\n",
      "Epoch 189/200\n",
      "\u001b[1m20/20\u001b[0m \u001b[32m━━━━━━━━━━━━━━━━━━━━\u001b[0m\u001b[37m\u001b[0m \u001b[1m0s\u001b[0m 7ms/step - accuracy: 1.0000 - loss: 3.0480e-06 - val_accuracy: 0.7273 - val_loss: 3.0005\n",
      "Epoch 190/200\n",
      "\u001b[1m20/20\u001b[0m \u001b[32m━━━━━━━━━━━━━━━━━━━━\u001b[0m\u001b[37m\u001b[0m \u001b[1m0s\u001b[0m 8ms/step - accuracy: 1.0000 - loss: 3.4224e-06 - val_accuracy: 0.7273 - val_loss: 3.0044\n",
      "Epoch 191/200\n",
      "\u001b[1m20/20\u001b[0m \u001b[32m━━━━━━━━━━━━━━━━━━━━\u001b[0m\u001b[37m\u001b[0m \u001b[1m0s\u001b[0m 8ms/step - accuracy: 1.0000 - loss: 3.3370e-06 - val_accuracy: 0.7273 - val_loss: 3.0033\n",
      "Epoch 192/200\n",
      "\u001b[1m20/20\u001b[0m \u001b[32m━━━━━━━━━━━━━━━━━━━━\u001b[0m\u001b[37m\u001b[0m \u001b[1m0s\u001b[0m 9ms/step - accuracy: 1.0000 - loss: 2.5988e-06 - val_accuracy: 0.7273 - val_loss: 3.0089\n",
      "Epoch 193/200\n",
      "\u001b[1m20/20\u001b[0m \u001b[32m━━━━━━━━━━━━━━━━━━━━\u001b[0m\u001b[37m\u001b[0m \u001b[1m0s\u001b[0m 8ms/step - accuracy: 1.0000 - loss: 2.6525e-06 - val_accuracy: 0.7273 - val_loss: 3.0004\n",
      "Epoch 194/200\n",
      "\u001b[1m20/20\u001b[0m \u001b[32m━━━━━━━━━━━━━━━━━━━━\u001b[0m\u001b[37m\u001b[0m \u001b[1m0s\u001b[0m 7ms/step - accuracy: 1.0000 - loss: 2.7297e-06 - val_accuracy: 0.7273 - val_loss: 3.0103\n",
      "Epoch 195/200\n",
      "\u001b[1m20/20\u001b[0m \u001b[32m━━━━━━━━━━━━━━━━━━━━\u001b[0m\u001b[37m\u001b[0m \u001b[1m0s\u001b[0m 8ms/step - accuracy: 1.0000 - loss: 3.0948e-06 - val_accuracy: 0.7273 - val_loss: 3.0171\n",
      "Epoch 196/200\n",
      "\u001b[1m20/20\u001b[0m \u001b[32m━━━━━━━━━━━━━━━━━━━━\u001b[0m\u001b[37m\u001b[0m \u001b[1m0s\u001b[0m 7ms/step - accuracy: 1.0000 - loss: 2.7159e-06 - val_accuracy: 0.7273 - val_loss: 3.0230\n",
      "Epoch 197/200\n",
      "\u001b[1m20/20\u001b[0m \u001b[32m━━━━━━━━━━━━━━━━━━━━\u001b[0m\u001b[37m\u001b[0m \u001b[1m0s\u001b[0m 8ms/step - accuracy: 1.0000 - loss: 2.6434e-06 - val_accuracy: 0.7273 - val_loss: 3.0255\n",
      "Epoch 198/200\n",
      "\u001b[1m20/20\u001b[0m \u001b[32m━━━━━━━━━━━━━━━━━━━━\u001b[0m\u001b[37m\u001b[0m \u001b[1m0s\u001b[0m 7ms/step - accuracy: 1.0000 - loss: 2.6328e-06 - val_accuracy: 0.7273 - val_loss: 3.0282\n",
      "Epoch 199/200\n",
      "\u001b[1m20/20\u001b[0m \u001b[32m━━━━━━━━━━━━━━━━━━━━\u001b[0m\u001b[37m\u001b[0m \u001b[1m0s\u001b[0m 8ms/step - accuracy: 1.0000 - loss: 2.2273e-06 - val_accuracy: 0.7338 - val_loss: 3.0320\n",
      "Epoch 200/200\n",
      "\u001b[1m20/20\u001b[0m \u001b[32m━━━━━━━━━━━━━━━━━━━━\u001b[0m\u001b[37m\u001b[0m \u001b[1m0s\u001b[0m 8ms/step - accuracy: 1.0000 - loss: 2.3412e-06 - val_accuracy: 0.7273 - val_loss: 3.0378\n"
     ]
    },
    {
     "data": {
      "text/plain": [
       "<keras.src.callbacks.history.History at 0x197a6ec5af0>"
      ]
     },
     "execution_count": 282,
     "metadata": {},
     "output_type": "execute_result"
    }
   ],
   "source": [
    "model.fit(X_train, y_train, initial_epoch=5, epochs=200, validation_data=(X_test,y_test))"
   ]
  },
  {
   "cell_type": "code",
   "execution_count": 311,
   "id": "2d988d92",
   "metadata": {},
   "outputs": [
    {
     "data": {
      "text/html": [
       "<pre style=\"white-space:pre;overflow-x:auto;line-height:normal;font-family:Menlo,'DejaVu Sans Mono',consolas,'Courier New',monospace\"><span style=\"font-weight: bold\">Model: \"sequential_9\"</span>\n",
       "</pre>\n"
      ],
      "text/plain": [
       "\u001b[1mModel: \"sequential_9\"\u001b[0m\n"
      ]
     },
     "metadata": {},
     "output_type": "display_data"
    },
    {
     "data": {
      "text/html": [
       "<pre style=\"white-space:pre;overflow-x:auto;line-height:normal;font-family:Menlo,'DejaVu Sans Mono',consolas,'Courier New',monospace\">┏━━━━━━━━━━━━━━━━━━━━━━━━━━━━━━━━━━━━━━┳━━━━━━━━━━━━━━━━━━━━━━━━━━━━━┳━━━━━━━━━━━━━━━━━┓\n",
       "┃<span style=\"font-weight: bold\"> Layer (type)                         </span>┃<span style=\"font-weight: bold\"> Output Shape                </span>┃<span style=\"font-weight: bold\">         Param # </span>┃\n",
       "┡━━━━━━━━━━━━━━━━━━━━━━━━━━━━━━━━━━━━━━╇━━━━━━━━━━━━━━━━━━━━━━━━━━━━━╇━━━━━━━━━━━━━━━━━┩\n",
       "│ dense_41 (<span style=\"color: #0087ff; text-decoration-color: #0087ff\">Dense</span>)                     │ (<span style=\"color: #00d7ff; text-decoration-color: #00d7ff\">None</span>, <span style=\"color: #00af00; text-decoration-color: #00af00\">93</span>)                  │             <span style=\"color: #00af00; text-decoration-color: #00af00\">837</span> │\n",
       "├──────────────────────────────────────┼─────────────────────────────┼─────────────────┤\n",
       "│ dropout_21 (<span style=\"color: #0087ff; text-decoration-color: #0087ff\">Dropout</span>)                 │ (<span style=\"color: #00d7ff; text-decoration-color: #00d7ff\">None</span>, <span style=\"color: #00af00; text-decoration-color: #00af00\">93</span>)                  │               <span style=\"color: #00af00; text-decoration-color: #00af00\">0</span> │\n",
       "├──────────────────────────────────────┼─────────────────────────────┼─────────────────┤\n",
       "│ batch_normalization_15               │ (<span style=\"color: #00d7ff; text-decoration-color: #00d7ff\">None</span>, <span style=\"color: #00af00; text-decoration-color: #00af00\">93</span>)                  │             <span style=\"color: #00af00; text-decoration-color: #00af00\">372</span> │\n",
       "│ (<span style=\"color: #0087ff; text-decoration-color: #0087ff\">BatchNormalization</span>)                 │                             │                 │\n",
       "├──────────────────────────────────────┼─────────────────────────────┼─────────────────┤\n",
       "│ dense_42 (<span style=\"color: #0087ff; text-decoration-color: #0087ff\">Dense</span>)                     │ (<span style=\"color: #00d7ff; text-decoration-color: #00d7ff\">None</span>, <span style=\"color: #00af00; text-decoration-color: #00af00\">93</span>)                  │           <span style=\"color: #00af00; text-decoration-color: #00af00\">8,742</span> │\n",
       "├──────────────────────────────────────┼─────────────────────────────┼─────────────────┤\n",
       "│ dense_43 (<span style=\"color: #0087ff; text-decoration-color: #0087ff\">Dense</span>)                     │ (<span style=\"color: #00d7ff; text-decoration-color: #00d7ff\">None</span>, <span style=\"color: #00af00; text-decoration-color: #00af00\">1</span>)                   │              <span style=\"color: #00af00; text-decoration-color: #00af00\">94</span> │\n",
       "└──────────────────────────────────────┴─────────────────────────────┴─────────────────┘\n",
       "</pre>\n"
      ],
      "text/plain": [
       "┏━━━━━━━━━━━━━━━━━━━━━━━━━━━━━━━━━━━━━━┳━━━━━━━━━━━━━━━━━━━━━━━━━━━━━┳━━━━━━━━━━━━━━━━━┓\n",
       "┃\u001b[1m \u001b[0m\u001b[1mLayer (type)                        \u001b[0m\u001b[1m \u001b[0m┃\u001b[1m \u001b[0m\u001b[1mOutput Shape               \u001b[0m\u001b[1m \u001b[0m┃\u001b[1m \u001b[0m\u001b[1m        Param #\u001b[0m\u001b[1m \u001b[0m┃\n",
       "┡━━━━━━━━━━━━━━━━━━━━━━━━━━━━━━━━━━━━━━╇━━━━━━━━━━━━━━━━━━━━━━━━━━━━━╇━━━━━━━━━━━━━━━━━┩\n",
       "│ dense_41 (\u001b[38;5;33mDense\u001b[0m)                     │ (\u001b[38;5;45mNone\u001b[0m, \u001b[38;5;34m93\u001b[0m)                  │             \u001b[38;5;34m837\u001b[0m │\n",
       "├──────────────────────────────────────┼─────────────────────────────┼─────────────────┤\n",
       "│ dropout_21 (\u001b[38;5;33mDropout\u001b[0m)                 │ (\u001b[38;5;45mNone\u001b[0m, \u001b[38;5;34m93\u001b[0m)                  │               \u001b[38;5;34m0\u001b[0m │\n",
       "├──────────────────────────────────────┼─────────────────────────────┼─────────────────┤\n",
       "│ batch_normalization_15               │ (\u001b[38;5;45mNone\u001b[0m, \u001b[38;5;34m93\u001b[0m)                  │             \u001b[38;5;34m372\u001b[0m │\n",
       "│ (\u001b[38;5;33mBatchNormalization\u001b[0m)                 │                             │                 │\n",
       "├──────────────────────────────────────┼─────────────────────────────┼─────────────────┤\n",
       "│ dense_42 (\u001b[38;5;33mDense\u001b[0m)                     │ (\u001b[38;5;45mNone\u001b[0m, \u001b[38;5;34m93\u001b[0m)                  │           \u001b[38;5;34m8,742\u001b[0m │\n",
       "├──────────────────────────────────────┼─────────────────────────────┼─────────────────┤\n",
       "│ dense_43 (\u001b[38;5;33mDense\u001b[0m)                     │ (\u001b[38;5;45mNone\u001b[0m, \u001b[38;5;34m1\u001b[0m)                   │              \u001b[38;5;34m94\u001b[0m │\n",
       "└──────────────────────────────────────┴─────────────────────────────┴─────────────────┘\n"
      ]
     },
     "metadata": {},
     "output_type": "display_data"
    },
    {
     "data": {
      "text/html": [
       "<pre style=\"white-space:pre;overflow-x:auto;line-height:normal;font-family:Menlo,'DejaVu Sans Mono',consolas,'Courier New',monospace\"><span style=\"font-weight: bold\"> Total params: </span><span style=\"color: #00af00; text-decoration-color: #00af00\">10,045</span> (39.24 KB)\n",
       "</pre>\n"
      ],
      "text/plain": [
       "\u001b[1m Total params: \u001b[0m\u001b[38;5;34m10,045\u001b[0m (39.24 KB)\n"
      ]
     },
     "metadata": {},
     "output_type": "display_data"
    },
    {
     "data": {
      "text/html": [
       "<pre style=\"white-space:pre;overflow-x:auto;line-height:normal;font-family:Menlo,'DejaVu Sans Mono',consolas,'Courier New',monospace\"><span style=\"font-weight: bold\"> Trainable params: </span><span style=\"color: #00af00; text-decoration-color: #00af00\">9,859</span> (38.51 KB)\n",
       "</pre>\n"
      ],
      "text/plain": [
       "\u001b[1m Trainable params: \u001b[0m\u001b[38;5;34m9,859\u001b[0m (38.51 KB)\n"
      ]
     },
     "metadata": {},
     "output_type": "display_data"
    },
    {
     "data": {
      "text/html": [
       "<pre style=\"white-space:pre;overflow-x:auto;line-height:normal;font-family:Menlo,'DejaVu Sans Mono',consolas,'Courier New',monospace\"><span style=\"font-weight: bold\"> Non-trainable params: </span><span style=\"color: #00af00; text-decoration-color: #00af00\">186</span> (744.00 B)\n",
       "</pre>\n"
      ],
      "text/plain": [
       "\u001b[1m Non-trainable params: \u001b[0m\u001b[38;5;34m186\u001b[0m (744.00 B)\n"
      ]
     },
     "metadata": {},
     "output_type": "display_data"
    }
   ],
   "source": [
    "model = Sequential()\n",
    "model.add(Dense(93, activation='relu', input_dim=8, kernel_initializer='he_normal', \n",
    "                kernel_regularizer= tensorflow.keras.regularizers.l2(0.03)))\n",
    "model.add(Dropout(0.5))\n",
    "model.add(BatchNormalization())\n",
    "model.add(Dense(93, activation='relu', kernel_initializer='he_normal', \n",
    "                kernel_regularizer= tensorflow.keras.regularizers.l2(0.03)))\n",
    "model.add(Dense(1, activation='sigmoid'))\n",
    "model.summary()"
   ]
  },
  {
   "cell_type": "code",
   "execution_count": 312,
   "id": "be6af9ae",
   "metadata": {},
   "outputs": [
    {
     "name": "stdout",
     "output_type": "stream",
     "text": [
      "Epoch 1/200\n",
      "\u001b[1m20/20\u001b[0m \u001b[32m━━━━━━━━━━━━━━━━━━━━\u001b[0m\u001b[37m\u001b[0m \u001b[1m4s\u001b[0m 30ms/step - accuracy: 0.4267 - loss: 12.2391 - val_accuracy: 0.6364 - val_loss: 10.9737\n",
      "Epoch 2/200\n",
      "\u001b[1m20/20\u001b[0m \u001b[32m━━━━━━━━━━━━━━━━━━━━\u001b[0m\u001b[37m\u001b[0m \u001b[1m0s\u001b[0m 8ms/step - accuracy: 0.5969 - loss: 10.7449 - val_accuracy: 0.7468 - val_loss: 9.7645\n",
      "Epoch 3/200\n",
      "\u001b[1m20/20\u001b[0m \u001b[32m━━━━━━━━━━━━━━━━━━━━\u001b[0m\u001b[37m\u001b[0m \u001b[1m0s\u001b[0m 8ms/step - accuracy: 0.6529 - loss: 9.5998 - val_accuracy: 0.7662 - val_loss: 8.7957\n",
      "Epoch 4/200\n",
      "\u001b[1m20/20\u001b[0m \u001b[32m━━━━━━━━━━━━━━━━━━━━\u001b[0m\u001b[37m\u001b[0m \u001b[1m0s\u001b[0m 7ms/step - accuracy: 0.7335 - loss: 8.6428 - val_accuracy: 0.7987 - val_loss: 7.9548\n",
      "Epoch 5/200\n",
      "\u001b[1m20/20\u001b[0m \u001b[32m━━━━━━━━━━━━━━━━━━━━\u001b[0m\u001b[37m\u001b[0m \u001b[1m0s\u001b[0m 8ms/step - accuracy: 0.7705 - loss: 7.7829 - val_accuracy: 0.7922 - val_loss: 7.2172\n",
      "Epoch 6/200\n",
      "\u001b[1m20/20\u001b[0m \u001b[32m━━━━━━━━━━━━━━━━━━━━\u001b[0m\u001b[37m\u001b[0m \u001b[1m0s\u001b[0m 8ms/step - accuracy: 0.7466 - loss: 7.0791 - val_accuracy: 0.7857 - val_loss: 6.5751\n",
      "Epoch 7/200\n",
      "\u001b[1m20/20\u001b[0m \u001b[32m━━━━━━━━━━━━━━━━━━━━\u001b[0m\u001b[37m\u001b[0m \u001b[1m0s\u001b[0m 7ms/step - accuracy: 0.7669 - loss: 6.4394 - val_accuracy: 0.7792 - val_loss: 6.0086\n",
      "Epoch 8/200\n",
      "\u001b[1m20/20\u001b[0m \u001b[32m━━━━━━━━━━━━━━━━━━━━\u001b[0m\u001b[37m\u001b[0m \u001b[1m0s\u001b[0m 8ms/step - accuracy: 0.7657 - loss: 5.8929 - val_accuracy: 0.7792 - val_loss: 5.5089\n",
      "Epoch 9/200\n",
      "\u001b[1m20/20\u001b[0m \u001b[32m━━━━━━━━━━━━━━━━━━━━\u001b[0m\u001b[37m\u001b[0m \u001b[1m0s\u001b[0m 7ms/step - accuracy: 0.7536 - loss: 5.4257 - val_accuracy: 0.7987 - val_loss: 5.0653\n",
      "Epoch 10/200\n",
      "\u001b[1m20/20\u001b[0m \u001b[32m━━━━━━━━━━━━━━━━━━━━\u001b[0m\u001b[37m\u001b[0m \u001b[1m0s\u001b[0m 8ms/step - accuracy: 0.7261 - loss: 4.9981 - val_accuracy: 0.7987 - val_loss: 4.6692\n",
      "Epoch 11/200\n",
      "\u001b[1m20/20\u001b[0m \u001b[32m━━━━━━━━━━━━━━━━━━━━\u001b[0m\u001b[37m\u001b[0m \u001b[1m0s\u001b[0m 9ms/step - accuracy: 0.7743 - loss: 4.5829 - val_accuracy: 0.7922 - val_loss: 4.3170\n",
      "Epoch 12/200\n",
      "\u001b[1m20/20\u001b[0m \u001b[32m━━━━━━━━━━━━━━━━━━━━\u001b[0m\u001b[37m\u001b[0m \u001b[1m0s\u001b[0m 7ms/step - accuracy: 0.7475 - loss: 4.2620 - val_accuracy: 0.7857 - val_loss: 3.9986\n",
      "Epoch 13/200\n",
      "\u001b[1m20/20\u001b[0m \u001b[32m━━━━━━━━━━━━━━━━━━━━\u001b[0m\u001b[37m\u001b[0m \u001b[1m0s\u001b[0m 9ms/step - accuracy: 0.7477 - loss: 3.9653 - val_accuracy: 0.7792 - val_loss: 3.7191\n",
      "Epoch 14/200\n",
      "\u001b[1m20/20\u001b[0m \u001b[32m━━━━━━━━━━━━━━━━━━━━\u001b[0m\u001b[37m\u001b[0m \u001b[1m0s\u001b[0m 8ms/step - accuracy: 0.7426 - loss: 3.6868 - val_accuracy: 0.7857 - val_loss: 3.4602\n",
      "Epoch 15/200\n",
      "\u001b[1m20/20\u001b[0m \u001b[32m━━━━━━━━━━━━━━━━━━━━\u001b[0m\u001b[37m\u001b[0m \u001b[1m0s\u001b[0m 8ms/step - accuracy: 0.7562 - loss: 3.4185 - val_accuracy: 0.7727 - val_loss: 3.2298\n",
      "Epoch 16/200\n",
      "\u001b[1m20/20\u001b[0m \u001b[32m━━━━━━━━━━━━━━━━━━━━\u001b[0m\u001b[37m\u001b[0m \u001b[1m0s\u001b[0m 10ms/step - accuracy: 0.7600 - loss: 3.1967 - val_accuracy: 0.7792 - val_loss: 3.0259\n",
      "Epoch 17/200\n",
      "\u001b[1m20/20\u001b[0m \u001b[32m━━━━━━━━━━━━━━━━━━━━\u001b[0m\u001b[37m\u001b[0m \u001b[1m0s\u001b[0m 10ms/step - accuracy: 0.7763 - loss: 2.9853 - val_accuracy: 0.7727 - val_loss: 2.8365\n",
      "Epoch 18/200\n",
      "\u001b[1m20/20\u001b[0m \u001b[32m━━━━━━━━━━━━━━━━━━━━\u001b[0m\u001b[37m\u001b[0m \u001b[1m0s\u001b[0m 9ms/step - accuracy: 0.7771 - loss: 2.7871 - val_accuracy: 0.7792 - val_loss: 2.6621\n",
      "Epoch 19/200\n",
      "\u001b[1m20/20\u001b[0m \u001b[32m━━━━━━━━━━━━━━━━━━━━\u001b[0m\u001b[37m\u001b[0m \u001b[1m0s\u001b[0m 7ms/step - accuracy: 0.7897 - loss: 2.6273 - val_accuracy: 0.7727 - val_loss: 2.5093\n",
      "Epoch 20/200\n",
      "\u001b[1m20/20\u001b[0m \u001b[32m━━━━━━━━━━━━━━━━━━━━\u001b[0m\u001b[37m\u001b[0m \u001b[1m0s\u001b[0m 8ms/step - accuracy: 0.7223 - loss: 2.5015 - val_accuracy: 0.7987 - val_loss: 2.3654\n",
      "Epoch 21/200\n",
      "\u001b[1m20/20\u001b[0m \u001b[32m━━━━━━━━━━━━━━━━━━━━\u001b[0m\u001b[37m\u001b[0m \u001b[1m0s\u001b[0m 8ms/step - accuracy: 0.7527 - loss: 2.3493 - val_accuracy: 0.8117 - val_loss: 2.2319\n",
      "Epoch 22/200\n",
      "\u001b[1m20/20\u001b[0m \u001b[32m━━━━━━━━━━━━━━━━━━━━\u001b[0m\u001b[37m\u001b[0m \u001b[1m0s\u001b[0m 8ms/step - accuracy: 0.7928 - loss: 2.1812 - val_accuracy: 0.7792 - val_loss: 2.1143\n",
      "Epoch 23/200\n",
      "\u001b[1m20/20\u001b[0m \u001b[32m━━━━━━━━━━━━━━━━━━━━\u001b[0m\u001b[37m\u001b[0m \u001b[1m0s\u001b[0m 8ms/step - accuracy: 0.7846 - loss: 2.0990 - val_accuracy: 0.7662 - val_loss: 2.0060\n",
      "Epoch 24/200\n",
      "\u001b[1m20/20\u001b[0m \u001b[32m━━━━━━━━━━━━━━━━━━━━\u001b[0m\u001b[37m\u001b[0m \u001b[1m0s\u001b[0m 8ms/step - accuracy: 0.7666 - loss: 1.9809 - val_accuracy: 0.7727 - val_loss: 1.9008\n",
      "Epoch 25/200\n",
      "\u001b[1m20/20\u001b[0m \u001b[32m━━━━━━━━━━━━━━━━━━━━\u001b[0m\u001b[37m\u001b[0m \u001b[1m0s\u001b[0m 10ms/step - accuracy: 0.7876 - loss: 1.8676 - val_accuracy: 0.7727 - val_loss: 1.7990\n",
      "Epoch 26/200\n",
      "\u001b[1m20/20\u001b[0m \u001b[32m━━━━━━━━━━━━━━━━━━━━\u001b[0m\u001b[37m\u001b[0m \u001b[1m0s\u001b[0m 8ms/step - accuracy: 0.7681 - loss: 1.7672 - val_accuracy: 0.7922 - val_loss: 1.7083\n",
      "Epoch 27/200\n",
      "\u001b[1m20/20\u001b[0m \u001b[32m━━━━━━━━━━━━━━━━━━━━\u001b[0m\u001b[37m\u001b[0m \u001b[1m0s\u001b[0m 7ms/step - accuracy: 0.7680 - loss: 1.6703 - val_accuracy: 0.7987 - val_loss: 1.6267\n",
      "Epoch 28/200\n",
      "\u001b[1m20/20\u001b[0m \u001b[32m━━━━━━━━━━━━━━━━━━━━\u001b[0m\u001b[37m\u001b[0m \u001b[1m0s\u001b[0m 8ms/step - accuracy: 0.7586 - loss: 1.6255 - val_accuracy: 0.7792 - val_loss: 1.5571\n",
      "Epoch 29/200\n",
      "\u001b[1m20/20\u001b[0m \u001b[32m━━━━━━━━━━━━━━━━━━━━\u001b[0m\u001b[37m\u001b[0m \u001b[1m0s\u001b[0m 7ms/step - accuracy: 0.7699 - loss: 1.5359 - val_accuracy: 0.7857 - val_loss: 1.4865\n",
      "Epoch 30/200\n",
      "\u001b[1m20/20\u001b[0m \u001b[32m━━━━━━━━━━━━━━━━━━━━\u001b[0m\u001b[37m\u001b[0m \u001b[1m0s\u001b[0m 8ms/step - accuracy: 0.7575 - loss: 1.4746 - val_accuracy: 0.7792 - val_loss: 1.4198\n",
      "Epoch 31/200\n",
      "\u001b[1m20/20\u001b[0m \u001b[32m━━━━━━━━━━━━━━━━━━━━\u001b[0m\u001b[37m\u001b[0m \u001b[1m0s\u001b[0m 8ms/step - accuracy: 0.7741 - loss: 1.4030 - val_accuracy: 0.7922 - val_loss: 1.3520\n",
      "Epoch 32/200\n",
      "\u001b[1m20/20\u001b[0m \u001b[32m━━━━━━━━━━━━━━━━━━━━\u001b[0m\u001b[37m\u001b[0m \u001b[1m0s\u001b[0m 9ms/step - accuracy: 0.7606 - loss: 1.3537 - val_accuracy: 0.7922 - val_loss: 1.2936\n",
      "Epoch 33/200\n",
      "\u001b[1m20/20\u001b[0m \u001b[32m━━━━━━━━━━━━━━━━━━━━\u001b[0m\u001b[37m\u001b[0m \u001b[1m0s\u001b[0m 9ms/step - accuracy: 0.7922 - loss: 1.2606 - val_accuracy: 0.7727 - val_loss: 1.2354\n",
      "Epoch 34/200\n",
      "\u001b[1m20/20\u001b[0m \u001b[32m━━━━━━━━━━━━━━━━━━━━\u001b[0m\u001b[37m\u001b[0m \u001b[1m0s\u001b[0m 9ms/step - accuracy: 0.7806 - loss: 1.2149 - val_accuracy: 0.7987 - val_loss: 1.1854\n",
      "Epoch 35/200\n",
      "\u001b[1m20/20\u001b[0m \u001b[32m━━━━━━━━━━━━━━━━━━━━\u001b[0m\u001b[37m\u001b[0m \u001b[1m0s\u001b[0m 9ms/step - accuracy: 0.7832 - loss: 1.1639 - val_accuracy: 0.7792 - val_loss: 1.1422\n",
      "Epoch 36/200\n",
      "\u001b[1m20/20\u001b[0m \u001b[32m━━━━━━━━━━━━━━━━━━━━\u001b[0m\u001b[37m\u001b[0m \u001b[1m0s\u001b[0m 11ms/step - accuracy: 0.7732 - loss: 1.1172 - val_accuracy: 0.7922 - val_loss: 1.0937\n",
      "Epoch 37/200\n",
      "\u001b[1m20/20\u001b[0m \u001b[32m━━━━━━━━━━━━━━━━━━━━\u001b[0m\u001b[37m\u001b[0m \u001b[1m0s\u001b[0m 8ms/step - accuracy: 0.7920 - loss: 1.0695 - val_accuracy: 0.7727 - val_loss: 1.0507\n",
      "Epoch 38/200\n",
      "\u001b[1m20/20\u001b[0m \u001b[32m━━━━━━━━━━━━━━━━━━━━\u001b[0m\u001b[37m\u001b[0m \u001b[1m0s\u001b[0m 11ms/step - accuracy: 0.7843 - loss: 1.0439 - val_accuracy: 0.7662 - val_loss: 1.0147\n",
      "Epoch 39/200\n",
      "\u001b[1m20/20\u001b[0m \u001b[32m━━━━━━━━━━━━━━━━━━━━\u001b[0m\u001b[37m\u001b[0m \u001b[1m0s\u001b[0m 10ms/step - accuracy: 0.7838 - loss: 0.9876 - val_accuracy: 0.8052 - val_loss: 0.9693\n",
      "Epoch 40/200\n",
      "\u001b[1m20/20\u001b[0m \u001b[32m━━━━━━━━━━━━━━━━━━━━\u001b[0m\u001b[37m\u001b[0m \u001b[1m0s\u001b[0m 7ms/step - accuracy: 0.7618 - loss: 0.9717 - val_accuracy: 0.7727 - val_loss: 0.9429\n",
      "Epoch 41/200\n",
      "\u001b[1m20/20\u001b[0m \u001b[32m━━━━━━━━━━━━━━━━━━━━\u001b[0m\u001b[37m\u001b[0m \u001b[1m0s\u001b[0m 9ms/step - accuracy: 0.7925 - loss: 0.9253 - val_accuracy: 0.7857 - val_loss: 0.9153\n",
      "Epoch 42/200\n",
      "\u001b[1m20/20\u001b[0m \u001b[32m━━━━━━━━━━━━━━━━━━━━\u001b[0m\u001b[37m\u001b[0m \u001b[1m0s\u001b[0m 8ms/step - accuracy: 0.7566 - loss: 0.8997 - val_accuracy: 0.7922 - val_loss: 0.8753\n",
      "Epoch 43/200\n",
      "\u001b[1m20/20\u001b[0m \u001b[32m━━━━━━━━━━━━━━━━━━━━\u001b[0m\u001b[37m\u001b[0m \u001b[1m0s\u001b[0m 7ms/step - accuracy: 0.7779 - loss: 0.8749 - val_accuracy: 0.7987 - val_loss: 0.8544\n",
      "Epoch 44/200\n",
      "\u001b[1m20/20\u001b[0m \u001b[32m━━━━━━━━━━━━━━━━━━━━\u001b[0m\u001b[37m\u001b[0m \u001b[1m0s\u001b[0m 7ms/step - accuracy: 0.7885 - loss: 0.8378 - val_accuracy: 0.7987 - val_loss: 0.8318\n",
      "Epoch 45/200\n",
      "\u001b[1m20/20\u001b[0m \u001b[32m━━━━━━━━━━━━━━━━━━━━\u001b[0m\u001b[37m\u001b[0m \u001b[1m0s\u001b[0m 9ms/step - accuracy: 0.7903 - loss: 0.8212 - val_accuracy: 0.7857 - val_loss: 0.7987\n",
      "Epoch 46/200\n",
      "\u001b[1m20/20\u001b[0m \u001b[32m━━━━━━━━━━━━━━━━━━━━\u001b[0m\u001b[37m\u001b[0m \u001b[1m0s\u001b[0m 16ms/step - accuracy: 0.7896 - loss: 0.7785 - val_accuracy: 0.7857 - val_loss: 0.7763\n",
      "Epoch 47/200\n",
      "\u001b[1m20/20\u001b[0m \u001b[32m━━━━━━━━━━━━━━━━━━━━\u001b[0m\u001b[37m\u001b[0m \u001b[1m0s\u001b[0m 9ms/step - accuracy: 0.7934 - loss: 0.7869 - val_accuracy: 0.7922 - val_loss: 0.7518\n",
      "Epoch 48/200\n",
      "\u001b[1m20/20\u001b[0m \u001b[32m━━━━━━━━━━━━━━━━━━━━\u001b[0m\u001b[37m\u001b[0m \u001b[1m0s\u001b[0m 12ms/step - accuracy: 0.7880 - loss: 0.7505 - val_accuracy: 0.8117 - val_loss: 0.7326\n",
      "Epoch 49/200\n",
      "\u001b[1m20/20\u001b[0m \u001b[32m━━━━━━━━━━━━━━━━━━━━\u001b[0m\u001b[37m\u001b[0m \u001b[1m0s\u001b[0m 8ms/step - accuracy: 0.7773 - loss: 0.7387 - val_accuracy: 0.8182 - val_loss: 0.7119\n",
      "Epoch 50/200\n",
      "\u001b[1m20/20\u001b[0m \u001b[32m━━━━━━━━━━━━━━━━━━━━\u001b[0m\u001b[37m\u001b[0m \u001b[1m0s\u001b[0m 9ms/step - accuracy: 0.7807 - loss: 0.7359 - val_accuracy: 0.7792 - val_loss: 0.6992\n",
      "Epoch 51/200\n",
      "\u001b[1m20/20\u001b[0m \u001b[32m━━━━━━━━━━━━━━━━━━━━\u001b[0m\u001b[37m\u001b[0m \u001b[1m0s\u001b[0m 8ms/step - accuracy: 0.7936 - loss: 0.6851 - val_accuracy: 0.8117 - val_loss: 0.6716\n",
      "Epoch 52/200\n",
      "\u001b[1m20/20\u001b[0m \u001b[32m━━━━━━━━━━━━━━━━━━━━\u001b[0m\u001b[37m\u001b[0m \u001b[1m0s\u001b[0m 8ms/step - accuracy: 0.7649 - loss: 0.6718 - val_accuracy: 0.8117 - val_loss: 0.6600\n",
      "Epoch 53/200\n",
      "\u001b[1m20/20\u001b[0m \u001b[32m━━━━━━━━━━━━━━━━━━━━\u001b[0m\u001b[37m\u001b[0m \u001b[1m0s\u001b[0m 7ms/step - accuracy: 0.7508 - loss: 0.6999 - val_accuracy: 0.7922 - val_loss: 0.6524\n",
      "Epoch 54/200\n",
      "\u001b[1m20/20\u001b[0m \u001b[32m━━━━━━━━━━━━━━━━━━━━\u001b[0m\u001b[37m\u001b[0m \u001b[1m0s\u001b[0m 8ms/step - accuracy: 0.8287 - loss: 0.6111 - val_accuracy: 0.8182 - val_loss: 0.6420\n",
      "Epoch 55/200\n",
      "\u001b[1m20/20\u001b[0m \u001b[32m━━━━━━━━━━━━━━━━━━━━\u001b[0m\u001b[37m\u001b[0m \u001b[1m0s\u001b[0m 8ms/step - accuracy: 0.8125 - loss: 0.6307 - val_accuracy: 0.8052 - val_loss: 0.6326\n",
      "Epoch 56/200\n",
      "\u001b[1m20/20\u001b[0m \u001b[32m━━━━━━━━━━━━━━━━━━━━\u001b[0m\u001b[37m\u001b[0m \u001b[1m0s\u001b[0m 8ms/step - accuracy: 0.8112 - loss: 0.5719 - val_accuracy: 0.8052 - val_loss: 0.6211\n",
      "Epoch 57/200\n",
      "\u001b[1m20/20\u001b[0m \u001b[32m━━━━━━━━━━━━━━━━━━━━\u001b[0m\u001b[37m\u001b[0m \u001b[1m0s\u001b[0m 8ms/step - accuracy: 0.7805 - loss: 0.5942 - val_accuracy: 0.7857 - val_loss: 0.6141\n",
      "Epoch 58/200\n",
      "\u001b[1m20/20\u001b[0m \u001b[32m━━━━━━━━━━━━━━━━━━━━\u001b[0m\u001b[37m\u001b[0m \u001b[1m0s\u001b[0m 9ms/step - accuracy: 0.8020 - loss: 0.5820 - val_accuracy: 0.7857 - val_loss: 0.6003\n",
      "Epoch 59/200\n",
      "\u001b[1m20/20\u001b[0m \u001b[32m━━━━━━━━━━━━━━━━━━━━\u001b[0m\u001b[37m\u001b[0m \u001b[1m0s\u001b[0m 10ms/step - accuracy: 0.7935 - loss: 0.5792 - val_accuracy: 0.8247 - val_loss: 0.5809\n",
      "Epoch 60/200\n",
      "\u001b[1m20/20\u001b[0m \u001b[32m━━━━━━━━━━━━━━━━━━━━\u001b[0m\u001b[37m\u001b[0m \u001b[1m0s\u001b[0m 8ms/step - accuracy: 0.7561 - loss: 0.6091 - val_accuracy: 0.8052 - val_loss: 0.5807\n",
      "Epoch 61/200\n",
      "\u001b[1m20/20\u001b[0m \u001b[32m━━━━━━━━━━━━━━━━━━━━\u001b[0m\u001b[37m\u001b[0m \u001b[1m0s\u001b[0m 8ms/step - accuracy: 0.7659 - loss: 0.5966 - val_accuracy: 0.7857 - val_loss: 0.5739\n",
      "Epoch 62/200\n",
      "\u001b[1m20/20\u001b[0m \u001b[32m━━━━━━━━━━━━━━━━━━━━\u001b[0m\u001b[37m\u001b[0m \u001b[1m0s\u001b[0m 10ms/step - accuracy: 0.8042 - loss: 0.5433 - val_accuracy: 0.7987 - val_loss: 0.5692\n",
      "Epoch 63/200\n",
      "\u001b[1m20/20\u001b[0m \u001b[32m━━━━━━━━━━━━━━━━━━━━\u001b[0m\u001b[37m\u001b[0m \u001b[1m0s\u001b[0m 8ms/step - accuracy: 0.8026 - loss: 0.5285 - val_accuracy: 0.8052 - val_loss: 0.5621\n",
      "Epoch 64/200\n",
      "\u001b[1m20/20\u001b[0m \u001b[32m━━━━━━━━━━━━━━━━━━━━\u001b[0m\u001b[37m\u001b[0m \u001b[1m0s\u001b[0m 7ms/step - accuracy: 0.7963 - loss: 0.5583 - val_accuracy: 0.7987 - val_loss: 0.5532\n",
      "Epoch 65/200\n",
      "\u001b[1m20/20\u001b[0m \u001b[32m━━━━━━━━━━━━━━━━━━━━\u001b[0m\u001b[37m\u001b[0m \u001b[1m0s\u001b[0m 8ms/step - accuracy: 0.8007 - loss: 0.5544 - val_accuracy: 0.7792 - val_loss: 0.5521\n",
      "Epoch 66/200\n",
      "\u001b[1m20/20\u001b[0m \u001b[32m━━━━━━━━━━━━━━━━━━━━\u001b[0m\u001b[37m\u001b[0m \u001b[1m0s\u001b[0m 8ms/step - accuracy: 0.7972 - loss: 0.5234 - val_accuracy: 0.8052 - val_loss: 0.5389\n",
      "Epoch 67/200\n",
      "\u001b[1m20/20\u001b[0m \u001b[32m━━━━━━━━━━━━━━━━━━━━\u001b[0m\u001b[37m\u001b[0m \u001b[1m0s\u001b[0m 8ms/step - accuracy: 0.7448 - loss: 0.6119 - val_accuracy: 0.8052 - val_loss: 0.5382\n",
      "Epoch 68/200\n",
      "\u001b[1m20/20\u001b[0m \u001b[32m━━━━━━━━━━━━━━━━━━━━\u001b[0m\u001b[37m\u001b[0m \u001b[1m0s\u001b[0m 8ms/step - accuracy: 0.7830 - loss: 0.5362 - val_accuracy: 0.7987 - val_loss: 0.5344\n",
      "Epoch 69/200\n",
      "\u001b[1m20/20\u001b[0m \u001b[32m━━━━━━━━━━━━━━━━━━━━\u001b[0m\u001b[37m\u001b[0m \u001b[1m0s\u001b[0m 8ms/step - accuracy: 0.7640 - loss: 0.5309 - val_accuracy: 0.7987 - val_loss: 0.5318\n",
      "Epoch 70/200\n",
      "\u001b[1m20/20\u001b[0m \u001b[32m━━━━━━━━━━━━━━━━━━━━\u001b[0m\u001b[37m\u001b[0m \u001b[1m0s\u001b[0m 8ms/step - accuracy: 0.7983 - loss: 0.5149 - val_accuracy: 0.7922 - val_loss: 0.5184\n",
      "Epoch 71/200\n",
      "\u001b[1m20/20\u001b[0m \u001b[32m━━━━━━━━━━━━━━━━━━━━\u001b[0m\u001b[37m\u001b[0m \u001b[1m0s\u001b[0m 8ms/step - accuracy: 0.7999 - loss: 0.4884 - val_accuracy: 0.8052 - val_loss: 0.5110\n",
      "Epoch 72/200\n",
      "\u001b[1m20/20\u001b[0m \u001b[32m━━━━━━━━━━━━━━━━━━━━\u001b[0m\u001b[37m\u001b[0m \u001b[1m0s\u001b[0m 9ms/step - accuracy: 0.7914 - loss: 0.5115 - val_accuracy: 0.8182 - val_loss: 0.5140\n",
      "Epoch 73/200\n",
      "\u001b[1m20/20\u001b[0m \u001b[32m━━━━━━━━━━━━━━━━━━━━\u001b[0m\u001b[37m\u001b[0m \u001b[1m0s\u001b[0m 11ms/step - accuracy: 0.7927 - loss: 0.4765 - val_accuracy: 0.7987 - val_loss: 0.5008\n",
      "Epoch 74/200\n",
      "\u001b[1m20/20\u001b[0m \u001b[32m━━━━━━━━━━━━━━━━━━━━\u001b[0m\u001b[37m\u001b[0m \u001b[1m0s\u001b[0m 8ms/step - accuracy: 0.7994 - loss: 0.5008 - val_accuracy: 0.8182 - val_loss: 0.5035\n",
      "Epoch 75/200\n",
      "\u001b[1m20/20\u001b[0m \u001b[32m━━━━━━━━━━━━━━━━━━━━\u001b[0m\u001b[37m\u001b[0m \u001b[1m0s\u001b[0m 7ms/step - accuracy: 0.7869 - loss: 0.5264 - val_accuracy: 0.8117 - val_loss: 0.5104\n",
      "Epoch 76/200\n",
      "\u001b[1m20/20\u001b[0m \u001b[32m━━━━━━━━━━━━━━━━━━━━\u001b[0m\u001b[37m\u001b[0m \u001b[1m0s\u001b[0m 7ms/step - accuracy: 0.8141 - loss: 0.4715 - val_accuracy: 0.8182 - val_loss: 0.5040\n",
      "Epoch 77/200\n",
      "\u001b[1m20/20\u001b[0m \u001b[32m━━━━━━━━━━━━━━━━━━━━\u001b[0m\u001b[37m\u001b[0m \u001b[1m0s\u001b[0m 9ms/step - accuracy: 0.7894 - loss: 0.4846 - val_accuracy: 0.8247 - val_loss: 0.5047\n",
      "Epoch 78/200\n",
      "\u001b[1m20/20\u001b[0m \u001b[32m━━━━━━━━━━━━━━━━━━━━\u001b[0m\u001b[37m\u001b[0m \u001b[1m0s\u001b[0m 7ms/step - accuracy: 0.7817 - loss: 0.4981 - val_accuracy: 0.7987 - val_loss: 0.5105\n",
      "Epoch 79/200\n",
      "\u001b[1m20/20\u001b[0m \u001b[32m━━━━━━━━━━━━━━━━━━━━\u001b[0m\u001b[37m\u001b[0m \u001b[1m0s\u001b[0m 7ms/step - accuracy: 0.7902 - loss: 0.4863 - val_accuracy: 0.8117 - val_loss: 0.4961\n",
      "Epoch 80/200\n",
      "\u001b[1m20/20\u001b[0m \u001b[32m━━━━━━━━━━━━━━━━━━━━\u001b[0m\u001b[37m\u001b[0m \u001b[1m0s\u001b[0m 8ms/step - accuracy: 0.8106 - loss: 0.4809 - val_accuracy: 0.7922 - val_loss: 0.4974\n",
      "Epoch 81/200\n",
      "\u001b[1m20/20\u001b[0m \u001b[32m━━━━━━━━━━━━━━━━━━━━\u001b[0m\u001b[37m\u001b[0m \u001b[1m0s\u001b[0m 10ms/step - accuracy: 0.7859 - loss: 0.4931 - val_accuracy: 0.8117 - val_loss: 0.4947\n",
      "Epoch 82/200\n",
      "\u001b[1m20/20\u001b[0m \u001b[32m━━━━━━━━━━━━━━━━━━━━\u001b[0m\u001b[37m\u001b[0m \u001b[1m0s\u001b[0m 8ms/step - accuracy: 0.7669 - loss: 0.4872 - val_accuracy: 0.8117 - val_loss: 0.4925\n",
      "Epoch 83/200\n",
      "\u001b[1m20/20\u001b[0m \u001b[32m━━━━━━━━━━━━━━━━━━━━\u001b[0m\u001b[37m\u001b[0m \u001b[1m0s\u001b[0m 8ms/step - accuracy: 0.7829 - loss: 0.4925 - val_accuracy: 0.8182 - val_loss: 0.4899\n",
      "Epoch 84/200\n",
      "\u001b[1m20/20\u001b[0m \u001b[32m━━━━━━━━━━━━━━━━━━━━\u001b[0m\u001b[37m\u001b[0m \u001b[1m0s\u001b[0m 9ms/step - accuracy: 0.7946 - loss: 0.4580 - val_accuracy: 0.8182 - val_loss: 0.4997\n",
      "Epoch 85/200\n",
      "\u001b[1m20/20\u001b[0m \u001b[32m━━━━━━━━━━━━━━━━━━━━\u001b[0m\u001b[37m\u001b[0m \u001b[1m0s\u001b[0m 9ms/step - accuracy: 0.8139 - loss: 0.4703 - val_accuracy: 0.7987 - val_loss: 0.4976\n",
      "Epoch 86/200\n",
      "\u001b[1m20/20\u001b[0m \u001b[32m━━━━━━━━━━━━━━━━━━━━\u001b[0m\u001b[37m\u001b[0m \u001b[1m0s\u001b[0m 8ms/step - accuracy: 0.7789 - loss: 0.4744 - val_accuracy: 0.8312 - val_loss: 0.5008\n",
      "Epoch 87/200\n",
      "\u001b[1m20/20\u001b[0m \u001b[32m━━━━━━━━━━━━━━━━━━━━\u001b[0m\u001b[37m\u001b[0m \u001b[1m0s\u001b[0m 8ms/step - accuracy: 0.7619 - loss: 0.5163 - val_accuracy: 0.8052 - val_loss: 0.4953\n",
      "Epoch 88/200\n",
      "\u001b[1m20/20\u001b[0m \u001b[32m━━━━━━━━━━━━━━━━━━━━\u001b[0m\u001b[37m\u001b[0m \u001b[1m0s\u001b[0m 7ms/step - accuracy: 0.7992 - loss: 0.4709 - val_accuracy: 0.8117 - val_loss: 0.4778\n",
      "Epoch 89/200\n",
      "\u001b[1m20/20\u001b[0m \u001b[32m━━━━━━━━━━━━━━━━━━━━\u001b[0m\u001b[37m\u001b[0m \u001b[1m0s\u001b[0m 8ms/step - accuracy: 0.7491 - loss: 0.5062 - val_accuracy: 0.8182 - val_loss: 0.4871\n",
      "Epoch 90/200\n",
      "\u001b[1m20/20\u001b[0m \u001b[32m━━━━━━━━━━━━━━━━━━━━\u001b[0m\u001b[37m\u001b[0m \u001b[1m0s\u001b[0m 7ms/step - accuracy: 0.7748 - loss: 0.4932 - val_accuracy: 0.8182 - val_loss: 0.4828\n",
      "Epoch 91/200\n",
      "\u001b[1m20/20\u001b[0m \u001b[32m━━━━━━━━━━━━━━━━━━━━\u001b[0m\u001b[37m\u001b[0m \u001b[1m0s\u001b[0m 8ms/step - accuracy: 0.7996 - loss: 0.4546 - val_accuracy: 0.8052 - val_loss: 0.4810\n",
      "Epoch 92/200\n",
      "\u001b[1m20/20\u001b[0m \u001b[32m━━━━━━━━━━━━━━━━━━━━\u001b[0m\u001b[37m\u001b[0m \u001b[1m0s\u001b[0m 8ms/step - accuracy: 0.7730 - loss: 0.4993 - val_accuracy: 0.8247 - val_loss: 0.4762\n",
      "Epoch 93/200\n",
      "\u001b[1m20/20\u001b[0m \u001b[32m━━━━━━━━━━━━━━━━━━━━\u001b[0m\u001b[37m\u001b[0m \u001b[1m0s\u001b[0m 11ms/step - accuracy: 0.7921 - loss: 0.4564 - val_accuracy: 0.7987 - val_loss: 0.4819\n",
      "Epoch 94/200\n",
      "\u001b[1m20/20\u001b[0m \u001b[32m━━━━━━━━━━━━━━━━━━━━\u001b[0m\u001b[37m\u001b[0m \u001b[1m0s\u001b[0m 8ms/step - accuracy: 0.7958 - loss: 0.4810 - val_accuracy: 0.7987 - val_loss: 0.4849\n",
      "Epoch 95/200\n",
      "\u001b[1m20/20\u001b[0m \u001b[32m━━━━━━━━━━━━━━━━━━━━\u001b[0m\u001b[37m\u001b[0m \u001b[1m0s\u001b[0m 8ms/step - accuracy: 0.7810 - loss: 0.4905 - val_accuracy: 0.7922 - val_loss: 0.4778\n",
      "Epoch 96/200\n",
      "\u001b[1m20/20\u001b[0m \u001b[32m━━━━━━━━━━━━━━━━━━━━\u001b[0m\u001b[37m\u001b[0m \u001b[1m0s\u001b[0m 8ms/step - accuracy: 0.7936 - loss: 0.4575 - val_accuracy: 0.8052 - val_loss: 0.4715\n",
      "Epoch 97/200\n",
      "\u001b[1m20/20\u001b[0m \u001b[32m━━━━━━━━━━━━━━━━━━━━\u001b[0m\u001b[37m\u001b[0m \u001b[1m0s\u001b[0m 8ms/step - accuracy: 0.8004 - loss: 0.4774 - val_accuracy: 0.7922 - val_loss: 0.4724\n",
      "Epoch 98/200\n",
      "\u001b[1m20/20\u001b[0m \u001b[32m━━━━━━━━━━━━━━━━━━━━\u001b[0m\u001b[37m\u001b[0m \u001b[1m0s\u001b[0m 12ms/step - accuracy: 0.7898 - loss: 0.4891 - val_accuracy: 0.8052 - val_loss: 0.4748\n",
      "Epoch 99/200\n",
      "\u001b[1m20/20\u001b[0m \u001b[32m━━━━━━━━━━━━━━━━━━━━\u001b[0m\u001b[37m\u001b[0m \u001b[1m0s\u001b[0m 7ms/step - accuracy: 0.7684 - loss: 0.4894 - val_accuracy: 0.8052 - val_loss: 0.4757\n",
      "Epoch 100/200\n",
      "\u001b[1m20/20\u001b[0m \u001b[32m━━━━━━━━━━━━━━━━━━━━\u001b[0m\u001b[37m\u001b[0m \u001b[1m0s\u001b[0m 8ms/step - accuracy: 0.8108 - loss: 0.4529 - val_accuracy: 0.7792 - val_loss: 0.4858\n",
      "Epoch 101/200\n"
     ]
    },
    {
     "name": "stdout",
     "output_type": "stream",
     "text": [
      "\u001b[1m20/20\u001b[0m \u001b[32m━━━━━━━━━━━━━━━━━━━━\u001b[0m\u001b[37m\u001b[0m \u001b[1m0s\u001b[0m 8ms/step - accuracy: 0.7967 - loss: 0.4551 - val_accuracy: 0.8052 - val_loss: 0.4736\n",
      "Epoch 102/200\n",
      "\u001b[1m20/20\u001b[0m \u001b[32m━━━━━━━━━━━━━━━━━━━━\u001b[0m\u001b[37m\u001b[0m \u001b[1m0s\u001b[0m 7ms/step - accuracy: 0.8338 - loss: 0.4367 - val_accuracy: 0.7922 - val_loss: 0.4786\n",
      "Epoch 103/200\n",
      "\u001b[1m20/20\u001b[0m \u001b[32m━━━━━━━━━━━━━━━━━━━━\u001b[0m\u001b[37m\u001b[0m \u001b[1m0s\u001b[0m 8ms/step - accuracy: 0.7649 - loss: 0.4874 - val_accuracy: 0.7987 - val_loss: 0.4857\n",
      "Epoch 104/200\n",
      "\u001b[1m20/20\u001b[0m \u001b[32m━━━━━━━━━━━━━━━━━━━━\u001b[0m\u001b[37m\u001b[0m \u001b[1m0s\u001b[0m 8ms/step - accuracy: 0.8040 - loss: 0.4527 - val_accuracy: 0.8052 - val_loss: 0.4764\n",
      "Epoch 105/200\n",
      "\u001b[1m20/20\u001b[0m \u001b[32m━━━━━━━━━━━━━━━━━━━━\u001b[0m\u001b[37m\u001b[0m \u001b[1m0s\u001b[0m 7ms/step - accuracy: 0.7965 - loss: 0.4668 - val_accuracy: 0.8052 - val_loss: 0.4766\n",
      "Epoch 106/200\n",
      "\u001b[1m20/20\u001b[0m \u001b[32m━━━━━━━━━━━━━━━━━━━━\u001b[0m\u001b[37m\u001b[0m \u001b[1m0s\u001b[0m 8ms/step - accuracy: 0.7900 - loss: 0.4791 - val_accuracy: 0.7987 - val_loss: 0.4733\n",
      "Epoch 107/200\n",
      "\u001b[1m20/20\u001b[0m \u001b[32m━━━━━━━━━━━━━━━━━━━━\u001b[0m\u001b[37m\u001b[0m \u001b[1m0s\u001b[0m 8ms/step - accuracy: 0.7939 - loss: 0.4641 - val_accuracy: 0.7987 - val_loss: 0.4738\n",
      "Epoch 108/200\n",
      "\u001b[1m20/20\u001b[0m \u001b[32m━━━━━━━━━━━━━━━━━━━━\u001b[0m\u001b[37m\u001b[0m \u001b[1m0s\u001b[0m 7ms/step - accuracy: 0.8062 - loss: 0.4493 - val_accuracy: 0.8117 - val_loss: 0.4819\n",
      "Epoch 109/200\n",
      "\u001b[1m20/20\u001b[0m \u001b[32m━━━━━━━━━━━━━━━━━━━━\u001b[0m\u001b[37m\u001b[0m \u001b[1m0s\u001b[0m 7ms/step - accuracy: 0.7999 - loss: 0.4694 - val_accuracy: 0.8117 - val_loss: 0.4773\n",
      "Epoch 110/200\n",
      "\u001b[1m20/20\u001b[0m \u001b[32m━━━━━━━━━━━━━━━━━━━━\u001b[0m\u001b[37m\u001b[0m \u001b[1m0s\u001b[0m 7ms/step - accuracy: 0.7845 - loss: 0.4822 - val_accuracy: 0.8117 - val_loss: 0.4848\n",
      "Epoch 111/200\n",
      "\u001b[1m20/20\u001b[0m \u001b[32m━━━━━━━━━━━━━━━━━━━━\u001b[0m\u001b[37m\u001b[0m \u001b[1m0s\u001b[0m 8ms/step - accuracy: 0.7921 - loss: 0.4508 - val_accuracy: 0.8182 - val_loss: 0.4767\n",
      "Epoch 112/200\n",
      "\u001b[1m20/20\u001b[0m \u001b[32m━━━━━━━━━━━━━━━━━━━━\u001b[0m\u001b[37m\u001b[0m \u001b[1m0s\u001b[0m 8ms/step - accuracy: 0.7891 - loss: 0.4892 - val_accuracy: 0.8052 - val_loss: 0.4803\n",
      "Epoch 113/200\n",
      "\u001b[1m20/20\u001b[0m \u001b[32m━━━━━━━━━━━━━━━━━━━━\u001b[0m\u001b[37m\u001b[0m \u001b[1m0s\u001b[0m 14ms/step - accuracy: 0.8204 - loss: 0.4306 - val_accuracy: 0.8052 - val_loss: 0.4865\n",
      "Epoch 114/200\n",
      "\u001b[1m20/20\u001b[0m \u001b[32m━━━━━━━━━━━━━━━━━━━━\u001b[0m\u001b[37m\u001b[0m \u001b[1m0s\u001b[0m 8ms/step - accuracy: 0.7843 - loss: 0.4741 - val_accuracy: 0.8247 - val_loss: 0.4852\n",
      "Epoch 115/200\n",
      "\u001b[1m20/20\u001b[0m \u001b[32m━━━━━━━━━━━━━━━━━━━━\u001b[0m\u001b[37m\u001b[0m \u001b[1m0s\u001b[0m 8ms/step - accuracy: 0.8161 - loss: 0.4591 - val_accuracy: 0.8247 - val_loss: 0.4816\n",
      "Epoch 116/200\n",
      "\u001b[1m20/20\u001b[0m \u001b[32m━━━━━━━━━━━━━━━━━━━━\u001b[0m\u001b[37m\u001b[0m \u001b[1m0s\u001b[0m 7ms/step - accuracy: 0.7964 - loss: 0.4842 - val_accuracy: 0.8052 - val_loss: 0.4895\n",
      "Epoch 117/200\n",
      "\u001b[1m20/20\u001b[0m \u001b[32m━━━━━━━━━━━━━━━━━━━━\u001b[0m\u001b[37m\u001b[0m \u001b[1m0s\u001b[0m 8ms/step - accuracy: 0.8003 - loss: 0.4586 - val_accuracy: 0.8052 - val_loss: 0.4886\n",
      "Epoch 118/200\n",
      "\u001b[1m20/20\u001b[0m \u001b[32m━━━━━━━━━━━━━━━━━━━━\u001b[0m\u001b[37m\u001b[0m \u001b[1m0s\u001b[0m 8ms/step - accuracy: 0.8127 - loss: 0.4431 - val_accuracy: 0.8052 - val_loss: 0.4799\n",
      "Epoch 119/200\n",
      "\u001b[1m20/20\u001b[0m \u001b[32m━━━━━━━━━━━━━━━━━━━━\u001b[0m\u001b[37m\u001b[0m \u001b[1m0s\u001b[0m 7ms/step - accuracy: 0.7896 - loss: 0.4694 - val_accuracy: 0.7922 - val_loss: 0.4873\n",
      "Epoch 120/200\n",
      "\u001b[1m20/20\u001b[0m \u001b[32m━━━━━━━━━━━━━━━━━━━━\u001b[0m\u001b[37m\u001b[0m \u001b[1m0s\u001b[0m 7ms/step - accuracy: 0.8257 - loss: 0.4336 - val_accuracy: 0.7922 - val_loss: 0.4860\n",
      "Epoch 121/200\n",
      "\u001b[1m20/20\u001b[0m \u001b[32m━━━━━━━━━━━━━━━━━━━━\u001b[0m\u001b[37m\u001b[0m \u001b[1m0s\u001b[0m 8ms/step - accuracy: 0.8058 - loss: 0.4760 - val_accuracy: 0.7857 - val_loss: 0.4873\n",
      "Epoch 122/200\n",
      "\u001b[1m20/20\u001b[0m \u001b[32m━━━━━━━━━━━━━━━━━━━━\u001b[0m\u001b[37m\u001b[0m \u001b[1m0s\u001b[0m 8ms/step - accuracy: 0.7983 - loss: 0.4752 - val_accuracy: 0.8052 - val_loss: 0.4827\n",
      "Epoch 123/200\n",
      "\u001b[1m20/20\u001b[0m \u001b[32m━━━━━━━━━━━━━━━━━━━━\u001b[0m\u001b[37m\u001b[0m \u001b[1m0s\u001b[0m 8ms/step - accuracy: 0.8250 - loss: 0.4530 - val_accuracy: 0.7987 - val_loss: 0.4766\n",
      "Epoch 124/200\n",
      "\u001b[1m20/20\u001b[0m \u001b[32m━━━━━━━━━━━━━━━━━━━━\u001b[0m\u001b[37m\u001b[0m \u001b[1m0s\u001b[0m 8ms/step - accuracy: 0.8035 - loss: 0.4597 - val_accuracy: 0.8247 - val_loss: 0.4739\n",
      "Epoch 125/200\n",
      "\u001b[1m20/20\u001b[0m \u001b[32m━━━━━━━━━━━━━━━━━━━━\u001b[0m\u001b[37m\u001b[0m \u001b[1m0s\u001b[0m 11ms/step - accuracy: 0.7737 - loss: 0.4785 - val_accuracy: 0.8182 - val_loss: 0.4772\n",
      "Epoch 126/200\n",
      "\u001b[1m20/20\u001b[0m \u001b[32m━━━━━━━━━━━━━━━━━━━━\u001b[0m\u001b[37m\u001b[0m \u001b[1m0s\u001b[0m 8ms/step - accuracy: 0.8152 - loss: 0.4512 - val_accuracy: 0.8247 - val_loss: 0.4727\n",
      "Epoch 127/200\n",
      "\u001b[1m20/20\u001b[0m \u001b[32m━━━━━━━━━━━━━━━━━━━━\u001b[0m\u001b[37m\u001b[0m \u001b[1m0s\u001b[0m 7ms/step - accuracy: 0.7956 - loss: 0.4592 - val_accuracy: 0.8182 - val_loss: 0.4830\n",
      "Epoch 128/200\n",
      "\u001b[1m20/20\u001b[0m \u001b[32m━━━━━━━━━━━━━━━━━━━━\u001b[0m\u001b[37m\u001b[0m \u001b[1m0s\u001b[0m 9ms/step - accuracy: 0.8132 - loss: 0.4463 - val_accuracy: 0.8117 - val_loss: 0.4799\n",
      "Epoch 129/200\n",
      "\u001b[1m20/20\u001b[0m \u001b[32m━━━━━━━━━━━━━━━━━━━━\u001b[0m\u001b[37m\u001b[0m \u001b[1m0s\u001b[0m 8ms/step - accuracy: 0.8107 - loss: 0.4553 - val_accuracy: 0.8117 - val_loss: 0.4736\n",
      "Epoch 130/200\n",
      "\u001b[1m20/20\u001b[0m \u001b[32m━━━━━━━━━━━━━━━━━━━━\u001b[0m\u001b[37m\u001b[0m \u001b[1m0s\u001b[0m 8ms/step - accuracy: 0.7902 - loss: 0.4749 - val_accuracy: 0.8312 - val_loss: 0.4799\n",
      "Epoch 131/200\n",
      "\u001b[1m20/20\u001b[0m \u001b[32m━━━━━━━━━━━━━━━━━━━━\u001b[0m\u001b[37m\u001b[0m \u001b[1m0s\u001b[0m 7ms/step - accuracy: 0.7826 - loss: 0.4779 - val_accuracy: 0.8182 - val_loss: 0.4744\n",
      "Epoch 132/200\n",
      "\u001b[1m20/20\u001b[0m \u001b[32m━━━━━━━━━━━━━━━━━━━━\u001b[0m\u001b[37m\u001b[0m \u001b[1m0s\u001b[0m 8ms/step - accuracy: 0.8161 - loss: 0.4775 - val_accuracy: 0.8247 - val_loss: 0.4712\n",
      "Epoch 133/200\n",
      "\u001b[1m20/20\u001b[0m \u001b[32m━━━━━━━━━━━━━━━━━━━━\u001b[0m\u001b[37m\u001b[0m \u001b[1m0s\u001b[0m 10ms/step - accuracy: 0.8070 - loss: 0.4640 - val_accuracy: 0.8117 - val_loss: 0.4748\n",
      "Epoch 134/200\n",
      "\u001b[1m20/20\u001b[0m \u001b[32m━━━━━━━━━━━━━━━━━━━━\u001b[0m\u001b[37m\u001b[0m \u001b[1m0s\u001b[0m 9ms/step - accuracy: 0.7834 - loss: 0.4830 - val_accuracy: 0.8182 - val_loss: 0.4770\n",
      "Epoch 135/200\n",
      "\u001b[1m20/20\u001b[0m \u001b[32m━━━━━━━━━━━━━━━━━━━━\u001b[0m\u001b[37m\u001b[0m \u001b[1m0s\u001b[0m 8ms/step - accuracy: 0.8219 - loss: 0.4379 - val_accuracy: 0.8182 - val_loss: 0.4839\n",
      "Epoch 136/200\n",
      "\u001b[1m20/20\u001b[0m \u001b[32m━━━━━━━━━━━━━━━━━━━━\u001b[0m\u001b[37m\u001b[0m \u001b[1m0s\u001b[0m 9ms/step - accuracy: 0.8041 - loss: 0.4365 - val_accuracy: 0.8182 - val_loss: 0.4707\n",
      "Epoch 137/200\n",
      "\u001b[1m20/20\u001b[0m \u001b[32m━━━━━━━━━━━━━━━━━━━━\u001b[0m\u001b[37m\u001b[0m \u001b[1m0s\u001b[0m 8ms/step - accuracy: 0.8196 - loss: 0.4272 - val_accuracy: 0.8182 - val_loss: 0.4714\n",
      "Epoch 138/200\n",
      "\u001b[1m20/20\u001b[0m \u001b[32m━━━━━━━━━━━━━━━━━━━━\u001b[0m\u001b[37m\u001b[0m \u001b[1m0s\u001b[0m 8ms/step - accuracy: 0.8023 - loss: 0.4843 - val_accuracy: 0.7987 - val_loss: 0.4818\n",
      "Epoch 139/200\n",
      "\u001b[1m20/20\u001b[0m \u001b[32m━━━━━━━━━━━━━━━━━━━━\u001b[0m\u001b[37m\u001b[0m \u001b[1m0s\u001b[0m 10ms/step - accuracy: 0.7842 - loss: 0.4698 - val_accuracy: 0.7922 - val_loss: 0.5030\n",
      "Epoch 140/200\n",
      "\u001b[1m20/20\u001b[0m \u001b[32m━━━━━━━━━━━━━━━━━━━━\u001b[0m\u001b[37m\u001b[0m \u001b[1m0s\u001b[0m 8ms/step - accuracy: 0.7875 - loss: 0.4962 - val_accuracy: 0.7922 - val_loss: 0.4808\n",
      "Epoch 141/200\n",
      "\u001b[1m20/20\u001b[0m \u001b[32m━━━━━━━━━━━━━━━━━━━━\u001b[0m\u001b[37m\u001b[0m \u001b[1m0s\u001b[0m 8ms/step - accuracy: 0.8128 - loss: 0.4420 - val_accuracy: 0.8117 - val_loss: 0.4899\n",
      "Epoch 142/200\n",
      "\u001b[1m20/20\u001b[0m \u001b[32m━━━━━━━━━━━━━━━━━━━━\u001b[0m\u001b[37m\u001b[0m \u001b[1m0s\u001b[0m 9ms/step - accuracy: 0.8161 - loss: 0.4327 - val_accuracy: 0.8182 - val_loss: 0.4847\n",
      "Epoch 143/200\n",
      "\u001b[1m20/20\u001b[0m \u001b[32m━━━━━━━━━━━━━━━━━━━━\u001b[0m\u001b[37m\u001b[0m \u001b[1m0s\u001b[0m 8ms/step - accuracy: 0.8213 - loss: 0.4496 - val_accuracy: 0.8247 - val_loss: 0.4841\n",
      "Epoch 144/200\n",
      "\u001b[1m20/20\u001b[0m \u001b[32m━━━━━━━━━━━━━━━━━━━━\u001b[0m\u001b[37m\u001b[0m \u001b[1m0s\u001b[0m 8ms/step - accuracy: 0.8118 - loss: 0.4352 - val_accuracy: 0.8182 - val_loss: 0.4834\n",
      "Epoch 145/200\n",
      "\u001b[1m20/20\u001b[0m \u001b[32m━━━━━━━━━━━━━━━━━━━━\u001b[0m\u001b[37m\u001b[0m \u001b[1m0s\u001b[0m 8ms/step - accuracy: 0.8237 - loss: 0.4335 - val_accuracy: 0.7987 - val_loss: 0.5019\n",
      "Epoch 146/200\n",
      "\u001b[1m20/20\u001b[0m \u001b[32m━━━━━━━━━━━━━━━━━━━━\u001b[0m\u001b[37m\u001b[0m \u001b[1m0s\u001b[0m 8ms/step - accuracy: 0.7941 - loss: 0.4690 - val_accuracy: 0.7922 - val_loss: 0.4815\n",
      "Epoch 147/200\n",
      "\u001b[1m20/20\u001b[0m \u001b[32m━━━━━━━━━━━━━━━━━━━━\u001b[0m\u001b[37m\u001b[0m \u001b[1m0s\u001b[0m 11ms/step - accuracy: 0.8003 - loss: 0.4798 - val_accuracy: 0.7987 - val_loss: 0.4748\n",
      "Epoch 148/200\n",
      "\u001b[1m20/20\u001b[0m \u001b[32m━━━━━━━━━━━━━━━━━━━━\u001b[0m\u001b[37m\u001b[0m \u001b[1m0s\u001b[0m 10ms/step - accuracy: 0.8246 - loss: 0.4236 - val_accuracy: 0.8377 - val_loss: 0.4675\n",
      "Epoch 149/200\n",
      "\u001b[1m20/20\u001b[0m \u001b[32m━━━━━━━━━━━━━━━━━━━━\u001b[0m\u001b[37m\u001b[0m \u001b[1m0s\u001b[0m 12ms/step - accuracy: 0.7891 - loss: 0.4599 - val_accuracy: 0.7987 - val_loss: 0.4812\n",
      "Epoch 150/200\n",
      "\u001b[1m20/20\u001b[0m \u001b[32m━━━━━━━━━━━━━━━━━━━━\u001b[0m\u001b[37m\u001b[0m \u001b[1m0s\u001b[0m 8ms/step - accuracy: 0.8088 - loss: 0.4722 - val_accuracy: 0.7857 - val_loss: 0.4851\n",
      "Epoch 151/200\n",
      "\u001b[1m20/20\u001b[0m \u001b[32m━━━━━━━━━━━━━━━━━━━━\u001b[0m\u001b[37m\u001b[0m \u001b[1m0s\u001b[0m 7ms/step - accuracy: 0.8147 - loss: 0.4559 - val_accuracy: 0.7857 - val_loss: 0.4700\n",
      "Epoch 152/200\n",
      "\u001b[1m20/20\u001b[0m \u001b[32m━━━━━━━━━━━━━━━━━━━━\u001b[0m\u001b[37m\u001b[0m \u001b[1m0s\u001b[0m 8ms/step - accuracy: 0.8264 - loss: 0.4404 - val_accuracy: 0.8052 - val_loss: 0.4782\n",
      "Epoch 153/200\n",
      "\u001b[1m20/20\u001b[0m \u001b[32m━━━━━━━━━━━━━━━━━━━━\u001b[0m\u001b[37m\u001b[0m \u001b[1m0s\u001b[0m 8ms/step - accuracy: 0.8002 - loss: 0.4645 - val_accuracy: 0.8247 - val_loss: 0.4798\n",
      "Epoch 154/200\n",
      "\u001b[1m20/20\u001b[0m \u001b[32m━━━━━━━━━━━━━━━━━━━━\u001b[0m\u001b[37m\u001b[0m \u001b[1m0s\u001b[0m 8ms/step - accuracy: 0.7988 - loss: 0.4470 - val_accuracy: 0.8247 - val_loss: 0.4780\n",
      "Epoch 155/200\n",
      "\u001b[1m20/20\u001b[0m \u001b[32m━━━━━━━━━━━━━━━━━━━━\u001b[0m\u001b[37m\u001b[0m \u001b[1m0s\u001b[0m 8ms/step - accuracy: 0.8041 - loss: 0.4481 - val_accuracy: 0.7987 - val_loss: 0.4739\n",
      "Epoch 156/200\n",
      "\u001b[1m20/20\u001b[0m \u001b[32m━━━━━━━━━━━━━━━━━━━━\u001b[0m\u001b[37m\u001b[0m \u001b[1m0s\u001b[0m 7ms/step - accuracy: 0.8172 - loss: 0.4575 - val_accuracy: 0.8117 - val_loss: 0.4830\n",
      "Epoch 157/200\n",
      "\u001b[1m20/20\u001b[0m \u001b[32m━━━━━━━━━━━━━━━━━━━━\u001b[0m\u001b[37m\u001b[0m \u001b[1m0s\u001b[0m 7ms/step - accuracy: 0.8371 - loss: 0.4534 - val_accuracy: 0.8117 - val_loss: 0.4793\n",
      "Epoch 158/200\n",
      "\u001b[1m20/20\u001b[0m \u001b[32m━━━━━━━━━━━━━━━━━━━━\u001b[0m\u001b[37m\u001b[0m \u001b[1m0s\u001b[0m 7ms/step - accuracy: 0.8222 - loss: 0.4453 - val_accuracy: 0.8182 - val_loss: 0.4711\n",
      "Epoch 159/200\n",
      "\u001b[1m20/20\u001b[0m \u001b[32m━━━━━━━━━━━━━━━━━━━━\u001b[0m\u001b[37m\u001b[0m \u001b[1m0s\u001b[0m 8ms/step - accuracy: 0.7917 - loss: 0.4727 - val_accuracy: 0.7987 - val_loss: 0.4914\n",
      "Epoch 160/200\n",
      "\u001b[1m20/20\u001b[0m \u001b[32m━━━━━━━━━━━━━━━━━━━━\u001b[0m\u001b[37m\u001b[0m \u001b[1m0s\u001b[0m 8ms/step - accuracy: 0.8147 - loss: 0.4665 - val_accuracy: 0.8117 - val_loss: 0.4831\n",
      "Epoch 161/200\n",
      "\u001b[1m20/20\u001b[0m \u001b[32m━━━━━━━━━━━━━━━━━━━━\u001b[0m\u001b[37m\u001b[0m \u001b[1m0s\u001b[0m 8ms/step - accuracy: 0.8290 - loss: 0.4527 - val_accuracy: 0.8312 - val_loss: 0.4885\n",
      "Epoch 162/200\n",
      "\u001b[1m20/20\u001b[0m \u001b[32m━━━━━━━━━━━━━━━━━━━━\u001b[0m\u001b[37m\u001b[0m \u001b[1m0s\u001b[0m 8ms/step - accuracy: 0.7900 - loss: 0.4701 - val_accuracy: 0.8052 - val_loss: 0.4784\n",
      "Epoch 163/200\n",
      "\u001b[1m20/20\u001b[0m \u001b[32m━━━━━━━━━━━━━━━━━━━━\u001b[0m\u001b[37m\u001b[0m \u001b[1m0s\u001b[0m 8ms/step - accuracy: 0.8179 - loss: 0.4489 - val_accuracy: 0.8052 - val_loss: 0.4781\n",
      "Epoch 164/200\n",
      "\u001b[1m20/20\u001b[0m \u001b[32m━━━━━━━━━━━━━━━━━━━━\u001b[0m\u001b[37m\u001b[0m \u001b[1m0s\u001b[0m 8ms/step - accuracy: 0.8134 - loss: 0.4428 - val_accuracy: 0.8117 - val_loss: 0.4765\n",
      "Epoch 165/200\n",
      "\u001b[1m20/20\u001b[0m \u001b[32m━━━━━━━━━━━━━━━━━━━━\u001b[0m\u001b[37m\u001b[0m \u001b[1m0s\u001b[0m 8ms/step - accuracy: 0.8228 - loss: 0.4464 - val_accuracy: 0.8117 - val_loss: 0.4726\n",
      "Epoch 166/200\n",
      "\u001b[1m20/20\u001b[0m \u001b[32m━━━━━━━━━━━━━━━━━━━━\u001b[0m\u001b[37m\u001b[0m \u001b[1m0s\u001b[0m 8ms/step - accuracy: 0.8592 - loss: 0.4047 - val_accuracy: 0.8052 - val_loss: 0.4730\n",
      "Epoch 167/200\n",
      "\u001b[1m20/20\u001b[0m \u001b[32m━━━━━━━━━━━━━━━━━━━━\u001b[0m\u001b[37m\u001b[0m \u001b[1m0s\u001b[0m 8ms/step - accuracy: 0.8332 - loss: 0.4257 - val_accuracy: 0.8247 - val_loss: 0.4725\n",
      "Epoch 168/200\n",
      "\u001b[1m20/20\u001b[0m \u001b[32m━━━━━━━━━━━━━━━━━━━━\u001b[0m\u001b[37m\u001b[0m \u001b[1m0s\u001b[0m 8ms/step - accuracy: 0.8209 - loss: 0.4526 - val_accuracy: 0.8117 - val_loss: 0.4844\n",
      "Epoch 169/200\n",
      "\u001b[1m20/20\u001b[0m \u001b[32m━━━━━━━━━━━━━━━━━━━━\u001b[0m\u001b[37m\u001b[0m \u001b[1m0s\u001b[0m 8ms/step - accuracy: 0.8098 - loss: 0.4794 - val_accuracy: 0.8182 - val_loss: 0.4805\n",
      "Epoch 170/200\n",
      "\u001b[1m20/20\u001b[0m \u001b[32m━━━━━━━━━━━━━━━━━━━━\u001b[0m\u001b[37m\u001b[0m \u001b[1m0s\u001b[0m 8ms/step - accuracy: 0.7904 - loss: 0.4636 - val_accuracy: 0.8247 - val_loss: 0.4683\n",
      "Epoch 171/200\n",
      "\u001b[1m20/20\u001b[0m \u001b[32m━━━━━━━━━━━━━━━━━━━━\u001b[0m\u001b[37m\u001b[0m \u001b[1m0s\u001b[0m 8ms/step - accuracy: 0.8253 - loss: 0.4217 - val_accuracy: 0.7922 - val_loss: 0.4896\n",
      "Epoch 172/200\n",
      "\u001b[1m20/20\u001b[0m \u001b[32m━━━━━━━━━━━━━━━━━━━━\u001b[0m\u001b[37m\u001b[0m \u001b[1m0s\u001b[0m 7ms/step - accuracy: 0.7955 - loss: 0.4442 - val_accuracy: 0.8117 - val_loss: 0.4883\n",
      "Epoch 173/200\n",
      "\u001b[1m20/20\u001b[0m \u001b[32m━━━━━━━━━━━━━━━━━━━━\u001b[0m\u001b[37m\u001b[0m \u001b[1m0s\u001b[0m 8ms/step - accuracy: 0.8268 - loss: 0.4457 - val_accuracy: 0.8117 - val_loss: 0.4921\n",
      "Epoch 174/200\n",
      "\u001b[1m20/20\u001b[0m \u001b[32m━━━━━━━━━━━━━━━━━━━━\u001b[0m\u001b[37m\u001b[0m \u001b[1m0s\u001b[0m 7ms/step - accuracy: 0.7985 - loss: 0.4805 - val_accuracy: 0.8052 - val_loss: 0.4859\n",
      "Epoch 175/200\n",
      "\u001b[1m20/20\u001b[0m \u001b[32m━━━━━━━━━━━━━━━━━━━━\u001b[0m\u001b[37m\u001b[0m \u001b[1m0s\u001b[0m 8ms/step - accuracy: 0.8079 - loss: 0.4292 - val_accuracy: 0.8182 - val_loss: 0.4817\n",
      "Epoch 176/200\n",
      "\u001b[1m20/20\u001b[0m \u001b[32m━━━━━━━━━━━━━━━━━━━━\u001b[0m\u001b[37m\u001b[0m \u001b[1m0s\u001b[0m 10ms/step - accuracy: 0.7976 - loss: 0.4860 - val_accuracy: 0.8117 - val_loss: 0.4894\n",
      "Epoch 177/200\n",
      "\u001b[1m20/20\u001b[0m \u001b[32m━━━━━━━━━━━━━━━━━━━━\u001b[0m\u001b[37m\u001b[0m \u001b[1m0s\u001b[0m 8ms/step - accuracy: 0.7743 - loss: 0.4823 - val_accuracy: 0.8052 - val_loss: 0.4872\n",
      "Epoch 178/200\n",
      "\u001b[1m20/20\u001b[0m \u001b[32m━━━━━━━━━━━━━━━━━━━━\u001b[0m\u001b[37m\u001b[0m \u001b[1m0s\u001b[0m 8ms/step - accuracy: 0.8048 - loss: 0.4540 - val_accuracy: 0.8182 - val_loss: 0.4871\n",
      "Epoch 179/200\n",
      "\u001b[1m20/20\u001b[0m \u001b[32m━━━━━━━━━━━━━━━━━━━━\u001b[0m\u001b[37m\u001b[0m \u001b[1m0s\u001b[0m 8ms/step - accuracy: 0.8278 - loss: 0.4406 - val_accuracy: 0.8182 - val_loss: 0.5017\n",
      "Epoch 180/200\n",
      "\u001b[1m20/20\u001b[0m \u001b[32m━━━━━━━━━━━━━━━━━━━━\u001b[0m\u001b[37m\u001b[0m \u001b[1m0s\u001b[0m 8ms/step - accuracy: 0.8365 - loss: 0.4104 - val_accuracy: 0.8117 - val_loss: 0.4941\n",
      "Epoch 181/200\n",
      "\u001b[1m20/20\u001b[0m \u001b[32m━━━━━━━━━━━━━━━━━━━━\u001b[0m\u001b[37m\u001b[0m \u001b[1m0s\u001b[0m 8ms/step - accuracy: 0.8326 - loss: 0.4400 - val_accuracy: 0.8247 - val_loss: 0.4851\n",
      "Epoch 182/200\n",
      "\u001b[1m20/20\u001b[0m \u001b[32m━━━━━━━━━━━━━━━━━━━━\u001b[0m\u001b[37m\u001b[0m \u001b[1m0s\u001b[0m 8ms/step - accuracy: 0.7719 - loss: 0.4825 - val_accuracy: 0.8182 - val_loss: 0.4742\n",
      "Epoch 183/200\n",
      "\u001b[1m20/20\u001b[0m \u001b[32m━━━━━━━━━━━━━━━━━━━━\u001b[0m\u001b[37m\u001b[0m \u001b[1m0s\u001b[0m 7ms/step - accuracy: 0.8319 - loss: 0.4224 - val_accuracy: 0.8052 - val_loss: 0.4721\n",
      "Epoch 184/200\n",
      "\u001b[1m20/20\u001b[0m \u001b[32m━━━━━━━━━━━━━━━━━━━━\u001b[0m\u001b[37m\u001b[0m \u001b[1m0s\u001b[0m 12ms/step - accuracy: 0.8165 - loss: 0.4625 - val_accuracy: 0.7987 - val_loss: 0.4808\n",
      "Epoch 185/200\n",
      "\u001b[1m20/20\u001b[0m \u001b[32m━━━━━━━━━━━━━━━━━━━━\u001b[0m\u001b[37m\u001b[0m \u001b[1m0s\u001b[0m 8ms/step - accuracy: 0.8282 - loss: 0.4367 - val_accuracy: 0.8247 - val_loss: 0.4828\n",
      "Epoch 186/200\n",
      "\u001b[1m20/20\u001b[0m \u001b[32m━━━━━━━━━━━━━━━━━━━━\u001b[0m\u001b[37m\u001b[0m \u001b[1m0s\u001b[0m 9ms/step - accuracy: 0.7887 - loss: 0.4584 - val_accuracy: 0.8312 - val_loss: 0.4834\n",
      "Epoch 187/200\n",
      "\u001b[1m20/20\u001b[0m \u001b[32m━━━━━━━━━━━━━━━━━━━━\u001b[0m\u001b[37m\u001b[0m \u001b[1m0s\u001b[0m 8ms/step - accuracy: 0.8202 - loss: 0.4170 - val_accuracy: 0.8247 - val_loss: 0.4823\n",
      "Epoch 188/200\n",
      "\u001b[1m20/20\u001b[0m \u001b[32m━━━━━━━━━━━━━━━━━━━━\u001b[0m\u001b[37m\u001b[0m \u001b[1m0s\u001b[0m 9ms/step - accuracy: 0.7855 - loss: 0.4621 - val_accuracy: 0.8117 - val_loss: 0.4794\n",
      "Epoch 189/200\n",
      "\u001b[1m20/20\u001b[0m \u001b[32m━━━━━━━━━━━━━━━━━━━━\u001b[0m\u001b[37m\u001b[0m \u001b[1m0s\u001b[0m 9ms/step - accuracy: 0.7995 - loss: 0.4507 - val_accuracy: 0.8117 - val_loss: 0.4811\n",
      "Epoch 190/200\n",
      "\u001b[1m20/20\u001b[0m \u001b[32m━━━━━━━━━━━━━━━━━━━━\u001b[0m\u001b[37m\u001b[0m \u001b[1m0s\u001b[0m 11ms/step - accuracy: 0.8305 - loss: 0.4274 - val_accuracy: 0.7857 - val_loss: 0.5042\n",
      "Epoch 191/200\n",
      "\u001b[1m20/20\u001b[0m \u001b[32m━━━━━━━━━━━━━━━━━━━━\u001b[0m\u001b[37m\u001b[0m \u001b[1m0s\u001b[0m 8ms/step - accuracy: 0.8039 - loss: 0.4668 - val_accuracy: 0.8052 - val_loss: 0.4858\n",
      "Epoch 192/200\n",
      "\u001b[1m20/20\u001b[0m \u001b[32m━━━━━━━━━━━━━━━━━━━━\u001b[0m\u001b[37m\u001b[0m \u001b[1m0s\u001b[0m 8ms/step - accuracy: 0.8134 - loss: 0.4419 - val_accuracy: 0.7922 - val_loss: 0.4976\n",
      "Epoch 193/200\n",
      "\u001b[1m20/20\u001b[0m \u001b[32m━━━━━━━━━━━━━━━━━━━━\u001b[0m\u001b[37m\u001b[0m \u001b[1m0s\u001b[0m 9ms/step - accuracy: 0.8390 - loss: 0.4084 - val_accuracy: 0.7792 - val_loss: 0.4923\n",
      "Epoch 194/200\n",
      "\u001b[1m20/20\u001b[0m \u001b[32m━━━━━━━━━━━━━━━━━━━━\u001b[0m\u001b[37m\u001b[0m \u001b[1m0s\u001b[0m 8ms/step - accuracy: 0.8204 - loss: 0.4564 - val_accuracy: 0.7987 - val_loss: 0.4947\n",
      "Epoch 195/200\n",
      "\u001b[1m20/20\u001b[0m \u001b[32m━━━━━━━━━━━━━━━━━━━━\u001b[0m\u001b[37m\u001b[0m \u001b[1m0s\u001b[0m 11ms/step - accuracy: 0.8230 - loss: 0.4360 - val_accuracy: 0.7987 - val_loss: 0.4841\n",
      "Epoch 196/200\n",
      "\u001b[1m20/20\u001b[0m \u001b[32m━━━━━━━━━━━━━━━━━━━━\u001b[0m\u001b[37m\u001b[0m \u001b[1m0s\u001b[0m 8ms/step - accuracy: 0.8125 - loss: 0.4265 - val_accuracy: 0.8182 - val_loss: 0.4814\n",
      "Epoch 197/200\n",
      "\u001b[1m20/20\u001b[0m \u001b[32m━━━━━━━━━━━━━━━━━━━━\u001b[0m\u001b[37m\u001b[0m \u001b[1m0s\u001b[0m 8ms/step - accuracy: 0.8250 - loss: 0.4137 - val_accuracy: 0.8052 - val_loss: 0.4797\n",
      "Epoch 198/200\n",
      "\u001b[1m20/20\u001b[0m \u001b[32m━━━━━━━━━━━━━━━━━━━━\u001b[0m\u001b[37m\u001b[0m \u001b[1m0s\u001b[0m 7ms/step - accuracy: 0.8061 - loss: 0.4331 - val_accuracy: 0.8182 - val_loss: 0.4670\n",
      "Epoch 199/200\n",
      "\u001b[1m20/20\u001b[0m \u001b[32m━━━━━━━━━━━━━━━━━━━━\u001b[0m\u001b[37m\u001b[0m \u001b[1m0s\u001b[0m 8ms/step - accuracy: 0.8276 - loss: 0.4279 - val_accuracy: 0.8052 - val_loss: 0.4740\n",
      "Epoch 200/200\n",
      "\u001b[1m20/20\u001b[0m \u001b[32m━━━━━━━━━━━━━━━━━━━━\u001b[0m\u001b[37m\u001b[0m \u001b[1m0s\u001b[0m 9ms/step - accuracy: 0.8117 - loss: 0.4461 - val_accuracy: 0.8117 - val_loss: 0.4658\n"
     ]
    }
   ],
   "source": [
    "model.compile(loss='binary_crossentropy', optimizer='adam', metrics=['accuracy'])\n",
    "history = model.fit(X_train, y_train, epochs=200, validation_data=(X_test, y_test))"
   ]
  },
  {
   "cell_type": "code",
   "execution_count": 372,
   "id": "5e096f9c",
   "metadata": {},
   "outputs": [],
   "source": [
    "from sklearn.tree import DecisionTreeClassifier"
   ]
  }
 ],
 "metadata": {
  "kernelspec": {
   "display_name": "Python 3 (ipykernel)",
   "language": "python",
   "name": "python3"
  },
  "language_info": {
   "codemirror_mode": {
    "name": "ipython",
    "version": 3
   },
   "file_extension": ".py",
   "mimetype": "text/x-python",
   "name": "python",
   "nbconvert_exporter": "python",
   "pygments_lexer": "ipython3",
   "version": "3.9.12"
  }
 
